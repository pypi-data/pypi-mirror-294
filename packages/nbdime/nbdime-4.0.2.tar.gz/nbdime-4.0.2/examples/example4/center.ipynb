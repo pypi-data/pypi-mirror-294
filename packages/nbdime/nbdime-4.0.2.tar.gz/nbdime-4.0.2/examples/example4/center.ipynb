{
 "cells": [
  {
   "cell_type": "code",
   "execution_count": null,
   "id": "eabfe4e0-d646-4d09-95a4-09ee3d030db6",
   "metadata": {},
   "outputs": [],
   "source": [
    "x = np.arange(0, 2, 0.1)\n",
    "y = np.exp(x)"
   ]
  },
  {
   "cell_type": "code",
   "execution_count": null,
   "id": "626d6a3c-69d5-43c6-ba1c-9c799ddc4884",
   "metadata": {},
   "outputs": [],
   "source": [
    "four"
   ]
  },
  {
   "cell_type": "code",
   "execution_count": null,
   "id": "4c301133-ede0-44e0-9937-099501d64b94",
   "metadata": {},
   "outputs": [],
   "source": [
    "five"
   ]
  },
  {
   "cell_type": "code",
   "execution_count": null,
   "id": "9b1af30e-ea9d-4375-a6be-02c3d85de344",
   "metadata": {},
   "outputs": [],
   "source": [
    "six"
   ]
  }
 ],
 "metadata": {
  "kernelspec": {
   "display_name": "Python 3 (ipykernel)",
   "language": "python",
   "name": "python3"
  },
  "language_info": {
   "codemirror_mode": {
    "name": "ipython",
    "version": 3
   },
   "file_extension": ".py",
   "mimetype": "text/x-python",
   "name": "python",
   "nbconvert_exporter": "python",
   "pygments_lexer": "ipython3",
   "version": "3.11.3"
  }
 },
 "nbformat": 4,
 "nbformat_minor": 5
}
