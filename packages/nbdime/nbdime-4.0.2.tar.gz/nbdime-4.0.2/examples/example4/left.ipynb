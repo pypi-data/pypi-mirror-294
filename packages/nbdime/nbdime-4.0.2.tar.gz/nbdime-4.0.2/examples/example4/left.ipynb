{
 "cells": [
  {
   "cell_type": "code",
   "execution_count": null,
   "id": "2d47bfe2-d91d-4f72-9426-1885c4edb5a9",
   "metadata": {},
   "outputs": [],
   "source": [
    "x = np.arange(0, 2, 0.1)\n",
    "y = np.exp(x + 2)"
   ]
  },
  {
   "cell_type": "code",
   "execution_count": null,
   "id": "b905f16a-3c78-4b85-bebe-bb731ddad9bf",
   "metadata": {},
   "outputs": [],
   "source": [
    "one"
   ]
  },
  {
   "cell_type": "code",
   "execution_count": null,
   "id": "25f31bfe-fb2e-411f-b7e8-9805bdc34ba2",
   "metadata": {},
   "outputs": [],
   "source": [
    "two"
   ]
  },
  {
   "cell_type": "code",
   "execution_count": null,
   "id": "e6bb329d",
   "metadata": {},
   "outputs": [],
   "source": [
    "three"
   ]
  }
 ],
 "metadata": {
  "kernelspec": {
   "display_name": "Python 3 (ipykernel)",
   "language": "python",
   "name": "python3"
  },
  "language_info": {
   "codemirror_mode": {
    "name": "ipython",
    "version": 3
   },
   "file_extension": ".py",
   "mimetype": "text/x-python",
   "name": "python",
   "nbconvert_exporter": "python",
   "pygments_lexer": "ipython3",
   "version": "3.11.3"
  }
 },
 "nbformat": 4,
 "nbformat_minor": 5
}
