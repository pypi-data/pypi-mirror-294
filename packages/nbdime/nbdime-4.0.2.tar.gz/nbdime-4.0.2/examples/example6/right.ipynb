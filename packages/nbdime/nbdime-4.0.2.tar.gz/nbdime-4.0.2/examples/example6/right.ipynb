{
 "cells": [
  {
   "cell_type": "code",
   "execution_count": null,
   "id": "ff160690-22c8-48f3-9b89-d78a8997baec",
   "metadata": {},
   "outputs": [],
   "source": [
    "from matplotlib import pyplot as plt\n",
    "import numpy as np\n",
    "import math\n",
    "import pandas\n",
    "x = np.arange(0, 2, 0.1)\n",
    "y2 = np.exp(x)\n",
    "plt.plot(x, y2, 'b')\n",
    "y1 = y2\n",
    "plt.plot(x, y1, 'g')\n",
    "# this is easy"
   ]
  }
 ],
 "metadata": {
  "kernelspec": {
   "display_name": "Python 3 (ipykernel)",
   "language": "python",
   "name": "python3"
  },
  "language_info": {
   "codemirror_mode": {
    "name": "ipython",
    "version": 3
   },
   "file_extension": ".py",
   "mimetype": "text/x-python",
   "name": "python",
   "nbconvert_exporter": "python",
   "pygments_lexer": "ipython3",
   "version": "3.11.3"
  }
 },
 "nbformat": 4,
 "nbformat_minor": 5
}
