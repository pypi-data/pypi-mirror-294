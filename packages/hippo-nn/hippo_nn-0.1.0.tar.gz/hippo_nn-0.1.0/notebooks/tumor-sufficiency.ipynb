{
 "cells": [
  {
   "cell_type": "code",
   "execution_count": 18,
   "metadata": {},
   "outputs": [
    {
     "name": "stdout",
     "output_type": "stream",
     "text": [
      "Processing /Users/jakub/Documents/code/HIPPO\n",
      "  Installing build dependencies ... \u001b[?25ldone\n",
      "\u001b[?25h  Getting requirements to build wheel ... \u001b[?25ldone\n",
      "\u001b[?25h  Preparing metadata (pyproject.toml) ... \u001b[?25ldone\n",
      "\u001b[?25hRequirement already satisfied: huggingface-hub in /Users/jakub/Documents/code/HIPPO/venv/lib/python3.10/site-packages (0.24.6)\n",
      "Requirement already satisfied: safetensors in /Users/jakub/Documents/code/HIPPO/venv/lib/python3.10/site-packages (0.4.4)\n",
      "Requirement already satisfied: filelock in /Users/jakub/Documents/code/HIPPO/venv/lib/python3.10/site-packages (from huggingface-hub) (3.15.4)\n",
      "Requirement already satisfied: fsspec>=2023.5.0 in /Users/jakub/Documents/code/HIPPO/venv/lib/python3.10/site-packages (from huggingface-hub) (2024.6.1)\n",
      "Requirement already satisfied: packaging>=20.9 in /Users/jakub/Documents/code/HIPPO/venv/lib/python3.10/site-packages (from huggingface-hub) (24.1)\n",
      "Requirement already satisfied: pyyaml>=5.1 in /Users/jakub/Documents/code/HIPPO/venv/lib/python3.10/site-packages (from huggingface-hub) (6.0.2)\n",
      "Requirement already satisfied: requests in /Users/jakub/Documents/code/HIPPO/venv/lib/python3.10/site-packages (from huggingface-hub) (2.32.3)\n",
      "Requirement already satisfied: tqdm>=4.42.1 in /Users/jakub/Documents/code/HIPPO/venv/lib/python3.10/site-packages (from huggingface-hub) (4.66.5)\n",
      "Requirement already satisfied: typing-extensions>=3.7.4.3 in /Users/jakub/Documents/code/HIPPO/venv/lib/python3.10/site-packages (from huggingface-hub) (4.12.2)\n",
      "Requirement already satisfied: numpy in /Users/jakub/Documents/code/HIPPO/venv/lib/python3.10/site-packages (from hippo==0.1.dev1+g5ed50b5.d20240901) (2.1.0)\n",
      "Requirement already satisfied: torch>=1.9 in /Users/jakub/Documents/code/HIPPO/venv/lib/python3.10/site-packages (from hippo==0.1.dev1+g5ed50b5.d20240901) (2.4.0)\n",
      "Requirement already satisfied: sympy in /Users/jakub/Documents/code/HIPPO/venv/lib/python3.10/site-packages (from torch>=1.9->hippo==0.1.dev1+g5ed50b5.d20240901) (1.13.2)\n",
      "Requirement already satisfied: networkx in /Users/jakub/Documents/code/HIPPO/venv/lib/python3.10/site-packages (from torch>=1.9->hippo==0.1.dev1+g5ed50b5.d20240901) (3.3)\n",
      "Requirement already satisfied: jinja2 in /Users/jakub/Documents/code/HIPPO/venv/lib/python3.10/site-packages (from torch>=1.9->hippo==0.1.dev1+g5ed50b5.d20240901) (3.1.4)\n",
      "Requirement already satisfied: charset-normalizer<4,>=2 in /Users/jakub/Documents/code/HIPPO/venv/lib/python3.10/site-packages (from requests->huggingface-hub) (3.3.2)\n",
      "Requirement already satisfied: idna<4,>=2.5 in /Users/jakub/Documents/code/HIPPO/venv/lib/python3.10/site-packages (from requests->huggingface-hub) (3.8)\n",
      "Requirement already satisfied: urllib3<3,>=1.21.1 in /Users/jakub/Documents/code/HIPPO/venv/lib/python3.10/site-packages (from requests->huggingface-hub) (2.2.2)\n",
      "Requirement already satisfied: certifi>=2017.4.17 in /Users/jakub/Documents/code/HIPPO/venv/lib/python3.10/site-packages (from requests->huggingface-hub) (2024.8.30)\n",
      "Requirement already satisfied: MarkupSafe>=2.0 in /Users/jakub/Documents/code/HIPPO/venv/lib/python3.10/site-packages (from jinja2->torch>=1.9->hippo==0.1.dev1+g5ed50b5.d20240901) (2.1.5)\n",
      "Requirement already satisfied: mpmath<1.4,>=1.1.0 in /Users/jakub/Documents/code/HIPPO/venv/lib/python3.10/site-packages (from sympy->torch>=1.9->hippo==0.1.dev1+g5ed50b5.d20240901) (1.3.0)\n",
      "Building wheels for collected packages: hippo\n",
      "  Building wheel for hippo (pyproject.toml) ... \u001b[?25ldone\n",
      "\u001b[?25h  Created wheel for hippo: filename=hippo-0.1.dev1+g5ed50b5.d20240901-py3-none-any.whl size=17316 sha256=fd2fb6409597d060fa75282ed022cce949b3b8c6aa26b87c9d6ddc712e6ebfff\n",
      "  Stored in directory: /private/var/folders/29/_vp3243s5t1f3lvrkydsjchw0000gn/T/pip-ephem-wheel-cache-cu0xfh25/wheels/c4/71/f0/0684c0397b0938e3d3bc8fa8c26240978f0c2a987b1bb6647e\n",
      "Successfully built hippo\n",
      "Installing collected packages: hippo\n",
      "  Attempting uninstall: hippo\n",
      "    Found existing installation: hippo 0.1.dev1+g5ed50b5.d20240901\n",
      "    Uninstalling hippo-0.1.dev1+g5ed50b5.d20240901:\n",
      "      Successfully uninstalled hippo-0.1.dev1+g5ed50b5.d20240901\n",
      "Successfully installed hippo-0.1.dev1+g5ed50b5.d20240901\n",
      "Note: you may need to restart the kernel to use updated packages.\n"
     ]
    }
   ],
   "source": [
    "%pip install huggingface-hub safetensors ../"
   ]
  },
  {
   "cell_type": "code",
   "execution_count": 2,
   "metadata": {},
   "outputs": [
    {
     "name": "stdout",
     "output_type": "stream",
     "text": [
      "python scripts/train_classification.py --model-name AttentionMILModel --features-dir /home/jkaczmar/data/public-wsi/deep_features/uni-256px_0.5mpp/camelyon16/ --output-dir outputs/camelyon16/abmil-uni-128um_seed0 --csv csvs/camelyon16-jakub-labels.csv --label-col binary_label_int --num-classes 2 --embedding-size 1024 --split-json splits/camelyon16-split0.json --fold 0 --num-epochs 20 --seed 0 -L 512 -D 384 --lr 1e-4\n"
     ]
    }
   ],
   "source": [
    "s = \"\"\"\n",
    "python scripts/train_classification.py \\\n",
    "--model-name AttentionMILModel \\\n",
    "--features-dir /home/jkaczmar/data/public-wsi/deep_features/{encoder}-256px_0.5mpp/camelyon16/ \\\n",
    "--output-dir outputs/camelyon16/abmil-{encoder}-128um_seed{seed} \\\n",
    "--csv csvs/camelyon16-jakub-labels.csv \\\n",
    "--label-col binary_label_int \\\n",
    "--num-classes 2 \\\n",
    "--embedding-size {embedding_size} \\\n",
    "--split-json splits/camelyon16-split0.json \\\n",
    "--fold 0 \\\n",
    "--num-epochs 20 \\\n",
    "--seed {seed} \\\n",
    "-L 512 \\\n",
    "-D 384 \\\n",
    "--lr 1e-4\"\"\"\n",
    "\n",
    "encoders_sizes = [\n",
    "    (\"UNI\", 1024),\n",
    "#     (\"CTransPath\", 768),\n",
    "#     (\"REMEDIS\", 4096),\n",
    "#     (\"RetCCL\", 2048),\n",
    "#     (\"Phikon\", 768),\n",
    "]\n",
    "\n",
    "for encoder, embedding_size in encoders_sizes:\n",
    "    for seed in [0]:\n",
    "        print(s.format(encoder=encoder.lower(), embedding_size=embedding_size, seed=seed).strip())"
   ]
  },
  {
   "cell_type": "code",
   "execution_count": null,
   "metadata": {},
   "outputs": [],
   "source": []
  },
  {
   "cell_type": "code",
   "execution_count": 21,
   "metadata": {},
   "outputs": [
    {
     "data": {
      "text/plain": [
       "<All keys matched successfully>"
      ]
     },
     "execution_count": 21,
     "metadata": {},
     "output_type": "execute_result"
    }
   ],
   "source": [
    "from hippo.models import AttentionMILModel\n",
    "from huggingface_hub import hf_hub_download\n",
    "from safetensors.torch import load_file\n",
    "\n",
    "weights_path = hf_hub_download(\n",
    "    repo_id=\"kaczmarj/breast-lymph-nodes-metastasis.camelyon16\",\n",
    "    filename=\"model.safetensors\"\n",
    ")\n",
    "state_dict = load_file(weights_path)\n",
    "model = AttentionMILModel(in_features=768, L=256, D=256, num_classes=2, gated_attention=True)\n",
    "model.eval()\n",
    "model.load_state_dict(state_dict)"
   ]
  },
  {
   "cell_type": "code",
   "execution_count": null,
   "metadata": {},
   "outputs": [],
   "source": [
    "# Load patch features, made with UNI model.\n",
    "torch.load(\"\")"
   ]
  },
  {
   "cell_type": "markdown",
   "metadata": {},
   "source": [
    "### Get the model outputs on the original image\n",
    "\n",
    "<img src=\"../docs/cam16-test_002-original.jpg\" width=\"384px\">"
   ]
  },
  {
   "cell_type": "code",
   "execution_count": null,
   "metadata": {},
   "outputs": [],
   "source": []
  },
  {
   "cell_type": "code",
   "execution_count": null,
   "metadata": {},
   "outputs": [],
   "source": []
  },
  {
   "cell_type": "markdown",
   "metadata": {},
   "source": [
    "### Get the model outputs on the without tumor\n",
    "\n",
    "<img src=\"../docs/cam16-test_002-withouttumor.jpg\" width=\"384px\">"
   ]
  },
  {
   "cell_type": "code",
   "execution_count": 23,
   "metadata": {},
   "outputs": [],
   "source": [
    "tumor_polygons = ..."
   ]
  },
  {
   "cell_type": "code",
   "execution_count": null,
   "metadata": {},
   "outputs": [],
   "source": []
  },
  {
   "cell_type": "code",
   "execution_count": null,
   "metadata": {},
   "outputs": [],
   "source": []
  },
  {
   "cell_type": "code",
   "execution_count": null,
   "metadata": {},
   "outputs": [],
   "source": []
  },
  {
   "cell_type": "markdown",
   "metadata": {},
   "source": [
    "### Remove tumor and get model outputs\n",
    "\n",
    "<img src=\"../docs/cam16-test_002-tumor.jpg\" width=\"384px\">"
   ]
  },
  {
   "cell_type": "code",
   "execution_count": null,
   "metadata": {},
   "outputs": [],
   "source": []
  },
  {
   "cell_type": "code",
   "execution_count": null,
   "metadata": {},
   "outputs": [],
   "source": []
  },
  {
   "cell_type": "code",
   "execution_count": null,
   "metadata": {},
   "outputs": [],
   "source": []
  }
 ],
 "metadata": {
  "kernelspec": {
   "display_name": "Python 3 (ipykernel)",
   "language": "python",
   "name": "python3"
  },
  "language_info": {
   "codemirror_mode": {
    "name": "ipython",
    "version": 3
   },
   "file_extension": ".py",
   "mimetype": "text/x-python",
   "name": "python",
   "nbconvert_exporter": "python",
   "pygments_lexer": "ipython3",
   "version": "3.10.14"
  }
 },
 "nbformat": 4,
 "nbformat_minor": 4
}
