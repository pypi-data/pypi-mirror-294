{
 "cells": [
  {
   "cell_type": "markdown",
   "metadata": {},
   "source": [
    "# Configuration"
   ]
  },
  {
   "cell_type": "code",
   "execution_count": null,
   "metadata": {},
   "outputs": [],
   "source": [
    "# These are connection parameters, could be coming from other source, like 'getpass'\n",
    "\n",
    "vantage_host = \"***\"\n",
    "vantage_username = \"***\"\n",
    "vantage_password = \"***\"\n",
    "val_db = \"val\"\n",
    "byom_db = \"mldb\"\n",
    "logmech = \"tdnego\""
   ]
  },
  {
   "cell_type": "code",
   "execution_count": null,
   "metadata": {},
   "outputs": [],
   "source": [
    "# making a connection to ModelOps and making sure we can see some projects\n",
    "\n",
    "from aoa import AoaClient, ProjectApi\n",
    "import pprint\n",
    "\n",
    "client = AoaClient(\n",
    "    aoa_url=\"https://vmo.local/core\",\n",
    "    auth_mode=\"client_credentials\",\n",
    "    auth_client_id=\"modelops-cli\",\n",
    "    auth_client_secret=\"***\",\n",
    "    ssl_verify=False,\n",
    "    auth_token_url=(\n",
    "        \"https://vmo.local/sso/realms/teradata/protocol/openid-connect/token\"\n",
    "    ),\n",
    "    auth_device_auth_url=(\n",
    "        \"https://vmo.local/sso/realms/teradata/protocol/openid-connect/auth/device\"\n",
    "    ),\n",
    ")\n",
    "\n",
    "project_api = ProjectApi(aoa_client=client)\n",
    "\n",
    "projects = list(project_api)\n",
    "pprint.pprint(projects)"
   ]
  },
  {
   "cell_type": "markdown",
   "metadata": {},
   "source": [
    "# Saving a connection using API"
   ]
  },
  {
   "cell_type": "code",
   "execution_count": null,
   "metadata": {},
   "outputs": [],
   "source": [
    "client.project_id = \"23e1df4b-b630-47a1-ab80-7ad5385fcd8d\"\n",
    "\n",
    "personal_connection_payload = {\n",
    "    \"name\": \"MyPersonalConnection\",\n",
    "    \"description\": \"Service Account Personal Connection\",\n",
    "    \"metadata\": {\n",
    "        \"host\": vantage_host,\n",
    "        \"log_mech\": \"TDNEGO\",\n",
    "        \"database\": \"\",\n",
    "        \"valDb\": val_db,\n",
    "        \"byomDb\": byom_db,\n",
    "    },\n",
    "    \"credentials\": {\n",
    "        \"username\": vantage_username,\n",
    "        \"password\": vantage_password,\n",
    "        \"credsEncrypted\": False,\n",
    "    },\n",
    "    \"personal\": True,\n",
    "}\n",
    "\n",
    "service_connection_payload = {\n",
    "    \"name\": \"MyServiceConnection\",\n",
    "    \"description\": \"Service Account Service Connection\",\n",
    "    \"metadata\": {\n",
    "        \"host\": vantage_host,\n",
    "        \"log_mech\": \"TDNEGO\",\n",
    "        \"database\": \"\",\n",
    "        \"valDb\": val_db,\n",
    "        \"byomDb\": byom_db,\n",
    "    },\n",
    "    \"credentials\": {\n",
    "        \"username\": vantage_username,\n",
    "        \"password\": vantage_password,\n",
    "        \"credsEncrypted\": False,\n",
    "    },\n",
    "    \"personal\": False,\n",
    "}"
   ]
  },
  {
   "cell_type": "code",
   "execution_count": null,
   "metadata": {},
   "outputs": [],
   "source": [
    "from aoa import DatasetConnectionApi\n",
    "\n",
    "connection_api = DatasetConnectionApi(aoa_client=client)"
   ]
  },
  {
   "cell_type": "code",
   "execution_count": null,
   "metadata": {},
   "outputs": [],
   "source": [
    "connection_api.save(dataset_connection=personal_connection_payload)"
   ]
  },
  {
   "cell_type": "code",
   "execution_count": null,
   "metadata": {},
   "outputs": [],
   "source": [
    "connection_api.save(dataset_connection=service_connection_payload)"
   ]
  },
  {
   "cell_type": "markdown",
   "metadata": {},
   "source": [
    "# Validating a connection using API"
   ]
  },
  {
   "cell_type": "code",
   "execution_count": null,
   "metadata": {},
   "outputs": [],
   "source": [
    "connections = list(connection_api)\n",
    "connection = connections[0]\n",
    "# This attribute needs to be added because API doesn't return decrypted credentials\n",
    "connection[\"credentials\"][\"credsEncrypted\"] = True\n",
    "connection"
   ]
  },
  {
   "cell_type": "code",
   "execution_count": null,
   "metadata": {},
   "outputs": [],
   "source": [
    "from requests.exceptions import HTTPError\n",
    "\n",
    "try:\n",
    "    result = client.post_request(\n",
    "        path=\"/api/datasetConnections/validate\",\n",
    "        header_params=connection_api._get_header_params(),\n",
    "        query_params={},\n",
    "        body=connection,\n",
    "    )\n",
    "except HTTPError as err:\n",
    "    print(err)\n",
    "else:\n",
    "    print(result)"
   ]
  }
 ],
 "metadata": {
  "kernelspec": {
   "display_name": "venv",
   "language": "python",
   "name": "python3"
  },
  "language_info": {
   "codemirror_mode": {
    "name": "ipython",
    "version": 3
   },
   "file_extension": ".py",
   "mimetype": "text/x-python",
   "name": "python",
   "nbconvert_exporter": "python",
   "pygments_lexer": "ipython3",
   "version": "3.11.9"
  }
 },
 "nbformat": 4,
 "nbformat_minor": 2
}
