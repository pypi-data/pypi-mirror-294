{
 "cells": [
  {
   "cell_type": "markdown",
   "metadata": {},
   "source": [
    "# Feature Engineering Recipe"
   ]
  },
  {
   "cell_type": "markdown",
   "metadata": {},
   "source": [
    "## Initialization"
   ]
  },
  {
   "cell_type": "markdown",
   "metadata": {},
   "source": [
    "### Authentication"
   ]
  },
  {
   "cell_type": "code",
   "execution_count": null,
   "metadata": {},
   "outputs": [],
   "source": [
    "from aoa import AoaClient, FeatureEngineeringApi\n",
    "import pprint\n",
    "\n",
    "client = AoaClient(\n",
    "    aoa_url=\"https://vmo.local/core\",\n",
    "    auth_mode=\"device_code\",\n",
    "    auth_client_id=\"modelops\",\n",
    "    ssl_verify=False,\n",
    "    auth_token_url=(\n",
    "        \"https://vmo.local/sso/realms/teradata/protocol/openid-connect/token\"\n",
    "    ),\n",
    "    auth_device_auth_url=(\n",
    "        \"https://vmo.local/sso/realms/teradata/protocol/openid-connect/auth/device\"\n",
    "    ),\n",
    ")\n",
    "\n",
    "client.project_id = \"23e1df4b-b630-47a1-ab80-7ad5385fcd8d\"\n",
    "fe = FeatureEngineeringApi(aoa_client=client)"
   ]
  },
  {
   "cell_type": "markdown",
   "metadata": {},
   "source": [
    "### Fetch Default Dataset Connection"
   ]
  },
  {
   "cell_type": "code",
   "execution_count": null,
   "metadata": {},
   "outputs": [],
   "source": [
    "# New API, allows users do fetch a default dataset connection\n",
    "# (notice it only works for real users, service account probably don't have personal connections)\n",
    "\n",
    "from aoa import UserAttributesApi\n",
    "\n",
    "user_attributes_api = UserAttributesApi(aoa_client=client)\n",
    "default_connection = user_attributes_api.get_default_connection()\n",
    "default_connection\n",
    "default_connection_id = default_connection[\"value\"][\"defaultDatasetConnectionId\"]\n",
    "default_connection_id"
   ]
  },
  {
   "cell_type": "markdown",
   "metadata": {},
   "source": [
    "## Import Task"
   ]
  },
  {
   "cell_type": "code",
   "execution_count": null,
   "metadata": {},
   "outputs": [],
   "source": [
    "from aoa import TrainedModelArtefactsApi\n",
    "import uuid\n",
    "\n",
    "artefacts_api = TrainedModelArtefactsApi(aoa_client=client)\n",
    "artefacts = [\"./requirements.txt\", \"./task.py\"]\n",
    "\n",
    "artefact_id = uuid.uuid4()\n",
    "artefacts_api.upload_artefacts(artefact_id, artefacts)\n",
    "\n",
    "import_request = {\n",
    "    \"artefactImportId\": str(artefact_id),\n",
    "    \"name\": \"FE Task\",\n",
    "    \"description\": \"Feature Engneering Task\",\n",
    "    \"language\": \"PYTHON\",\n",
    "    \"functionName\": \"run_task\",\n",
    "    \"metadata\": {\n",
    "        \"automation\": {\n",
    "            \"resources\": {\n",
    "                \"cpu\": \"2\",\n",
    "                \"memory\": \"2g\",\n",
    "            },\n",
    "            \"engine\": \"PYTHON\",\n",
    "            \"dockerImage\": \"artifacts.td.teradata.com/tdproduct-docker-snapshot/avmo/vmo-python-base:3.9.2\",\n",
    "        },\n",
    "        \"resourceTemplate\": \"Default\",\n",
    "    },\n",
    "}\n",
    "\n",
    "task = fe.import_task(import_request)\n",
    "task_id = task[\"metadata\"][\"featureEngineeringTask\"][\"id\"]\n",
    "task_id"
   ]
  },
  {
   "cell_type": "markdown",
   "metadata": {},
   "source": [
    "## Run Task"
   ]
  },
  {
   "cell_type": "code",
   "execution_count": null,
   "metadata": {},
   "outputs": [],
   "source": [
    "# Payload to run the task\n",
    "run_request = {\n",
    "    \"automation\": {\n",
    "        \"dockerImage\": \"artifacts.td.teradata.com/tdproduct-docker-snapshot/avmo/vmo-python-base:3.9.3\",\n",
    "        \"resources\": {\"memory\": \"2g\", \"cpu\": \"2\"},\n",
    "    },\n",
    "    \"datasetConnectionId\": default_connection_id,\n",
    "}\n",
    "\n",
    "execution = fe.run(task_id, run_request)\n",
    "execution"
   ]
  },
  {
   "cell_type": "markdown",
   "metadata": {},
   "source": [
    "## Approve Task"
   ]
  },
  {
   "cell_type": "code",
   "execution_count": null,
   "metadata": {},
   "outputs": [],
   "source": [
    "fe.approve(task_id, \"LGTM\")"
   ]
  },
  {
   "cell_type": "markdown",
   "metadata": {},
   "source": [
    "## Deploy Task"
   ]
  },
  {
   "cell_type": "code",
   "execution_count": null,
   "metadata": {},
   "outputs": [],
   "source": [
    "# Payload to deploy the task\n",
    "deploy_request = {\n",
    "    \"engineType\": \"DOCKER_BATCH\",\n",
    "    \"engineTypeConfig\": {\n",
    "        \"dockerImage\": \"artifacts.td.teradata.com/tdproduct-docker-snapshot/avmo/vmo-python-base:3.9.3\",\n",
    "        \"engine\": \"python-batch\",\n",
    "        \"resources\": {\"memory\": \"500m\", \"cpu\": \"0.5\"},\n",
    "    },\n",
    "    \"language\": \"python\",\n",
    "    \"datasetConnectionId\": default_connection_id,\n",
    "    \"cron\": \"@manual\",\n",
    "}\n",
    "\n",
    "fe.deploy(task_id, deploy_request)"
   ]
  },
  {
   "cell_type": "markdown",
   "metadata": {},
   "source": [
    "### Fetch Deployment Id"
   ]
  },
  {
   "cell_type": "code",
   "execution_count": null,
   "metadata": {},
   "outputs": [],
   "source": [
    "# fetch the deployment by task ID\n",
    "from aoa import DeploymentApi\n",
    "\n",
    "deployment = DeploymentApi(aoa_client=client)\n",
    "\n",
    "response = deployment.find_active_by_task_id(task_id, \"expandDeployment\")\n",
    "deployment_id = response[\"_embedded\"][\"deployments\"][0][\"id\"]\n",
    "\n",
    "deployment_id"
   ]
  },
  {
   "cell_type": "markdown",
   "metadata": {},
   "source": [
    "## Retire Task"
   ]
  },
  {
   "cell_type": "code",
   "execution_count": null,
   "metadata": {},
   "outputs": [],
   "source": [
    "# Payload to retire the task\n",
    "retire_request = {\"deploymentId\": deployment_id}\n",
    "\n",
    "fe.retire(task_id, retire_request)"
   ]
  }
 ],
 "metadata": {
  "kernelspec": {
   "display_name": ".venv",
   "language": "python",
   "name": "python3"
  },
  "language_info": {
   "codemirror_mode": {
    "name": "ipython",
    "version": 3
   },
   "file_extension": ".py",
   "mimetype": "text/x-python",
   "name": "python",
   "nbconvert_exporter": "python",
   "pygments_lexer": "ipython3",
   "version": "3.11.6"
  }
 },
 "nbformat": 4,
 "nbformat_minor": 2
}
