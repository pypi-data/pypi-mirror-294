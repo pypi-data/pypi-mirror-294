{
 "cells": [
  {
   "cell_type": "code",
   "execution_count": 8,
   "metadata": {
    "ExecuteTime": {
     "end_time": "2017-09-07T21:02:56.495205Z",
     "start_time": "2017-09-07T21:02:56.441038Z"
    }
   },
   "outputs": [
    {
     "name": "stdout",
     "output_type": "stream",
     "text": [
      "Populating the interactive namespace from numpy and matplotlib\n"
     ]
    }
   ],
   "source": [
    "%pylab inline\n",
    "import dask.dataframe as dd\n",
    "import pandas as pd\n",
    "import numpy as np\n",
    "import fastparquet"
   ]
  },
  {
   "cell_type": "code",
   "execution_count": 2,
   "metadata": {
    "ExecuteTime": {
     "end_time": "2017-09-07T21:00:05.860102Z",
     "start_time": "2017-09-07T21:00:05.840953Z"
    },
    "collapsed": true
   },
   "outputs": [],
   "source": [
    "def read_text(fin):\n",
    "    numprops = pd.read_csv(fin,sep=' ',skiprows=1,nrows=1,header=None)[0][0]\n",
    "    head = pd.read_csv(fin,sep=' ',skiprows=2,nrows=numprops,header=None)\n",
    "    df = dd.read_csv(fin,\n",
    "                     sep=' ',header=numprops+1,na_values=-999,\n",
    "                    names=list(head[0])+['null']\n",
    "    )\n",
    "    df = df.repartition(npartitions=60).drop('null',1)\n",
    "    return df"
   ]
  },
  {
   "cell_type": "code",
   "execution_count": 10,
   "metadata": {
    "ExecuteTime": {
     "end_time": "2017-09-07T21:05:15.104089Z",
     "start_time": "2017-09-07T21:05:10.121426Z"
    },
    "collapsed": true
   },
   "outputs": [],
   "source": [
    "fin = '/scratch/Haynesville_petrel/Attributes around midpoint.txt'\n",
    "df = read_text(fin)\n",
    "df.to_parquet('/scratch/Haynesville_petrel/parq')\n",
    "df = dd.read_parquet('/scratch/Haynesville_petrel/parq')\n",
    "\n",
    "print(df.columns,'\\n',len(df)/1e6,'million rows')"
   ]
  },
  {
   "cell_type": "code",
   "execution_count": 58,
   "metadata": {
    "ExecuteTime": {
     "end_time": "2017-09-07T22:09:33.102121Z",
     "start_time": "2017-09-07T22:09:32.872437Z"
    }
   },
   "outputs": [
    {
     "name": "stdout",
     "output_type": "stream",
     "text": [
      "  Well identifier  UWI-index\n",
      "0  17013218210100          1\n",
      "1  17013218530000          2\n",
      "2  17013218620000          3\n",
      "3  17013219080000          4\n",
      "4  17013219090000          5\n"
     ]
    },
    {
     "data": {
      "text/plain": [
       "3684"
      ]
     },
     "execution_count": 58,
     "metadata": {},
     "output_type": "execute_result"
    }
   ],
   "source": [
    "UWI = pd.read_excel('/scratch/Haynesville_petrel/UWI-index.xlsx',converters={'Well identifier':str})\n",
    "print(UWI.head())\n",
    "len(UWI)\n"
   ]
  },
  {
   "cell_type": "code",
   "execution_count": 12,
   "metadata": {
    "ExecuteTime": {
     "end_time": "2017-09-07T21:06:19.912752Z",
     "start_time": "2017-09-07T21:06:18.548127Z"
    }
   },
   "outputs": [
    {
     "name": "stdout",
     "output_type": "stream",
     "text": [
      "3526\n"
     ]
    }
   ],
   "source": [
    "df_midpoints = df.dropna(subset=['UWI-index']).compute()\n",
    "df_midpoints.to_pickle('/scratch/Haynesville_petrel/midpoints.pkl')\n",
    "#df_midpoints = pd.read_pickle('WestTexas/midpoint_cells.pkl')\n",
    "print(len(df_midpoints))"
   ]
  },
  {
   "cell_type": "code",
   "execution_count": 19,
   "metadata": {
    "ExecuteTime": {
     "end_time": "2017-09-07T21:25:01.134337Z",
     "start_time": "2017-09-07T21:25:01.116186Z"
    }
   },
   "outputs": [
    {
     "name": "stdout",
     "output_type": "stream",
     "text": [
      "158 wells have no cell assigned\n"
     ]
    }
   ],
   "source": [
    "x = UWI[~UWI['UWI-index'].isin(df_midpoints['UWI-index'])]\n",
    "print(len(x),'wells have no cell assigned')\n",
    "x.to_csv('/scratch/Haynesville_petrel/UWI_nocell.csv')"
   ]
  },
  {
   "cell_type": "code",
   "execution_count": 20,
   "metadata": {
    "ExecuteTime": {
     "end_time": "2017-09-07T21:29:22.045688Z",
     "start_time": "2017-09-07T21:29:19.375529Z"
    }
   },
   "outputs": [
    {
     "data": {
      "text/plain": [
       "'\\nfigure()\\nsns.countplot((df_midpoints.Mainzones.astype(int)+1).replace(long_layerdict))\\nxticks(rotation=90)\\n'"
      ]
     },
     "execution_count": 20,
     "metadata": {},
     "output_type": "execute_result"
    },
    {
     "data": {
      "image/png": "[encoded data removed]",
      "text/plain": [
       "<matplotlib.figure.Figure at 0x7f3e11810748>"
      ]
     },
     "metadata": {},
     "output_type": "display_data"
    }
   ],
   "source": [
    "import seaborn as sns\n",
    "df_midpoints.k_index.hist()\n",
    "xlabel('K-index')\n",
    "ylabel('count')\n",
    "\"\"\"\n",
    "figure()\n",
    "sns.countplot((df_midpoints.Mainzones.astype(int)+1).replace(long_layerdict))\n",
    "xticks(rotation=90)\n",
    "\"\"\""
   ]
  },
  {
   "cell_type": "code",
   "execution_count": 80,
   "metadata": {
    "ExecuteTime": {
     "end_time": "2017-09-07T22:43:03.797811Z",
     "start_time": "2017-09-07T22:43:03.705064Z"
    },
    "collapsed": true
   },
   "outputs": [],
   "source": [
    "def filter_cells(df,df_midpoints):\n",
    "    df_ij_big = df[(df['i_index'].isin(df_midpoints['i_index'])) & \n",
    "                  df['j_index'].isin(df_midpoints['j_index'])]\n",
    "    \n",
    "    df_ij = (df_ij_big.compute()\n",
    "             .dropna(thresh=3)\n",
    "             .set_index(['i_index','j_index','k_index'])\n",
    "             .sort_index()\n",
    "             .loc[idx[df_midpoints['i_index'],df_midpoints['j_index'],:],]\n",
    "             )\n",
    "    return df_ij\n",
    "\n",
    "def agg_cells(df_ij,df_midpoints,attrs):\n",
    "    df_ave = pd.DataFrame(index=df_midpoints['UWI-index'].unique())\n",
    "    for _,w in df_midpoints.iterrows():\n",
    "        try:\n",
    "            cells = df_ij.loc[idx[w['i_index'],w['j_index'],:],]\n",
    "        except KeyError as e:\n",
    "            print(e)\n",
    "            continue\n",
    "        for attr in attrs:\n",
    "            for aggfunc in ['mean','median']:\n",
    "                column = attr+'_'+aggfunc+'_50around'\n",
    "                df_ave.loc[w['UWI-index'],column] = (cells\n",
    "                                                     .loc[abs(cells['z_coord']-w['z_coord'])<=50,attr]\n",
    "                                                     .agg(aggfunc)\n",
    "                                                    )\n",
    "                column = attr+'_'+aggfunc+'_25-75above'\n",
    "                df_ave.loc[w['UWI-index'],column] = (cells\n",
    "                                                     .loc[abs(cells['z_coord']-w['z_coord']+50)<=25,attr]\n",
    "                                                     .agg(aggfunc)\n",
    "                                                    )\n",
    "    return df_ave\n",
    "\n",
    "def assign_UWI(df_ave,UWI,UWI_attr='Well identifier'):\n",
    "    df_ave['UWI']=(df_ave.index\n",
    "               .to_series()\n",
    "               .to_frame()\n",
    "               .join(UWI)\n",
    "               [UWI_attr]\n",
    "              )\n",
    "    return df_ave"
   ]
  },
  {
   "cell_type": "code",
   "execution_count": 87,
   "metadata": {
    "ExecuteTime": {
     "end_time": "2017-09-07T23:04:51.066876Z",
     "start_time": "2017-09-07T23:02:56.135667Z"
    }
   },
   "outputs": [
    {
     "name": "stdout",
     "output_type": "stream",
     "text": [
      "Index(['i_index', 'j_index', 'k_index', 'x_coord', 'y_coord', 'z_coord',\n",
      "       'Layers', 'PhiT_New', 'PhiSep', 'UWI-index'],\n",
      "      dtype='object')\n",
      "1.164964 million cells in original model\n",
      "4919 wells have a cell assigned\n",
      "5591 wells have UWIs\n",
      "672 wells have no cell assigned\n",
      "866189 cells left after filtering\n"
     ]
    },
    {
     "data": {
      "text/html": [
       "<div>\n",
       "<style>\n",
       "    .dataframe thead tr:only-child th {\n",
       "        text-align: right;\n",
       "    }\n",
       "\n",
       "    .dataframe thead th {\n",
       "        text-align: left;\n",
       "    }\n",
       "\n",
       "    .dataframe tbody tr th {\n",
       "        vertical-align: top;\n",
       "    }\n",
       "</style>\n",
       "<table border=\"1\" class=\"dataframe\">\n",
       "  <thead>\n",
       "    <tr style=\"text-align: right;\">\n",
       "      <th></th>\n",
       "      <th>PhiT_New_mean_50around</th>\n",
       "      <th>PhiT_New_mean_25-75above</th>\n",
       "      <th>PhiT_New_median_50around</th>\n",
       "      <th>PhiT_New_median_25-75above</th>\n",
       "      <th>PhiSep_mean_50around</th>\n",
       "      <th>PhiSep_mean_25-75above</th>\n",
       "      <th>PhiSep_median_50around</th>\n",
       "      <th>PhiSep_median_25-75above</th>\n",
       "    </tr>\n",
       "  </thead>\n",
       "  <tbody>\n",
       "    <tr>\n",
       "      <th>count</th>\n",
       "      <td>4919.000000</td>\n",
       "      <td>4776.000000</td>\n",
       "      <td>4919.000000</td>\n",
       "      <td>4776.000000</td>\n",
       "      <td>4919.000000</td>\n",
       "      <td>4776.000000</td>\n",
       "      <td>4919.000000</td>\n",
       "      <td>4776.000000</td>\n",
       "    </tr>\n",
       "    <tr>\n",
       "      <th>mean</th>\n",
       "      <td>0.081767</td>\n",
       "      <td>0.082023</td>\n",
       "      <td>0.081678</td>\n",
       "      <td>0.082106</td>\n",
       "      <td>0.113869</td>\n",
       "      <td>0.120841</td>\n",
       "      <td>0.111942</td>\n",
       "      <td>0.120972</td>\n",
       "    </tr>\n",
       "    <tr>\n",
       "      <th>std</th>\n",
       "      <td>0.005887</td>\n",
       "      <td>0.006315</td>\n",
       "      <td>0.005991</td>\n",
       "      <td>0.006312</td>\n",
       "      <td>0.023088</td>\n",
       "      <td>0.025010</td>\n",
       "      <td>0.026075</td>\n",
       "      <td>0.025902</td>\n",
       "    </tr>\n",
       "    <tr>\n",
       "      <th>min</th>\n",
       "      <td>0.059710</td>\n",
       "      <td>0.052169</td>\n",
       "      <td>0.058120</td>\n",
       "      <td>0.047671</td>\n",
       "      <td>0.026998</td>\n",
       "      <td>0.016737</td>\n",
       "      <td>0.007375</td>\n",
       "      <td>0.006924</td>\n",
       "    </tr>\n",
       "    <tr>\n",
       "      <th>25%</th>\n",
       "      <td>0.077546</td>\n",
       "      <td>0.077928</td>\n",
       "      <td>0.077509</td>\n",
       "      <td>0.078119</td>\n",
       "      <td>0.099877</td>\n",
       "      <td>0.103120</td>\n",
       "      <td>0.094964</td>\n",
       "      <td>0.102971</td>\n",
       "    </tr>\n",
       "    <tr>\n",
       "      <th>50%</th>\n",
       "      <td>0.081805</td>\n",
       "      <td>0.082022</td>\n",
       "      <td>0.081707</td>\n",
       "      <td>0.082048</td>\n",
       "      <td>0.112496</td>\n",
       "      <td>0.121557</td>\n",
       "      <td>0.111203</td>\n",
       "      <td>0.122043</td>\n",
       "    </tr>\n",
       "    <tr>\n",
       "      <th>75%</th>\n",
       "      <td>0.085612</td>\n",
       "      <td>0.085834</td>\n",
       "      <td>0.085624</td>\n",
       "      <td>0.085868</td>\n",
       "      <td>0.128103</td>\n",
       "      <td>0.137711</td>\n",
       "      <td>0.128690</td>\n",
       "      <td>0.138773</td>\n",
       "    </tr>\n",
       "    <tr>\n",
       "      <th>max</th>\n",
       "      <td>0.107173</td>\n",
       "      <td>0.107693</td>\n",
       "      <td>0.103693</td>\n",
       "      <td>0.111565</td>\n",
       "      <td>0.230019</td>\n",
       "      <td>0.220222</td>\n",
       "      <td>0.242638</td>\n",
       "      <td>0.220222</td>\n",
       "    </tr>\n",
       "  </tbody>\n",
       "</table>\n",
       "</div>"
      ],
      "text/plain": [
       "       PhiT_New_mean_50around  PhiT_New_mean_25-75above  \\\n",
       "count             4919.000000               4776.000000   \n",
       "mean                 0.081767                  0.082023   \n",
       "std                  0.005887                  0.006315   \n",
       "min                  0.059710                  0.052169   \n",
       "25%                  0.077546                  0.077928   \n",
       "50%                  0.081805                  0.082022   \n",
       "75%                  0.085612                  0.085834   \n",
       "max                  0.107173                  0.107693   \n",
       "\n",
       "       PhiT_New_median_50around  PhiT_New_median_25-75above  \\\n",
       "count               4919.000000                 4776.000000   \n",
       "mean                   0.081678                    0.082106   \n",
       "std                    0.005991                    0.006312   \n",
       "min                    0.058120                    0.047671   \n",
       "25%                    0.077509                    0.078119   \n",
       "50%                    0.081707                    0.082048   \n",
       "75%                    0.085624                    0.085868   \n",
       "max                    0.103693                    0.111565   \n",
       "\n",
       "       PhiSep_mean_50around  PhiSep_mean_25-75above  PhiSep_median_50around  \\\n",
       "count           4919.000000             4776.000000             4919.000000   \n",
       "mean               0.113869                0.120841                0.111942   \n",
       "std                0.023088                0.025010                0.026075   \n",
       "min                0.026998                0.016737                0.007375   \n",
       "25%                0.099877                0.103120                0.094964   \n",
       "50%                0.112496                0.121557                0.111203   \n",
       "75%                0.128103                0.137711                0.128690   \n",
       "max                0.230019                0.220222                0.242638   \n",
       "\n",
       "       PhiSep_median_25-75above  \n",
       "count               4776.000000  \n",
       "mean                   0.120972  \n",
       "std                    0.025902  \n",
       "min                    0.006924  \n",
       "25%                    0.102971  \n",
       "50%                    0.122043  \n",
       "75%                    0.138773  \n",
       "max                    0.220222  "
      ]
     },
     "execution_count": 87,
     "metadata": {},
     "output_type": "execute_result"
    }
   ],
   "source": [
    "fin = '/scratch/Fayetteville_petrel/Attributes around midpoint.txt'\n",
    "df = read_text(fin)\n",
    "df.to_parquet('/scratch/Fayetteville_petrel/parq')\n",
    "df = dd.read_parquet('/scratch/Fayetteville_petrel/parq')\n",
    "\n",
    "print(df.columns)\n",
    "print(len(df)/1e6,'million cells in original model')\n",
    "\n",
    "df_midpoints = df.dropna(subset=['UWI-index']).compute()\n",
    "df_midpoints.to_pickle('/scratch/Fayetteville_petrel/midpoints.pkl')\n",
    "print(len(df_midpoints),'wells have a cell assigned')\n",
    "\n",
    "UWI = pd.read_excel('/scratch/Fayetteville_petrel/UWI-index.xlsx',converters={'UWI':str})\n",
    "#print(UWI.head(),'\\n')\n",
    "print(len(UWI),'wells have UWIs')\n",
    "\n",
    "x = UWI[~UWI['UWI-index'].isin(df_midpoints['UWI-index'])]\n",
    "print(len(x),'wells have no cell assigned')\n",
    "x.to_csv('/scratch/Fayetteville_petrel/UWI_nocell.csv')\n",
    "\n",
    "df_ij = filter_cells(df,df_midpoints)\n",
    "print(len(df_ij),'cells left after filtering')\n",
    "\n",
    "df_ave = agg_cells(df_ij,df_midpoints,['PhiT_New','PhiSep'])\n",
    "df_ave = assign_UWI(df_ave,UWI,'UWI')\n",
    "\n",
    "df_ave.to_excel('../Fayetteville_data/attributes_around_midpoints_Fayetteville.xlsx')\n",
    "df_ave.describe()"
   ]
  },
  {
   "cell_type": "code",
   "execution_count": 88,
   "metadata": {
    "ExecuteTime": {
     "end_time": "2017-09-07T23:13:09.508344Z",
     "start_time": "2017-09-07T23:13:09.464533Z"
    }
   },
   "outputs": [
    {
     "data": {
      "text/html": [
       "<div>\n",
       "<style>\n",
       "    .dataframe thead tr:only-child th {\n",
       "        text-align: right;\n",
       "    }\n",
       "\n",
       "    .dataframe thead th {\n",
       "        text-align: left;\n",
       "    }\n",
       "\n",
       "    .dataframe tbody tr th {\n",
       "        vertical-align: top;\n",
       "    }\n",
       "</style>\n",
       "<table border=\"1\" class=\"dataframe\">\n",
       "  <thead>\n",
       "    <tr style=\"text-align: right;\">\n",
       "      <th></th>\n",
       "      <th>PhiT_New_mean_50around</th>\n",
       "      <th>PhiT_New_mean_25-75above</th>\n",
       "      <th>PhiT_New_median_50around</th>\n",
       "      <th>PhiT_New_median_25-75above</th>\n",
       "      <th>PhiSep_mean_50around</th>\n",
       "      <th>PhiSep_mean_25-75above</th>\n",
       "      <th>PhiSep_median_50around</th>\n",
       "      <th>PhiSep_median_25-75above</th>\n",
       "      <th>UWI</th>\n",
       "    </tr>\n",
       "  </thead>\n",
       "  <tbody>\n",
       "    <tr>\n",
       "      <th>5133.0</th>\n",
       "      <td>0.078593</td>\n",
       "      <td>NaN</td>\n",
       "      <td>0.078402</td>\n",
       "      <td>NaN</td>\n",
       "      <td>0.064969</td>\n",
       "      <td>NaN</td>\n",
       "      <td>0.063307</td>\n",
       "      <td>NaN</td>\n",
       "      <td>03145110050000</td>\n",
       "    </tr>\n",
       "    <tr>\n",
       "      <th>2461.0</th>\n",
       "      <td>0.074760</td>\n",
       "      <td>NaN</td>\n",
       "      <td>0.075830</td>\n",
       "      <td>NaN</td>\n",
       "      <td>0.142900</td>\n",
       "      <td>NaN</td>\n",
       "      <td>0.143699</td>\n",
       "      <td>NaN</td>\n",
       "      <td>03045104290000</td>\n",
       "    </tr>\n",
       "    <tr>\n",
       "      <th>5334.0</th>\n",
       "      <td>0.079417</td>\n",
       "      <td>NaN</td>\n",
       "      <td>0.079408</td>\n",
       "      <td>NaN</td>\n",
       "      <td>0.116601</td>\n",
       "      <td>NaN</td>\n",
       "      <td>0.116438</td>\n",
       "      <td>NaN</td>\n",
       "      <td>03145112270000</td>\n",
       "    </tr>\n",
       "    <tr>\n",
       "      <th>4471.0</th>\n",
       "      <td>0.082420</td>\n",
       "      <td>NaN</td>\n",
       "      <td>0.082487</td>\n",
       "      <td>NaN</td>\n",
       "      <td>0.101949</td>\n",
       "      <td>NaN</td>\n",
       "      <td>0.097227</td>\n",
       "      <td>NaN</td>\n",
       "      <td>03145102510000</td>\n",
       "    </tr>\n",
       "    <tr>\n",
       "      <th>1463.0</th>\n",
       "      <td>0.073643</td>\n",
       "      <td>NaN</td>\n",
       "      <td>0.071596</td>\n",
       "      <td>NaN</td>\n",
       "      <td>0.134672</td>\n",
       "      <td>NaN</td>\n",
       "      <td>0.137442</td>\n",
       "      <td>NaN</td>\n",
       "      <td>03029106170000</td>\n",
       "    </tr>\n",
       "  </tbody>\n",
       "</table>\n",
       "</div>"
      ],
      "text/plain": [
       "        PhiT_New_mean_50around  PhiT_New_mean_25-75above  \\\n",
       "5133.0                0.078593                       NaN   \n",
       "2461.0                0.074760                       NaN   \n",
       "5334.0                0.079417                       NaN   \n",
       "4471.0                0.082420                       NaN   \n",
       "1463.0                0.073643                       NaN   \n",
       "\n",
       "        PhiT_New_median_50around  PhiT_New_median_25-75above  \\\n",
       "5133.0                  0.078402                         NaN   \n",
       "2461.0                  0.075830                         NaN   \n",
       "5334.0                  0.079408                         NaN   \n",
       "4471.0                  0.082487                         NaN   \n",
       "1463.0                  0.071596                         NaN   \n",
       "\n",
       "        PhiSep_mean_50around  PhiSep_mean_25-75above  PhiSep_median_50around  \\\n",
       "5133.0              0.064969                     NaN                0.063307   \n",
       "2461.0              0.142900                     NaN                0.143699   \n",
       "5334.0              0.116601                     NaN                0.116438   \n",
       "4471.0              0.101949                     NaN                0.097227   \n",
       "1463.0              0.134672                     NaN                0.137442   \n",
       "\n",
       "        PhiSep_median_25-75above             UWI  \n",
       "5133.0                       NaN  03145110050000  \n",
       "2461.0                       NaN  03045104290000  \n",
       "5334.0                       NaN  03145112270000  \n",
       "4471.0                       NaN  03145102510000  \n",
       "1463.0                       NaN  03029106170000  "
      ]
     },
     "execution_count": 88,
     "metadata": {},
     "output_type": "execute_result"
    }
   ],
   "source": [
    "df_ave_fay = df_ave.copy()\n",
    "df_ave_fay.head()"
   ]
  },
  {
   "cell_type": "code",
   "execution_count": 84,
   "metadata": {
    "ExecuteTime": {
     "end_time": "2017-09-07T22:58:51.949363Z",
     "start_time": "2017-09-07T22:49:09.155108Z"
    }
   },
   "outputs": [
    {
     "name": "stdout",
     "output_type": "stream",
     "text": [
      "Index(['i_index', 'j_index', 'k_index', 'x_coord', 'y_coord', 'z_coord',\n",
      "       'DPHI_CALIB', 'PHISEP', 'UWI-index'],\n",
      "      dtype='object')\n",
      "13.909654 million cells in original model\n",
      "3526 wells have a cell assigned\n",
      "3684 wells have UWIs\n",
      "158 wells have no cell assigned\n",
      "10513490 cells left after filtering\n"
     ]
    },
    {
     "data": {
      "text/html": [
       "<div>\n",
       "<style>\n",
       "    .dataframe thead tr:only-child th {\n",
       "        text-align: right;\n",
       "    }\n",
       "\n",
       "    .dataframe thead th {\n",
       "        text-align: left;\n",
       "    }\n",
       "\n",
       "    .dataframe tbody tr th {\n",
       "        vertical-align: top;\n",
       "    }\n",
       "</style>\n",
       "<table border=\"1\" class=\"dataframe\">\n",
       "  <thead>\n",
       "    <tr style=\"text-align: right;\">\n",
       "      <th></th>\n",
       "      <th>DPHI_CALIB_mean_50around</th>\n",
       "      <th>DPHI_CALIB_mean_25-75above</th>\n",
       "      <th>DPHI_CALIB_median_50around</th>\n",
       "      <th>DPHI_CALIB_median_25-75above</th>\n",
       "      <th>PHISEP_mean_50around</th>\n",
       "      <th>PHISEP_mean_25-75above</th>\n",
       "      <th>PHISEP_median_50around</th>\n",
       "      <th>PHISEP_median_25-75above</th>\n",
       "    </tr>\n",
       "  </thead>\n",
       "  <tbody>\n",
       "    <tr>\n",
       "      <th>count</th>\n",
       "      <td>3065.000000</td>\n",
       "      <td>3012.000000</td>\n",
       "      <td>3065.000000</td>\n",
       "      <td>3012.000000</td>\n",
       "      <td>3065.000000</td>\n",
       "      <td>3012.000000</td>\n",
       "      <td>3065.000000</td>\n",
       "      <td>3012.000000</td>\n",
       "    </tr>\n",
       "    <tr>\n",
       "      <th>mean</th>\n",
       "      <td>0.079988</td>\n",
       "      <td>0.078116</td>\n",
       "      <td>0.080766</td>\n",
       "      <td>0.078977</td>\n",
       "      <td>0.031623</td>\n",
       "      <td>-0.017367</td>\n",
       "      <td>0.036059</td>\n",
       "      <td>0.014812</td>\n",
       "    </tr>\n",
       "    <tr>\n",
       "      <th>std</th>\n",
       "      <td>0.008183</td>\n",
       "      <td>0.010042</td>\n",
       "      <td>0.008189</td>\n",
       "      <td>0.010034</td>\n",
       "      <td>0.054548</td>\n",
       "      <td>0.516431</td>\n",
       "      <td>0.016668</td>\n",
       "      <td>0.480677</td>\n",
       "    </tr>\n",
       "    <tr>\n",
       "      <th>min</th>\n",
       "      <td>0.043540</td>\n",
       "      <td>0.023300</td>\n",
       "      <td>0.041217</td>\n",
       "      <td>0.023300</td>\n",
       "      <td>-1.599709</td>\n",
       "      <td>-22.970860</td>\n",
       "      <td>-0.018505</td>\n",
       "      <td>-22.970860</td>\n",
       "    </tr>\n",
       "    <tr>\n",
       "      <th>25%</th>\n",
       "      <td>0.074863</td>\n",
       "      <td>0.073447</td>\n",
       "      <td>0.075846</td>\n",
       "      <td>0.074698</td>\n",
       "      <td>0.024200</td>\n",
       "      <td>0.009510</td>\n",
       "      <td>0.025489</td>\n",
       "      <td>0.021545</td>\n",
       "    </tr>\n",
       "    <tr>\n",
       "      <th>50%</th>\n",
       "      <td>0.080782</td>\n",
       "      <td>0.079060</td>\n",
       "      <td>0.081591</td>\n",
       "      <td>0.080494</td>\n",
       "      <td>0.032273</td>\n",
       "      <td>0.028229</td>\n",
       "      <td>0.031210</td>\n",
       "      <td>0.030578</td>\n",
       "    </tr>\n",
       "    <tr>\n",
       "      <th>75%</th>\n",
       "      <td>0.085854</td>\n",
       "      <td>0.084662</td>\n",
       "      <td>0.086502</td>\n",
       "      <td>0.085728</td>\n",
       "      <td>0.045814</td>\n",
       "      <td>0.038379</td>\n",
       "      <td>0.045647</td>\n",
       "      <td>0.041349</td>\n",
       "    </tr>\n",
       "    <tr>\n",
       "      <th>max</th>\n",
       "      <td>0.110636</td>\n",
       "      <td>0.110376</td>\n",
       "      <td>0.109502</td>\n",
       "      <td>0.108192</td>\n",
       "      <td>0.129685</td>\n",
       "      <td>0.095910</td>\n",
       "      <td>0.141967</td>\n",
       "      <td>0.104702</td>\n",
       "    </tr>\n",
       "  </tbody>\n",
       "</table>\n",
       "</div>"
      ],
      "text/plain": [
       "       DPHI_CALIB_mean_50around  DPHI_CALIB_mean_25-75above  \\\n",
       "count               3065.000000                 3012.000000   \n",
       "mean                   0.079988                    0.078116   \n",
       "std                    0.008183                    0.010042   \n",
       "min                    0.043540                    0.023300   \n",
       "25%                    0.074863                    0.073447   \n",
       "50%                    0.080782                    0.079060   \n",
       "75%                    0.085854                    0.084662   \n",
       "max                    0.110636                    0.110376   \n",
       "\n",
       "       DPHI_CALIB_median_50around  DPHI_CALIB_median_25-75above  \\\n",
       "count                 3065.000000                   3012.000000   \n",
       "mean                     0.080766                      0.078977   \n",
       "std                      0.008189                      0.010034   \n",
       "min                      0.041217                      0.023300   \n",
       "25%                      0.075846                      0.074698   \n",
       "50%                      0.081591                      0.080494   \n",
       "75%                      0.086502                      0.085728   \n",
       "max                      0.109502                      0.108192   \n",
       "\n",
       "       PHISEP_mean_50around  PHISEP_mean_25-75above  PHISEP_median_50around  \\\n",
       "count           3065.000000             3012.000000             3065.000000   \n",
       "mean               0.031623               -0.017367                0.036059   \n",
       "std                0.054548                0.516431                0.016668   \n",
       "min               -1.599709              -22.970860               -0.018505   \n",
       "25%                0.024200                0.009510                0.025489   \n",
       "50%                0.032273                0.028229                0.031210   \n",
       "75%                0.045814                0.038379                0.045647   \n",
       "max                0.129685                0.095910                0.141967   \n",
       "\n",
       "       PHISEP_median_25-75above  \n",
       "count               3012.000000  \n",
       "mean                   0.014812  \n",
       "std                    0.480677  \n",
       "min                  -22.970860  \n",
       "25%                    0.021545  \n",
       "50%                    0.030578  \n",
       "75%                    0.041349  \n",
       "max                    0.104702  "
      ]
     },
     "execution_count": 84,
     "metadata": {},
     "output_type": "execute_result"
    }
   ],
   "source": [
    "fin = '/scratch/Haynesville_petrel/Attributes around midpoint.txt'\n",
    "df = read_text(fin)\n",
    "df.to_parquet('/scratch/Haynesville_petrel/parq')\n",
    "df = dd.read_parquet('/scratch/Haynesville_petrel/parq')\n",
    "\n",
    "print(df.columns)\n",
    "print(len(df)/1e6,'million cells in original model')\n",
    "\n",
    "df_midpoints = df.dropna(subset=['UWI-index']).compute()\n",
    "df_midpoints.to_pickle('/scratch/Haynesville_petrel/midpoints.pkl')\n",
    "print(len(df_midpoints),'wells have a cell assigned')\n",
    "\n",
    "UWI = pd.read_excel('/scratch/Haynesville_petrel/UWI-index.xlsx',converters={'Well identifier':str})\n",
    "#print(UWI.head(),'\\n')\n",
    "print(len(UWI),'wells have UWIs')\n",
    "\n",
    "x = UWI[~UWI['UWI-index'].isin(df_midpoints['UWI-index'])]\n",
    "print(len(x),'wells have no cell assigned')\n",
    "x.to_csv('/scratch/Haynesville_petrel/UWI_nocell.csv')\n",
    "\n",
    "df_ij = filter_cells(df,df_midpoints)\n",
    "print(len(df_ij),'cells left after filtering')\n",
    "\n",
    "df_ave = agg_cells(df_ij,df_midpoints,['DPHI_CALIB','PHISEP'])\n",
    "df_ave = assign_UWI(df_ave,UWI,'Well identifier')\n",
    "df_ave.to_excel('../Haynesville_data/attributes_around_midpoints.xlsx')\n",
    "\n",
    "df_ave.describe()"
   ]
  },
  {
   "cell_type": "code",
   "execution_count": 86,
   "metadata": {
    "ExecuteTime": {
     "end_time": "2017-09-07T23:02:24.056282Z",
     "start_time": "2017-09-07T23:02:24.050565Z"
    },
    "collapsed": true
   },
   "outputs": [],
   "source": [
    "df_ave_hay = df_ave.copy()"
   ]
  },
  {
   "cell_type": "code",
   "execution_count": 24,
   "metadata": {
    "ExecuteTime": {
     "end_time": "2017-09-07T21:31:10.327691Z",
     "start_time": "2017-09-07T21:31:10.254288Z"
    }
   },
   "outputs": [],
   "source": [
    "df_ij_big = (df[(df['i_index'].isin(df_midpoints['i_index'])) & \n",
    "              df['j_index'].isin(df_midpoints['j_index'])]\n",
    "             #.dropna(thresh=3)\n",
    "           )\n",
    "print(len(df_ij_big)/1e6,'million cells')\n",
    "#df_ij_big.to_parquet(\"/scratch/JulyMidland/\")"
   ]
  },
  {
   "cell_type": "code",
   "execution_count": 32,
   "metadata": {
    "ExecuteTime": {
     "end_time": "2017-09-07T21:41:33.573358Z",
     "start_time": "2017-09-07T21:35:33.330222Z"
    }
   },
   "outputs": [],
   "source": [
    "df_ij = (df_ij_big.compute()\n",
    "         .dropna(thresh=3)\n",
    "         .set_index(['i_index','j_index','k_index'])\n",
    "        .sort_index()\n",
    "        .loc[idx[df_midpoints['i_index'],df_midpoints['j_index'],:],]\n",
    "        )"
   ]
  },
  {
   "cell_type": "code",
   "execution_count": null,
   "metadata": {
    "collapsed": true
   },
   "outputs": [],
   "source": [
    "df_ave = pd.DataFrame(index=df_midpoints['UWI-index'].unique())\n",
    "for _,w in df_midpoints.iterrows():\n",
    "    cells = df_ij.loc[idx[w['i_index'],w['j_index'],:],]\n",
    "    for attr in ['DPHI_CALIB','PHISEP']:\n",
    "        for aggfunc in ['mean','median']:\n",
    "            column = attr+'_'+aggfunc+'_50around'\n",
    "            df_ave.loc[w['UWI-index'],column] = (cells\n",
    "                                                 .loc[abs(cells['z_coord']-w['z_coord'])<=50,attr]\n",
    "                                                 .agg(aggfunc)\n",
    "                                                )\n",
    "            column = attr+'_'+aggfunc+'_25-75above'\n",
    "            df_ave.loc[w['UWI-index'],column] = (cells\n",
    "                                                 .loc[abs(cells['z_coord']-w['z_coord']+50)<=25,attr]\n",
    "                                                 .agg(aggfunc)\n",
    "                                                )"
   ]
  },
  {
   "cell_type": "code",
   "execution_count": 59,
   "metadata": {
    "ExecuteTime": {
     "end_time": "2017-09-07T22:09:49.978020Z",
     "start_time": "2017-09-07T22:09:49.961541Z"
    }
   },
   "outputs": [],
   "source": [
    "df_ave['UWI']=(df_ave.index\n",
    "               .to_series()\n",
    "               .to_frame()\n",
    "               .join(UWI)\n",
    "               ['Well identifier']\n",
    "              )"
   ]
  },
  {
   "cell_type": "code",
   "execution_count": 63,
   "metadata": {
    "ExecuteTime": {
     "end_time": "2017-09-07T22:12:46.314525Z",
     "start_time": "2017-09-07T22:12:45.522983Z"
    },
    "collapsed": true
   },
   "outputs": [],
   "source": [
    "df_ave.to_excel('../Haynesville_data/phi_phisep_aroundwells.xlsx')"
   ]
  },
  {
   "cell_type": "code",
   "execution_count": 61,
   "metadata": {
    "ExecuteTime": {
     "end_time": "2017-09-07T22:10:36.420436Z",
     "start_time": "2017-09-07T22:10:36.378126Z"
    }
   },
   "outputs": [
    {
     "data": {
      "text/html": [
       "<div>\n",
       "<style>\n",
       "    .dataframe thead tr:only-child th {\n",
       "        text-align: right;\n",
       "    }\n",
       "\n",
       "    .dataframe thead th {\n",
       "        text-align: left;\n",
       "    }\n",
       "\n",
       "    .dataframe tbody tr th {\n",
       "        vertical-align: top;\n",
       "    }\n",
       "</style>\n",
       "<table border=\"1\" class=\"dataframe\">\n",
       "  <thead>\n",
       "    <tr style=\"text-align: right;\">\n",
       "      <th></th>\n",
       "      <th>DPHI_CALIB_mean_50around</th>\n",
       "      <th>DPHI_CALIB_mean_25-75above</th>\n",
       "      <th>DPHI_CALIB_median_50around</th>\n",
       "      <th>DPHI_CALIB_median_25-75above</th>\n",
       "      <th>PHISEP_mean_50around</th>\n",
       "      <th>PHISEP_mean_25-75above</th>\n",
       "      <th>PHISEP_median_50around</th>\n",
       "      <th>PHISEP_median_25-75above</th>\n",
       "      <th>UWI</th>\n",
       "    </tr>\n",
       "  </thead>\n",
       "  <tbody>\n",
       "    <tr>\n",
       "      <th>125.0</th>\n",
       "      <td>0.093440</td>\n",
       "      <td>0.065154</td>\n",
       "      <td>0.100936</td>\n",
       "      <td>0.065154</td>\n",
       "      <td>0.039029</td>\n",
       "      <td>0.000240</td>\n",
       "      <td>0.040372</td>\n",
       "      <td>0.000240</td>\n",
       "      <td>17013221450000</td>\n",
       "    </tr>\n",
       "    <tr>\n",
       "      <th>1495.0</th>\n",
       "      <td>0.063899</td>\n",
       "      <td>0.028701</td>\n",
       "      <td>0.070578</td>\n",
       "      <td>0.028701</td>\n",
       "      <td>-0.066648</td>\n",
       "      <td>-0.865005</td>\n",
       "      <td>0.024943</td>\n",
       "      <td>-0.865005</td>\n",
       "      <td>17031255220000</td>\n",
       "    </tr>\n",
       "    <tr>\n",
       "      <th>1224.0</th>\n",
       "      <td>0.070417</td>\n",
       "      <td>0.043232</td>\n",
       "      <td>0.074086</td>\n",
       "      <td>0.043232</td>\n",
       "      <td>-0.076793</td>\n",
       "      <td>-1.158937</td>\n",
       "      <td>0.032418</td>\n",
       "      <td>-1.158937</td>\n",
       "      <td>17031252110000</td>\n",
       "    </tr>\n",
       "    <tr>\n",
       "      <th>2011.0</th>\n",
       "      <td>0.084260</td>\n",
       "      <td>0.059994</td>\n",
       "      <td>0.086635</td>\n",
       "      <td>0.059994</td>\n",
       "      <td>-0.018278</td>\n",
       "      <td>-0.471792</td>\n",
       "      <td>0.028401</td>\n",
       "      <td>-0.471792</td>\n",
       "      <td>17031261890000</td>\n",
       "    </tr>\n",
       "    <tr>\n",
       "      <th>610.0</th>\n",
       "      <td>0.078507</td>\n",
       "      <td>0.044049</td>\n",
       "      <td>0.081494</td>\n",
       "      <td>0.044049</td>\n",
       "      <td>0.005837</td>\n",
       "      <td>-0.398400</td>\n",
       "      <td>0.042036</td>\n",
       "      <td>-0.398400</td>\n",
       "      <td>17017354130000</td>\n",
       "    </tr>\n",
       "  </tbody>\n",
       "</table>\n",
       "</div>"
      ],
      "text/plain": [
       "        DPHI_CALIB_mean_50around  DPHI_CALIB_mean_25-75above  \\\n",
       "125.0                   0.093440                    0.065154   \n",
       "1495.0                  0.063899                    0.028701   \n",
       "1224.0                  0.070417                    0.043232   \n",
       "2011.0                  0.084260                    0.059994   \n",
       "610.0                   0.078507                    0.044049   \n",
       "\n",
       "        DPHI_CALIB_median_50around  DPHI_CALIB_median_25-75above  \\\n",
       "125.0                     0.100936                      0.065154   \n",
       "1495.0                    0.070578                      0.028701   \n",
       "1224.0                    0.074086                      0.043232   \n",
       "2011.0                    0.086635                      0.059994   \n",
       "610.0                     0.081494                      0.044049   \n",
       "\n",
       "        PHISEP_mean_50around  PHISEP_mean_25-75above  PHISEP_median_50around  \\\n",
       "125.0               0.039029                0.000240                0.040372   \n",
       "1495.0             -0.066648               -0.865005                0.024943   \n",
       "1224.0             -0.076793               -1.158937                0.032418   \n",
       "2011.0             -0.018278               -0.471792                0.028401   \n",
       "610.0               0.005837               -0.398400                0.042036   \n",
       "\n",
       "        PHISEP_median_25-75above             UWI  \n",
       "125.0                   0.000240  17013221450000  \n",
       "1495.0                 -0.865005  17031255220000  \n",
       "1224.0                 -1.158937  17031252110000  \n",
       "2011.0                 -0.471792  17031261890000  \n",
       "610.0                  -0.398400  17017354130000  "
      ]
     },
     "execution_count": 61,
     "metadata": {},
     "output_type": "execute_result"
    }
   ],
   "source": [
    "df_ave.dropna().head()"
   ]
  },
  {
   "cell_type": "code",
   "execution_count": 62,
   "metadata": {
    "ExecuteTime": {
     "end_time": "2017-09-07T22:10:48.166039Z",
     "start_time": "2017-09-07T22:10:48.109622Z"
    }
   },
   "outputs": [
    {
     "data": {
      "text/html": [
       "<div>\n",
       "<style>\n",
       "    .dataframe thead tr:only-child th {\n",
       "        text-align: right;\n",
       "    }\n",
       "\n",
       "    .dataframe thead th {\n",
       "        text-align: left;\n",
       "    }\n",
       "\n",
       "    .dataframe tbody tr th {\n",
       "        vertical-align: top;\n",
       "    }\n",
       "</style>\n",
       "<table border=\"1\" class=\"dataframe\">\n",
       "  <thead>\n",
       "    <tr style=\"text-align: right;\">\n",
       "      <th></th>\n",
       "      <th>DPHI_CALIB_mean_50around</th>\n",
       "      <th>DPHI_CALIB_mean_25-75above</th>\n",
       "      <th>DPHI_CALIB_median_50around</th>\n",
       "      <th>DPHI_CALIB_median_25-75above</th>\n",
       "      <th>PHISEP_mean_50around</th>\n",
       "      <th>PHISEP_mean_25-75above</th>\n",
       "      <th>PHISEP_median_50around</th>\n",
       "      <th>PHISEP_median_25-75above</th>\n",
       "    </tr>\n",
       "  </thead>\n",
       "  <tbody>\n",
       "    <tr>\n",
       "      <th>count</th>\n",
       "      <td>3065.000000</td>\n",
       "      <td>3012.000000</td>\n",
       "      <td>3065.000000</td>\n",
       "      <td>3012.000000</td>\n",
       "      <td>3065.000000</td>\n",
       "      <td>3012.000000</td>\n",
       "      <td>3065.000000</td>\n",
       "      <td>3012.000000</td>\n",
       "    </tr>\n",
       "    <tr>\n",
       "      <th>mean</th>\n",
       "      <td>0.079988</td>\n",
       "      <td>0.078116</td>\n",
       "      <td>0.080766</td>\n",
       "      <td>0.078977</td>\n",
       "      <td>0.031623</td>\n",
       "      <td>-0.017367</td>\n",
       "      <td>0.036059</td>\n",
       "      <td>0.014812</td>\n",
       "    </tr>\n",
       "    <tr>\n",
       "      <th>std</th>\n",
       "      <td>0.008183</td>\n",
       "      <td>0.010042</td>\n",
       "      <td>0.008189</td>\n",
       "      <td>0.010034</td>\n",
       "      <td>0.054548</td>\n",
       "      <td>0.516431</td>\n",
       "      <td>0.016668</td>\n",
       "      <td>0.480677</td>\n",
       "    </tr>\n",
       "    <tr>\n",
       "      <th>min</th>\n",
       "      <td>0.043540</td>\n",
       "      <td>0.023300</td>\n",
       "      <td>0.041217</td>\n",
       "      <td>0.023300</td>\n",
       "      <td>-1.599709</td>\n",
       "      <td>-22.970860</td>\n",
       "      <td>-0.018505</td>\n",
       "      <td>-22.970860</td>\n",
       "    </tr>\n",
       "    <tr>\n",
       "      <th>25%</th>\n",
       "      <td>0.074863</td>\n",
       "      <td>0.073447</td>\n",
       "      <td>0.075846</td>\n",
       "      <td>0.074698</td>\n",
       "      <td>0.024200</td>\n",
       "      <td>0.009510</td>\n",
       "      <td>0.025489</td>\n",
       "      <td>0.021545</td>\n",
       "    </tr>\n",
       "    <tr>\n",
       "      <th>50%</th>\n",
       "      <td>0.080782</td>\n",
       "      <td>0.079060</td>\n",
       "      <td>0.081591</td>\n",
       "      <td>0.080494</td>\n",
       "      <td>0.032273</td>\n",
       "      <td>0.028229</td>\n",
       "      <td>0.031210</td>\n",
       "      <td>0.030578</td>\n",
       "    </tr>\n",
       "    <tr>\n",
       "      <th>75%</th>\n",
       "      <td>0.085854</td>\n",
       "      <td>0.084662</td>\n",
       "      <td>0.086502</td>\n",
       "      <td>0.085728</td>\n",
       "      <td>0.045814</td>\n",
       "      <td>0.038379</td>\n",
       "      <td>0.045647</td>\n",
       "      <td>0.041349</td>\n",
       "    </tr>\n",
       "    <tr>\n",
       "      <th>max</th>\n",
       "      <td>0.110636</td>\n",
       "      <td>0.110376</td>\n",
       "      <td>0.109502</td>\n",
       "      <td>0.108192</td>\n",
       "      <td>0.129685</td>\n",
       "      <td>0.095910</td>\n",
       "      <td>0.141967</td>\n",
       "      <td>0.104702</td>\n",
       "    </tr>\n",
       "  </tbody>\n",
       "</table>\n",
       "</div>"
      ],
      "text/plain": [
       "       DPHI_CALIB_mean_50around  DPHI_CALIB_mean_25-75above  \\\n",
       "count               3065.000000                 3012.000000   \n",
       "mean                   0.079988                    0.078116   \n",
       "std                    0.008183                    0.010042   \n",
       "min                    0.043540                    0.023300   \n",
       "25%                    0.074863                    0.073447   \n",
       "50%                    0.080782                    0.079060   \n",
       "75%                    0.085854                    0.084662   \n",
       "max                    0.110636                    0.110376   \n",
       "\n",
       "       DPHI_CALIB_median_50around  DPHI_CALIB_median_25-75above  \\\n",
       "count                 3065.000000                   3012.000000   \n",
       "mean                     0.080766                      0.078977   \n",
       "std                      0.008189                      0.010034   \n",
       "min                      0.041217                      0.023300   \n",
       "25%                      0.075846                      0.074698   \n",
       "50%                      0.081591                      0.080494   \n",
       "75%                      0.086502                      0.085728   \n",
       "max                      0.109502                      0.108192   \n",
       "\n",
       "       PHISEP_mean_50around  PHISEP_mean_25-75above  PHISEP_median_50around  \\\n",
       "count           3065.000000             3012.000000             3065.000000   \n",
       "mean               0.031623               -0.017367                0.036059   \n",
       "std                0.054548                0.516431                0.016668   \n",
       "min               -1.599709              -22.970860               -0.018505   \n",
       "25%                0.024200                0.009510                0.025489   \n",
       "50%                0.032273                0.028229                0.031210   \n",
       "75%                0.045814                0.038379                0.045647   \n",
       "max                0.129685                0.095910                0.141967   \n",
       "\n",
       "       PHISEP_median_25-75above  \n",
       "count               3012.000000  \n",
       "mean                   0.014812  \n",
       "std                    0.480677  \n",
       "min                  -22.970860  \n",
       "25%                    0.021545  \n",
       "50%                    0.030578  \n",
       "75%                    0.041349  \n",
       "max                    0.104702  "
      ]
     },
     "execution_count": 62,
     "metadata": {},
     "output_type": "execute_result"
    }
   ],
   "source": [
    "df_ave.describe()"
   ]
  },
  {
   "cell_type": "code",
   "execution_count": 26,
   "metadata": {
    "ExecuteTime": {
     "end_time": "2017-09-07T21:32:34.084011Z",
     "start_time": "2017-09-07T21:32:34.022688Z"
    },
    "scrolled": true
   },
   "outputs": [
    {
     "ename": "AttributeError",
     "evalue": "'DataFrame' object has no attribute 'iter_row_groups'",
     "output_type": "error",
     "traceback": [
      "\u001b[0;31m---------------------------------------------------------------------------\u001b[0m",
      "\u001b[0;31mAttributeError\u001b[0m                            Traceback (most recent call last)",
      "\u001b[0;32m<timed exec>\u001b[0m in \u001b[0;36m<module>\u001b[0;34m()\u001b[0m\n",
      "\u001b[0;32m~/anaconda3/lib/python3.6/site-packages/dask/dataframe/core.py\u001b[0m in \u001b[0;36m__getattr__\u001b[0;34m(self, key)\u001b[0m\n\u001b[1;32m   2168\u001b[0m             return new_dd_object(merge(self.dask, dsk), name,\n\u001b[1;32m   2169\u001b[0m                                  meta, self.divisions)\n\u001b[0;32m-> 2170\u001b[0;31m         \u001b[0;32mraise\u001b[0m \u001b[0mAttributeError\u001b[0m\u001b[0;34m(\u001b[0m\u001b[0;34m\"'DataFrame' object has no attribute %r\"\u001b[0m \u001b[0;34m%\u001b[0m \u001b[0mkey\u001b[0m\u001b[0;34m)\u001b[0m\u001b[0;34m\u001b[0m\u001b[0m\n\u001b[0m\u001b[1;32m   2171\u001b[0m \u001b[0;34m\u001b[0m\u001b[0m\n\u001b[1;32m   2172\u001b[0m     \u001b[0;32mdef\u001b[0m \u001b[0m__dir__\u001b[0m\u001b[0;34m(\u001b[0m\u001b[0mself\u001b[0m\u001b[0;34m)\u001b[0m\u001b[0;34m:\u001b[0m\u001b[0;34m\u001b[0m\u001b[0m\n",
      "\u001b[0;31mAttributeError\u001b[0m: 'DataFrame' object has no attribute 'iter_row_groups'"
     ]
    }
   ],
   "source": [
    "%%time\n",
    "idx=pd.IndexSlice\n",
    "df_ij = []\n",
    "n=0\n",
    "for dfp in df_ij_big.iter_row_groups():\n",
    "    print(n,'row groups down')\n",
    "    n+=1\n",
    "    df_ij.append(\n",
    "        dfp.dropna(thresh=3)\n",
    "        .set_index(['i_index','j_index','k_index'])\n",
    "        .sort_index()\n",
    "        .loc[idx[df_midpoints['i_index'],df_midpoints['j_index'],:],])"
   ]
  },
  {
   "cell_type": "code",
   "execution_count": 20,
   "metadata": {
    "collapsed": true
   },
   "outputs": [],
   "source": [
    "df_ij = pd.concat(df_ij)\n",
    "df_ij.to_hdf(\"/scratch/Facies-Sw-UWI-indexmatched.h5\",'/data')"
   ]
  },
  {
   "cell_type": "code",
   "execution_count": 28,
   "metadata": {
    "collapsed": true
   },
   "outputs": [],
   "source": [
    "df_ij=df_ij.dropna(thresh=3)"
   ]
  },
  {
   "cell_type": "code",
   "execution_count": 31,
   "metadata": {
    "collapsed": true
   },
   "outputs": [],
   "source": [
    "df_ij.to_hdf(\"/scratch/Facies-Sw-UWI-indexmatched.h5\",'/data')"
   ]
  },
  {
   "cell_type": "code",
   "execution_count": 32,
   "metadata": {},
   "outputs": [
    {
     "name": "stdout",
     "output_type": "stream",
     "text": [
      "15G\t/scratch/Facies-Sw-UWI-indexmatched.h5\r\n"
     ]
    }
   ],
   "source": [
    "!du -h /scratch/Facies-Sw-UWI-indexmatched.h5"
   ]
  },
  {
   "cell_type": "code",
   "execution_count": 30,
   "metadata": {},
   "outputs": [
    {
     "data": {
      "text/html": [
       "<div>\n",
       "<style>\n",
       "    .dataframe thead tr:only-child th {\n",
       "        text-align: right;\n",
       "    }\n",
       "\n",
       "    .dataframe thead th {\n",
       "        text-align: left;\n",
       "    }\n",
       "\n",
       "    .dataframe tbody tr th {\n",
       "        vertical-align: top;\n",
       "    }\n",
       "</style>\n",
       "<table border=\"1\" class=\"dataframe\">\n",
       "  <thead>\n",
       "    <tr style=\"text-align: right;\">\n",
       "      <th></th>\n",
       "      <th></th>\n",
       "      <th></th>\n",
       "      <th>x_coord</th>\n",
       "      <th>y_coord</th>\n",
       "      <th>z_coord</th>\n",
       "      <th>FACIES-indicatorkriging</th>\n",
       "      <th>SWTedit_01012017</th>\n",
       "      <th>UWI-index</th>\n",
       "    </tr>\n",
       "    <tr>\n",
       "      <th>i_index</th>\n",
       "      <th>j_index</th>\n",
       "      <th>k_index</th>\n",
       "      <th></th>\n",
       "      <th></th>\n",
       "      <th></th>\n",
       "      <th></th>\n",
       "      <th></th>\n",
       "      <th></th>\n",
       "    </tr>\n",
       "  </thead>\n",
       "  <tbody>\n",
       "    <tr>\n",
       "      <th rowspan=\"10\" valign=\"top\">72</th>\n",
       "      <th rowspan=\"10\" valign=\"top\">934</th>\n",
       "      <th>672</th>\n",
       "      <td>1.295290e+06</td>\n",
       "      <td>1.090436e+06</td>\n",
       "      <td>-7334.201355</td>\n",
       "      <td>1.0</td>\n",
       "      <td>0.583905</td>\n",
       "      <td>NaN</td>\n",
       "    </tr>\n",
       "    <tr>\n",
       "      <th>673</th>\n",
       "      <td>1.295290e+06</td>\n",
       "      <td>1.090436e+06</td>\n",
       "      <td>-7339.343079</td>\n",
       "      <td>1.0</td>\n",
       "      <td>0.618298</td>\n",
       "      <td>NaN</td>\n",
       "    </tr>\n",
       "    <tr>\n",
       "      <th>674</th>\n",
       "      <td>1.295290e+06</td>\n",
       "      <td>1.090436e+06</td>\n",
       "      <td>-7344.484924</td>\n",
       "      <td>1.0</td>\n",
       "      <td>0.588720</td>\n",
       "      <td>NaN</td>\n",
       "    </tr>\n",
       "    <tr>\n",
       "      <th>675</th>\n",
       "      <td>1.295290e+06</td>\n",
       "      <td>1.090436e+06</td>\n",
       "      <td>-7349.626709</td>\n",
       "      <td>1.0</td>\n",
       "      <td>0.587275</td>\n",
       "      <td>NaN</td>\n",
       "    </tr>\n",
       "    <tr>\n",
       "      <th>676</th>\n",
       "      <td>1.295290e+06</td>\n",
       "      <td>1.090436e+06</td>\n",
       "      <td>-7354.768433</td>\n",
       "      <td>1.0</td>\n",
       "      <td>0.547008</td>\n",
       "      <td>NaN</td>\n",
       "    </tr>\n",
       "    <tr>\n",
       "      <th>677</th>\n",
       "      <td>1.295290e+06</td>\n",
       "      <td>1.090436e+06</td>\n",
       "      <td>-7359.910217</td>\n",
       "      <td>1.0</td>\n",
       "      <td>0.534744</td>\n",
       "      <td>NaN</td>\n",
       "    </tr>\n",
       "    <tr>\n",
       "      <th>678</th>\n",
       "      <td>1.295290e+06</td>\n",
       "      <td>1.090436e+06</td>\n",
       "      <td>-7365.052002</td>\n",
       "      <td>1.0</td>\n",
       "      <td>0.528176</td>\n",
       "      <td>NaN</td>\n",
       "    </tr>\n",
       "    <tr>\n",
       "      <th>679</th>\n",
       "      <td>1.295290e+06</td>\n",
       "      <td>1.090436e+06</td>\n",
       "      <td>-7370.193787</td>\n",
       "      <td>1.0</td>\n",
       "      <td>0.560505</td>\n",
       "      <td>NaN</td>\n",
       "    </tr>\n",
       "    <tr>\n",
       "      <th>680</th>\n",
       "      <td>1.295290e+06</td>\n",
       "      <td>1.090436e+06</td>\n",
       "      <td>-7375.335571</td>\n",
       "      <td>1.0</td>\n",
       "      <td>0.585201</td>\n",
       "      <td>NaN</td>\n",
       "    </tr>\n",
       "    <tr>\n",
       "      <th>681</th>\n",
       "      <td>1.295290e+06</td>\n",
       "      <td>1.090436e+06</td>\n",
       "      <td>-7380.477356</td>\n",
       "      <td>1.0</td>\n",
       "      <td>0.616421</td>\n",
       "      <td>NaN</td>\n",
       "    </tr>\n",
       "  </tbody>\n",
       "</table>\n",
       "</div>"
      ],
      "text/plain": [
       "                              x_coord       y_coord      z_coord  \\\n",
       "i_index j_index k_index                                            \n",
       "72      934     672      1.295290e+06  1.090436e+06 -7334.201355   \n",
       "                673      1.295290e+06  1.090436e+06 -7339.343079   \n",
       "                674      1.295290e+06  1.090436e+06 -7344.484924   \n",
       "                675      1.295290e+06  1.090436e+06 -7349.626709   \n",
       "                676      1.295290e+06  1.090436e+06 -7354.768433   \n",
       "                677      1.295290e+06  1.090436e+06 -7359.910217   \n",
       "                678      1.295290e+06  1.090436e+06 -7365.052002   \n",
       "                679      1.295290e+06  1.090436e+06 -7370.193787   \n",
       "                680      1.295290e+06  1.090436e+06 -7375.335571   \n",
       "                681      1.295290e+06  1.090436e+06 -7380.477356   \n",
       "\n",
       "                         FACIES-indicatorkriging  SWTedit_01012017  UWI-index  \n",
       "i_index j_index k_index                                                        \n",
       "72      934     672                          1.0          0.583905        NaN  \n",
       "                673                          1.0          0.618298        NaN  \n",
       "                674                          1.0          0.588720        NaN  \n",
       "                675                          1.0          0.587275        NaN  \n",
       "                676                          1.0          0.547008        NaN  \n",
       "                677                          1.0          0.534744        NaN  \n",
       "                678                          1.0          0.528176        NaN  \n",
       "                679                          1.0          0.560505        NaN  \n",
       "                680                          1.0          0.585201        NaN  \n",
       "                681                          1.0          0.616421        NaN  "
      ]
     },
     "execution_count": 30,
     "metadata": {},
     "output_type": "execute_result"
    }
   ],
   "source": [
    "df_ij.head(10)"
   ]
  },
  {
   "cell_type": "code",
   "execution_count": 41,
   "metadata": {},
   "outputs": [
    {
     "name": "stdout",
     "output_type": "stream",
     "text": [
      "CPU times: user 53min 49s, sys: 8min 25s, total: 1h 2min 15s\n",
      "Wall time: 1h 2min 17s\n"
     ]
    }
   ],
   "source": [
    "%%time\n",
    "df_out = []\n",
    "\n",
    "for _,(i,j,z) in df_midpoints[['i_index','j_index','z_coord']].iterrows():\n",
    "    ijmatch = df_ij.loc[idx[i,j,:]]\n",
    "    \n",
    "    df_out.append(\n",
    "        ijmatch[abs(ijmatch['z_coord']-z)<1000]\n",
    "    )\n",
    "    #break\n",
    "df_out=pd.concat(df_out)"
   ]
  },
  {
   "cell_type": "code",
   "execution_count": 46,
   "metadata": {},
   "outputs": [
    {
     "name": "stdout",
     "output_type": "stream",
     "text": [
      "1.814553\n"
     ]
    }
   ],
   "source": [
    "print(len(df_out)/1e6)\n",
    "df_out.to_pickle('/scratch/Facies-Sw-UWI-indexmatched.pkl')"
   ]
  },
  {
   "cell_type": "code",
   "execution_count": 50,
   "metadata": {
    "collapsed": true
   },
   "outputs": [],
   "source": [
    "df_out['x_index']=pd.Categorical(df_out['x_coord']).codes\n",
    "df_out['y_index']=pd.Categorical(df_out['y_coord']).codes"
   ]
  },
  {
   "cell_type": "code",
   "execution_count": 52,
   "metadata": {},
   "outputs": [
    {
     "data": {
      "text/html": [
       "<div>\n",
       "<style>\n",
       "    .dataframe thead tr:only-child th {\n",
       "        text-align: right;\n",
       "    }\n",
       "\n",
       "    .dataframe thead th {\n",
       "        text-align: left;\n",
       "    }\n",
       "\n",
       "    .dataframe tbody tr th {\n",
       "        vertical-align: top;\n",
       "    }\n",
       "</style>\n",
       "<table border=\"1\" class=\"dataframe\">\n",
       "  <thead>\n",
       "    <tr style=\"text-align: right;\">\n",
       "      <th></th>\n",
       "      <th>x_coord</th>\n",
       "      <th>y_coord</th>\n",
       "      <th>z_coord</th>\n",
       "      <th>FACIES-indicatorkriging</th>\n",
       "      <th>SWTedit_01012017</th>\n",
       "      <th>UWI-index</th>\n",
       "      <th>x_index</th>\n",
       "      <th>y_index</th>\n",
       "    </tr>\n",
       "  </thead>\n",
       "  <tbody>\n",
       "    <tr>\n",
       "      <th>count</th>\n",
       "      <td>1.814553e+06</td>\n",
       "      <td>1.814553e+06</td>\n",
       "      <td>1.814553e+06</td>\n",
       "      <td>1.807449e+06</td>\n",
       "      <td>1.807449e+06</td>\n",
       "      <td>7753.000000</td>\n",
       "      <td>1.814553e+06</td>\n",
       "      <td>1.814553e+06</td>\n",
       "    </tr>\n",
       "    <tr>\n",
       "      <th>mean</th>\n",
       "      <td>1.565640e+06</td>\n",
       "      <td>7.295169e+05</td>\n",
       "      <td>-5.650488e+03</td>\n",
       "      <td>1.579591e+00</td>\n",
       "      <td>6.990384e-01</td>\n",
       "      <td>2824.329571</td>\n",
       "      <td>2.721131e+02</td>\n",
       "      <td>3.676608e+02</td>\n",
       "    </tr>\n",
       "    <tr>\n",
       "      <th>std</th>\n",
       "      <td>1.217664e+05</td>\n",
       "      <td>1.670312e+05</td>\n",
       "      <td>1.319497e+03</td>\n",
       "      <td>6.307970e-01</td>\n",
       "      <td>1.569517e-01</td>\n",
       "      <td>1562.662298</td>\n",
       "      <td>1.614236e+02</td>\n",
       "      <td>2.073801e+02</td>\n",
       "    </tr>\n",
       "    <tr>\n",
       "      <th>min</th>\n",
       "      <td>1.295290e+06</td>\n",
       "      <td>4.169360e+05</td>\n",
       "      <td>-9.069318e+03</td>\n",
       "      <td>1.000000e+00</td>\n",
       "      <td>1.052340e-01</td>\n",
       "      <td>1.000000</td>\n",
       "      <td>0.000000e+00</td>\n",
       "      <td>0.000000e+00</td>\n",
       "    </tr>\n",
       "    <tr>\n",
       "      <th>25%</th>\n",
       "      <td>1.452040e+06</td>\n",
       "      <td>5.826860e+05</td>\n",
       "      <td>-6.801980e+03</td>\n",
       "      <td>1.000000e+00</td>\n",
       "      <td>5.820550e-01</td>\n",
       "      <td>1432.000000</td>\n",
       "      <td>1.210000e+02</td>\n",
       "      <td>1.820000e+02</td>\n",
       "    </tr>\n",
       "    <tr>\n",
       "      <th>50%</th>\n",
       "      <td>1.545790e+06</td>\n",
       "      <td>7.289360e+05</td>\n",
       "      <td>-5.839134e+03</td>\n",
       "      <td>2.000000e+00</td>\n",
       "      <td>7.111820e-01</td>\n",
       "      <td>2931.000000</td>\n",
       "      <td>2.460000e+02</td>\n",
       "      <td>3.700000e+02</td>\n",
       "    </tr>\n",
       "    <tr>\n",
       "      <th>75%</th>\n",
       "      <td>1.664290e+06</td>\n",
       "      <td>8.451860e+05</td>\n",
       "      <td>-4.632908e+03</td>\n",
       "      <td>2.000000e+00</td>\n",
       "      <td>8.260500e-01</td>\n",
       "      <td>4154.000000</td>\n",
       "      <td>4.030000e+02</td>\n",
       "      <td>5.230000e+02</td>\n",
       "    </tr>\n",
       "    <tr>\n",
       "      <th>max</th>\n",
       "      <td>1.943290e+06</td>\n",
       "      <td>1.445936e+06</td>\n",
       "      <td>-1.197547e+03</td>\n",
       "      <td>3.000000e+00</td>\n",
       "      <td>9.998840e-01</td>\n",
       "      <td>5542.000000</td>\n",
       "      <td>6.100000e+02</td>\n",
       "      <td>8.550000e+02</td>\n",
       "    </tr>\n",
       "  </tbody>\n",
       "</table>\n",
       "</div>"
      ],
      "text/plain": [
       "            x_coord       y_coord       z_coord  FACIES-indicatorkriging  \\\n",
       "count  1.814553e+06  1.814553e+06  1.814553e+06             1.807449e+06   \n",
       "mean   1.565640e+06  7.295169e+05 -5.650488e+03             1.579591e+00   \n",
       "std    1.217664e+05  1.670312e+05  1.319497e+03             6.307970e-01   \n",
       "min    1.295290e+06  4.169360e+05 -9.069318e+03             1.000000e+00   \n",
       "25%    1.452040e+06  5.826860e+05 -6.801980e+03             1.000000e+00   \n",
       "50%    1.545790e+06  7.289360e+05 -5.839134e+03             2.000000e+00   \n",
       "75%    1.664290e+06  8.451860e+05 -4.632908e+03             2.000000e+00   \n",
       "max    1.943290e+06  1.445936e+06 -1.197547e+03             3.000000e+00   \n",
       "\n",
       "       SWTedit_01012017    UWI-index       x_index       y_index  \n",
       "count      1.807449e+06  7753.000000  1.814553e+06  1.814553e+06  \n",
       "mean       6.990384e-01  2824.329571  2.721131e+02  3.676608e+02  \n",
       "std        1.569517e-01  1562.662298  1.614236e+02  2.073801e+02  \n",
       "min        1.052340e-01     1.000000  0.000000e+00  0.000000e+00  \n",
       "25%        5.820550e-01  1432.000000  1.210000e+02  1.820000e+02  \n",
       "50%        7.111820e-01  2931.000000  2.460000e+02  3.700000e+02  \n",
       "75%        8.260500e-01  4154.000000  4.030000e+02  5.230000e+02  \n",
       "max        9.998840e-01  5542.000000  6.100000e+02  8.550000e+02  "
      ]
     },
     "execution_count": 52,
     "metadata": {},
     "output_type": "execute_result"
    }
   ],
   "source": [
    "df_out.describe()"
   ]
  },
  {
   "cell_type": "code",
   "execution_count": 53,
   "metadata": {
    "collapsed": true
   },
   "outputs": [],
   "source": [
    "df_out.to_pickle('/scratch/Facies-Sw-UWI-indexmatched.pkl')"
   ]
  },
  {
   "cell_type": "code",
   "execution_count": 59,
   "metadata": {
    "scrolled": true
   },
   "outputs": [
    {
     "ename": "KeyboardInterrupt",
     "evalue": "",
     "output_type": "error",
     "traceback": [
      "\u001b[0;31m---------------------------------------------------------------------------\u001b[0m",
      "\u001b[0;31mKeyboardInterrupt\u001b[0m                         Traceback (most recent call last)",
      "\u001b[0;32m<timed exec>\u001b[0m in \u001b[0;36m<module>\u001b[0;34m()\u001b[0m\n",
      "\u001b[0;32m~/anaconda3/lib/python3.6/site-packages/dask/base.py\u001b[0m in \u001b[0;36mcompute\u001b[0;34m(self, **kwargs)\u001b[0m\n\u001b[1;32m     95\u001b[0m             \u001b[0mExtra\u001b[0m \u001b[0mkeywords\u001b[0m \u001b[0mto\u001b[0m \u001b[0mforward\u001b[0m \u001b[0mto\u001b[0m \u001b[0mthe\u001b[0m \u001b[0mscheduler\u001b[0m\u001b[0;31m \u001b[0m\u001b[0;31m`\u001b[0m\u001b[0;31m`\u001b[0m\u001b[0mget\u001b[0m\u001b[0;31m`\u001b[0m\u001b[0;31m`\u001b[0m \u001b[0mfunction\u001b[0m\u001b[0;34m.\u001b[0m\u001b[0;34m\u001b[0m\u001b[0m\n\u001b[1;32m     96\u001b[0m         \"\"\"\n\u001b[0;32m---> 97\u001b[0;31m         \u001b[0;34m(\u001b[0m\u001b[0mresult\u001b[0m\u001b[0;34m,\u001b[0m\u001b[0;34m)\u001b[0m \u001b[0;34m=\u001b[0m \u001b[0mcompute\u001b[0m\u001b[0;34m(\u001b[0m\u001b[0mself\u001b[0m\u001b[0;34m,\u001b[0m \u001b[0mtraverse\u001b[0m\u001b[0;34m=\u001b[0m\u001b[0;32mFalse\u001b[0m\u001b[0;34m,\u001b[0m \u001b[0;34m**\u001b[0m\u001b[0mkwargs\u001b[0m\u001b[0;34m)\u001b[0m\u001b[0;34m\u001b[0m\u001b[0m\n\u001b[0m\u001b[1;32m     98\u001b[0m         \u001b[0;32mreturn\u001b[0m \u001b[0mresult\u001b[0m\u001b[0;34m\u001b[0m\u001b[0m\n\u001b[1;32m     99\u001b[0m \u001b[0;34m\u001b[0m\u001b[0m\n",
      "\u001b[0;32m~/anaconda3/lib/python3.6/site-packages/dask/base.py\u001b[0m in \u001b[0;36mcompute\u001b[0;34m(*args, **kwargs)\u001b[0m\n\u001b[1;32m    202\u001b[0m     \u001b[0mdsk\u001b[0m \u001b[0;34m=\u001b[0m \u001b[0mcollections_to_dsk\u001b[0m\u001b[0;34m(\u001b[0m\u001b[0mvariables\u001b[0m\u001b[0;34m,\u001b[0m \u001b[0moptimize_graph\u001b[0m\u001b[0;34m,\u001b[0m \u001b[0;34m**\u001b[0m\u001b[0mkwargs\u001b[0m\u001b[0;34m)\u001b[0m\u001b[0;34m\u001b[0m\u001b[0m\n\u001b[1;32m    203\u001b[0m     \u001b[0mkeys\u001b[0m \u001b[0;34m=\u001b[0m \u001b[0;34m[\u001b[0m\u001b[0mvar\u001b[0m\u001b[0;34m.\u001b[0m\u001b[0m_keys\u001b[0m\u001b[0;34m(\u001b[0m\u001b[0;34m)\u001b[0m \u001b[0;32mfor\u001b[0m \u001b[0mvar\u001b[0m \u001b[0;32min\u001b[0m \u001b[0mvariables\u001b[0m\u001b[0;34m]\u001b[0m\u001b[0;34m\u001b[0m\u001b[0m\n\u001b[0;32m--> 204\u001b[0;31m     \u001b[0mresults\u001b[0m \u001b[0;34m=\u001b[0m \u001b[0mget\u001b[0m\u001b[0;34m(\u001b[0m\u001b[0mdsk\u001b[0m\u001b[0;34m,\u001b[0m \u001b[0mkeys\u001b[0m\u001b[0;34m,\u001b[0m \u001b[0;34m**\u001b[0m\u001b[0mkwargs\u001b[0m\u001b[0;34m)\u001b[0m\u001b[0;34m\u001b[0m\u001b[0m\n\u001b[0m\u001b[1;32m    205\u001b[0m \u001b[0;34m\u001b[0m\u001b[0m\n\u001b[1;32m    206\u001b[0m     \u001b[0mresults_iter\u001b[0m \u001b[0;34m=\u001b[0m \u001b[0miter\u001b[0m\u001b[0;34m(\u001b[0m\u001b[0mresults\u001b[0m\u001b[0;34m)\u001b[0m\u001b[0;34m\u001b[0m\u001b[0m\n",
      "\u001b[0;32m~/anaconda3/lib/python3.6/site-packages/dask/threaded.py\u001b[0m in \u001b[0;36mget\u001b[0;34m(dsk, result, cache, num_workers, **kwargs)\u001b[0m\n\u001b[1;32m     73\u001b[0m     results = get_async(pool.apply_async, len(pool._pool), dsk, result,\n\u001b[1;32m     74\u001b[0m                         \u001b[0mcache\u001b[0m\u001b[0;34m=\u001b[0m\u001b[0mcache\u001b[0m\u001b[0;34m,\u001b[0m \u001b[0mget_id\u001b[0m\u001b[0;34m=\u001b[0m\u001b[0m_thread_get_id\u001b[0m\u001b[0;34m,\u001b[0m\u001b[0;34m\u001b[0m\u001b[0m\n\u001b[0;32m---> 75\u001b[0;31m                         pack_exception=pack_exception, **kwargs)\n\u001b[0m\u001b[1;32m     76\u001b[0m \u001b[0;34m\u001b[0m\u001b[0m\n\u001b[1;32m     77\u001b[0m     \u001b[0;31m# Cleanup pools associated to dead threads\u001b[0m\u001b[0;34m\u001b[0m\u001b[0;34m\u001b[0m\u001b[0m\n",
      "\u001b[0;32m~/anaconda3/lib/python3.6/site-packages/dask/local.py\u001b[0m in \u001b[0;36mget_async\u001b[0;34m(apply_async, num_workers, dsk, result, cache, get_id, rerun_exceptions_locally, pack_exception, raise_exception, callbacks, dumps, loads, **kwargs)\u001b[0m\n\u001b[1;32m    510\u001b[0m             \u001b[0;31m# Main loop, wait on tasks to finish, insert new ones\u001b[0m\u001b[0;34m\u001b[0m\u001b[0;34m\u001b[0m\u001b[0m\n\u001b[1;32m    511\u001b[0m             \u001b[0;32mwhile\u001b[0m \u001b[0mstate\u001b[0m\u001b[0;34m[\u001b[0m\u001b[0;34m'waiting'\u001b[0m\u001b[0;34m]\u001b[0m \u001b[0;32mor\u001b[0m \u001b[0mstate\u001b[0m\u001b[0;34m[\u001b[0m\u001b[0;34m'ready'\u001b[0m\u001b[0;34m]\u001b[0m \u001b[0;32mor\u001b[0m \u001b[0mstate\u001b[0m\u001b[0;34m[\u001b[0m\u001b[0;34m'running'\u001b[0m\u001b[0;34m]\u001b[0m\u001b[0;34m:\u001b[0m\u001b[0;34m\u001b[0m\u001b[0m\n\u001b[0;32m--> 512\u001b[0;31m                 \u001b[0mkey\u001b[0m\u001b[0;34m,\u001b[0m \u001b[0mres_info\u001b[0m\u001b[0;34m,\u001b[0m \u001b[0mfailed\u001b[0m \u001b[0;34m=\u001b[0m \u001b[0mqueue_get\u001b[0m\u001b[0;34m(\u001b[0m\u001b[0mqueue\u001b[0m\u001b[0;34m)\u001b[0m\u001b[0;34m\u001b[0m\u001b[0m\n\u001b[0m\u001b[1;32m    513\u001b[0m                 \u001b[0;32mif\u001b[0m \u001b[0mfailed\u001b[0m\u001b[0;34m:\u001b[0m\u001b[0;34m\u001b[0m\u001b[0m\n\u001b[1;32m    514\u001b[0m                     \u001b[0mexc\u001b[0m\u001b[0;34m,\u001b[0m \u001b[0mtb\u001b[0m \u001b[0;34m=\u001b[0m \u001b[0mloads\u001b[0m\u001b[0;34m(\u001b[0m\u001b[0mres_info\u001b[0m\u001b[0;34m)\u001b[0m\u001b[0;34m\u001b[0m\u001b[0m\n",
      "\u001b[0;32m~/anaconda3/lib/python3.6/site-packages/dask/local.py\u001b[0m in \u001b[0;36mqueue_get\u001b[0;34m(q)\u001b[0m\n\u001b[1;32m    149\u001b[0m \u001b[0;32melse\u001b[0m\u001b[0;34m:\u001b[0m\u001b[0;34m\u001b[0m\u001b[0m\n\u001b[1;32m    150\u001b[0m     \u001b[0;32mdef\u001b[0m \u001b[0mqueue_get\u001b[0m\u001b[0;34m(\u001b[0m\u001b[0mq\u001b[0m\u001b[0;34m)\u001b[0m\u001b[0;34m:\u001b[0m\u001b[0;34m\u001b[0m\u001b[0m\n\u001b[0;32m--> 151\u001b[0;31m         \u001b[0;32mreturn\u001b[0m \u001b[0mq\u001b[0m\u001b[0;34m.\u001b[0m\u001b[0mget\u001b[0m\u001b[0;34m(\u001b[0m\u001b[0;34m)\u001b[0m\u001b[0;34m\u001b[0m\u001b[0m\n\u001b[0m\u001b[1;32m    152\u001b[0m \u001b[0;34m\u001b[0m\u001b[0m\n\u001b[1;32m    153\u001b[0m \u001b[0;34m\u001b[0m\u001b[0m\n",
      "\u001b[0;32m~/anaconda3/lib/python3.6/queue.py\u001b[0m in \u001b[0;36mget\u001b[0;34m(self, block, timeout)\u001b[0m\n\u001b[1;32m    162\u001b[0m             \u001b[0;32melif\u001b[0m \u001b[0mtimeout\u001b[0m \u001b[0;32mis\u001b[0m \u001b[0;32mNone\u001b[0m\u001b[0;34m:\u001b[0m\u001b[0;34m\u001b[0m\u001b[0m\n\u001b[1;32m    163\u001b[0m                 \u001b[0;32mwhile\u001b[0m \u001b[0;32mnot\u001b[0m \u001b[0mself\u001b[0m\u001b[0;34m.\u001b[0m\u001b[0m_qsize\u001b[0m\u001b[0;34m(\u001b[0m\u001b[0;34m)\u001b[0m\u001b[0;34m:\u001b[0m\u001b[0;34m\u001b[0m\u001b[0m\n\u001b[0;32m--> 164\u001b[0;31m                     \u001b[0mself\u001b[0m\u001b[0;34m.\u001b[0m\u001b[0mnot_empty\u001b[0m\u001b[0;34m.\u001b[0m\u001b[0mwait\u001b[0m\u001b[0;34m(\u001b[0m\u001b[0;34m)\u001b[0m\u001b[0;34m\u001b[0m\u001b[0m\n\u001b[0m\u001b[1;32m    165\u001b[0m             \u001b[0;32melif\u001b[0m \u001b[0mtimeout\u001b[0m \u001b[0;34m<\u001b[0m \u001b[0;36m0\u001b[0m\u001b[0;34m:\u001b[0m\u001b[0;34m\u001b[0m\u001b[0m\n\u001b[1;32m    166\u001b[0m                 \u001b[0;32mraise\u001b[0m \u001b[0mValueError\u001b[0m\u001b[0;34m(\u001b[0m\u001b[0;34m\"'timeout' must be a non-negative number\"\u001b[0m\u001b[0;34m)\u001b[0m\u001b[0;34m\u001b[0m\u001b[0m\n",
      "\u001b[0;32m~/anaconda3/lib/python3.6/threading.py\u001b[0m in \u001b[0;36mwait\u001b[0;34m(self, timeout)\u001b[0m\n\u001b[1;32m    293\u001b[0m         \u001b[0;32mtry\u001b[0m\u001b[0;34m:\u001b[0m    \u001b[0;31m# restore state no matter what (e.g., KeyboardInterrupt)\u001b[0m\u001b[0;34m\u001b[0m\u001b[0m\n\u001b[1;32m    294\u001b[0m             \u001b[0;32mif\u001b[0m \u001b[0mtimeout\u001b[0m \u001b[0;32mis\u001b[0m \u001b[0;32mNone\u001b[0m\u001b[0;34m:\u001b[0m\u001b[0;34m\u001b[0m\u001b[0m\n\u001b[0;32m--> 295\u001b[0;31m                 \u001b[0mwaiter\u001b[0m\u001b[0;34m.\u001b[0m\u001b[0macquire\u001b[0m\u001b[0;34m(\u001b[0m\u001b[0;34m)\u001b[0m\u001b[0;34m\u001b[0m\u001b[0m\n\u001b[0m\u001b[1;32m    296\u001b[0m                 \u001b[0mgotit\u001b[0m \u001b[0;34m=\u001b[0m \u001b[0;32mTrue\u001b[0m\u001b[0;34m\u001b[0m\u001b[0m\n\u001b[1;32m    297\u001b[0m             \u001b[0;32melse\u001b[0m\u001b[0;34m:\u001b[0m\u001b[0;34m\u001b[0m\u001b[0m\n",
      "\u001b[0;31mKeyboardInterrupt\u001b[0m: "
     ]
    }
   ],
   "source": [
    "%%time\n",
    "df_ij = []\n",
    "for _,(i,j) in df_midpoints[[\"i_index\",\"j_index\"]].iterrows():\n",
    "    df_ij.append(\n",
    "        df_ij_big[(df_ij_big['i_index']==i) &\n",
    "                 (df_ij_big['j_index']==j)]\n",
    "        .compute()\n",
    "    )\n",
    "    \n",
    "df_ij = pd.concat(df_ij)"
   ]
  },
  {
   "cell_type": "code",
   "execution_count": 53,
   "metadata": {},
   "outputs": [
    {
     "data": {
      "text/plain": [
       "413"
      ]
     },
     "execution_count": 53,
     "metadata": {},
     "output_type": "execute_result"
    }
   ],
   "source": [
    "len(df_ij)"
   ]
  },
  {
   "cell_type": "code",
   "execution_count": 19,
   "metadata": {
    "collapsed": true
   },
   "outputs": [],
   "source": [
    "df_ij_big = (df[(df['i_index'].isin(df_midpoints['i_index'])) & \n",
    "              df['j_index'].isin(df_midpoints['j_index'])]\n",
    "            .compute()\n",
    "           )\n",
    "df_ij = []\n",
    "s = len(df_i_big)\n",
    "for i in range(8):\n",
    "    df_i_big.iloc[i*s//8:(i+1)*s//8].to_pickle('/scratch/TORA_July2017_df_i_big-{}.pkl'.format(i))"
   ]
  },
  {
   "cell_type": "code",
   "execution_count": 40,
   "metadata": {},
   "outputs": [
    {
     "name": "stdout",
     "output_type": "stream",
     "text": [
      "CPU times: user 1h 18min 25s, sys: 8min 40s, total: 1h 27min 6s\n",
      "Wall time: 1h 27min 4s\n"
     ]
    }
   ],
   "source": [
    "%%time\n",
    "chunk = !ls /scratch/TORA_July2017_df_i_big-*.pkl\n",
    "df_ij=[]\n",
    "for f in chunk:\n",
    "    print(\"starting chunk\",f)\n",
    "    r = pd.read_pickle(f)\n",
    "    for _,(i,j) in df_midpoints[[\"i_index\",\"j_index\"]].iterrows():\n",
    "        df_ij.append(\n",
    "                    r[(r['i_index']==i) &\n",
    "                         (r['j_index']==j)]\n",
    "        )\n",
    "df_ij = pd.concat(df_ij)"
   ]
  },
  {
   "cell_type": "markdown",
   "metadata": {},
   "source": [
    "%%time\n",
    "df_ij = []\n",
    "for _,(i,j) in df_midpoints[[\"i_index\",\"j_index\"]].iterrows():\n",
    "    df_ij.append(\n",
    "        df_ij_big[(df_ij_big['i_index']==i) &\n",
    "                 (df_ij_big['j_index']==j)]\n",
    "        .compute()\n",
    "    )\n",
    "    break"
   ]
  },
  {
   "cell_type": "code",
   "execution_count": 43,
   "metadata": {},
   "outputs": [
    {
     "name": "stdout",
     "output_type": "stream",
     "text": [
      "539M\t/scratch/TORA_July2017_ijUWI.pkl\r\n"
     ]
    }
   ],
   "source": [
    "df_ij.to_pickle('/scratch/TORA_July2017_ijUWI.pkl')\n",
    "!du -h \"/scratch/TORA_July2017_ijUWI.pkl\""
   ]
  },
  {
   "cell_type": "code",
   "execution_count": 44,
   "metadata": {},
   "outputs": [
    {
     "data": {
      "text/html": [
       "<div>\n",
       "<style>\n",
       "    .dataframe thead tr:only-child th {\n",
       "        text-align: right;\n",
       "    }\n",
       "\n",
       "    .dataframe thead th {\n",
       "        text-align: left;\n",
       "    }\n",
       "\n",
       "    .dataframe tbody tr th {\n",
       "        vertical-align: top;\n",
       "    }\n",
       "</style>\n",
       "<table border=\"1\" class=\"dataframe\">\n",
       "  <thead>\n",
       "    <tr style=\"text-align: right;\">\n",
       "      <th></th>\n",
       "      <th>i_index</th>\n",
       "      <th>j_index</th>\n",
       "      <th>k_index</th>\n",
       "      <th>x_coord</th>\n",
       "      <th>y_coord</th>\n",
       "      <th>z_coord</th>\n",
       "      <th>FACIES-indicatorkriging</th>\n",
       "      <th>PHIT_01042017</th>\n",
       "      <th>SWTedit_01012017</th>\n",
       "      <th>APIgravity</th>\n",
       "      <th>Bulkvolume</th>\n",
       "      <th>Depth_to_surface</th>\n",
       "      <th>Pressure</th>\n",
       "      <th>OOIP</th>\n",
       "      <th>Mainzones</th>\n",
       "      <th>Cellheight</th>\n",
       "      <th>UWI</th>\n",
       "      <th>null</th>\n",
       "    </tr>\n",
       "  </thead>\n",
       "  <tbody>\n",
       "    <tr>\n",
       "      <th>62119</th>\n",
       "      <td>695</td>\n",
       "      <td>66</td>\n",
       "      <td>682</td>\n",
       "      <td>1.762540e+06</td>\n",
       "      <td>439435.965078</td>\n",
       "      <td>-7731.033203</td>\n",
       "      <td>NaN</td>\n",
       "      <td>NaN</td>\n",
       "      <td>NaN</td>\n",
       "      <td>40.000000</td>\n",
       "      <td>2.552598e+09</td>\n",
       "      <td>8502.433594</td>\n",
       "      <td>NaN</td>\n",
       "      <td>NaN</td>\n",
       "      <td>11.0</td>\n",
       "      <td>4537.933594</td>\n",
       "      <td>210540800.0</td>\n",
       "      <td>NaN</td>\n",
       "    </tr>\n",
       "    <tr>\n",
       "      <th>133015</th>\n",
       "      <td>695</td>\n",
       "      <td>66</td>\n",
       "      <td>681</td>\n",
       "      <td>1.762540e+06</td>\n",
       "      <td>439435.965078</td>\n",
       "      <td>-5459.508789</td>\n",
       "      <td>2.0</td>\n",
       "      <td>0.064282</td>\n",
       "      <td>0.645043</td>\n",
       "      <td>42.400002</td>\n",
       "      <td>2.877331e+06</td>\n",
       "      <td>6230.909180</td>\n",
       "      <td>4314.027344</td>\n",
       "      <td>7947.296875</td>\n",
       "      <td>10.0</td>\n",
       "      <td>5.115217</td>\n",
       "      <td>NaN</td>\n",
       "      <td>NaN</td>\n",
       "    </tr>\n",
       "    <tr>\n",
       "      <th>230740</th>\n",
       "      <td>695</td>\n",
       "      <td>66</td>\n",
       "      <td>680</td>\n",
       "      <td>1.762540e+06</td>\n",
       "      <td>439435.965078</td>\n",
       "      <td>-5454.393555</td>\n",
       "      <td>1.0</td>\n",
       "      <td>0.063662</td>\n",
       "      <td>0.643132</td>\n",
       "      <td>42.112888</td>\n",
       "      <td>2.877331e+06</td>\n",
       "      <td>6225.793945</td>\n",
       "      <td>4310.498047</td>\n",
       "      <td>7912.345703</td>\n",
       "      <td>10.0</td>\n",
       "      <td>5.115167</td>\n",
       "      <td>NaN</td>\n",
       "      <td>NaN</td>\n",
       "    </tr>\n",
       "    <tr>\n",
       "      <th>325074</th>\n",
       "      <td>695</td>\n",
       "      <td>66</td>\n",
       "      <td>679</td>\n",
       "      <td>1.762540e+06</td>\n",
       "      <td>439435.965078</td>\n",
       "      <td>-5449.278381</td>\n",
       "      <td>2.0</td>\n",
       "      <td>0.061836</td>\n",
       "      <td>0.653505</td>\n",
       "      <td>42.141762</td>\n",
       "      <td>2.877262e+06</td>\n",
       "      <td>6220.678711</td>\n",
       "      <td>4306.968262</td>\n",
       "      <td>7461.080078</td>\n",
       "      <td>10.0</td>\n",
       "      <td>5.115106</td>\n",
       "      <td>NaN</td>\n",
       "      <td>NaN</td>\n",
       "    </tr>\n",
       "    <tr>\n",
       "      <th>416196</th>\n",
       "      <td>695</td>\n",
       "      <td>66</td>\n",
       "      <td>678</td>\n",
       "      <td>1.762540e+06</td>\n",
       "      <td>439435.965078</td>\n",
       "      <td>-5444.163208</td>\n",
       "      <td>3.0</td>\n",
       "      <td>0.060475</td>\n",
       "      <td>0.644302</td>\n",
       "      <td>39.423225</td>\n",
       "      <td>2.877331e+06</td>\n",
       "      <td>6215.563477</td>\n",
       "      <td>4303.438965</td>\n",
       "      <td>7786.960449</td>\n",
       "      <td>10.0</td>\n",
       "      <td>5.115217</td>\n",
       "      <td>NaN</td>\n",
       "      <td>NaN</td>\n",
       "    </tr>\n",
       "  </tbody>\n",
       "</table>\n",
       "</div>"
      ],
      "text/plain": [
       "        i_index  j_index  k_index       x_coord        y_coord      z_coord  \\\n",
       "62119       695       66      682  1.762540e+06  439435.965078 -7731.033203   \n",
       "133015      695       66      681  1.762540e+06  439435.965078 -5459.508789   \n",
       "230740      695       66      680  1.762540e+06  439435.965078 -5454.393555   \n",
       "325074      695       66      679  1.762540e+06  439435.965078 -5449.278381   \n",
       "416196      695       66      678  1.762540e+06  439435.965078 -5444.163208   \n",
       "\n",
       "        FACIES-indicatorkriging  PHIT_01042017  SWTedit_01012017  APIgravity  \\\n",
       "62119                       NaN            NaN               NaN   40.000000   \n",
       "133015                      2.0       0.064282          0.645043   42.400002   \n",
       "230740                      1.0       0.063662          0.643132   42.112888   \n",
       "325074                      2.0       0.061836          0.653505   42.141762   \n",
       "416196                      3.0       0.060475          0.644302   39.423225   \n",
       "\n",
       "          Bulkvolume  Depth_to_surface     Pressure         OOIP  Mainzones  \\\n",
       "62119   2.552598e+09       8502.433594          NaN          NaN       11.0   \n",
       "133015  2.877331e+06       6230.909180  4314.027344  7947.296875       10.0   \n",
       "230740  2.877331e+06       6225.793945  4310.498047  7912.345703       10.0   \n",
       "325074  2.877262e+06       6220.678711  4306.968262  7461.080078       10.0   \n",
       "416196  2.877331e+06       6215.563477  4303.438965  7786.960449       10.0   \n",
       "\n",
       "         Cellheight          UWI  null  \n",
       "62119   4537.933594  210540800.0   NaN  \n",
       "133015     5.115217          NaN   NaN  \n",
       "230740     5.115167          NaN   NaN  \n",
       "325074     5.115106          NaN   NaN  \n",
       "416196     5.115217          NaN   NaN  "
      ]
     },
     "execution_count": 44,
     "metadata": {},
     "output_type": "execute_result"
    }
   ],
   "source": [
    "df_ij.head()"
   ]
  }
 ],
 "metadata": {
  "kernelspec": {
   "display_name": "Python 3",
   "language": "python",
   "name": "python3"
  },
  "language_info": {
   "codemirror_mode": {
    "name": "ipython",
    "version": 3
   },
   "file_extension": ".py",
   "mimetype": "text/x-python",
   "name": "python",
   "nbconvert_exporter": "python",
   "pygments_lexer": "ipython3",
   "version": "3.6.2"
  }
 },
 "nbformat": 4,
 "nbformat_minor": 2
}
