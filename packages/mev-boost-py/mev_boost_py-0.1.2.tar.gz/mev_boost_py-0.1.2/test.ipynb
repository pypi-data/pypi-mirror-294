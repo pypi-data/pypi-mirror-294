{
 "cells": [
  {
   "cell_type": "code",
   "execution_count": 1,
   "metadata": {},
   "outputs": [],
   "source": [
    "import polars as pl\n",
    "from mev_boost_py.proposer_payload import ProposerPayloadFetcher\n",
    "from mev_boost_py.proposer_payload import Network, Relay"
   ]
  },
  {
   "cell_type": "code",
   "execution_count": 10,
   "metadata": {},
   "outputs": [],
   "source": [
    "fetcher = ProposerPayloadFetcher(\n",
    "    network=Network.MAINNET,\n",
    "    # relay=Relay.TITANRELAY\n",
    "    # No directory specified, so data will be kept in memory\n",
    ")\n",
    "\n",
    "# Run the fetcher to fetch data\n",
    "df = fetcher.run()"
   ]
  },
  {
   "cell_type": "code",
   "execution_count": 11,
   "metadata": {},
   "outputs": [
    {
     "data": {
      "text/html": [
       "<div><style>\n",
       ".dataframe > thead > tr,\n",
       ".dataframe > tbody > tr {\n",
       "  text-align: right;\n",
       "  white-space: pre-wrap;\n",
       "}\n",
       "</style>\n",
       "<small>shape: (7, 2)</small><table border=\"1\" class=\"dataframe\"><thead><tr><th>relay</th><th>count</th></tr><tr><td>str</td><td>u32</td></tr></thead><tbody><tr><td>&quot;https://relay-analytics.ultras…</td><td>200</td></tr><tr><td>&quot;https://bloxroute.max-profit.b…</td><td>100</td></tr><tr><td>&quot;https://bloxroute.regulated.bl…</td><td>100</td></tr><tr><td>&quot;https://agnostic-relay.net/rel…</td><td>200</td></tr><tr><td>&quot;https://aestus.live/relay/v1/d…</td><td>200</td></tr><tr><td>&quot;https://boost-relay.flashbots.…</td><td>200</td></tr><tr><td>&quot;https://titanrelay.xyz/relay/v…</td><td>56968</td></tr></tbody></table></div>"
      ],
      "text/plain": [
       "shape: (7, 2)\n",
       "┌─────────────────────────────────┬───────┐\n",
       "│ relay                           ┆ count │\n",
       "│ ---                             ┆ ---   │\n",
       "│ str                             ┆ u32   │\n",
       "╞═════════════════════════════════╪═══════╡\n",
       "│ https://relay-analytics.ultras… ┆ 200   │\n",
       "│ https://bloxroute.max-profit.b… ┆ 100   │\n",
       "│ https://bloxroute.regulated.bl… ┆ 100   │\n",
       "│ https://agnostic-relay.net/rel… ┆ 200   │\n",
       "│ https://aestus.live/relay/v1/d… ┆ 200   │\n",
       "│ https://boost-relay.flashbots.… ┆ 200   │\n",
       "│ https://titanrelay.xyz/relay/v… ┆ 56968 │\n",
       "└─────────────────────────────────┴───────┘"
      ]
     },
     "execution_count": 11,
     "metadata": {},
     "output_type": "execute_result"
    }
   ],
   "source": [
    "df.group_by('relay').agg(pl.len().alias('count'))"
   ]
  },
  {
   "cell_type": "code",
   "execution_count": 12,
   "metadata": {},
   "outputs": [
    {
     "data": {
      "text/plain": [
       "Schema([('slot', Int64),\n",
       "        ('parent_hash', String),\n",
       "        ('block_hash', String),\n",
       "        ('builder_pubkey', String),\n",
       "        ('proposer_pubkey', String),\n",
       "        ('proposer_fee_recipient', String),\n",
       "        ('gas_limit', Int64),\n",
       "        ('gas_used', Int64),\n",
       "        ('value', Float64),\n",
       "        ('num_tx', Int64),\n",
       "        ('block_number', Int64),\n",
       "        ('relay', String)])"
      ]
     },
     "execution_count": 12,
     "metadata": {},
     "output_type": "execute_result"
    }
   ],
   "source": [
    "df.schema"
   ]
  },
  {
   "cell_type": "code",
   "execution_count": 13,
   "metadata": {},
   "outputs": [
    {
     "data": {
      "text/html": [
       "<div><style>\n",
       ".dataframe > thead > tr,\n",
       ".dataframe > tbody > tr {\n",
       "  text-align: right;\n",
       "  white-space: pre-wrap;\n",
       "}\n",
       "</style>\n",
       "<small>shape: (57_968, 12)</small><table border=\"1\" class=\"dataframe\"><thead><tr><th>slot</th><th>parent_hash</th><th>block_hash</th><th>builder_pubkey</th><th>proposer_pubkey</th><th>proposer_fee_recipient</th><th>gas_limit</th><th>gas_used</th><th>value</th><th>num_tx</th><th>block_number</th><th>relay</th></tr><tr><td>i64</td><td>str</td><td>str</td><td>str</td><td>str</td><td>str</td><td>i64</td><td>i64</td><td>f64</td><td>i64</td><td>i64</td><td>str</td></tr></thead><tbody><tr><td>9880363</td><td>&quot;0x0f3f6ec130200401235846ac585e…</td><td>&quot;0x0052bfbe8c6b4e7b2ce3800ed55a…</td><td>&quot;0xb67eaa5efcfa1d17319c344e1e51…</td><td>&quot;0xae7cecfd48927267fe4b62ab64c6…</td><td>&quot;0x2beE119eE6d368209379184a8fA6…</td><td>30000000</td><td>17226885</td><td>6.9334e16</td><td>165</td><td>20671867</td><td>&quot;https://aestus.live/relay/v1/d…</td></tr><tr><td>9880362</td><td>&quot;0x64fa0cde701b69cfe9b3389176d3…</td><td>&quot;0x0f3f6ec130200401235846ac585e…</td><td>&quot;0xa32aadb23e45595fe4981114a823…</td><td>&quot;0xa351403ff018988635d32a6a18b6…</td><td>&quot;0xdbC3363De051550D122D9C623CBa…</td><td>30000000</td><td>12777663</td><td>2.0900e16</td><td>116</td><td>20671866</td><td>&quot;https://aestus.live/relay/v1/d…</td></tr><tr><td>9880338</td><td>&quot;0x6217603aeed4f135ecaedb025ea2…</td><td>&quot;0x9c34d866130648a7b18cf910b55b…</td><td>&quot;0x95c8cc31f8d4e54eddb0603b8f12…</td><td>&quot;0x87d41783d1701a6bfffd1d9a9336…</td><td>&quot;0x1Da5848607A3d07e113aAcfd6A90…</td><td>30000000</td><td>13611794</td><td>2.0102e16</td><td>143</td><td>20671842</td><td>&quot;https://aestus.live/relay/v1/d…</td></tr><tr><td>9880326</td><td>&quot;0xfbc50b4464d386765c8ed4b27181…</td><td>&quot;0x4203cde0b9a63d2faa65aca1118a…</td><td>&quot;0xae2ffc6986c9a368c5ad2d51f86d…</td><td>&quot;0x895046ca788c8a2a0ed5e257453d…</td><td>&quot;0x974a2216a3E59d7d7975fB9d4192…</td><td>30000000</td><td>13568822</td><td>5.3961e16</td><td>192</td><td>20671830</td><td>&quot;https://aestus.live/relay/v1/d…</td></tr><tr><td>9880321</td><td>&quot;0x4065ff7001111cc25c3720a9e700…</td><td>&quot;0xb94e0f25c9cc50f4263087db5c70…</td><td>&quot;0x87cc2536e868aa783afcfd50f5d4…</td><td>&quot;0x827079060228f00b52c54a566bd7…</td><td>&quot;0xa13d8eC77e95cc0247795F856628…</td><td>30000000</td><td>11255488</td><td>2.6565e16</td><td>135</td><td>20671825</td><td>&quot;https://aestus.live/relay/v1/d…</td></tr><tr><td>&hellip;</td><td>&hellip;</td><td>&hellip;</td><td>&hellip;</td><td>&hellip;</td><td>&hellip;</td><td>&hellip;</td><td>&hellip;</td><td>&hellip;</td><td>&hellip;</td><td>&hellip;</td><td>&hellip;</td></tr><tr><td>9879954</td><td>&quot;0x57ffa1f0a70d194b3d4fa9c0abbe…</td><td>&quot;0x070c30f1241b62cf3a56ba8d53b2…</td><td>&quot;0x946fcf348bbf1044a3eaa3d27f1d…</td><td>&quot;0xb980a470d85add03b9c8f2a3bd2d…</td><td>&quot;0xe688b84b23f322a994A53dbF8E15…</td><td>30000000</td><td>15278846</td><td>3.1082e16</td><td>179</td><td>20671459</td><td>&quot;https://relay-analytics.ultras…</td></tr><tr><td>9879953</td><td>&quot;0xea5d042c9f4a1ad663209e198465…</td><td>&quot;0x57ffa1f0a70d194b3d4fa9c0abbe…</td><td>&quot;0xa32aadb23e45595fe4981114a823…</td><td>&quot;0x92e7f897930b4232234c6d6ca5b3…</td><td>&quot;0x22eEC85ba6a5cD97eAd4728eA1c6…</td><td>30000000</td><td>16690069</td><td>1.6315e16</td><td>187</td><td>20671458</td><td>&quot;https://relay-analytics.ultras…</td></tr><tr><td>9879952</td><td>&quot;0x949c624ba608ca56e37069286da7…</td><td>&quot;0xea5d042c9f4a1ad663209e198465…</td><td>&quot;0x88e1d82a11804c7f4596b2b0aecf…</td><td>&quot;0x8e94eb63b3d6f4f8ee943dc7bd73…</td><td>&quot;0xAdFb8D27671F14f297eE94135e26…</td><td>30000000</td><td>14071663</td><td>2.2938e16</td><td>132</td><td>20671457</td><td>&quot;https://relay-analytics.ultras…</td></tr><tr><td>9879951</td><td>&quot;0x6d1c54c42f804cf69ae36c32486b…</td><td>&quot;0x949c624ba608ca56e37069286da7…</td><td>&quot;0xb4a435cf816291596fe2e405651e…</td><td>&quot;0x878d980d07f3aa24c4629e64ea03…</td><td>&quot;0x388C818CA8B9251b393131C08a73…</td><td>30000000</td><td>13782447</td><td>3.2834e16</td><td>162</td><td>20671456</td><td>&quot;https://relay-analytics.ultras…</td></tr><tr><td>9879949</td><td>&quot;0xcc1c109f838c83358118f92d825b…</td><td>&quot;0x3e15a730bcdfe2e1b5fc0472bd6b…</td><td>&quot;0xb211df498dfd8b1956252efa4caa…</td><td>&quot;0xb76b1476284709c44beb55e1a4c4…</td><td>&quot;0x388C818CA8B9251b393131C08a73…</td><td>30000000</td><td>14904969</td><td>1.8292e17</td><td>156</td><td>20671454</td><td>&quot;https://relay-analytics.ultras…</td></tr></tbody></table></div>"
      ],
      "text/plain": [
       "shape: (57_968, 12)\n",
       "┌─────────┬────────────┬────────────┬────────────┬───┬───────────┬────────┬────────────┬───────────┐\n",
       "│ slot    ┆ parent_has ┆ block_hash ┆ builder_pu ┆ … ┆ value     ┆ num_tx ┆ block_numb ┆ relay     │\n",
       "│ ---     ┆ h          ┆ ---        ┆ bkey       ┆   ┆ ---       ┆ ---    ┆ er         ┆ ---       │\n",
       "│ i64     ┆ ---        ┆ str        ┆ ---        ┆   ┆ f64       ┆ i64    ┆ ---        ┆ str       │\n",
       "│         ┆ str        ┆            ┆ str        ┆   ┆           ┆        ┆ i64        ┆           │\n",
       "╞═════════╪════════════╪════════════╪════════════╪═══╪═══════════╪════════╪════════════╪═══════════╡\n",
       "│ 9880363 ┆ 0x0f3f6ec1 ┆ 0x0052bfbe ┆ 0xb67eaa5e ┆ … ┆ 6.9334e16 ┆ 165    ┆ 20671867   ┆ https://a │\n",
       "│         ┆ 3020040123 ┆ 8c6b4e7b2c ┆ fcfa1d1731 ┆   ┆           ┆        ┆            ┆ estus.liv │\n",
       "│         ┆ 5846ac585e ┆ e3800ed55a ┆ 9c344e1e51 ┆   ┆           ┆        ┆            ┆ e/relay/v │\n",
       "│         ┆ …          ┆ …          ┆ …          ┆   ┆           ┆        ┆            ┆ 1/d…      │\n",
       "│ 9880362 ┆ 0x64fa0cde ┆ 0x0f3f6ec1 ┆ 0xa32aadb2 ┆ … ┆ 2.0900e16 ┆ 116    ┆ 20671866   ┆ https://a │\n",
       "│         ┆ 701b69cfe9 ┆ 3020040123 ┆ 3e45595fe4 ┆   ┆           ┆        ┆            ┆ estus.liv │\n",
       "│         ┆ b3389176d3 ┆ 5846ac585e ┆ 981114a823 ┆   ┆           ┆        ┆            ┆ e/relay/v │\n",
       "│         ┆ …          ┆ …          ┆ …          ┆   ┆           ┆        ┆            ┆ 1/d…      │\n",
       "│ 9880338 ┆ 0x6217603a ┆ 0x9c34d866 ┆ 0x95c8cc31 ┆ … ┆ 2.0102e16 ┆ 143    ┆ 20671842   ┆ https://a │\n",
       "│         ┆ eed4f135ec ┆ 130648a7b1 ┆ f8d4e54edd ┆   ┆           ┆        ┆            ┆ estus.liv │\n",
       "│         ┆ aedb025ea2 ┆ 8cf910b55b ┆ b0603b8f12 ┆   ┆           ┆        ┆            ┆ e/relay/v │\n",
       "│         ┆ …          ┆ …          ┆ …          ┆   ┆           ┆        ┆            ┆ 1/d…      │\n",
       "│ 9880326 ┆ 0xfbc50b44 ┆ 0x4203cde0 ┆ 0xae2ffc69 ┆ … ┆ 5.3961e16 ┆ 192    ┆ 20671830   ┆ https://a │\n",
       "│         ┆ 64d386765c ┆ b9a63d2faa ┆ 86c9a368c5 ┆   ┆           ┆        ┆            ┆ estus.liv │\n",
       "│         ┆ 8ed4b27181 ┆ 65aca1118a ┆ ad2d51f86d ┆   ┆           ┆        ┆            ┆ e/relay/v │\n",
       "│         ┆ …          ┆ …          ┆ …          ┆   ┆           ┆        ┆            ┆ 1/d…      │\n",
       "│ 9880321 ┆ 0x4065ff70 ┆ 0xb94e0f25 ┆ 0x87cc2536 ┆ … ┆ 2.6565e16 ┆ 135    ┆ 20671825   ┆ https://a │\n",
       "│         ┆ 01111cc25c ┆ c9cc50f426 ┆ e868aa783a ┆   ┆           ┆        ┆            ┆ estus.liv │\n",
       "│         ┆ 3720a9e700 ┆ 3087db5c70 ┆ fcfd50f5d4 ┆   ┆           ┆        ┆            ┆ e/relay/v │\n",
       "│         ┆ …          ┆ …          ┆ …          ┆   ┆           ┆        ┆            ┆ 1/d…      │\n",
       "│ …       ┆ …          ┆ …          ┆ …          ┆ … ┆ …         ┆ …      ┆ …          ┆ …         │\n",
       "│ 9879954 ┆ 0x57ffa1f0 ┆ 0x070c30f1 ┆ 0x946fcf34 ┆ … ┆ 3.1082e16 ┆ 179    ┆ 20671459   ┆ https://r │\n",
       "│         ┆ a70d194b3d ┆ 241b62cf3a ┆ 8bbf1044a3 ┆   ┆           ┆        ┆            ┆ elay-anal │\n",
       "│         ┆ 4fa9c0abbe ┆ 56ba8d53b2 ┆ eaa3d27f1d ┆   ┆           ┆        ┆            ┆ ytics.ult │\n",
       "│         ┆ …          ┆ …          ┆ …          ┆   ┆           ┆        ┆            ┆ ras…      │\n",
       "│ 9879953 ┆ 0xea5d042c ┆ 0x57ffa1f0 ┆ 0xa32aadb2 ┆ … ┆ 1.6315e16 ┆ 187    ┆ 20671458   ┆ https://r │\n",
       "│         ┆ 9f4a1ad663 ┆ a70d194b3d ┆ 3e45595fe4 ┆   ┆           ┆        ┆            ┆ elay-anal │\n",
       "│         ┆ 209e198465 ┆ 4fa9c0abbe ┆ 981114a823 ┆   ┆           ┆        ┆            ┆ ytics.ult │\n",
       "│         ┆ …          ┆ …          ┆ …          ┆   ┆           ┆        ┆            ┆ ras…      │\n",
       "│ 9879952 ┆ 0x949c624b ┆ 0xea5d042c ┆ 0x88e1d82a ┆ … ┆ 2.2938e16 ┆ 132    ┆ 20671457   ┆ https://r │\n",
       "│         ┆ a608ca56e3 ┆ 9f4a1ad663 ┆ 11804c7f45 ┆   ┆           ┆        ┆            ┆ elay-anal │\n",
       "│         ┆ 7069286da7 ┆ 209e198465 ┆ 96b2b0aecf ┆   ┆           ┆        ┆            ┆ ytics.ult │\n",
       "│         ┆ …          ┆ …          ┆ …          ┆   ┆           ┆        ┆            ┆ ras…      │\n",
       "│ 9879951 ┆ 0x6d1c54c4 ┆ 0x949c624b ┆ 0xb4a435cf ┆ … ┆ 3.2834e16 ┆ 162    ┆ 20671456   ┆ https://r │\n",
       "│         ┆ 2f804cf69a ┆ a608ca56e3 ┆ 816291596f ┆   ┆           ┆        ┆            ┆ elay-anal │\n",
       "│         ┆ e36c32486b ┆ 7069286da7 ┆ e2e405651e ┆   ┆           ┆        ┆            ┆ ytics.ult │\n",
       "│         ┆ …          ┆ …          ┆ …          ┆   ┆           ┆        ┆            ┆ ras…      │\n",
       "│ 9879949 ┆ 0xcc1c109f ┆ 0x3e15a730 ┆ 0xb211df49 ┆ … ┆ 1.8292e17 ┆ 156    ┆ 20671454   ┆ https://r │\n",
       "│         ┆ 838c833581 ┆ bcdfe2e1b5 ┆ 8dfd8b1956 ┆   ┆           ┆        ┆            ┆ elay-anal │\n",
       "│         ┆ 18f92d825b ┆ fc0472bd6b ┆ 252efa4caa ┆   ┆           ┆        ┆            ┆ ytics.ult │\n",
       "│         ┆ …          ┆ …          ┆ …          ┆   ┆           ┆        ┆            ┆ ras…      │\n",
       "└─────────┴────────────┴────────────┴────────────┴───┴───────────┴────────┴────────────┴───────────┘"
      ]
     },
     "execution_count": 13,
     "metadata": {},
     "output_type": "execute_result"
    }
   ],
   "source": [
    "df"
   ]
  },
  {
   "cell_type": "code",
   "execution_count": null,
   "metadata": {},
   "outputs": [],
   "source": []
  }
 ],
 "metadata": {
  "kernelspec": {
   "display_name": ".venv",
   "language": "python",
   "name": "python3"
  },
  "language_info": {
   "codemirror_mode": {
    "name": "ipython",
    "version": 3
   },
   "file_extension": ".py",
   "mimetype": "text/x-python",
   "name": "python",
   "nbconvert_exporter": "python",
   "pygments_lexer": "ipython3",
   "version": "3.12.5"
  }
 },
 "nbformat": 4,
 "nbformat_minor": 2
}
