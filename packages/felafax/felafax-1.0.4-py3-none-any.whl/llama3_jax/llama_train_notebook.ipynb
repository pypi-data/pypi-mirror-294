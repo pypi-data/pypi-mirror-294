{
 "cells": [
  {
   "cell_type": "code",
   "execution_count": null,
   "metadata": {},
   "outputs": [],
   "source": [
    "import importlib\n",
    "import os\n",
    "import sys\n",
    "\n",
    "# Add the current directory and its parent to the Python path.\n",
    "# This allows importing modules from these directories.\n",
    "sys.path.append(os.path.abspath(os.getcwd()))\n",
    "sys.path.append(os.path.abspath(os.path.dirname(os.getcwd())))\n",
    "\n",
    "try:\n",
    "    import llama3_jax\n",
    "    print(\"felafax package imported successfully\")\n",
    "except ImportError as e:\n",
    "    print(f\"Error importing llama3_jax: {e}\")"
   ]
  },
  {
   "cell_type": "code",
   "execution_count": null,
   "metadata": {},
   "outputs": [],
   "source": [
    "from llama3_jax.trainer_engine import setup\n",
    "\n",
    "setup.setup_environment(base_dir=\"/mnt/persistent-disk/\")"
   ]
  },
  {
   "cell_type": "code",
   "execution_count": null,
   "metadata": {},
   "outputs": [],
   "source": [
    "from llama3_jax import llama_config\n",
    "from llama3_jax.trainer_engine import (automodel_lib, checkpoint_lib,\n",
    "                                       convert_lib, jax_utils, trainer_lib,\n",
    "                                       utils)\n",
    "\n",
    "setup.reload_modules(\"llama3_jax\")"
   ]
  },
  {
   "cell_type": "code",
   "execution_count": null,
   "metadata": {},
   "outputs": [],
   "source": [
    "from typing import Any, Dict, List, Mapping, Optional, Sequence, Tuple, Union\n",
    "\n",
    "import chex\n",
    "import jax\n",
    "import jax.numpy as jnp\n",
    "import optax\n",
    "import torch\n",
    "from datasets import load_dataset\n",
    "from transformers import default_data_collator\n",
    "from huggingface_hub import snapshot_download\n",
    "import shutil\n",
    "from datetime import datetime\n",
    "import gzip"
   ]
  },
  {
   "cell_type": "code",
   "execution_count": null,
   "metadata": {},
   "outputs": [],
   "source": [
    "# Select a supported model from above list to use!\n",
    "MODEL_NAME = \"llama-3.1-8B-Instruct-JAX\""
   ]
  },
  {
   "cell_type": "code",
   "execution_count": null,
   "metadata": {},
   "outputs": [],
   "source": [
    "# Constants for paths\n",
    "FELAFAX_DIR = \"/mnt/persistent-disk\" # os.path.dirname(os.path.dirname(llama3_jax.__file__))\n",
    "\n",
    "EXPORT_DIR = os.path.join(FELAFAX_DIR, \"export\")\n",
    "HF_EXPORT_DIR = os.path.join(FELAFAX_DIR, \"hf_export\")\n",
    "\n",
    "current_datetime = datetime.now().strftime(\"%Y%m%d_%H%M%S\")\n",
    "GCS_DIR = f\"/home/felafax-storage/checkpoints/{MODEL_NAME}/{current_datetime}/\"\n",
    "\n",
    "# Ensure directories exist\n",
    "utils.makedirs(EXPORT_DIR, exist_ok=True)\n",
    "utils.makedirs(HF_EXPORT_DIR, exist_ok=True)\n",
    "utils.makedirs(GCS_DIR, exist_ok=True)"
   ]
  },
  {
   "cell_type": "code",
   "execution_count": null,
   "metadata": {},
   "outputs": [],
   "source": [
    "model_path, model, model_configurator, tokenizer = (\n",
    "    automodel_lib.AutoJAXModelForCausalLM.from_pretrained(MODEL_NAME))"
   ]
  },
  {
   "cell_type": "markdown",
   "metadata": {},
   "source": [
    "# Dataset pipeline"
   ]
  },
  {
   "cell_type": "code",
   "execution_count": null,
   "metadata": {},
   "outputs": [],
   "source": [
    "def get_dataset(*, tokenizer, batch_size=1, seq_length=32, max_examples=None):\n",
    "    # Define Alpaca prompt template\n",
    "    alpaca_prompt = \"\"\"Below is an instruction that describes a task, paired with an input that provides further context. Write a response that appropriately completes the request.\n",
    "    \n",
    "    ### Instruction: {}\n",
    "    \n",
    "    ### Input: {}\n",
    "    \n",
    "    ### Response: {}\"\"\"\n",
    "    \n",
    "    EOS_TOKEN = tokenizer.eos_token\n",
    "    \n",
    "    # Defines formatting function.\n",
    "    def _format_prompts(examples):\n",
    "        instructions = examples[\"instruction\"]\n",
    "        inputs = examples[\"input\"]\n",
    "        outputs = examples[\"output\"]\n",
    "        texts = []\n",
    "        for instruction, input, output in zip(instructions, inputs, outputs):\n",
    "            text = alpaca_prompt.format(instruction, input, output) + EOS_TOKEN\n",
    "            texts.append(text)\n",
    "        return {\"text\": texts}\n",
    "\n",
    "    def _tokenize(examples):\n",
    "        tokenized = tokenizer(examples[\"text\"], truncation=True, padding=\"max_length\", max_length=seq_length+1)\n",
    "        return {\n",
    "            'input_tokens': [input_id[:-1] for input_id in tokenized['input_ids']],\n",
    "            'target_tokens': [input_id[1:] for input_id in tokenized['input_ids']],\n",
    "            'loss_masks': [input_id[1:] for input_id in tokenized['attention_mask']]\n",
    "        }\n",
    "\n",
    "    def _custom_collate_fn(batch: List[Dict[str, Any]]) -> Dict[str, jnp.ndarray]:\n",
    "        \"\"\"\n",
    "        Collates batch items and converts PyTorch tensors to JAX arrays.\n",
    "        Applies default_data_collator, then converts tensors to JAX format.\n",
    "        \"\"\"\n",
    "        collated = default_data_collator(batch)\n",
    "        jax_batch = {}\n",
    "        for key, value in collated.items():\n",
    "            jax_batch[key] = jnp.array(value.numpy()) if isinstance(value, torch.Tensor) else value\n",
    "        \n",
    "        return jax_batch\n",
    "\n",
    "    # Load and preprocess the dataset\n",
    "    dataset = load_dataset(\"yahma/alpaca-cleaned\", split=\"train\")\n",
    "    if max_examples:\n",
    "        dataset = dataset.select(range(max_examples))\n",
    "    dataset = dataset.map(_format_prompts, batched=True)\n",
    "\n",
    "    # Create train and test dataset.\n",
    "    ds = dataset.train_test_split(test_size=0.15)\n",
    "    for split in ['train', 'test']:\n",
    "        ds[split] = ds[split].map(_tokenize, batched=True, remove_columns=dataset.column_names)\n",
    "\n",
    "    # Create DataLoaders\n",
    "    dataloader_args = dict(shuffle=True, batch_size=batch_size, collate_fn=_custom_collate_fn)\n",
    "    train_dataloader = torch.utils.data.DataLoader(ds['train'], **dataloader_args)\n",
    "    test_dataloader = torch.utils.data.DataLoader(ds['test'], **dataloader_args)\n",
    "\n",
    "    return train_dataloader, test_dataloader"
   ]
  },
  {
   "cell_type": "code",
   "execution_count": null,
   "metadata": {},
   "outputs": [],
   "source": [
    "def test_dataset_pipeline(tokenizer):\n",
    "    \"\"\"Print shapes of first batch to verify dataset pipeline.\"\"\"\n",
    "    train_loader, _ = get_dataset(tokenizer=tokenizer, batch_size=1, seq_length=32, max_examples=32)\n",
    "    batch = next(iter(train_loader))\n",
    "    print(\"Input tokens shape:\", batch['input_tokens'].shape)\n",
    "    print(\"Target mask shape:\", batch['target_tokens'].shape)\n",
    "test_dataset_pipeline(tokenizer)"
   ]
  },
  {
   "cell_type": "markdown",
   "metadata": {},
   "source": [
    "# Training loop"
   ]
  },
  {
   "cell_type": "code",
   "execution_count": null,
   "metadata": {},
   "outputs": [],
   "source": [
    "@chex.dataclass(frozen=True)\n",
    "class TrainingConfig:\n",
    "    learning_rate: float = 1e-4\n",
    "    num_epochs: int = 1\n",
    "    max_steps: int | None = 5\n",
    "    batch_size: int = 32\n",
    "    seq_length: int = 64\n",
    "    dataset_size_limit: int | None = 32\n",
    "    print_every_n_steps: int = 1\n",
    "    eval_every_n_steps: int = 1000\n",
    "    max_eval_steps: int | None = 1\n",
    "\n",
    "\n",
    "training_cfg = TrainingConfig()\n",
    "optimizer = optax.sgd(training_cfg.learning_rate)"
   ]
  },
  {
   "cell_type": "code",
   "execution_count": null,
   "metadata": {},
   "outputs": [],
   "source": [
    "# Prepare dataset\n",
    "train_dataloader, val_dataloader = get_dataset(\n",
    "    tokenizer=tokenizer,\n",
    "    seq_length=training_cfg.seq_length,\n",
    "    max_examples=training_cfg.dataset_size_limit,\n",
    ")"
   ]
  },
  {
   "cell_type": "code",
   "execution_count": null,
   "metadata": {},
   "outputs": [],
   "source": [
    "trainer = trainer_lib.CausalLMTrainer(\n",
    "    model=model,\n",
    "    model_ckpt_path=model_path,\n",
    "    model_configurator=model_configurator,\n",
    "    optimizer=optimizer,\n",
    "    training_config=training_cfg,\n",
    "    mesh=jax_utils.MESH, \n",
    ")"
   ]
  },
  {
   "cell_type": "code",
   "execution_count": null,
   "metadata": {},
   "outputs": [],
   "source": [
    "state = trainer.train(train_dataloader, val_dataloader, run_jitted=True)"
   ]
  },
  {
   "cell_type": "code",
   "execution_count": null,
   "metadata": {},
   "outputs": [],
   "source": [
    "flax_checkpoint_path = os.path.join(EXPORT_DIR, MODEL_NAME)\n",
    "trainer.save_checkpoint(state, path=flax_checkpoint_path)"
   ]
  },
  {
   "cell_type": "code",
   "execution_count": null,
   "metadata": {},
   "outputs": [],
   "source": [
    "convert_lib.save_hf_compatible_checkpoint(\n",
    "    f'flax_params::{flax_checkpoint_path}', HF_EXPORT_DIR, model_configurator)\n",
    "\n",
    "# Download and save the tokenizer\n",
    "tokenizer_repo = f\"felafax/tokenizer-{MODEL_NAME}\"\n",
    "tokenizer_dir = snapshot_download(repo_id=tokenizer_repo)\n",
    "\n",
    "# Move all files from tokenizer_dir to HF_EXPORT_DIR\n",
    "for item in os.listdir(tokenizer_dir):\n",
    "    s = os.path.join(tokenizer_dir, item)\n",
    "    d = os.path.join(HF_EXPORT_DIR, item)\n",
    "    if os.path.isfile(s):\n",
    "        shutil.copy2(s, d)\n",
    "        print(f\"Copied {item} to {HF_EXPORT_DIR}\")\n",
    "    elif os.path.isdir(s):\n",
    "        shutil.copytree(s, d, dirs_exist_ok=True)\n",
    "        print(f\"Copied directory {item} to {HF_EXPORT_DIR}\")\n",
    "print(f\"All tokenizer files saved to {HF_EXPORT_DIR}\")"
   ]
  },
  {
   "cell_type": "code",
   "execution_count": null,
   "metadata": {},
   "outputs": [],
   "source": [
    "checkpoint_lib.copy_directory(HF_EXPORT_DIR, GCS_DIR)\n",
    "print(f\"Checkpoint copied to {GCS_DIR}\")"
   ]
  },
  {
   "cell_type": "code",
   "execution_count": null,
   "metadata": {},
   "outputs": [],
   "source": [
    "# HUGGINGFACE_TOKEN = input(\"INPUT: Please provide your HUGGINGFACE_TOKEN: \")\n",
    "# HUGGINGFACE_USERNAME = input(\n",
    "#     \"INPUT: Please provide your HUGGINGFACE_USERNAME: \")\n",
    "# HUGGINGFACE_REPO_NAME = input(\n",
    "#     \"INPUT: Please provide your HUGGINGFACE_REPO_NAME: \")\n",
    "# convert_lib.upload_checkpoint_to_hf(\n",
    "#     HF_EXPORT_DIR, f\"{HUGGINGFACE_USERNAME}/{HUGGINGFACE_REPO_NAME}\",\n",
    "#     HUGGINGFACE_TOKEN)"
   ]
  }
 ],
 "metadata": {
  "kernelspec": {
   "display_name": "Python 3 (ipykernel)",
   "language": "python",
   "name": "python3"
  },
  "language_info": {
   "codemirror_mode": {
    "name": "ipython",
    "version": 3
   },
   "file_extension": ".py",
   "mimetype": "text/x-python",
   "name": "python",
   "nbconvert_exporter": "python",
   "pygments_lexer": "ipython3",
   "version": "3.10.14"
  }
 },
 "nbformat": 4,
 "nbformat_minor": 4
}
