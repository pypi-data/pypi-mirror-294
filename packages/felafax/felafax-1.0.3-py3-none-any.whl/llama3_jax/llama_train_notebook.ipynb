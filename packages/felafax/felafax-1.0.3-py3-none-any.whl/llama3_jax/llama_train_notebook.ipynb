{
 "cells": [
  {
   "cell_type": "code",
   "execution_count": null,
   "metadata": {},
   "outputs": [],
   "source": [
    "import os\n",
    "import sys\n",
    "import importlib\n",
    "\n",
    "# Add the parent directory of the current working directory to the Python path\n",
    "sys.path.append(os.path.abspath(os.path.join(os.getcwd(), '.')))\n",
    "sys.path.append(os.path.abspath(os.path.join(os.getcwd(), '..')))\n",
    "\n",
    "try:\n",
    "    import llama3_jax\n",
    "    print(\"llama3_jax package imported successfully\")\n",
    "except ImportError as e:\n",
    "    print(f\"Error importing felafax: {e}\")"
   ]
  },
  {
   "cell_type": "code",
   "execution_count": null,
   "metadata": {},
   "outputs": [],
   "source": [
    "from llama3_jax.trainer_engine import setup\n",
    "\n",
    "setup.setup_environment(base_dir=\"/home/\")"
   ]
  },
  {
   "cell_type": "code",
   "execution_count": null,
   "metadata": {},
   "outputs": [],
   "source": [
    "from llama3_jax.trainer_engine import utils, jax_utils\n",
    "from llama3_jax.trainer_engine import automodel_lib, checkpoint_lib, trainer_lib, convert_lib\n",
    "from llama3_jax import llama_config\n",
    "\n",
    "setup.reload_modules(\"llama3_jax\")"
   ]
  },
  {
   "cell_type": "code",
   "execution_count": null,
   "metadata": {},
   "outputs": [],
   "source": [
    "from typing import (Any, Dict, List, Mapping, Optional, Sequence, Tuple,\n",
    "                    Union)\n",
    "\n",
    "import jax\n",
    "import jax.numpy as jnp\n",
    "import chex\n",
    "import optax\n",
    "\n",
    "import torch\n",
    "\n",
    "from datasets import load_dataset\n",
    "from transformers import default_data_collator"
   ]
  },
  {
   "cell_type": "code",
   "execution_count": null,
   "metadata": {},
   "outputs": [],
   "source": [
    "HUGGINGFACE_USERNAME = input(\"INPUT: Please provide your HUGGINGFACE_USERNAME: \")\n",
    "HUGGINGFACE_TOKEN = input(\"INPUT: Please provide your HUGGINGFACE_TOKEN: \")"
   ]
  },
  {
   "cell_type": "code",
   "execution_count": null,
   "metadata": {},
   "outputs": [],
   "source": [
    "# Select a supported model from above list to use!\n",
    "MODEL_NAME = \"llama-3.1-8B-Instruct-JAX\""
   ]
  },
  {
   "cell_type": "code",
   "execution_count": null,
   "metadata": {},
   "outputs": [],
   "source": [
    "# Constants for paths\n",
    "FELAFAX_DIR = os.path.dirname(os.path.dirname(llama3_jax.__file__))\n",
    "GCS_DIR = \"/home/felafax-storage/\"\n",
    "EXPORT_DIR = os.path.join(FELAFAX_DIR, \"llama3_instruct_jax\", \"export\")\n",
    "\n",
    "HF_COMPATIBLE_EXPORT_DIR = os.path.join(GCS_DIR, \"llama3_instruct_jax\", \"hf_export\")\n",
    "HF_REPO_ID = f\"{HUGGINGFACE_USERNAME}/llama3.1_finetuned_8B\""
   ]
  },
  {
   "cell_type": "code",
   "execution_count": null,
   "metadata": {},
   "outputs": [],
   "source": [
    "model_path, model, model_configurator, tokenizer = automodel_lib.AutoJAXModelForCausalLM.from_pretrained(\n",
    "    MODEL_NAME,\n",
    "    HUGGINGFACE_TOKEN)"
   ]
  },
  {
   "cell_type": "markdown",
   "metadata": {},
   "source": [
    "# Dataset pipeline"
   ]
  },
  {
   "cell_type": "code",
   "execution_count": null,
   "metadata": {},
   "outputs": [],
   "source": [
    "def get_dataset(*, tokenizer, batch_size=1, seq_length=32, max_examples=None):\n",
    "    # Define Alpaca prompt template\n",
    "    alpaca_prompt = \"\"\"Below is an instruction that describes a task, paired with an input that provides further context. Write a response that appropriately completes the request.\n",
    "    \n",
    "    ### Instruction: {}\n",
    "    \n",
    "    ### Input: {}\n",
    "    \n",
    "    ### Response: {}\"\"\"\n",
    "    \n",
    "    EOS_TOKEN = tokenizer.eos_token\n",
    "    \n",
    "    # Defines formatting function.\n",
    "    def _format_prompts(examples):\n",
    "        instructions = examples[\"instruction\"]\n",
    "        inputs = examples[\"input\"]\n",
    "        outputs = examples[\"output\"]\n",
    "        texts = []\n",
    "        for instruction, input, output in zip(instructions, inputs, outputs):\n",
    "            text = alpaca_prompt.format(instruction, input, output) + EOS_TOKEN\n",
    "            texts.append(text)\n",
    "        return {\"text\": texts}\n",
    "\n",
    "    def _tokenize(examples):\n",
    "        tokenized = tokenizer(examples[\"text\"], truncation=True, padding=\"max_length\", max_length=seq_length+1)\n",
    "        return {\n",
    "            'input_tokens': [input_id[:-1] for input_id in tokenized['input_ids']],\n",
    "            'target_tokens': [input_id[1:] for input_id in tokenized['input_ids']],\n",
    "            'loss_masks': [input_id[1:] for input_id in tokenized['attention_mask']]\n",
    "        }\n",
    "\n",
    "    def _custom_collate_fn(batch: List[Dict[str, Any]]) -> Dict[str, jnp.ndarray]:\n",
    "        \"\"\"\n",
    "        Collates batch items and converts PyTorch tensors to JAX arrays.\n",
    "        Applies default_data_collator, then converts tensors to JAX format.\n",
    "        \"\"\"\n",
    "        collated = default_data_collator(batch)\n",
    "        jax_batch = {}\n",
    "        for key, value in collated.items():\n",
    "            jax_batch[key] = jnp.array(value.numpy()) if isinstance(value, torch.Tensor) else value\n",
    "        \n",
    "        return jax_batch\n",
    "\n",
    "    # Load and preprocess the dataset\n",
    "    dataset = load_dataset(\"yahma/alpaca-cleaned\", split=\"train\")\n",
    "    if max_examples:\n",
    "        dataset = dataset.select(range(max_examples))\n",
    "    dataset = dataset.map(_format_prompts, batched=True)\n",
    "\n",
    "    # Create train and test dataset.\n",
    "    ds = dataset.train_test_split(test_size=0.15)\n",
    "    for split in ['train', 'test']:\n",
    "        ds[split] = ds[split].map(_tokenize, batched=True, remove_columns=dataset.column_names)\n",
    "\n",
    "    # Create DataLoaders\n",
    "    dataloader_args = dict(shuffle=True, batch_size=batch_size, collate_fn=_custom_collate_fn)\n",
    "    train_dataloader = torch.utils.data.DataLoader(ds['train'], **dataloader_args)\n",
    "    test_dataloader = torch.utils.data.DataLoader(ds['test'], **dataloader_args)\n",
    "\n",
    "    return train_dataloader, test_dataloader"
   ]
  },
  {
   "cell_type": "code",
   "execution_count": null,
   "metadata": {},
   "outputs": [],
   "source": [
    "def test_dataset_pipeline(tokenizer):\n",
    "    \"\"\"Print shapes of first batch to verify dataset pipeline.\"\"\"\n",
    "    train_loader, _ = get_dataset(tokenizer=tokenizer, batch_size=1, seq_length=32, max_examples=32)\n",
    "    batch = next(iter(train_loader))\n",
    "    print(\"Input tokens shape:\", batch['input_tokens'].shape)\n",
    "    print(\"Target mask shape:\", batch['target_tokens'].shape)\n",
    "test_dataset_pipeline(tokenizer)"
   ]
  },
  {
   "cell_type": "markdown",
   "metadata": {},
   "source": [
    "# Training loop"
   ]
  },
  {
   "cell_type": "code",
   "execution_count": null,
   "metadata": {},
   "outputs": [],
   "source": [
    "@chex.dataclass(frozen=True)\n",
    "class TrainingConfig:\n",
    "    learning_rate: float = 1e-4\n",
    "    num_epochs: int = 1\n",
    "    max_steps: int | None = 5\n",
    "    batch_size: int = 32\n",
    "    seq_length: int = 64\n",
    "    dataset_size_limit: int | None = 32\n",
    "    print_every_n_steps: int = 1\n",
    "    eval_every_n_steps: int = 1000\n",
    "\n",
    "\n",
    "training_cfg = TrainingConfig()\n",
    "optimizer = optax.sgd(training_cfg.learning_rate)"
   ]
  },
  {
   "cell_type": "code",
   "execution_count": null,
   "metadata": {},
   "outputs": [],
   "source": [
    "# Prepare dataset\n",
    "train_dataloader, val_dataloader = get_dataset(\n",
    "    tokenizer=tokenizer,\n",
    "    seq_length=training_cfg.seq_length,\n",
    "    max_examples=training_cfg.dataset_size_limit,\n",
    ")"
   ]
  },
  {
   "cell_type": "code",
   "execution_count": null,
   "metadata": {},
   "outputs": [],
   "source": [
    "trainer = trainer_lib.CausalLMTrainer(\n",
    "    model=model,\n",
    "    model_ckpt_path=model_path,\n",
    "    model_configurator=model_configurator,\n",
    "    optimizer=optimizer,\n",
    "    training_config=training_cfg,\n",
    "    mesh=jax_utils.MESH, \n",
    ")"
   ]
  },
  {
   "cell_type": "code",
   "execution_count": null,
   "metadata": {},
   "outputs": [],
   "source": [
    "state = trainer.train(train_dataloader, val_dataloader, run_jitted=True)"
   ]
  },
  {
   "cell_type": "code",
   "execution_count": null,
   "metadata": {},
   "outputs": [],
   "source": [
    "export_path = os.path.join(EXPORT_DIR, \"llama3_8b_instruct.flax\")\n",
    "trainer.save_checkpoint(state, path=export_path)"
   ]
  },
  {
   "cell_type": "code",
   "execution_count": null,
   "metadata": {},
   "outputs": [],
   "source": [
    "convert_lib.save_hf_compatible_checkpoint(f'flax_params::{export_path}',\n",
    "                                          HF_COMPATIBLE_EXPORT_DIR,\n",
    "                                          model_configurator)"
   ]
  },
  {
   "cell_type": "code",
   "execution_count": null,
   "metadata": {},
   "outputs": [],
   "source": [
    "# convert_lib.upload_checkpoint_to_hf(HF_COMPATIBLE_EXPORT_DIR, HF_REPO_ID,\n",
    "#                                     HUGGINGFACE_TOKEN)"
   ]
  }
 ],
 "metadata": {
  "kernelspec": {
   "display_name": "Python 3 (ipykernel)",
   "language": "python",
   "name": "python3"
  },
  "language_info": {
   "codemirror_mode": {
    "name": "ipython",
    "version": 3
   },
   "file_extension": ".py",
   "mimetype": "text/x-python",
   "name": "python",
   "nbconvert_exporter": "python",
   "pygments_lexer": "ipython3",
   "version": "3.10.14"
  }
 },
 "nbformat": 4,
 "nbformat_minor": 4
}
