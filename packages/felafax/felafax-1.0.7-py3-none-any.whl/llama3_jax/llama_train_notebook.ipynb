{
 "cells": [
  {
   "cell_type": "code",
   "execution_count": 1,
   "metadata": {},
   "outputs": [
    {
     "name": "stdout",
     "output_type": "stream",
     "text": [
      "felafax package imported successfully\n"
     ]
    }
   ],
   "source": [
    "import importlib\n",
    "import os\n",
    "import sys\n",
    "\n",
    "# Add the current directory and its parent to the Python path.\n",
    "# This allows importing modules from these directories.\n",
    "sys.path.append(os.path.abspath(os.getcwd()))\n",
    "sys.path.append(os.path.abspath(os.path.dirname(os.getcwd())))\n",
    "\n",
    "try:\n",
    "    import llama3_jax\n",
    "    print(\"felafax package imported successfully\")\n",
    "except ImportError as e:\n",
    "    print(f\"Error importing llama3_jax: {e}\")"
   ]
  },
  {
   "cell_type": "code",
   "execution_count": 2,
   "metadata": {},
   "outputs": [],
   "source": [
    "from llama3_jax.trainer_engine import setup\n",
    "\n",
    "setup.setup_environment(base_dir=\"/mnt/persistent-disk/\")"
   ]
  },
  {
   "cell_type": "code",
   "execution_count": 3,
   "metadata": {},
   "outputs": [
    {
     "name": "stdout",
     "output_type": "stream",
     "text": [
      "Reloaded all felafax modules.\n"
     ]
    }
   ],
   "source": [
    "from llama3_jax import llama_config\n",
    "from llama3_jax.trainer_engine import (automodel_lib, checkpoint_lib,\n",
    "                                       convert_lib, jax_utils, trainer_lib,\n",
    "                                       utils)\n",
    "\n",
    "setup.reload_modules(\"llama3_jax\")"
   ]
  },
  {
   "cell_type": "code",
   "execution_count": 4,
   "metadata": {},
   "outputs": [],
   "source": [
    "from typing import Any, Dict, List, Mapping, Optional, Sequence, Tuple, Union\n",
    "\n",
    "import chex\n",
    "import jax\n",
    "import jax.numpy as jnp\n",
    "import optax\n",
    "import torch\n",
    "from datasets import load_dataset\n",
    "from transformers import default_data_collator\n",
    "from huggingface_hub import snapshot_download\n",
    "import shutil\n",
    "from datetime import datetime\n",
    "import gzip"
   ]
  },
  {
   "cell_type": "code",
   "execution_count": 5,
   "metadata": {},
   "outputs": [],
   "source": [
    "# Select a supported model from above list to use!\n",
    "MODEL_NAME = \"llama-3.1-8B-Instruct-JAX\""
   ]
  },
  {
   "cell_type": "code",
   "execution_count": 6,
   "metadata": {},
   "outputs": [],
   "source": [
    "# Constants for paths\n",
    "FELAFAX_DIR = \"/mnt/persistent-disk\" # os.path.dirname(os.path.dirname(llama3_jax.__file__))\n",
    "\n",
    "EXPORT_DIR = os.path.join(FELAFAX_DIR, \"export\")\n",
    "HF_EXPORT_DIR = os.path.join(FELAFAX_DIR, \"hf_export\")\n",
    "\n",
    "current_datetime = datetime.now().strftime(\"%Y%m%d_%H%M%S\")\n",
    "GCS_DIR = f\"/home/felafax-storage/checkpoints/{MODEL_NAME}/{current_datetime}/\"\n",
    "\n",
    "# Ensure directories exist\n",
    "utils.makedirs(EXPORT_DIR, exist_ok=True)\n",
    "utils.makedirs(HF_EXPORT_DIR, exist_ok=True)\n",
    "utils.makedirs(GCS_DIR, exist_ok=True)"
   ]
  },
  {
   "cell_type": "code",
   "execution_count": 7,
   "metadata": {},
   "outputs": [
    {
     "name": "stdout",
     "output_type": "stream",
     "text": [
      "Downloading model llama-3.1-8B-Instruct-JAX...\n"
     ]
    },
    {
     "data": {
      "application/vnd.jupyter.widget-view+json": {
       "model_id": "7d4aa73b54444135bd1e07eb2703809d",
       "version_major": 2,
       "version_minor": 0
      },
      "text/plain": [
       "Fetching 8 files:   0%|          | 0/8 [00:00<?, ?it/s]"
      ]
     },
     "metadata": {},
     "output_type": "display_data"
    },
    {
     "name": "stdout",
     "output_type": "stream",
     "text": [
      "llama-3.1-8B-Instruct-JAX was downloaded to /mnt/persistent-disk/hf/models--felafax--llama-3.1-8B-Instruct-JAX/snapshots/12d9565c6c550893fd3c0ab62c2b91b16acf1218/llama-3.1-8B-Instruct-JAX.flax.\n"
     ]
    }
   ],
   "source": [
    "model_path, model, model_configurator, tokenizer = (\n",
    "    automodel_lib.AutoJAXModelForCausalLM.from_pretrained(MODEL_NAME))"
   ]
  },
  {
   "cell_type": "markdown",
   "metadata": {},
   "source": [
    "# Dataset pipeline"
   ]
  },
  {
   "cell_type": "code",
   "execution_count": 8,
   "metadata": {},
   "outputs": [],
   "source": [
    "def get_dataset(*, tokenizer, batch_size=1, seq_length=32, max_examples=None):\n",
    "    # Define Alpaca prompt template\n",
    "    alpaca_prompt = \"\"\"Below is an instruction that describes a task, paired with an input that provides further context. Write a response that appropriately completes the request.\n",
    "    \n",
    "    ### Instruction: {}\n",
    "    \n",
    "    ### Input: {}\n",
    "    \n",
    "    ### Response: {}\"\"\"\n",
    "    \n",
    "    EOS_TOKEN = tokenizer.eos_token\n",
    "    \n",
    "    # Defines formatting function.\n",
    "    def _format_prompts(examples):\n",
    "        instructions = examples[\"instruction\"]\n",
    "        inputs = examples[\"input\"]\n",
    "        outputs = examples[\"output\"]\n",
    "        texts = []\n",
    "        for instruction, input, output in zip(instructions, inputs, outputs):\n",
    "            text = alpaca_prompt.format(instruction, input, output) + EOS_TOKEN\n",
    "            texts.append(text)\n",
    "        return {\"text\": texts}\n",
    "\n",
    "    def _tokenize(examples):\n",
    "        tokenized = tokenizer(examples[\"text\"], truncation=True, padding=\"max_length\", max_length=seq_length+1)\n",
    "        return {\n",
    "            'input_tokens': [input_id[:-1] for input_id in tokenized['input_ids']],\n",
    "            'target_tokens': [input_id[1:] for input_id in tokenized['input_ids']],\n",
    "            'loss_masks': [input_id[1:] for input_id in tokenized['attention_mask']]\n",
    "        }\n",
    "\n",
    "    def _custom_collate_fn(batch: List[Dict[str, Any]]) -> Dict[str, jnp.ndarray]:\n",
    "        \"\"\"\n",
    "        Collates batch items and converts PyTorch tensors to JAX arrays.\n",
    "        Applies default_data_collator, then converts tensors to JAX format.\n",
    "        \"\"\"\n",
    "        collated = default_data_collator(batch)\n",
    "        jax_batch = {}\n",
    "        for key, value in collated.items():\n",
    "            jax_batch[key] = jnp.array(value.numpy()) if isinstance(value, torch.Tensor) else value\n",
    "        \n",
    "        return jax_batch\n",
    "\n",
    "    # Load and preprocess the dataset\n",
    "    dataset = load_dataset(\"yahma/alpaca-cleaned\", split=\"train\")\n",
    "    if max_examples:\n",
    "        dataset = dataset.select(range(max_examples))\n",
    "    dataset = dataset.map(_format_prompts, batched=True)\n",
    "\n",
    "    # Create train and test dataset.\n",
    "    ds = dataset.train_test_split(test_size=0.15)\n",
    "    for split in ['train', 'test']:\n",
    "        ds[split] = ds[split].map(_tokenize, batched=True, remove_columns=dataset.column_names)\n",
    "\n",
    "    # Create DataLoaders\n",
    "    dataloader_args = dict(shuffle=True, batch_size=batch_size, collate_fn=_custom_collate_fn)\n",
    "    train_dataloader = torch.utils.data.DataLoader(ds['train'], **dataloader_args)\n",
    "    test_dataloader = torch.utils.data.DataLoader(ds['test'], **dataloader_args)\n",
    "\n",
    "    return train_dataloader, test_dataloader"
   ]
  },
  {
   "cell_type": "code",
   "execution_count": 9,
   "metadata": {},
   "outputs": [
    {
     "data": {
      "application/vnd.jupyter.widget-view+json": {
       "model_id": "b3a71a6dc1e7496c9593cd879de08c7c",
       "version_major": 2,
       "version_minor": 0
      },
      "text/plain": [
       "Map:   0%|          | 0/27 [00:00<?, ? examples/s]"
      ]
     },
     "metadata": {},
     "output_type": "display_data"
    },
    {
     "data": {
      "application/vnd.jupyter.widget-view+json": {
       "model_id": "19581b4f6e174810985ca0b4ceef87ab",
       "version_major": 2,
       "version_minor": 0
      },
      "text/plain": [
       "Map:   0%|          | 0/5 [00:00<?, ? examples/s]"
      ]
     },
     "metadata": {},
     "output_type": "display_data"
    },
    {
     "name": "stdout",
     "output_type": "stream",
     "text": [
      "Input tokens shape: (1, 32)\n",
      "Target mask shape: (1, 32)\n"
     ]
    }
   ],
   "source": [
    "def test_dataset_pipeline(tokenizer):\n",
    "    \"\"\"Print shapes of first batch to verify dataset pipeline.\"\"\"\n",
    "    train_loader, _ = get_dataset(tokenizer=tokenizer, batch_size=1, seq_length=32, max_examples=32)\n",
    "    batch = next(iter(train_loader))\n",
    "    print(\"Input tokens shape:\", batch['input_tokens'].shape)\n",
    "    print(\"Target mask shape:\", batch['target_tokens'].shape)\n",
    "test_dataset_pipeline(tokenizer)"
   ]
  },
  {
   "cell_type": "markdown",
   "metadata": {},
   "source": [
    "# Training loop"
   ]
  },
  {
   "cell_type": "code",
   "execution_count": 10,
   "metadata": {},
   "outputs": [],
   "source": [
    "@chex.dataclass(frozen=True)\n",
    "class TrainingConfig:\n",
    "    learning_rate: float = 1e-4\n",
    "    num_epochs: int = 1\n",
    "    max_steps: int | None = 5\n",
    "    batch_size: int = 32\n",
    "    seq_length: int = 64\n",
    "    dataset_size_limit: int | None = 32\n",
    "    print_every_n_steps: int = 1\n",
    "    eval_every_n_steps: int = 1000\n",
    "    max_eval_steps: int | None = 1\n",
    "\n",
    "\n",
    "training_cfg = TrainingConfig()\n",
    "optimizer = optax.sgd(training_cfg.learning_rate)"
   ]
  },
  {
   "cell_type": "code",
   "execution_count": 11,
   "metadata": {},
   "outputs": [
    {
     "data": {
      "application/vnd.jupyter.widget-view+json": {
       "model_id": "dffde4c27d8940b088e38149db88e9c0",
       "version_major": 2,
       "version_minor": 0
      },
      "text/plain": [
       "Map:   0%|          | 0/27 [00:00<?, ? examples/s]"
      ]
     },
     "metadata": {},
     "output_type": "display_data"
    },
    {
     "data": {
      "application/vnd.jupyter.widget-view+json": {
       "model_id": "9151aed1d77642e1a00425e96e661c3a",
       "version_major": 2,
       "version_minor": 0
      },
      "text/plain": [
       "Map:   0%|          | 0/5 [00:00<?, ? examples/s]"
      ]
     },
     "metadata": {},
     "output_type": "display_data"
    }
   ],
   "source": [
    "# Prepare dataset\n",
    "train_dataloader, val_dataloader = get_dataset(\n",
    "    tokenizer=tokenizer,\n",
    "    seq_length=training_cfg.seq_length,\n",
    "    max_examples=training_cfg.dataset_size_limit,\n",
    ")"
   ]
  },
  {
   "cell_type": "code",
   "execution_count": 12,
   "metadata": {},
   "outputs": [
    {
     "name": "stdout",
     "output_type": "stream",
     "text": [
      "\n",
      "Training Configuration Summary:\n",
      "Total samples: 27\n",
      "Batch size: 32\n",
      "Number of epochs: 1\n",
      "Steps per epoch: 1\n",
      "Total training steps: 1\n"
     ]
    }
   ],
   "source": [
    "# Calculate and print training steps information\n",
    "total_samples = len(train_dataloader.dataset)\n",
    "batch_size = training_cfg.batch_size\n",
    "steps_per_epoch = (total_samples + batch_size - 1) // batch_size\n",
    "total_steps = steps_per_epoch * training_cfg.num_epochs\n",
    "\n",
    "if training_cfg.max_steps:\n",
    "    total_steps = min(total_steps, training_cfg.max_steps)\n",
    "\n",
    "print(\"\\nTraining Configuration Summary:\")\n",
    "print(f\"Total samples: {total_samples}\")\n",
    "print(f\"Batch size: {batch_size}\")\n",
    "print(f\"Number of epochs: {training_cfg.num_epochs}\")\n",
    "print(f\"Steps per epoch: {steps_per_epoch}\")\n",
    "print(f\"Total training steps: {total_steps}\")\n",
    "if training_cfg.max_steps and total_steps == training_cfg.max_steps:\n",
    "    print(\n",
    "        f\"*Note*: Total steps limited by max_steps setting ({training_cfg.max_steps})\"\n",
    "    )"
   ]
  },
  {
   "cell_type": "code",
   "execution_count": 13,
   "metadata": {
    "scrolled": true
   },
   "outputs": [
    {
     "name": "stdout",
     "output_type": "stream",
     "text": [
      "Loading causal language model...\n",
      "> \u001b[0;32m/home/roadrunnerx-fork/llama3_jax/trainer_engine/trainer_lib.py\u001b[0m(98)\u001b[0;36msetup\u001b[0;34m()\u001b[0m\n",
      "\u001b[0;32m     96 \u001b[0;31m            \u001b[0;32mif\u001b[0m \u001b[0mself\u001b[0m\u001b[0;34m.\u001b[0m\u001b[0mmodel_params\u001b[0m \u001b[0;32mis\u001b[0m \u001b[0;32mNone\u001b[0m\u001b[0;34m:\u001b[0m\u001b[0;34m\u001b[0m\u001b[0;34m\u001b[0m\u001b[0m\n",
      "\u001b[0m\u001b[0;32m     97 \u001b[0;31m                \u001b[0mpdb\u001b[0m\u001b[0;34m.\u001b[0m\u001b[0mset_trace\u001b[0m\u001b[0;34m(\u001b[0m\u001b[0;34m)\u001b[0m\u001b[0;34m\u001b[0m\u001b[0;34m\u001b[0m\u001b[0m\n",
      "\u001b[0m\u001b[0;32m---> 98 \u001b[0;31m                _, self.model_params = self.checkpointer.load_trainstate_checkpoint(\n",
      "\u001b[0m\u001b[0;32m     99 \u001b[0;31m                    \u001b[0;34m\"params::\"\u001b[0m \u001b[0;34m+\u001b[0m \u001b[0mself\u001b[0m\u001b[0;34m.\u001b[0m\u001b[0mmodel_ckpt_path\u001b[0m\u001b[0;34m,\u001b[0m \u001b[0mself\u001b[0m\u001b[0;34m.\u001b[0m\u001b[0mstate_shapes\u001b[0m\u001b[0;34m,\u001b[0m\u001b[0;34m\u001b[0m\u001b[0;34m\u001b[0m\u001b[0m\n",
      "\u001b[0m\u001b[0;32m    100 \u001b[0;31m                    self.shard_fns)\n",
      "\u001b[0m\n"
     ]
    },
    {
     "name": "stdin",
     "output_type": "stream",
     "text": [
      "ipdb>  self.state\n"
     ]
    },
    {
     "name": "stdout",
     "output_type": "stream",
     "text": [
      "*** AttributeError: 'CausalLMTrainer' object has no attribute 'state'\n"
     ]
    },
    {
     "name": "stdin",
     "output_type": "stream",
     "text": [
      "ipdb>  self.state_shapes\n"
     ]
    },
    {
     "name": "stdout",
     "output_type": "stream",
     "text": [
      "TrainState(step=ShapeDtypeStruct(shape=(), dtype=int32), apply_fn=<bound method Module.apply of CausalLlamaModule(\n",
      "    # attributes\n",
      "    config = PretrainedConfig {\n",
      "      \"attention_dropout\": 0.0,\n",
      "      \"base_model\": \"llama3.1_8b\",\n",
      "      \"embedding_dropout\": 0.0,\n",
      "      \"hidden_size\": 4096,\n",
      "      \"initializer_range\": 0.02,\n",
      "      \"intermediate_size\": 14336,\n",
      "      \"max_position_embeddings\": 8192,\n",
      "      \"num_attention_heads\": 32,\n",
      "      \"num_hidden_layers\": 32,\n",
      "      \"num_key_value_heads\": 8,\n",
      "      \"residue_dropout\": 0.0,\n",
      "      \"rms_norm_eps\": 1e-05,\n",
      "      \"rope_theta\": 500000.0,\n",
      "      \"transformers_version\": \"4.43.3\",\n",
      "      \"vocab_size\": 128256\n",
      "    }\n",
      "    \n",
      "    dtype = float32\n",
      "    param_dtype = float32\n",
      "    precision = None\n",
      ")>, params={'params': {'lm_head': {'kernel': ShapeDtypeStruct(shape=(4096, 128256), dtype=float32)}, 'transformer': {'h': {'0': {'attention': {'wk': {'kernel': ShapeDtypeStruct(shape=(4096, 1024), dtype=float32)}, 'wo': {'kernel': ShapeDtypeStruct(shape=(4096, 4096), dtype=float32)}, 'wq': {'kernel': ShapeDtypeStruct(shape=(4096, 4096), dtype=float32)}, 'wv': {'kernel': ShapeDtypeStruct(shape=(4096, 1024), dtype=float32)}}, 'attention_norm': {'kernel': ShapeDtypeStruct(shape=(4096,), dtype=float32)}, 'feed_forward': {'w1': {'kernel': ShapeDtypeStruct(shape=(4096, 14336), dtype=float32)}, 'w2': {'kernel': ShapeDtypeStruct(shape=(14336, 4096), dtype=float32)}, 'w3': {'kernel': ShapeDtypeStruct(shape=(4096, 14336), dtype=float32)}}, 'ffn_norm': {'kernel': ShapeDtypeStruct(shape=(4096,), dtype=float32)}}, '1': {'attention': {'wk': {'kernel': ShapeDtypeStruct(shape=(4096, 1024), dtype=float32)}, 'wo': {'kernel': ShapeDtypeStruct(shape=(4096, 4096), dtype=float32)}, 'wq': {'kernel': ShapeDtypeStruct(shape=(4096, 4096), dtype=float32)}, 'wv': {'kernel': ShapeDtypeStruct(shape=(4096, 1024), dtype=float32)}}, 'attention_norm': {'kernel': ShapeDtypeStruct(shape=(4096,), dtype=float32)}, 'feed_forward': {'w1': {'kernel': ShapeDtypeStruct(shape=(4096, 14336), dtype=float32)}, 'w2': {'kernel': ShapeDtypeStruct(shape=(14336, 4096), dtype=float32)}, 'w3': {'kernel': ShapeDtypeStruct(shape=(4096, 14336), dtype=float32)}}, 'ffn_norm': {'kernel': ShapeDtypeStruct(shape=(4096,), dtype=float32)}}, '10': {'attention': {'wk': {'kernel': ShapeDtypeStruct(shape=(4096, 1024), dtype=float32)}, 'wo': {'kernel': ShapeDtypeStruct(shape=(4096, 4096), dtype=float32)}, 'wq': {'kernel': ShapeDtypeStruct(shape=(4096, 4096), dtype=float32)}, 'wv': {'kernel': ShapeDtypeStruct(shape=(4096, 1024), dtype=float32)}}, 'attention_norm': {'kernel': ShapeDtypeStruct(shape=(4096,), dtype=float32)}, 'feed_forward': {'w1': {'kernel': ShapeDtypeStruct(shape=(4096, 14336), dtype=float32)}, 'w2': {'kernel': ShapeDtypeStruct(shape=(14336, 4096), dtype=float32)}, 'w3': {'kernel': ShapeDtypeStruct(shape=(4096, 14336), dtype=float32)}}, 'ffn_norm': {'kernel': ShapeDtypeStruct(shape=(4096,), dtype=float32)}}, '11': {'attention': {'wk': {'kernel': ShapeDtypeStruct(shape=(4096, 1024), dtype=float32)}, 'wo': {'kernel': ShapeDtypeStruct(shape=(4096, 4096), dtype=float32)}, 'wq': {'kernel': ShapeDtypeStruct(shape=(4096, 4096), dtype=float32)}, 'wv': {'kernel': ShapeDtypeStruct(shape=(4096, 1024), dtype=float32)}}, 'attention_norm': {'kernel': ShapeDtypeStruct(shape=(4096,), dtype=float32)}, 'feed_forward': {'w1': {'kernel': ShapeDtypeStruct(shape=(4096, 14336), dtype=float32)}, 'w2': {'kernel': ShapeDtypeStruct(shape=(14336, 4096), dtype=float32)}, 'w3': {'kernel': ShapeDtypeStruct(shape=(4096, 14336), dtype=float32)}}, 'ffn_norm': {'kernel': ShapeDtypeStruct(shape=(4096,), dtype=float32)}}, '12': {'attention': {'wk': {'kernel': ShapeDtypeStruct(shape=(4096, 1024), dtype=float32)}, 'wo': {'kernel': ShapeDtypeStruct(shape=(4096, 4096), dtype=float32)}, 'wq': {'kernel': ShapeDtypeStruct(shape=(4096, 4096), dtype=float32)}, 'wv': {'kernel': ShapeDtypeStruct(shape=(4096, 1024), dtype=float32)}}, 'attention_norm': {'kernel': ShapeDtypeStruct(shape=(4096,), dtype=float32)}, 'feed_forward': {'w1': {'kernel': ShapeDtypeStruct(shape=(4096, 14336), dtype=float32)}, 'w2': {'kernel': ShapeDtypeStruct(shape=(14336, 4096), dtype=float32)}, 'w3': {'kernel': ShapeDtypeStruct(shape=(4096, 14336), dtype=float32)}}, 'ffn_norm': {'kernel': ShapeDtypeStruct(shape=(4096,), dtype=float32)}}, '13': {'attention': {'wk': {'kernel': ShapeDtypeStruct(shape=(4096, 1024), dtype=float32)}, 'wo': {'kernel': ShapeDtypeStruct(shape=(4096, 4096), dtype=float32)}, 'wq': {'kernel': ShapeDtypeStruct(shape=(4096, 4096), dtype=float32)}, 'wv': {'kernel': ShapeDtypeStruct(shape=(4096, 1024), dtype=float32)}}, 'attention_norm': {'kernel': ShapeDtypeStruct(shape=(4096,), dtype=float32)}, 'feed_forward': {'w1': {'kernel': ShapeDtypeStruct(shape=(4096, 14336), dtype=float32)}, 'w2': {'kernel': ShapeDtypeStruct(shape=(14336, 4096), dtype=float32)}, 'w3': {'kernel': ShapeDtypeStruct(shape=(4096, 14336), dtype=float32)}}, 'ffn_norm': {'kernel': ShapeDtypeStruct(shape=(4096,), dtype=float32)}}, '14': {'attention': {'wk': {'kernel': ShapeDtypeStruct(shape=(4096, 1024), dtype=float32)}, 'wo': {'kernel': ShapeDtypeStruct(shape=(4096, 4096), dtype=float32)}, 'wq': {'kernel': ShapeDtypeStruct(shape=(4096, 4096), dtype=float32)}, 'wv': {'kernel': ShapeDtypeStruct(shape=(4096, 1024), dtype=float32)}}, 'attention_norm': {'kernel': ShapeDtypeStruct(shape=(4096,), dtype=float32)}, 'feed_forward': {'w1': {'kernel': ShapeDtypeStruct(shape=(4096, 14336), dtype=float32)}, 'w2': {'kernel': ShapeDtypeStruct(shape=(14336, 4096), dtype=float32)}, 'w3': {'kernel': ShapeDtypeStruct(shape=(4096, 14336), dtype=float32)}}, 'ffn_norm': {'kernel': ShapeDtypeStruct(shape=(4096,), dtype=float32)}}, '15': {'attention': {'wk': {'kernel': ShapeDtypeStruct(shape=(4096, 1024), dtype=float32)}, 'wo': {'kernel': ShapeDtypeStruct(shape=(4096, 4096), dtype=float32)}, 'wq': {'kernel': ShapeDtypeStruct(shape=(4096, 4096), dtype=float32)}, 'wv': {'kernel': ShapeDtypeStruct(shape=(4096, 1024), dtype=float32)}}, 'attention_norm': {'kernel': ShapeDtypeStruct(shape=(4096,), dtype=float32)}, 'feed_forward': {'w1': {'kernel': ShapeDtypeStruct(shape=(4096, 14336), dtype=float32)}, 'w2': {'kernel': ShapeDtypeStruct(shape=(14336, 4096), dtype=float32)}, 'w3': {'kernel': ShapeDtypeStruct(shape=(4096, 14336), dtype=float32)}}, 'ffn_norm': {'kernel': ShapeDtypeStruct(shape=(4096,), dtype=float32)}}, '16': {'attention': {'wk': {'kernel': ShapeDtypeStruct(shape=(4096, 1024), dtype=float32)}, 'wo': {'kernel': ShapeDtypeStruct(shape=(4096, 4096), dtype=float32)}, 'wq': {'kernel': ShapeDtypeStruct(shape=(4096, 4096), dtype=float32)}, 'wv': {'kernel': ShapeDtypeStruct(shape=(4096, 1024), dtype=float32)}}, 'attention_norm': {'kernel': ShapeDtypeStruct(shape=(4096,), dtype=float32)}, 'feed_forward': {'w1': {'kernel': ShapeDtypeStruct(shape=(4096, 14336), dtype=float32)}, 'w2': {'kernel': ShapeDtypeStruct(shape=(14336, 4096), dtype=float32)}, 'w3': {'kernel': ShapeDtypeStruct(shape=(4096, 14336), dtype=float32)}}, 'ffn_norm': {'kernel': ShapeDtypeStruct(shape=(4096,), dtype=float32)}}, '17': {'attention': {'wk': {'kernel': ShapeDtypeStruct(shape=(4096, 1024), dtype=float32)}, 'wo': {'kernel': ShapeDtypeStruct(shape=(4096, 4096), dtype=float32)}, 'wq': {'kernel': ShapeDtypeStruct(shape=(4096, 4096), dtype=float32)}, 'wv': {'kernel': ShapeDtypeStruct(shape=(4096, 1024), dtype=float32)}}, 'attention_norm': {'kernel': ShapeDtypeStruct(shape=(4096,), dtype=float32)}, 'feed_forward': {'w1': {'kernel': ShapeDtypeStruct(shape=(4096, 14336), dtype=float32)}, 'w2': {'kernel': ShapeDtypeStruct(shape=(14336, 4096), dtype=float32)}, 'w3': {'kernel': ShapeDtypeStruct(shape=(4096, 14336), dtype=float32)}}, 'ffn_norm': {'kernel': ShapeDtypeStruct(shape=(4096,), dtype=float32)}}, '18': {'attention': {'wk': {'kernel': ShapeDtypeStruct(shape=(4096, 1024), dtype=float32)}, 'wo': {'kernel': ShapeDtypeStruct(shape=(4096, 4096), dtype=float32)}, 'wq': {'kernel': ShapeDtypeStruct(shape=(4096, 4096), dtype=float32)}, 'wv': {'kernel': ShapeDtypeStruct(shape=(4096, 1024), dtype=float32)}}, 'attention_norm': {'kernel': ShapeDtypeStruct(shape=(4096,), dtype=float32)}, 'feed_forward': {'w1': {'kernel': ShapeDtypeStruct(shape=(4096, 14336), dtype=float32)}, 'w2': {'kernel': ShapeDtypeStruct(shape=(14336, 4096), dtype=float32)}, 'w3': {'kernel': ShapeDtypeStruct(shape=(4096, 14336), dtype=float32)}}, 'ffn_norm': {'kernel': ShapeDtypeStruct(shape=(4096,), dtype=float32)}}, '19': {'attention': {'wk': {'kernel': ShapeDtypeStruct(shape=(4096, 1024), dtype=float32)}, 'wo': {'kernel': ShapeDtypeStruct(shape=(4096, 4096), dtype=float32)}, 'wq': {'kernel': ShapeDtypeStruct(shape=(4096, 4096), dtype=float32)}, 'wv': {'kernel': ShapeDtypeStruct(shape=(4096, 1024), dtype=float32)}}, 'attention_norm': {'kernel': ShapeDtypeStruct(shape=(4096,), dtype=float32)}, 'feed_forward': {'w1': {'kernel': ShapeDtypeStruct(shape=(4096, 14336), dtype=float32)}, 'w2': {'kernel': ShapeDtypeStruct(shape=(14336, 4096), dtype=float32)}, 'w3': {'kernel': ShapeDtypeStruct(shape=(4096, 14336), dtype=float32)}}, 'ffn_norm': {'kernel': ShapeDtypeStruct(shape=(4096,), dtype=float32)}}, '2': {'attention': {'wk': {'kernel': ShapeDtypeStruct(shape=(4096, 1024), dtype=float32)}, 'wo': {'kernel': ShapeDtypeStruct(shape=(4096, 4096), dtype=float32)}, 'wq': {'kernel': ShapeDtypeStruct(shape=(4096, 4096), dtype=float32)}, 'wv': {'kernel': ShapeDtypeStruct(shape=(4096, 1024), dtype=float32)}}, 'attention_norm': {'kernel': ShapeDtypeStruct(shape=(4096,), dtype=float32)}, 'feed_forward': {'w1': {'kernel': ShapeDtypeStruct(shape=(4096, 14336), dtype=float32)}, 'w2': {'kernel': ShapeDtypeStruct(shape=(14336, 4096), dtype=float32)}, 'w3': {'kernel': ShapeDtypeStruct(shape=(4096, 14336), dtype=float32)}}, 'ffn_norm': {'kernel': ShapeDtypeStruct(shape=(4096,), dtype=float32)}}, '20': {'attention': {'wk': {'kernel': ShapeDtypeStruct(shape=(4096, 1024), dtype=float32)}, 'wo': {'kernel': ShapeDtypeStruct(shape=(4096, 4096), dtype=float32)}, 'wq': {'kernel': ShapeDtypeStruct(shape=(4096, 4096), dtype=float32)}, 'wv': {'kernel': ShapeDtypeStruct(shape=(4096, 1024), dtype=float32)}}, 'attention_norm': {'kernel': ShapeDtypeStruct(shape=(4096,), dtype=float32)}, 'feed_forward': {'w1': {'kernel': ShapeDtypeStruct(shape=(4096, 14336), dtype=float32)}, 'w2': {'kernel': ShapeDtypeStruct(shape=(14336, 4096), dtype=float32)}, 'w3': {'kernel': ShapeDtypeStruct(shape=(4096, 14336), dtype=float32)}}, 'ffn_norm': {'kernel': ShapeDtypeStruct(shape=(4096,), dtype=float32)}}, '21': {'attention': {'wk': {'kernel': ShapeDtypeStruct(shape=(4096, 1024), dtype=float32)}, 'wo': {'kernel': ShapeDtypeStruct(shape=(4096, 4096), dtype=float32)}, 'wq': {'kernel': ShapeDtypeStruct(shape=(4096, 4096), dtype=float32)}, 'wv': {'kernel': ShapeDtypeStruct(shape=(4096, 1024), dtype=float32)}}, 'attention_norm': {'kernel': ShapeDtypeStruct(shape=(4096,), dtype=float32)}, 'feed_forward': {'w1': {'kernel': ShapeDtypeStruct(shape=(4096, 14336), dtype=float32)}, 'w2': {'kernel': ShapeDtypeStruct(shape=(14336, 4096), dtype=float32)}, 'w3': {'kernel': ShapeDtypeStruct(shape=(4096, 14336), dtype=float32)}}, 'ffn_norm': {'kernel': ShapeDtypeStruct(shape=(4096,), dtype=float32)}}, '22': {'attention': {'wk': {'kernel': ShapeDtypeStruct(shape=(4096, 1024), dtype=float32)}, 'wo': {'kernel': ShapeDtypeStruct(shape=(4096, 4096), dtype=float32)}, 'wq': {'kernel': ShapeDtypeStruct(shape=(4096, 4096), dtype=float32)}, 'wv': {'kernel': ShapeDtypeStruct(shape=(4096, 1024), dtype=float32)}}, 'attention_norm': {'kernel': ShapeDtypeStruct(shape=(4096,), dtype=float32)}, 'feed_forward': {'w1': {'kernel': ShapeDtypeStruct(shape=(4096, 14336), dtype=float32)}, 'w2': {'kernel': ShapeDtypeStruct(shape=(14336, 4096), dtype=float32)}, 'w3': {'kernel': ShapeDtypeStruct(shape=(4096, 14336), dtype=float32)}}, 'ffn_norm': {'kernel': ShapeDtypeStruct(shape=(4096,), dtype=float32)}}, '23': {'attention': {'wk': {'kernel': ShapeDtypeStruct(shape=(4096, 1024), dtype=float32)}, 'wo': {'kernel': ShapeDtypeStruct(shape=(4096, 4096), dtype=float32)}, 'wq': {'kernel': ShapeDtypeStruct(shape=(4096, 4096), dtype=float32)}, 'wv': {'kernel': ShapeDtypeStruct(shape=(4096, 1024), dtype=float32)}}, 'attention_norm': {'kernel': ShapeDtypeStruct(shape=(4096,), dtype=float32)}, 'feed_forward': {'w1': {'kernel': ShapeDtypeStruct(shape=(4096, 14336), dtype=float32)}, 'w2': {'kernel': ShapeDtypeStruct(shape=(14336, 4096), dtype=float32)}, 'w3': {'kernel': ShapeDtypeStruct(shape=(4096, 14336), dtype=float32)}}, 'ffn_norm': {'kernel': ShapeDtypeStruct(shape=(4096,), dtype=float32)}}, '24': {'attention': {'wk': {'kernel': ShapeDtypeStruct(shape=(4096, 1024), dtype=float32)}, 'wo': {'kernel': ShapeDtypeStruct(shape=(4096, 4096), dtype=float32)}, 'wq': {'kernel': ShapeDtypeStruct(shape=(4096, 4096), dtype=float32)}, 'wv': {'kernel': ShapeDtypeStruct(shape=(4096, 1024), dtype=float32)}}, 'attention_norm': {'kernel': ShapeDtypeStruct(shape=(4096,), dtype=float32)}, 'feed_forward': {'w1': {'kernel': ShapeDtypeStruct(shape=(4096, 14336), dtype=float32)}, 'w2': {'kernel': ShapeDtypeStruct(shape=(14336, 4096), dtype=float32)}, 'w3': {'kernel': ShapeDtypeStruct(shape=(4096, 14336), dtype=float32)}}, 'ffn_norm': {'kernel': ShapeDtypeStruct(shape=(4096,), dtype=float32)}}, '25': {'attention': {'wk': {'kernel': ShapeDtypeStruct(shape=(4096, 1024), dtype=float32)}, 'wo': {'kernel': ShapeDtypeStruct(shape=(4096, 4096), dtype=float32)}, 'wq': {'kernel': ShapeDtypeStruct(shape=(4096, 4096), dtype=float32)}, 'wv': {'kernel': ShapeDtypeStruct(shape=(4096, 1024), dtype=float32)}}, 'attention_norm': {'kernel': ShapeDtypeStruct(shape=(4096,), dtype=float32)}, 'feed_forward': {'w1': {'kernel': ShapeDtypeStruct(shape=(4096, 14336), dtype=float32)}, 'w2': {'kernel': ShapeDtypeStruct(shape=(14336, 4096), dtype=float32)}, 'w3': {'kernel': ShapeDtypeStruct(shape=(4096, 14336), dtype=float32)}}, 'ffn_norm': {'kernel': ShapeDtypeStruct(shape=(4096,), dtype=float32)}}, '26': {'attention': {'wk': {'kernel': ShapeDtypeStruct(shape=(4096, 1024), dtype=float32)}, 'wo': {'kernel': ShapeDtypeStruct(shape=(4096, 4096), dtype=float32)}, 'wq': {'kernel': ShapeDtypeStruct(shape=(4096, 4096), dtype=float32)}, 'wv': {'kernel': ShapeDtypeStruct(shape=(4096, 1024), dtype=float32)}}, 'attention_norm': {'kernel': ShapeDtypeStruct(shape=(4096,), dtype=float32)}, 'feed_forward': {'w1': {'kernel': ShapeDtypeStruct(shape=(4096, 14336), dtype=float32)}, 'w2': {'kernel': ShapeDtypeStruct(shape=(14336, 4096), dtype=float32)}, 'w3': {'kernel': ShapeDtypeStruct(shape=(4096, 14336), dtype=float32)}}, 'ffn_norm': {'kernel': ShapeDtypeStruct(shape=(4096,), dtype=float32)}}, '27': {'attention': {'wk': {'kernel': ShapeDtypeStruct(shape=(4096, 1024), dtype=float32)}, 'wo': {'kernel': ShapeDtypeStruct(shape=(4096, 4096), dtype=float32)}, 'wq': {'kernel': ShapeDtypeStruct(shape=(4096, 4096), dtype=float32)}, 'wv': {'kernel': ShapeDtypeStruct(shape=(4096, 1024), dtype=float32)}}, 'attention_norm': {'kernel': ShapeDtypeStruct(shape=(4096,), dtype=float32)}, 'feed_forward': {'w1': {'kernel': ShapeDtypeStruct(shape=(4096, 14336), dtype=float32)}, 'w2': {'kernel': ShapeDtypeStruct(shape=(14336, 4096), dtype=float32)}, 'w3': {'kernel': ShapeDtypeStruct(shape=(4096, 14336), dtype=float32)}}, 'ffn_norm': {'kernel': ShapeDtypeStruct(shape=(4096,), dtype=float32)}}, '28': {'attention': {'wk': {'kernel': ShapeDtypeStruct(shape=(4096, 1024), dtype=float32)}, 'wo': {'kernel': ShapeDtypeStruct(shape=(4096, 4096), dtype=float32)}, 'wq': {'kernel': ShapeDtypeStruct(shape=(4096, 4096), dtype=float32)}, 'wv': {'kernel': ShapeDtypeStruct(shape=(4096, 1024), dtype=float32)}}, 'attention_norm': {'kernel': ShapeDtypeStruct(shape=(4096,), dtype=float32)}, 'feed_forward': {'w1': {'kernel': ShapeDtypeStruct(shape=(4096, 14336), dtype=float32)}, 'w2': {'kernel': ShapeDtypeStruct(shape=(14336, 4096), dtype=float32)}, 'w3': {'kernel': ShapeDtypeStruct(shape=(4096, 14336), dtype=float32)}}, 'ffn_norm': {'kernel': ShapeDtypeStruct(shape=(4096,), dtype=float32)}}, '29': {'attention': {'wk': {'kernel': ShapeDtypeStruct(shape=(4096, 1024), dtype=float32)}, 'wo': {'kernel': ShapeDtypeStruct(shape=(4096, 4096), dtype=float32)}, 'wq': {'kernel': ShapeDtypeStruct(shape=(4096, 4096), dtype=float32)}, 'wv': {'kernel': ShapeDtypeStruct(shape=(4096, 1024), dtype=float32)}}, 'attention_norm': {'kernel': ShapeDtypeStruct(shape=(4096,), dtype=float32)}, 'feed_forward': {'w1': {'kernel': ShapeDtypeStruct(shape=(4096, 14336), dtype=float32)}, 'w2': {'kernel': ShapeDtypeStruct(shape=(14336, 4096), dtype=float32)}, 'w3': {'kernel': ShapeDtypeStruct(shape=(4096, 14336), dtype=float32)}}, 'ffn_norm': {'kernel': ShapeDtypeStruct(shape=(4096,), dtype=float32)}}, '3': {'attention': {'wk': {'kernel': ShapeDtypeStruct(shape=(4096, 1024), dtype=float32)}, 'wo': {'kernel': ShapeDtypeStruct(shape=(4096, 4096), dtype=float32)}, 'wq': {'kernel': ShapeDtypeStruct(shape=(4096, 4096), dtype=float32)}, 'wv': {'kernel': ShapeDtypeStruct(shape=(4096, 1024), dtype=float32)}}, 'attention_norm': {'kernel': ShapeDtypeStruct(shape=(4096,), dtype=float32)}, 'feed_forward': {'w1': {'kernel': ShapeDtypeStruct(shape=(4096, 14336), dtype=float32)}, 'w2': {'kernel': ShapeDtypeStruct(shape=(14336, 4096), dtype=float32)}, 'w3': {'kernel': ShapeDtypeStruct(shape=(4096, 14336), dtype=float32)}}, 'ffn_norm': {'kernel': ShapeDtypeStruct(shape=(4096,), dtype=float32)}}, '30': {'attention': {'wk': {'kernel': ShapeDtypeStruct(shape=(4096, 1024), dtype=float32)}, 'wo': {'kernel': ShapeDtypeStruct(shape=(4096, 4096), dtype=float32)}, 'wq': {'kernel': ShapeDtypeStruct(shape=(4096, 4096), dtype=float32)}, 'wv': {'kernel': ShapeDtypeStruct(shape=(4096, 1024), dtype=float32)}}, 'attention_norm': {'kernel': ShapeDtypeStruct(shape=(4096,), dtype=float32)}, 'feed_forward': {'w1': {'kernel': ShapeDtypeStruct(shape=(4096, 14336), dtype=float32)}, 'w2': {'kernel': ShapeDtypeStruct(shape=(14336, 4096), dtype=float32)}, 'w3': {'kernel': ShapeDtypeStruct(shape=(4096, 14336), dtype=float32)}}, 'ffn_norm': {'kernel': ShapeDtypeStruct(shape=(4096,), dtype=float32)}}, '31': {'attention': {'wk': {'kernel': ShapeDtypeStruct(shape=(4096, 1024), dtype=float32)}, 'wo': {'kernel': ShapeDtypeStruct(shape=(4096, 4096), dtype=float32)}, 'wq': {'kernel': ShapeDtypeStruct(shape=(4096, 4096), dtype=float32)}, 'wv': {'kernel': ShapeDtypeStruct(shape=(4096, 1024), dtype=float32)}}, 'attention_norm': {'kernel': ShapeDtypeStruct(shape=(4096,), dtype=float32)}, 'feed_forward': {'w1': {'kernel': ShapeDtypeStruct(shape=(4096, 14336), dtype=float32)}, 'w2': {'kernel': ShapeDtypeStruct(shape=(14336, 4096), dtype=float32)}, 'w3': {'kernel': ShapeDtypeStruct(shape=(4096, 14336), dtype=float32)}}, 'ffn_norm': {'kernel': ShapeDtypeStruct(shape=(4096,), dtype=float32)}}, '4': {'attention': {'wk': {'kernel': ShapeDtypeStruct(shape=(4096, 1024), dtype=float32)}, 'wo': {'kernel': ShapeDtypeStruct(shape=(4096, 4096), dtype=float32)}, 'wq': {'kernel': ShapeDtypeStruct(shape=(4096, 4096), dtype=float32)}, 'wv': {'kernel': ShapeDtypeStruct(shape=(4096, 1024), dtype=float32)}}, 'attention_norm': {'kernel': ShapeDtypeStruct(shape=(4096,), dtype=float32)}, 'feed_forward': {'w1': {'kernel': ShapeDtypeStruct(shape=(4096, 14336), dtype=float32)}, 'w2': {'kernel': ShapeDtypeStruct(shape=(14336, 4096), dtype=float32)}, 'w3': {'kernel': ShapeDtypeStruct(shape=(4096, 14336), dtype=float32)}}, 'ffn_norm': {'kernel': ShapeDtypeStruct(shape=(4096,), dtype=float32)}}, '5': {'attention': {'wk': {'kernel': ShapeDtypeStruct(shape=(4096, 1024), dtype=float32)}, 'wo': {'kernel': ShapeDtypeStruct(shape=(4096, 4096), dtype=float32)}, 'wq': {'kernel': ShapeDtypeStruct(shape=(4096, 4096), dtype=float32)}, 'wv': {'kernel': ShapeDtypeStruct(shape=(4096, 1024), dtype=float32)}}, 'attention_norm': {'kernel': ShapeDtypeStruct(shape=(4096,), dtype=float32)}, 'feed_forward': {'w1': {'kernel': ShapeDtypeStruct(shape=(4096, 14336), dtype=float32)}, 'w2': {'kernel': ShapeDtypeStruct(shape=(14336, 4096), dtype=float32)}, 'w3': {'kernel': ShapeDtypeStruct(shape=(4096, 14336), dtype=float32)}}, 'ffn_norm': {'kernel': ShapeDtypeStruct(shape=(4096,), dtype=float32)}}, '6': {'attention': {'wk': {'kernel': ShapeDtypeStruct(shape=(4096, 1024), dtype=float32)}, 'wo': {'kernel': ShapeDtypeStruct(shape=(4096, 4096), dtype=float32)}, 'wq': {'kernel': ShapeDtypeStruct(shape=(4096, 4096), dtype=float32)}, 'wv': {'kernel': ShapeDtypeStruct(shape=(4096, 1024), dtype=float32)}}, 'attention_norm': {'kernel': ShapeDtypeStruct(shape=(4096,), dtype=float32)}, 'feed_forward': {'w1': {'kernel': ShapeDtypeStruct(shape=(4096, 14336), dtype=float32)}, 'w2': {'kernel': ShapeDtypeStruct(shape=(14336, 4096), dtype=float32)}, 'w3': {'kernel': ShapeDtypeStruct(shape=(4096, 14336), dtype=float32)}}, 'ffn_norm': {'kernel': ShapeDtypeStruct(shape=(4096,), dtype=float32)}}, '7': {'attention': {'wk': {'kernel': ShapeDtypeStruct(shape=(4096, 1024), dtype=float32)}, 'wo': {'kernel': ShapeDtypeStruct(shape=(4096, 4096), dtype=float32)}, 'wq': {'kernel': ShapeDtypeStruct(shape=(4096, 4096), dtype=float32)}, 'wv': {'kernel': ShapeDtypeStruct(shape=(4096, 1024), dtype=float32)}}, 'attention_norm': {'kernel': ShapeDtypeStruct(shape=(4096,), dtype=float32)}, 'feed_forward': {'w1': {'kernel': ShapeDtypeStruct(shape=(4096, 14336), dtype=float32)}, 'w2': {'kernel': ShapeDtypeStruct(shape=(14336, 4096), dtype=float32)}, 'w3': {'kernel': ShapeDtypeStruct(shape=(4096, 14336), dtype=float32)}}, 'ffn_norm': {'kernel': ShapeDtypeStruct(shape=(4096,), dtype=float32)}}, '8': {'attention': {'wk': {'kernel': ShapeDtypeStruct(shape=(4096, 1024), dtype=float32)}, 'wo': {'kernel': ShapeDtypeStruct(shape=(4096, 4096), dtype=float32)}, 'wq': {'kernel': ShapeDtypeStruct(shape=(4096, 4096), dtype=float32)}, 'wv': {'kernel': ShapeDtypeStruct(shape=(4096, 1024), dtype=float32)}}, 'attention_norm': {'kernel': ShapeDtypeStruct(shape=(4096,), dtype=float32)}, 'feed_forward': {'w1': {'kernel': ShapeDtypeStruct(shape=(4096, 14336), dtype=float32)}, 'w2': {'kernel': ShapeDtypeStruct(shape=(14336, 4096), dtype=float32)}, 'w3': {'kernel': ShapeDtypeStruct(shape=(4096, 14336), dtype=float32)}}, 'ffn_norm': {'kernel': ShapeDtypeStruct(shape=(4096,), dtype=float32)}}, '9': {'attention': {'wk': {'kernel': ShapeDtypeStruct(shape=(4096, 1024), dtype=float32)}, 'wo': {'kernel': ShapeDtypeStruct(shape=(4096, 4096), dtype=float32)}, 'wq': {'kernel': ShapeDtypeStruct(shape=(4096, 4096), dtype=float32)}, 'wv': {'kernel': ShapeDtypeStruct(shape=(4096, 1024), dtype=float32)}}, 'attention_norm': {'kernel': ShapeDtypeStruct(shape=(4096,), dtype=float32)}, 'feed_forward': {'w1': {'kernel': ShapeDtypeStruct(shape=(4096, 14336), dtype=float32)}, 'w2': {'kernel': ShapeDtypeStruct(shape=(14336, 4096), dtype=float32)}, 'w3': {'kernel': ShapeDtypeStruct(shape=(4096, 14336), dtype=float32)}}, 'ffn_norm': {'kernel': ShapeDtypeStruct(shape=(4096,), dtype=float32)}}}, 'ln_f': {'kernel': ShapeDtypeStruct(shape=(4096,), dtype=float32)}, 'wte': {'embedding': ShapeDtypeStruct(shape=(128256, 4096), dtype=float32)}}}}, tx=GradientTransformationExtraArgs(init=<function chain.<locals>.init_fn at 0x7fd3807ca680>, update=<function chain.<locals>.update_fn at 0x7fd3807ca830>), opt_state=(EmptyState(), EmptyState()))\n"
     ]
    },
    {
     "name": "stdin",
     "output_type": "stream",
     "text": [
      "ipdb>  c\n"
     ]
    },
    {
     "name": "stdout",
     "output_type": "stream",
     "text": [
      "> \u001b[0;32m/home/roadrunnerx-fork/llama3_jax/trainer_engine/checkpoint_lib.py\u001b[0m(306)\u001b[0;36mload_trainstate_checkpoint\u001b[0;34m()\u001b[0m\n",
      "\u001b[0;32m    304 \u001b[0;31m            \u001b[0;31m# Load the params in the streaming format\u001b[0m\u001b[0;34m\u001b[0m\u001b[0;34m\u001b[0m\u001b[0m\n",
      "\u001b[0m\u001b[0;32m    305 \u001b[0;31m            \u001b[0mpdb\u001b[0m\u001b[0;34m.\u001b[0m\u001b[0mset_trace\u001b[0m\u001b[0;34m(\u001b[0m\u001b[0;34m)\u001b[0m\u001b[0;34m\u001b[0m\u001b[0;34m\u001b[0m\u001b[0m\n",
      "\u001b[0m\u001b[0;32m--> 306 \u001b[0;31m            restored_params = cls.load_checkpoint(\n",
      "\u001b[0m\u001b[0;32m    307 \u001b[0;31m                \u001b[0mpath\u001b[0m\u001b[0;34m=\u001b[0m\u001b[0mload_path\u001b[0m\u001b[0;34m,\u001b[0m\u001b[0;34m\u001b[0m\u001b[0;34m\u001b[0m\u001b[0m\n",
      "\u001b[0m\u001b[0;32m    308 \u001b[0;31m                \u001b[0mtarget\u001b[0m\u001b[0;34m=\u001b[0m\u001b[0mparams_target\u001b[0m\u001b[0;34m,\u001b[0m\u001b[0;34m\u001b[0m\u001b[0;34m\u001b[0m\u001b[0m\n",
      "\u001b[0m\n"
     ]
    },
    {
     "name": "stdin",
     "output_type": "stream",
     "text": [
      "ipdb>  params_target\n"
     ]
    },
    {
     "name": "stdout",
     "output_type": "stream",
     "text": [
      "{'lm_head': {'kernel': ShapeDtypeStruct(shape=(4096, 128256), dtype=float32)}, 'transformer': {'h': {'0': {'attention': {'wk': {'kernel': ShapeDtypeStruct(shape=(4096, 1024), dtype=float32)}, 'wo': {'kernel': ShapeDtypeStruct(shape=(4096, 4096), dtype=float32)}, 'wq': {'kernel': ShapeDtypeStruct(shape=(4096, 4096), dtype=float32)}, 'wv': {'kernel': ShapeDtypeStruct(shape=(4096, 1024), dtype=float32)}}, 'attention_norm': {'kernel': ShapeDtypeStruct(shape=(4096,), dtype=float32)}, 'feed_forward': {'w1': {'kernel': ShapeDtypeStruct(shape=(4096, 14336), dtype=float32)}, 'w2': {'kernel': ShapeDtypeStruct(shape=(14336, 4096), dtype=float32)}, 'w3': {'kernel': ShapeDtypeStruct(shape=(4096, 14336), dtype=float32)}}, 'ffn_norm': {'kernel': ShapeDtypeStruct(shape=(4096,), dtype=float32)}}, '1': {'attention': {'wk': {'kernel': ShapeDtypeStruct(shape=(4096, 1024), dtype=float32)}, 'wo': {'kernel': ShapeDtypeStruct(shape=(4096, 4096), dtype=float32)}, 'wq': {'kernel': ShapeDtypeStruct(shape=(4096, 4096), dtype=float32)}, 'wv': {'kernel': ShapeDtypeStruct(shape=(4096, 1024), dtype=float32)}}, 'attention_norm': {'kernel': ShapeDtypeStruct(shape=(4096,), dtype=float32)}, 'feed_forward': {'w1': {'kernel': ShapeDtypeStruct(shape=(4096, 14336), dtype=float32)}, 'w2': {'kernel': ShapeDtypeStruct(shape=(14336, 4096), dtype=float32)}, 'w3': {'kernel': ShapeDtypeStruct(shape=(4096, 14336), dtype=float32)}}, 'ffn_norm': {'kernel': ShapeDtypeStruct(shape=(4096,), dtype=float32)}}, '10': {'attention': {'wk': {'kernel': ShapeDtypeStruct(shape=(4096, 1024), dtype=float32)}, 'wo': {'kernel': ShapeDtypeStruct(shape=(4096, 4096), dtype=float32)}, 'wq': {'kernel': ShapeDtypeStruct(shape=(4096, 4096), dtype=float32)}, 'wv': {'kernel': ShapeDtypeStruct(shape=(4096, 1024), dtype=float32)}}, 'attention_norm': {'kernel': ShapeDtypeStruct(shape=(4096,), dtype=float32)}, 'feed_forward': {'w1': {'kernel': ShapeDtypeStruct(shape=(4096, 14336), dtype=float32)}, 'w2': {'kernel': ShapeDtypeStruct(shape=(14336, 4096), dtype=float32)}, 'w3': {'kernel': ShapeDtypeStruct(shape=(4096, 14336), dtype=float32)}}, 'ffn_norm': {'kernel': ShapeDtypeStruct(shape=(4096,), dtype=float32)}}, '11': {'attention': {'wk': {'kernel': ShapeDtypeStruct(shape=(4096, 1024), dtype=float32)}, 'wo': {'kernel': ShapeDtypeStruct(shape=(4096, 4096), dtype=float32)}, 'wq': {'kernel': ShapeDtypeStruct(shape=(4096, 4096), dtype=float32)}, 'wv': {'kernel': ShapeDtypeStruct(shape=(4096, 1024), dtype=float32)}}, 'attention_norm': {'kernel': ShapeDtypeStruct(shape=(4096,), dtype=float32)}, 'feed_forward': {'w1': {'kernel': ShapeDtypeStruct(shape=(4096, 14336), dtype=float32)}, 'w2': {'kernel': ShapeDtypeStruct(shape=(14336, 4096), dtype=float32)}, 'w3': {'kernel': ShapeDtypeStruct(shape=(4096, 14336), dtype=float32)}}, 'ffn_norm': {'kernel': ShapeDtypeStruct(shape=(4096,), dtype=float32)}}, '12': {'attention': {'wk': {'kernel': ShapeDtypeStruct(shape=(4096, 1024), dtype=float32)}, 'wo': {'kernel': ShapeDtypeStruct(shape=(4096, 4096), dtype=float32)}, 'wq': {'kernel': ShapeDtypeStruct(shape=(4096, 4096), dtype=float32)}, 'wv': {'kernel': ShapeDtypeStruct(shape=(4096, 1024), dtype=float32)}}, 'attention_norm': {'kernel': ShapeDtypeStruct(shape=(4096,), dtype=float32)}, 'feed_forward': {'w1': {'kernel': ShapeDtypeStruct(shape=(4096, 14336), dtype=float32)}, 'w2': {'kernel': ShapeDtypeStruct(shape=(14336, 4096), dtype=float32)}, 'w3': {'kernel': ShapeDtypeStruct(shape=(4096, 14336), dtype=float32)}}, 'ffn_norm': {'kernel': ShapeDtypeStruct(shape=(4096,), dtype=float32)}}, '13': {'attention': {'wk': {'kernel': ShapeDtypeStruct(shape=(4096, 1024), dtype=float32)}, 'wo': {'kernel': ShapeDtypeStruct(shape=(4096, 4096), dtype=float32)}, 'wq': {'kernel': ShapeDtypeStruct(shape=(4096, 4096), dtype=float32)}, 'wv': {'kernel': ShapeDtypeStruct(shape=(4096, 1024), dtype=float32)}}, 'attention_norm': {'kernel': ShapeDtypeStruct(shape=(4096,), dtype=float32)}, 'feed_forward': {'w1': {'kernel': ShapeDtypeStruct(shape=(4096, 14336), dtype=float32)}, 'w2': {'kernel': ShapeDtypeStruct(shape=(14336, 4096), dtype=float32)}, 'w3': {'kernel': ShapeDtypeStruct(shape=(4096, 14336), dtype=float32)}}, 'ffn_norm': {'kernel': ShapeDtypeStruct(shape=(4096,), dtype=float32)}}, '14': {'attention': {'wk': {'kernel': ShapeDtypeStruct(shape=(4096, 1024), dtype=float32)}, 'wo': {'kernel': ShapeDtypeStruct(shape=(4096, 4096), dtype=float32)}, 'wq': {'kernel': ShapeDtypeStruct(shape=(4096, 4096), dtype=float32)}, 'wv': {'kernel': ShapeDtypeStruct(shape=(4096, 1024), dtype=float32)}}, 'attention_norm': {'kernel': ShapeDtypeStruct(shape=(4096,), dtype=float32)}, 'feed_forward': {'w1': {'kernel': ShapeDtypeStruct(shape=(4096, 14336), dtype=float32)}, 'w2': {'kernel': ShapeDtypeStruct(shape=(14336, 4096), dtype=float32)}, 'w3': {'kernel': ShapeDtypeStruct(shape=(4096, 14336), dtype=float32)}}, 'ffn_norm': {'kernel': ShapeDtypeStruct(shape=(4096,), dtype=float32)}}, '15': {'attention': {'wk': {'kernel': ShapeDtypeStruct(shape=(4096, 1024), dtype=float32)}, 'wo': {'kernel': ShapeDtypeStruct(shape=(4096, 4096), dtype=float32)}, 'wq': {'kernel': ShapeDtypeStruct(shape=(4096, 4096), dtype=float32)}, 'wv': {'kernel': ShapeDtypeStruct(shape=(4096, 1024), dtype=float32)}}, 'attention_norm': {'kernel': ShapeDtypeStruct(shape=(4096,), dtype=float32)}, 'feed_forward': {'w1': {'kernel': ShapeDtypeStruct(shape=(4096, 14336), dtype=float32)}, 'w2': {'kernel': ShapeDtypeStruct(shape=(14336, 4096), dtype=float32)}, 'w3': {'kernel': ShapeDtypeStruct(shape=(4096, 14336), dtype=float32)}}, 'ffn_norm': {'kernel': ShapeDtypeStruct(shape=(4096,), dtype=float32)}}, '16': {'attention': {'wk': {'kernel': ShapeDtypeStruct(shape=(4096, 1024), dtype=float32)}, 'wo': {'kernel': ShapeDtypeStruct(shape=(4096, 4096), dtype=float32)}, 'wq': {'kernel': ShapeDtypeStruct(shape=(4096, 4096), dtype=float32)}, 'wv': {'kernel': ShapeDtypeStruct(shape=(4096, 1024), dtype=float32)}}, 'attention_norm': {'kernel': ShapeDtypeStruct(shape=(4096,), dtype=float32)}, 'feed_forward': {'w1': {'kernel': ShapeDtypeStruct(shape=(4096, 14336), dtype=float32)}, 'w2': {'kernel': ShapeDtypeStruct(shape=(14336, 4096), dtype=float32)}, 'w3': {'kernel': ShapeDtypeStruct(shape=(4096, 14336), dtype=float32)}}, 'ffn_norm': {'kernel': ShapeDtypeStruct(shape=(4096,), dtype=float32)}}, '17': {'attention': {'wk': {'kernel': ShapeDtypeStruct(shape=(4096, 1024), dtype=float32)}, 'wo': {'kernel': ShapeDtypeStruct(shape=(4096, 4096), dtype=float32)}, 'wq': {'kernel': ShapeDtypeStruct(shape=(4096, 4096), dtype=float32)}, 'wv': {'kernel': ShapeDtypeStruct(shape=(4096, 1024), dtype=float32)}}, 'attention_norm': {'kernel': ShapeDtypeStruct(shape=(4096,), dtype=float32)}, 'feed_forward': {'w1': {'kernel': ShapeDtypeStruct(shape=(4096, 14336), dtype=float32)}, 'w2': {'kernel': ShapeDtypeStruct(shape=(14336, 4096), dtype=float32)}, 'w3': {'kernel': ShapeDtypeStruct(shape=(4096, 14336), dtype=float32)}}, 'ffn_norm': {'kernel': ShapeDtypeStruct(shape=(4096,), dtype=float32)}}, '18': {'attention': {'wk': {'kernel': ShapeDtypeStruct(shape=(4096, 1024), dtype=float32)}, 'wo': {'kernel': ShapeDtypeStruct(shape=(4096, 4096), dtype=float32)}, 'wq': {'kernel': ShapeDtypeStruct(shape=(4096, 4096), dtype=float32)}, 'wv': {'kernel': ShapeDtypeStruct(shape=(4096, 1024), dtype=float32)}}, 'attention_norm': {'kernel': ShapeDtypeStruct(shape=(4096,), dtype=float32)}, 'feed_forward': {'w1': {'kernel': ShapeDtypeStruct(shape=(4096, 14336), dtype=float32)}, 'w2': {'kernel': ShapeDtypeStruct(shape=(14336, 4096), dtype=float32)}, 'w3': {'kernel': ShapeDtypeStruct(shape=(4096, 14336), dtype=float32)}}, 'ffn_norm': {'kernel': ShapeDtypeStruct(shape=(4096,), dtype=float32)}}, '19': {'attention': {'wk': {'kernel': ShapeDtypeStruct(shape=(4096, 1024), dtype=float32)}, 'wo': {'kernel': ShapeDtypeStruct(shape=(4096, 4096), dtype=float32)}, 'wq': {'kernel': ShapeDtypeStruct(shape=(4096, 4096), dtype=float32)}, 'wv': {'kernel': ShapeDtypeStruct(shape=(4096, 1024), dtype=float32)}}, 'attention_norm': {'kernel': ShapeDtypeStruct(shape=(4096,), dtype=float32)}, 'feed_forward': {'w1': {'kernel': ShapeDtypeStruct(shape=(4096, 14336), dtype=float32)}, 'w2': {'kernel': ShapeDtypeStruct(shape=(14336, 4096), dtype=float32)}, 'w3': {'kernel': ShapeDtypeStruct(shape=(4096, 14336), dtype=float32)}}, 'ffn_norm': {'kernel': ShapeDtypeStruct(shape=(4096,), dtype=float32)}}, '2': {'attention': {'wk': {'kernel': ShapeDtypeStruct(shape=(4096, 1024), dtype=float32)}, 'wo': {'kernel': ShapeDtypeStruct(shape=(4096, 4096), dtype=float32)}, 'wq': {'kernel': ShapeDtypeStruct(shape=(4096, 4096), dtype=float32)}, 'wv': {'kernel': ShapeDtypeStruct(shape=(4096, 1024), dtype=float32)}}, 'attention_norm': {'kernel': ShapeDtypeStruct(shape=(4096,), dtype=float32)}, 'feed_forward': {'w1': {'kernel': ShapeDtypeStruct(shape=(4096, 14336), dtype=float32)}, 'w2': {'kernel': ShapeDtypeStruct(shape=(14336, 4096), dtype=float32)}, 'w3': {'kernel': ShapeDtypeStruct(shape=(4096, 14336), dtype=float32)}}, 'ffn_norm': {'kernel': ShapeDtypeStruct(shape=(4096,), dtype=float32)}}, '20': {'attention': {'wk': {'kernel': ShapeDtypeStruct(shape=(4096, 1024), dtype=float32)}, 'wo': {'kernel': ShapeDtypeStruct(shape=(4096, 4096), dtype=float32)}, 'wq': {'kernel': ShapeDtypeStruct(shape=(4096, 4096), dtype=float32)}, 'wv': {'kernel': ShapeDtypeStruct(shape=(4096, 1024), dtype=float32)}}, 'attention_norm': {'kernel': ShapeDtypeStruct(shape=(4096,), dtype=float32)}, 'feed_forward': {'w1': {'kernel': ShapeDtypeStruct(shape=(4096, 14336), dtype=float32)}, 'w2': {'kernel': ShapeDtypeStruct(shape=(14336, 4096), dtype=float32)}, 'w3': {'kernel': ShapeDtypeStruct(shape=(4096, 14336), dtype=float32)}}, 'ffn_norm': {'kernel': ShapeDtypeStruct(shape=(4096,), dtype=float32)}}, '21': {'attention': {'wk': {'kernel': ShapeDtypeStruct(shape=(4096, 1024), dtype=float32)}, 'wo': {'kernel': ShapeDtypeStruct(shape=(4096, 4096), dtype=float32)}, 'wq': {'kernel': ShapeDtypeStruct(shape=(4096, 4096), dtype=float32)}, 'wv': {'kernel': ShapeDtypeStruct(shape=(4096, 1024), dtype=float32)}}, 'attention_norm': {'kernel': ShapeDtypeStruct(shape=(4096,), dtype=float32)}, 'feed_forward': {'w1': {'kernel': ShapeDtypeStruct(shape=(4096, 14336), dtype=float32)}, 'w2': {'kernel': ShapeDtypeStruct(shape=(14336, 4096), dtype=float32)}, 'w3': {'kernel': ShapeDtypeStruct(shape=(4096, 14336), dtype=float32)}}, 'ffn_norm': {'kernel': ShapeDtypeStruct(shape=(4096,), dtype=float32)}}, '22': {'attention': {'wk': {'kernel': ShapeDtypeStruct(shape=(4096, 1024), dtype=float32)}, 'wo': {'kernel': ShapeDtypeStruct(shape=(4096, 4096), dtype=float32)}, 'wq': {'kernel': ShapeDtypeStruct(shape=(4096, 4096), dtype=float32)}, 'wv': {'kernel': ShapeDtypeStruct(shape=(4096, 1024), dtype=float32)}}, 'attention_norm': {'kernel': ShapeDtypeStruct(shape=(4096,), dtype=float32)}, 'feed_forward': {'w1': {'kernel': ShapeDtypeStruct(shape=(4096, 14336), dtype=float32)}, 'w2': {'kernel': ShapeDtypeStruct(shape=(14336, 4096), dtype=float32)}, 'w3': {'kernel': ShapeDtypeStruct(shape=(4096, 14336), dtype=float32)}}, 'ffn_norm': {'kernel': ShapeDtypeStruct(shape=(4096,), dtype=float32)}}, '23': {'attention': {'wk': {'kernel': ShapeDtypeStruct(shape=(4096, 1024), dtype=float32)}, 'wo': {'kernel': ShapeDtypeStruct(shape=(4096, 4096), dtype=float32)}, 'wq': {'kernel': ShapeDtypeStruct(shape=(4096, 4096), dtype=float32)}, 'wv': {'kernel': ShapeDtypeStruct(shape=(4096, 1024), dtype=float32)}}, 'attention_norm': {'kernel': ShapeDtypeStruct(shape=(4096,), dtype=float32)}, 'feed_forward': {'w1': {'kernel': ShapeDtypeStruct(shape=(4096, 14336), dtype=float32)}, 'w2': {'kernel': ShapeDtypeStruct(shape=(14336, 4096), dtype=float32)}, 'w3': {'kernel': ShapeDtypeStruct(shape=(4096, 14336), dtype=float32)}}, 'ffn_norm': {'kernel': ShapeDtypeStruct(shape=(4096,), dtype=float32)}}, '24': {'attention': {'wk': {'kernel': ShapeDtypeStruct(shape=(4096, 1024), dtype=float32)}, 'wo': {'kernel': ShapeDtypeStruct(shape=(4096, 4096), dtype=float32)}, 'wq': {'kernel': ShapeDtypeStruct(shape=(4096, 4096), dtype=float32)}, 'wv': {'kernel': ShapeDtypeStruct(shape=(4096, 1024), dtype=float32)}}, 'attention_norm': {'kernel': ShapeDtypeStruct(shape=(4096,), dtype=float32)}, 'feed_forward': {'w1': {'kernel': ShapeDtypeStruct(shape=(4096, 14336), dtype=float32)}, 'w2': {'kernel': ShapeDtypeStruct(shape=(14336, 4096), dtype=float32)}, 'w3': {'kernel': ShapeDtypeStruct(shape=(4096, 14336), dtype=float32)}}, 'ffn_norm': {'kernel': ShapeDtypeStruct(shape=(4096,), dtype=float32)}}, '25': {'attention': {'wk': {'kernel': ShapeDtypeStruct(shape=(4096, 1024), dtype=float32)}, 'wo': {'kernel': ShapeDtypeStruct(shape=(4096, 4096), dtype=float32)}, 'wq': {'kernel': ShapeDtypeStruct(shape=(4096, 4096), dtype=float32)}, 'wv': {'kernel': ShapeDtypeStruct(shape=(4096, 1024), dtype=float32)}}, 'attention_norm': {'kernel': ShapeDtypeStruct(shape=(4096,), dtype=float32)}, 'feed_forward': {'w1': {'kernel': ShapeDtypeStruct(shape=(4096, 14336), dtype=float32)}, 'w2': {'kernel': ShapeDtypeStruct(shape=(14336, 4096), dtype=float32)}, 'w3': {'kernel': ShapeDtypeStruct(shape=(4096, 14336), dtype=float32)}}, 'ffn_norm': {'kernel': ShapeDtypeStruct(shape=(4096,), dtype=float32)}}, '26': {'attention': {'wk': {'kernel': ShapeDtypeStruct(shape=(4096, 1024), dtype=float32)}, 'wo': {'kernel': ShapeDtypeStruct(shape=(4096, 4096), dtype=float32)}, 'wq': {'kernel': ShapeDtypeStruct(shape=(4096, 4096), dtype=float32)}, 'wv': {'kernel': ShapeDtypeStruct(shape=(4096, 1024), dtype=float32)}}, 'attention_norm': {'kernel': ShapeDtypeStruct(shape=(4096,), dtype=float32)}, 'feed_forward': {'w1': {'kernel': ShapeDtypeStruct(shape=(4096, 14336), dtype=float32)}, 'w2': {'kernel': ShapeDtypeStruct(shape=(14336, 4096), dtype=float32)}, 'w3': {'kernel': ShapeDtypeStruct(shape=(4096, 14336), dtype=float32)}}, 'ffn_norm': {'kernel': ShapeDtypeStruct(shape=(4096,), dtype=float32)}}, '27': {'attention': {'wk': {'kernel': ShapeDtypeStruct(shape=(4096, 1024), dtype=float32)}, 'wo': {'kernel': ShapeDtypeStruct(shape=(4096, 4096), dtype=float32)}, 'wq': {'kernel': ShapeDtypeStruct(shape=(4096, 4096), dtype=float32)}, 'wv': {'kernel': ShapeDtypeStruct(shape=(4096, 1024), dtype=float32)}}, 'attention_norm': {'kernel': ShapeDtypeStruct(shape=(4096,), dtype=float32)}, 'feed_forward': {'w1': {'kernel': ShapeDtypeStruct(shape=(4096, 14336), dtype=float32)}, 'w2': {'kernel': ShapeDtypeStruct(shape=(14336, 4096), dtype=float32)}, 'w3': {'kernel': ShapeDtypeStruct(shape=(4096, 14336), dtype=float32)}}, 'ffn_norm': {'kernel': ShapeDtypeStruct(shape=(4096,), dtype=float32)}}, '28': {'attention': {'wk': {'kernel': ShapeDtypeStruct(shape=(4096, 1024), dtype=float32)}, 'wo': {'kernel': ShapeDtypeStruct(shape=(4096, 4096), dtype=float32)}, 'wq': {'kernel': ShapeDtypeStruct(shape=(4096, 4096), dtype=float32)}, 'wv': {'kernel': ShapeDtypeStruct(shape=(4096, 1024), dtype=float32)}}, 'attention_norm': {'kernel': ShapeDtypeStruct(shape=(4096,), dtype=float32)}, 'feed_forward': {'w1': {'kernel': ShapeDtypeStruct(shape=(4096, 14336), dtype=float32)}, 'w2': {'kernel': ShapeDtypeStruct(shape=(14336, 4096), dtype=float32)}, 'w3': {'kernel': ShapeDtypeStruct(shape=(4096, 14336), dtype=float32)}}, 'ffn_norm': {'kernel': ShapeDtypeStruct(shape=(4096,), dtype=float32)}}, '29': {'attention': {'wk': {'kernel': ShapeDtypeStruct(shape=(4096, 1024), dtype=float32)}, 'wo': {'kernel': ShapeDtypeStruct(shape=(4096, 4096), dtype=float32)}, 'wq': {'kernel': ShapeDtypeStruct(shape=(4096, 4096), dtype=float32)}, 'wv': {'kernel': ShapeDtypeStruct(shape=(4096, 1024), dtype=float32)}}, 'attention_norm': {'kernel': ShapeDtypeStruct(shape=(4096,), dtype=float32)}, 'feed_forward': {'w1': {'kernel': ShapeDtypeStruct(shape=(4096, 14336), dtype=float32)}, 'w2': {'kernel': ShapeDtypeStruct(shape=(14336, 4096), dtype=float32)}, 'w3': {'kernel': ShapeDtypeStruct(shape=(4096, 14336), dtype=float32)}}, 'ffn_norm': {'kernel': ShapeDtypeStruct(shape=(4096,), dtype=float32)}}, '3': {'attention': {'wk': {'kernel': ShapeDtypeStruct(shape=(4096, 1024), dtype=float32)}, 'wo': {'kernel': ShapeDtypeStruct(shape=(4096, 4096), dtype=float32)}, 'wq': {'kernel': ShapeDtypeStruct(shape=(4096, 4096), dtype=float32)}, 'wv': {'kernel': ShapeDtypeStruct(shape=(4096, 1024), dtype=float32)}}, 'attention_norm': {'kernel': ShapeDtypeStruct(shape=(4096,), dtype=float32)}, 'feed_forward': {'w1': {'kernel': ShapeDtypeStruct(shape=(4096, 14336), dtype=float32)}, 'w2': {'kernel': ShapeDtypeStruct(shape=(14336, 4096), dtype=float32)}, 'w3': {'kernel': ShapeDtypeStruct(shape=(4096, 14336), dtype=float32)}}, 'ffn_norm': {'kernel': ShapeDtypeStruct(shape=(4096,), dtype=float32)}}, '30': {'attention': {'wk': {'kernel': ShapeDtypeStruct(shape=(4096, 1024), dtype=float32)}, 'wo': {'kernel': ShapeDtypeStruct(shape=(4096, 4096), dtype=float32)}, 'wq': {'kernel': ShapeDtypeStruct(shape=(4096, 4096), dtype=float32)}, 'wv': {'kernel': ShapeDtypeStruct(shape=(4096, 1024), dtype=float32)}}, 'attention_norm': {'kernel': ShapeDtypeStruct(shape=(4096,), dtype=float32)}, 'feed_forward': {'w1': {'kernel': ShapeDtypeStruct(shape=(4096, 14336), dtype=float32)}, 'w2': {'kernel': ShapeDtypeStruct(shape=(14336, 4096), dtype=float32)}, 'w3': {'kernel': ShapeDtypeStruct(shape=(4096, 14336), dtype=float32)}}, 'ffn_norm': {'kernel': ShapeDtypeStruct(shape=(4096,), dtype=float32)}}, '31': {'attention': {'wk': {'kernel': ShapeDtypeStruct(shape=(4096, 1024), dtype=float32)}, 'wo': {'kernel': ShapeDtypeStruct(shape=(4096, 4096), dtype=float32)}, 'wq': {'kernel': ShapeDtypeStruct(shape=(4096, 4096), dtype=float32)}, 'wv': {'kernel': ShapeDtypeStruct(shape=(4096, 1024), dtype=float32)}}, 'attention_norm': {'kernel': ShapeDtypeStruct(shape=(4096,), dtype=float32)}, 'feed_forward': {'w1': {'kernel': ShapeDtypeStruct(shape=(4096, 14336), dtype=float32)}, 'w2': {'kernel': ShapeDtypeStruct(shape=(14336, 4096), dtype=float32)}, 'w3': {'kernel': ShapeDtypeStruct(shape=(4096, 14336), dtype=float32)}}, 'ffn_norm': {'kernel': ShapeDtypeStruct(shape=(4096,), dtype=float32)}}, '4': {'attention': {'wk': {'kernel': ShapeDtypeStruct(shape=(4096, 1024), dtype=float32)}, 'wo': {'kernel': ShapeDtypeStruct(shape=(4096, 4096), dtype=float32)}, 'wq': {'kernel': ShapeDtypeStruct(shape=(4096, 4096), dtype=float32)}, 'wv': {'kernel': ShapeDtypeStruct(shape=(4096, 1024), dtype=float32)}}, 'attention_norm': {'kernel': ShapeDtypeStruct(shape=(4096,), dtype=float32)}, 'feed_forward': {'w1': {'kernel': ShapeDtypeStruct(shape=(4096, 14336), dtype=float32)}, 'w2': {'kernel': ShapeDtypeStruct(shape=(14336, 4096), dtype=float32)}, 'w3': {'kernel': ShapeDtypeStruct(shape=(4096, 14336), dtype=float32)}}, 'ffn_norm': {'kernel': ShapeDtypeStruct(shape=(4096,), dtype=float32)}}, '5': {'attention': {'wk': {'kernel': ShapeDtypeStruct(shape=(4096, 1024), dtype=float32)}, 'wo': {'kernel': ShapeDtypeStruct(shape=(4096, 4096), dtype=float32)}, 'wq': {'kernel': ShapeDtypeStruct(shape=(4096, 4096), dtype=float32)}, 'wv': {'kernel': ShapeDtypeStruct(shape=(4096, 1024), dtype=float32)}}, 'attention_norm': {'kernel': ShapeDtypeStruct(shape=(4096,), dtype=float32)}, 'feed_forward': {'w1': {'kernel': ShapeDtypeStruct(shape=(4096, 14336), dtype=float32)}, 'w2': {'kernel': ShapeDtypeStruct(shape=(14336, 4096), dtype=float32)}, 'w3': {'kernel': ShapeDtypeStruct(shape=(4096, 14336), dtype=float32)}}, 'ffn_norm': {'kernel': ShapeDtypeStruct(shape=(4096,), dtype=float32)}}, '6': {'attention': {'wk': {'kernel': ShapeDtypeStruct(shape=(4096, 1024), dtype=float32)}, 'wo': {'kernel': ShapeDtypeStruct(shape=(4096, 4096), dtype=float32)}, 'wq': {'kernel': ShapeDtypeStruct(shape=(4096, 4096), dtype=float32)}, 'wv': {'kernel': ShapeDtypeStruct(shape=(4096, 1024), dtype=float32)}}, 'attention_norm': {'kernel': ShapeDtypeStruct(shape=(4096,), dtype=float32)}, 'feed_forward': {'w1': {'kernel': ShapeDtypeStruct(shape=(4096, 14336), dtype=float32)}, 'w2': {'kernel': ShapeDtypeStruct(shape=(14336, 4096), dtype=float32)}, 'w3': {'kernel': ShapeDtypeStruct(shape=(4096, 14336), dtype=float32)}}, 'ffn_norm': {'kernel': ShapeDtypeStruct(shape=(4096,), dtype=float32)}}, '7': {'attention': {'wk': {'kernel': ShapeDtypeStruct(shape=(4096, 1024), dtype=float32)}, 'wo': {'kernel': ShapeDtypeStruct(shape=(4096, 4096), dtype=float32)}, 'wq': {'kernel': ShapeDtypeStruct(shape=(4096, 4096), dtype=float32)}, 'wv': {'kernel': ShapeDtypeStruct(shape=(4096, 1024), dtype=float32)}}, 'attention_norm': {'kernel': ShapeDtypeStruct(shape=(4096,), dtype=float32)}, 'feed_forward': {'w1': {'kernel': ShapeDtypeStruct(shape=(4096, 14336), dtype=float32)}, 'w2': {'kernel': ShapeDtypeStruct(shape=(14336, 4096), dtype=float32)}, 'w3': {'kernel': ShapeDtypeStruct(shape=(4096, 14336), dtype=float32)}}, 'ffn_norm': {'kernel': ShapeDtypeStruct(shape=(4096,), dtype=float32)}}, '8': {'attention': {'wk': {'kernel': ShapeDtypeStruct(shape=(4096, 1024), dtype=float32)}, 'wo': {'kernel': ShapeDtypeStruct(shape=(4096, 4096), dtype=float32)}, 'wq': {'kernel': ShapeDtypeStruct(shape=(4096, 4096), dtype=float32)}, 'wv': {'kernel': ShapeDtypeStruct(shape=(4096, 1024), dtype=float32)}}, 'attention_norm': {'kernel': ShapeDtypeStruct(shape=(4096,), dtype=float32)}, 'feed_forward': {'w1': {'kernel': ShapeDtypeStruct(shape=(4096, 14336), dtype=float32)}, 'w2': {'kernel': ShapeDtypeStruct(shape=(14336, 4096), dtype=float32)}, 'w3': {'kernel': ShapeDtypeStruct(shape=(4096, 14336), dtype=float32)}}, 'ffn_norm': {'kernel': ShapeDtypeStruct(shape=(4096,), dtype=float32)}}, '9': {'attention': {'wk': {'kernel': ShapeDtypeStruct(shape=(4096, 1024), dtype=float32)}, 'wo': {'kernel': ShapeDtypeStruct(shape=(4096, 4096), dtype=float32)}, 'wq': {'kernel': ShapeDtypeStruct(shape=(4096, 4096), dtype=float32)}, 'wv': {'kernel': ShapeDtypeStruct(shape=(4096, 1024), dtype=float32)}}, 'attention_norm': {'kernel': ShapeDtypeStruct(shape=(4096,), dtype=float32)}, 'feed_forward': {'w1': {'kernel': ShapeDtypeStruct(shape=(4096, 14336), dtype=float32)}, 'w2': {'kernel': ShapeDtypeStruct(shape=(14336, 4096), dtype=float32)}, 'w3': {'kernel': ShapeDtypeStruct(shape=(4096, 14336), dtype=float32)}}, 'ffn_norm': {'kernel': ShapeDtypeStruct(shape=(4096,), dtype=float32)}}}, 'ln_f': {'kernel': ShapeDtypeStruct(shape=(4096,), dtype=float32)}, 'wte': {'embedding': ShapeDtypeStruct(shape=(128256, 4096), dtype=float32)}}}\n"
     ]
    },
    {
     "name": "stdin",
     "output_type": "stream",
     "text": [
      "ipdb>  params_shard_fns\n"
     ]
    },
    {
     "name": "stdout",
     "output_type": "stream",
     "text": [
      "{'lm_head': {'kernel': <function make_shard_and_gather_fns.<locals>.make_shard_fn.<locals>.shard_fn at 0x7fda402f00d0>}, 'transformer': {'h': {'0': {'attention': {'wk': {'kernel': <function make_shard_and_gather_fns.<locals>.make_shard_fn.<locals>.shard_fn at 0x7fda402f0c10>}, 'wo': {'kernel': <function make_shard_and_gather_fns.<locals>.make_shard_fn.<locals>.shard_fn at 0x7fda402f16c0>}, 'wq': {'kernel': <function make_shard_and_gather_fns.<locals>.make_shard_fn.<locals>.shard_fn at 0x7fda402f1a20>}, 'wv': {'kernel': <function make_shard_and_gather_fns.<locals>.make_shard_fn.<locals>.shard_fn at 0x7fda402f25f0>}}, 'attention_norm': {'kernel': <function make_shard_and_gather_fns.<locals>.make_shard_fn.<locals>.shard_fn at 0x7fda402f30a0>}, 'feed_forward': {'w1': {'kernel': <function make_shard_and_gather_fns.<locals>.make_shard_fn.<locals>.shard_fn at 0x7fda402f3f40>}, 'w2': {'kernel': <function make_shard_and_gather_fns.<locals>.make_shard_fn.<locals>.shard_fn at 0x7fda402f3eb0>}, 'w3': {'kernel': <function make_shard_and_gather_fns.<locals>.make_shard_fn.<locals>.shard_fn at 0x7fda17df4670>}}, 'ffn_norm': {'kernel': <function make_shard_and_gather_fns.<locals>.make_shard_fn.<locals>.shard_fn at 0x7fda17df53f0>}}, '1': {'attention': {'wk': {'kernel': <function make_shard_and_gather_fns.<locals>.make_shard_fn.<locals>.shard_fn at 0x7fda17df57e0>}, 'wo': {'kernel': <function make_shard_and_gather_fns.<locals>.make_shard_fn.<locals>.shard_fn at 0x7fda17df5b40>}, 'wq': {'kernel': <function make_shard_and_gather_fns.<locals>.make_shard_fn.<locals>.shard_fn at 0x7fda17df6cb0>}, 'wv': {'kernel': <function make_shard_and_gather_fns.<locals>.make_shard_fn.<locals>.shard_fn at 0x7fda17df6c20>}}, 'attention_norm': {'kernel': <function make_shard_and_gather_fns.<locals>.make_shard_fn.<locals>.shard_fn at 0x7fda17df7b50>}, 'feed_forward': {'w1': {'kernel': <function make_shard_and_gather_fns.<locals>.make_shard_fn.<locals>.shard_fn at 0x7fd3807cbc70>}, 'w2': {'kernel': <function make_shard_and_gather_fns.<locals>.make_shard_fn.<locals>.shard_fn at 0x7fda177c8790>}, 'w3': {'kernel': <function make_shard_and_gather_fns.<locals>.make_shard_fn.<locals>.shard_fn at 0x7fda177c8f70>}}, 'ffn_norm': {'kernel': <function make_shard_and_gather_fns.<locals>.make_shard_fn.<locals>.shard_fn at 0x7fda177c9bd0>}}, '10': {'attention': {'wk': {'kernel': <function make_shard_and_gather_fns.<locals>.make_shard_fn.<locals>.shard_fn at 0x7fda177ca680>}, 'wo': {'kernel': <function make_shard_and_gather_fns.<locals>.make_shard_fn.<locals>.shard_fn at 0x7fda177cad40>}, 'wq': {'kernel': <function make_shard_and_gather_fns.<locals>.make_shard_fn.<locals>.shard_fn at 0x7fda177cb400>}, 'wv': {'kernel': <function make_shard_and_gather_fns.<locals>.make_shard_fn.<locals>.shard_fn at 0x7fda177cbac0>}}, 'attention_norm': {'kernel': <function make_shard_and_gather_fns.<locals>.make_shard_fn.<locals>.shard_fn at 0x7fda401a01f0>}, 'feed_forward': {'w1': {'kernel': <function make_shard_and_gather_fns.<locals>.make_shard_fn.<locals>.shard_fn at 0x7fda401a08b0>}, 'w2': {'kernel': <function make_shard_and_gather_fns.<locals>.make_shard_fn.<locals>.shard_fn at 0x7fda401a0f70>}, 'w3': {'kernel': <function make_shard_and_gather_fns.<locals>.make_shard_fn.<locals>.shard_fn at 0x7fda401a1630>}}, 'ffn_norm': {'kernel': <function make_shard_and_gather_fns.<locals>.make_shard_fn.<locals>.shard_fn at 0x7fda401a1cf0>}}, '11': {'attention': {'wk': {'kernel': <function make_shard_and_gather_fns.<locals>.make_shard_fn.<locals>.shard_fn at 0x7fda401a23b0>}, 'wo': {'kernel': <function make_shard_and_gather_fns.<locals>.make_shard_fn.<locals>.shard_fn at 0x7fda401a2a70>}, 'wq': {'kernel': <function make_shard_and_gather_fns.<locals>.make_shard_fn.<locals>.shard_fn at 0x7fda401a3130>}, 'wv': {'kernel': <function make_shard_and_gather_fns.<locals>.make_shard_fn.<locals>.shard_fn at 0x7fda401a37f0>}}, 'attention_norm': {'kernel': <function make_shard_and_gather_fns.<locals>.make_shard_fn.<locals>.shard_fn at 0x7fda401a3eb0>}, 'feed_forward': {'w1': {'kernel': <function make_shard_and_gather_fns.<locals>.make_shard_fn.<locals>.shard_fn at 0x7fda17f245e0>}, 'w2': {'kernel': <function make_shard_and_gather_fns.<locals>.make_shard_fn.<locals>.shard_fn at 0x7fda17f24ca0>}, 'w3': {'kernel': <function make_shard_and_gather_fns.<locals>.make_shard_fn.<locals>.shard_fn at 0x7fda17f25360>}}, 'ffn_norm': {'kernel': <function make_shard_and_gather_fns.<locals>.make_shard_fn.<locals>.shard_fn at 0x7fda17f25a20>}}, '12': {'attention': {'wk': {'kernel': <function make_shard_and_gather_fns.<locals>.make_shard_fn.<locals>.shard_fn at 0x7fda17f260e0>}, 'wo': {'kernel': <function make_shard_and_gather_fns.<locals>.make_shard_fn.<locals>.shard_fn at 0x7fda17f267a0>}, 'wq': {'kernel': <function make_shard_and_gather_fns.<locals>.make_shard_fn.<locals>.shard_fn at 0x7fda17f26e60>}, 'wv': {'kernel': <function make_shard_and_gather_fns.<locals>.make_shard_fn.<locals>.shard_fn at 0x7fda17f27520>}}, 'attention_norm': {'kernel': <function make_shard_and_gather_fns.<locals>.make_shard_fn.<locals>.shard_fn at 0x7fda17f27be0>}, 'feed_forward': {'w1': {'kernel': <function make_shard_and_gather_fns.<locals>.make_shard_fn.<locals>.shard_fn at 0x7fda17f58310>}, 'w2': {'kernel': <function make_shard_and_gather_fns.<locals>.make_shard_fn.<locals>.shard_fn at 0x7fda17f589d0>}, 'w3': {'kernel': <function make_shard_and_gather_fns.<locals>.make_shard_fn.<locals>.shard_fn at 0x7fda17f59090>}}, 'ffn_norm': {'kernel': <function make_shard_and_gather_fns.<locals>.make_shard_fn.<locals>.shard_fn at 0x7fda17f59750>}}, '13': {'attention': {'wk': {'kernel': <function make_shard_and_gather_fns.<locals>.make_shard_fn.<locals>.shard_fn at 0x7fda17f59e10>}, 'wo': {'kernel': <function make_shard_and_gather_fns.<locals>.make_shard_fn.<locals>.shard_fn at 0x7fda17f5a4d0>}, 'wq': {'kernel': <function make_shard_and_gather_fns.<locals>.make_shard_fn.<locals>.shard_fn at 0x7fda17f5ab90>}, 'wv': {'kernel': <function make_shard_and_gather_fns.<locals>.make_shard_fn.<locals>.shard_fn at 0x7fda17f5b250>}}, 'attention_norm': {'kernel': <function make_shard_and_gather_fns.<locals>.make_shard_fn.<locals>.shard_fn at 0x7fda17f5b910>}, 'feed_forward': {'w1': {'kernel': <function make_shard_and_gather_fns.<locals>.make_shard_fn.<locals>.shard_fn at 0x7fda17e38040>}, 'w2': {'kernel': <function make_shard_and_gather_fns.<locals>.make_shard_fn.<locals>.shard_fn at 0x7fda17e38700>}, 'w3': {'kernel': <function make_shard_and_gather_fns.<locals>.make_shard_fn.<locals>.shard_fn at 0x7fda17e38dc0>}}, 'ffn_norm': {'kernel': <function make_shard_and_gather_fns.<locals>.make_shard_fn.<locals>.shard_fn at 0x7fda17e39480>}}, '14': {'attention': {'wk': {'kernel': <function make_shard_and_gather_fns.<locals>.make_shard_fn.<locals>.shard_fn at 0x7fda17e39b40>}, 'wo': {'kernel': <function make_shard_and_gather_fns.<locals>.make_shard_fn.<locals>.shard_fn at 0x7fda17e3a200>}, 'wq': {'kernel': <function make_shard_and_gather_fns.<locals>.make_shard_fn.<locals>.shard_fn at 0x7fda17e3a8c0>}, 'wv': {'kernel': <function make_shard_and_gather_fns.<locals>.make_shard_fn.<locals>.shard_fn at 0x7fda17e3af80>}}, 'attention_norm': {'kernel': <function make_shard_and_gather_fns.<locals>.make_shard_fn.<locals>.shard_fn at 0x7fda17e3b640>}, 'feed_forward': {'w1': {'kernel': <function make_shard_and_gather_fns.<locals>.make_shard_fn.<locals>.shard_fn at 0x7fda17e3bd00>}, 'w2': {'kernel': <function make_shard_and_gather_fns.<locals>.make_shard_fn.<locals>.shard_fn at 0x7fda17ed0430>}, 'w3': {'kernel': <function make_shard_and_gather_fns.<locals>.make_shard_fn.<locals>.shard_fn at 0x7fda17ed0af0>}}, 'ffn_norm': {'kernel': <function make_shard_and_gather_fns.<locals>.make_shard_fn.<locals>.shard_fn at 0x7fda17ed11b0>}}, '15': {'attention': {'wk': {'kernel': <function make_shard_and_gather_fns.<locals>.make_shard_fn.<locals>.shard_fn at 0x7fda17ed1870>}, 'wo': {'kernel': <function make_shard_and_gather_fns.<locals>.make_shard_fn.<locals>.shard_fn at 0x7fda17ed1f30>}, 'wq': {'kernel': <function make_shard_and_gather_fns.<locals>.make_shard_fn.<locals>.shard_fn at 0x7fda17ed25f0>}, 'wv': {'kernel': <function make_shard_and_gather_fns.<locals>.make_shard_fn.<locals>.shard_fn at 0x7fda17ed2cb0>}}, 'attention_norm': {'kernel': <function make_shard_and_gather_fns.<locals>.make_shard_fn.<locals>.shard_fn at 0x7fda17ed3370>}, 'feed_forward': {'w1': {'kernel': <function make_shard_and_gather_fns.<locals>.make_shard_fn.<locals>.shard_fn at 0x7fda17ed3a30>}, 'w2': {'kernel': <function make_shard_and_gather_fns.<locals>.make_shard_fn.<locals>.shard_fn at 0x7fda17d18160>}, 'w3': {'kernel': <function make_shard_and_gather_fns.<locals>.make_shard_fn.<locals>.shard_fn at 0x7fda17d18820>}}, 'ffn_norm': {'kernel': <function make_shard_and_gather_fns.<locals>.make_shard_fn.<locals>.shard_fn at 0x7fda17d18ee0>}}, '16': {'attention': {'wk': {'kernel': <function make_shard_and_gather_fns.<locals>.make_shard_fn.<locals>.shard_fn at 0x7fda17d195a0>}, 'wo': {'kernel': <function make_shard_and_gather_fns.<locals>.make_shard_fn.<locals>.shard_fn at 0x7fda17d19c60>}, 'wq': {'kernel': <function make_shard_and_gather_fns.<locals>.make_shard_fn.<locals>.shard_fn at 0x7fda17d1a320>}, 'wv': {'kernel': <function make_shard_and_gather_fns.<locals>.make_shard_fn.<locals>.shard_fn at 0x7fda17d1a9e0>}}, 'attention_norm': {'kernel': <function make_shard_and_gather_fns.<locals>.make_shard_fn.<locals>.shard_fn at 0x7fda17d1b0a0>}, 'feed_forward': {'w1': {'kernel': <function make_shard_and_gather_fns.<locals>.make_shard_fn.<locals>.shard_fn at 0x7fda17d1b760>}, 'w2': {'kernel': <function make_shard_and_gather_fns.<locals>.make_shard_fn.<locals>.shard_fn at 0x7fda17d1be20>}, 'w3': {'kernel': <function make_shard_and_gather_fns.<locals>.make_shard_fn.<locals>.shard_fn at 0x7fda17d3c550>}}, 'ffn_norm': {'kernel': <function make_shard_and_gather_fns.<locals>.make_shard_fn.<locals>.shard_fn at 0x7fda17d3cc10>}}, '17': {'attention': {'wk': {'kernel': <function make_shard_and_gather_fns.<locals>.make_shard_fn.<locals>.shard_fn at 0x7fda17d3d2d0>}, 'wo': {'kernel': <function make_shard_and_gather_fns.<locals>.make_shard_fn.<locals>.shard_fn at 0x7fda17d3d990>}, 'wq': {'kernel': <function make_shard_and_gather_fns.<locals>.make_shard_fn.<locals>.shard_fn at 0x7fda17d3e050>}, 'wv': {'kernel': <function make_shard_and_gather_fns.<locals>.make_shard_fn.<locals>.shard_fn at 0x7fda17d3e710>}}, 'attention_norm': {'kernel': <function make_shard_and_gather_fns.<locals>.make_shard_fn.<locals>.shard_fn at 0x7fda17d3edd0>}, 'feed_forward': {'w1': {'kernel': <function make_shard_and_gather_fns.<locals>.make_shard_fn.<locals>.shard_fn at 0x7fda17d3f490>}, 'w2': {'kernel': <function make_shard_and_gather_fns.<locals>.make_shard_fn.<locals>.shard_fn at 0x7fda17d3fb50>}, 'w3': {'kernel': <function make_shard_and_gather_fns.<locals>.make_shard_fn.<locals>.shard_fn at 0x7fda17848280>}}, 'ffn_norm': {'kernel': <function make_shard_and_gather_fns.<locals>.make_shard_fn.<locals>.shard_fn at 0x7fda17848940>}}, '18': {'attention': {'wk': {'kernel': <function make_shard_and_gather_fns.<locals>.make_shard_fn.<locals>.shard_fn at 0x7fda17849000>}, 'wo': {'kernel': <function make_shard_and_gather_fns.<locals>.make_shard_fn.<locals>.shard_fn at 0x7fda178496c0>}, 'wq': {'kernel': <function make_shard_and_gather_fns.<locals>.make_shard_fn.<locals>.shard_fn at 0x7fda17849d80>}, 'wv': {'kernel': <function make_shard_and_gather_fns.<locals>.make_shard_fn.<locals>.shard_fn at 0x7fda1784a440>}}, 'attention_norm': {'kernel': <function make_shard_and_gather_fns.<locals>.make_shard_fn.<locals>.shard_fn at 0x7fda1784ab00>}, 'feed_forward': {'w1': {'kernel': <function make_shard_and_gather_fns.<locals>.make_shard_fn.<locals>.shard_fn at 0x7fda1784b1c0>}, 'w2': {'kernel': <function make_shard_and_gather_fns.<locals>.make_shard_fn.<locals>.shard_fn at 0x7fda1784b880>}, 'w3': {'kernel': <function make_shard_and_gather_fns.<locals>.make_shard_fn.<locals>.shard_fn at 0x7fda1784bf40>}}, 'ffn_norm': {'kernel': <function make_shard_and_gather_fns.<locals>.make_shard_fn.<locals>.shard_fn at 0x7fda178dc670>}}, '19': {'attention': {'wk': {'kernel': <function make_shard_and_gather_fns.<locals>.make_shard_fn.<locals>.shard_fn at 0x7fda178dcd30>}, 'wo': {'kernel': <function make_shard_and_gather_fns.<locals>.make_shard_fn.<locals>.shard_fn at 0x7fda178dd3f0>}, 'wq': {'kernel': <function make_shard_and_gather_fns.<locals>.make_shard_fn.<locals>.shard_fn at 0x7fda178ddab0>}, 'wv': {'kernel': <function make_shard_and_gather_fns.<locals>.make_shard_fn.<locals>.shard_fn at 0x7fda178de170>}}, 'attention_norm': {'kernel': <function make_shard_and_gather_fns.<locals>.make_shard_fn.<locals>.shard_fn at 0x7fda178de830>}, 'feed_forward': {'w1': {'kernel': <function make_shard_and_gather_fns.<locals>.make_shard_fn.<locals>.shard_fn at 0x7fda178deef0>}, 'w2': {'kernel': <function make_shard_and_gather_fns.<locals>.make_shard_fn.<locals>.shard_fn at 0x7fda178df5b0>}, 'w3': {'kernel': <function make_shard_and_gather_fns.<locals>.make_shard_fn.<locals>.shard_fn at 0x7fda178dfc70>}}, 'ffn_norm': {'kernel': <function make_shard_and_gather_fns.<locals>.make_shard_fn.<locals>.shard_fn at 0x7fda17c083a0>}}, '2': {'attention': {'wk': {'kernel': <function make_shard_and_gather_fns.<locals>.make_shard_fn.<locals>.shard_fn at 0x7fda17c08a60>}, 'wo': {'kernel': <function make_shard_and_gather_fns.<locals>.make_shard_fn.<locals>.shard_fn at 0x7fda17c09120>}, 'wq': {'kernel': <function make_shard_and_gather_fns.<locals>.make_shard_fn.<locals>.shard_fn at 0x7fda17c097e0>}, 'wv': {'kernel': <function make_shard_and_gather_fns.<locals>.make_shard_fn.<locals>.shard_fn at 0x7fda17c09ea0>}}, 'attention_norm': {'kernel': <function make_shard_and_gather_fns.<locals>.make_shard_fn.<locals>.shard_fn at 0x7fda17c0a560>}, 'feed_forward': {'w1': {'kernel': <function make_shard_and_gather_fns.<locals>.make_shard_fn.<locals>.shard_fn at 0x7fda17c0ac20>}, 'w2': {'kernel': <function make_shard_and_gather_fns.<locals>.make_shard_fn.<locals>.shard_fn at 0x7fda17c0b2e0>}, 'w3': {'kernel': <function make_shard_and_gather_fns.<locals>.make_shard_fn.<locals>.shard_fn at 0x7fda17c0b9a0>}}, 'ffn_norm': {'kernel': <function make_shard_and_gather_fns.<locals>.make_shard_fn.<locals>.shard_fn at 0x7fda17c500d0>}}, '20': {'attention': {'wk': {'kernel': <function make_shard_and_gather_fns.<locals>.make_shard_fn.<locals>.shard_fn at 0x7fda17c50790>}, 'wo': {'kernel': <function make_shard_and_gather_fns.<locals>.make_shard_fn.<locals>.shard_fn at 0x7fda17c50e50>}, 'wq': {'kernel': <function make_shard_and_gather_fns.<locals>.make_shard_fn.<locals>.shard_fn at 0x7fda17c51510>}, 'wv': {'kernel': <function make_shard_and_gather_fns.<locals>.make_shard_fn.<locals>.shard_fn at 0x7fda17c51bd0>}}, 'attention_norm': {'kernel': <function make_shard_and_gather_fns.<locals>.make_shard_fn.<locals>.shard_fn at 0x7fda17c52290>}, 'feed_forward': {'w1': {'kernel': <function make_shard_and_gather_fns.<locals>.make_shard_fn.<locals>.shard_fn at 0x7fda17c52950>}, 'w2': {'kernel': <function make_shard_and_gather_fns.<locals>.make_shard_fn.<locals>.shard_fn at 0x7fda17c53010>}, 'w3': {'kernel': <function make_shard_and_gather_fns.<locals>.make_shard_fn.<locals>.shard_fn at 0x7fda17c536d0>}}, 'ffn_norm': {'kernel': <function make_shard_and_gather_fns.<locals>.make_shard_fn.<locals>.shard_fn at 0x7fda17c53d90>}}, '21': {'attention': {'wk': {'kernel': <function make_shard_and_gather_fns.<locals>.make_shard_fn.<locals>.shard_fn at 0x7fda17b284c0>}, 'wo': {'kernel': <function make_shard_and_gather_fns.<locals>.make_shard_fn.<locals>.shard_fn at 0x7fda17b28b80>}, 'wq': {'kernel': <function make_shard_and_gather_fns.<locals>.make_shard_fn.<locals>.shard_fn at 0x7fda17b29240>}, 'wv': {'kernel': <function make_shard_and_gather_fns.<locals>.make_shard_fn.<locals>.shard_fn at 0x7fda17b29900>}}, 'attention_norm': {'kernel': <function make_shard_and_gather_fns.<locals>.make_shard_fn.<locals>.shard_fn at 0x7fda17b29fc0>}, 'feed_forward': {'w1': {'kernel': <function make_shard_and_gather_fns.<locals>.make_shard_fn.<locals>.shard_fn at 0x7fda17b2a680>}, 'w2': {'kernel': <function make_shard_and_gather_fns.<locals>.make_shard_fn.<locals>.shard_fn at 0x7fda17b2ad40>}, 'w3': {'kernel': <function make_shard_and_gather_fns.<locals>.make_shard_fn.<locals>.shard_fn at 0x7fda17b2b400>}}, 'ffn_norm': {'kernel': <function make_shard_and_gather_fns.<locals>.make_shard_fn.<locals>.shard_fn at 0x7fda17b2bac0>}}, '22': {'attention': {'wk': {'kernel': <function make_shard_and_gather_fns.<locals>.make_shard_fn.<locals>.shard_fn at 0x7fda17b4c1f0>}, 'wo': {'kernel': <function make_shard_and_gather_fns.<locals>.make_shard_fn.<locals>.shard_fn at 0x7fda17b4c8b0>}, 'wq': {'kernel': <function make_shard_and_gather_fns.<locals>.make_shard_fn.<locals>.shard_fn at 0x7fda17b4cf70>}, 'wv': {'kernel': <function make_shard_and_gather_fns.<locals>.make_shard_fn.<locals>.shard_fn at 0x7fda17b4d630>}}, 'attention_norm': {'kernel': <function make_shard_and_gather_fns.<locals>.make_shard_fn.<locals>.shard_fn at 0x7fda17b4dcf0>}, 'feed_forward': {'w1': {'kernel': <function make_shard_and_gather_fns.<locals>.make_shard_fn.<locals>.shard_fn at 0x7fda17b4e3b0>}, 'w2': {'kernel': <function make_shard_and_gather_fns.<locals>.make_shard_fn.<locals>.shard_fn at 0x7fda17b4ea70>}, 'w3': {'kernel': <function make_shard_and_gather_fns.<locals>.make_shard_fn.<locals>.shard_fn at 0x7fda17b4f130>}}, 'ffn_norm': {'kernel': <function make_shard_and_gather_fns.<locals>.make_shard_fn.<locals>.shard_fn at 0x7fda17b4f7f0>}}, '23': {'attention': {'wk': {'kernel': <function make_shard_and_gather_fns.<locals>.make_shard_fn.<locals>.shard_fn at 0x7fda17b4feb0>}, 'wo': {'kernel': <function make_shard_and_gather_fns.<locals>.make_shard_fn.<locals>.shard_fn at 0x7fda17b945e0>}, 'wq': {'kernel': <function make_shard_and_gather_fns.<locals>.make_shard_fn.<locals>.shard_fn at 0x7fda17b94ca0>}, 'wv': {'kernel': <function make_shard_and_gather_fns.<locals>.make_shard_fn.<locals>.shard_fn at 0x7fda17b95360>}}, 'attention_norm': {'kernel': <function make_shard_and_gather_fns.<locals>.make_shard_fn.<locals>.shard_fn at 0x7fda17b95a20>}, 'feed_forward': {'w1': {'kernel': <function make_shard_and_gather_fns.<locals>.make_shard_fn.<locals>.shard_fn at 0x7fda17b960e0>}, 'w2': {'kernel': <function make_shard_and_gather_fns.<locals>.make_shard_fn.<locals>.shard_fn at 0x7fda17b967a0>}, 'w3': {'kernel': <function make_shard_and_gather_fns.<locals>.make_shard_fn.<locals>.shard_fn at 0x7fda17b96e60>}}, 'ffn_norm': {'kernel': <function make_shard_and_gather_fns.<locals>.make_shard_fn.<locals>.shard_fn at 0x7fda17b97520>}}, '24': {'attention': {'wk': {'kernel': <function make_shard_and_gather_fns.<locals>.make_shard_fn.<locals>.shard_fn at 0x7fda17b97be0>}, 'wo': {'kernel': <function make_shard_and_gather_fns.<locals>.make_shard_fn.<locals>.shard_fn at 0x7fda17728310>}, 'wq': {'kernel': <function make_shard_and_gather_fns.<locals>.make_shard_fn.<locals>.shard_fn at 0x7fda177289d0>}, 'wv': {'kernel': <function make_shard_and_gather_fns.<locals>.make_shard_fn.<locals>.shard_fn at 0x7fda17729090>}}, 'attention_norm': {'kernel': <function make_shard_and_gather_fns.<locals>.make_shard_fn.<locals>.shard_fn at 0x7fda17729750>}, 'feed_forward': {'w1': {'kernel': <function make_shard_and_gather_fns.<locals>.make_shard_fn.<locals>.shard_fn at 0x7fda17729e10>}, 'w2': {'kernel': <function make_shard_and_gather_fns.<locals>.make_shard_fn.<locals>.shard_fn at 0x7fda1772a4d0>}, 'w3': {'kernel': <function make_shard_and_gather_fns.<locals>.make_shard_fn.<locals>.shard_fn at 0x7fda1772ab90>}}, 'ffn_norm': {'kernel': <function make_shard_and_gather_fns.<locals>.make_shard_fn.<locals>.shard_fn at 0x7fda1772b250>}}, '25': {'attention': {'wk': {'kernel': <function make_shard_and_gather_fns.<locals>.make_shard_fn.<locals>.shard_fn at 0x7fda1772b910>}, 'wo': {'kernel': <function make_shard_and_gather_fns.<locals>.make_shard_fn.<locals>.shard_fn at 0x7fda17790040>}, 'wq': {'kernel': <function make_shard_and_gather_fns.<locals>.make_shard_fn.<locals>.shard_fn at 0x7fda17790700>}, 'wv': {'kernel': <function make_shard_and_gather_fns.<locals>.make_shard_fn.<locals>.shard_fn at 0x7fda17790dc0>}}, 'attention_norm': {'kernel': <function make_shard_and_gather_fns.<locals>.make_shard_fn.<locals>.shard_fn at 0x7fda17791480>}, 'feed_forward': {'w1': {'kernel': <function make_shard_and_gather_fns.<locals>.make_shard_fn.<locals>.shard_fn at 0x7fda17791b40>}, 'w2': {'kernel': <function make_shard_and_gather_fns.<locals>.make_shard_fn.<locals>.shard_fn at 0x7fda17792200>}, 'w3': {'kernel': <function make_shard_and_gather_fns.<locals>.make_shard_fn.<locals>.shard_fn at 0x7fda177928c0>}}, 'ffn_norm': {'kernel': <function make_shard_and_gather_fns.<locals>.make_shard_fn.<locals>.shard_fn at 0x7fda17792f80>}}, '26': {'attention': {'wk': {'kernel': <function make_shard_and_gather_fns.<locals>.make_shard_fn.<locals>.shard_fn at 0x7fda17793640>}, 'wo': {'kernel': <function make_shard_and_gather_fns.<locals>.make_shard_fn.<locals>.shard_fn at 0x7fda17793d00>}, 'wq': {'kernel': <function make_shard_and_gather_fns.<locals>.make_shard_fn.<locals>.shard_fn at 0x7fda177e0430>}, 'wv': {'kernel': <function make_shard_and_gather_fns.<locals>.make_shard_fn.<locals>.shard_fn at 0x7fda177e0af0>}}, 'attention_norm': {'kernel': <function make_shard_and_gather_fns.<locals>.make_shard_fn.<locals>.shard_fn at 0x7fda177e11b0>}, 'feed_forward': {'w1': {'kernel': <function make_shard_and_gather_fns.<locals>.make_shard_fn.<locals>.shard_fn at 0x7fda177e1870>}, 'w2': {'kernel': <function make_shard_and_gather_fns.<locals>.make_shard_fn.<locals>.shard_fn at 0x7fda177e1f30>}, 'w3': {'kernel': <function make_shard_and_gather_fns.<locals>.make_shard_fn.<locals>.shard_fn at 0x7fda177e25f0>}}, 'ffn_norm': {'kernel': <function make_shard_and_gather_fns.<locals>.make_shard_fn.<locals>.shard_fn at 0x7fda177e2cb0>}}, '27': {'attention': {'wk': {'kernel': <function make_shard_and_gather_fns.<locals>.make_shard_fn.<locals>.shard_fn at 0x7fda177e3370>}, 'wo': {'kernel': <function make_shard_and_gather_fns.<locals>.make_shard_fn.<locals>.shard_fn at 0x7fda177e3a30>}, 'wq': {'kernel': <function make_shard_and_gather_fns.<locals>.make_shard_fn.<locals>.shard_fn at 0x7fd637e38160>}, 'wv': {'kernel': <function make_shard_and_gather_fns.<locals>.make_shard_fn.<locals>.shard_fn at 0x7fd637e38820>}}, 'attention_norm': {'kernel': <function make_shard_and_gather_fns.<locals>.make_shard_fn.<locals>.shard_fn at 0x7fd637e38ee0>}, 'feed_forward': {'w1': {'kernel': <function make_shard_and_gather_fns.<locals>.make_shard_fn.<locals>.shard_fn at 0x7fd637e395a0>}, 'w2': {'kernel': <function make_shard_and_gather_fns.<locals>.make_shard_fn.<locals>.shard_fn at 0x7fd637e39c60>}, 'w3': {'kernel': <function make_shard_and_gather_fns.<locals>.make_shard_fn.<locals>.shard_fn at 0x7fd637e3a320>}}, 'ffn_norm': {'kernel': <function make_shard_and_gather_fns.<locals>.make_shard_fn.<locals>.shard_fn at 0x7fd637e3a9e0>}}, '28': {'attention': {'wk': {'kernel': <function make_shard_and_gather_fns.<locals>.make_shard_fn.<locals>.shard_fn at 0x7fd637e3b0a0>}, 'wo': {'kernel': <function make_shard_and_gather_fns.<locals>.make_shard_fn.<locals>.shard_fn at 0x7fd637e3b760>}, 'wq': {'kernel': <function make_shard_and_gather_fns.<locals>.make_shard_fn.<locals>.shard_fn at 0x7fd637e3be20>}, 'wv': {'kernel': <function make_shard_and_gather_fns.<locals>.make_shard_fn.<locals>.shard_fn at 0x7fd637e44550>}}, 'attention_norm': {'kernel': <function make_shard_and_gather_fns.<locals>.make_shard_fn.<locals>.shard_fn at 0x7fd637e44c10>}, 'feed_forward': {'w1': {'kernel': <function make_shard_and_gather_fns.<locals>.make_shard_fn.<locals>.shard_fn at 0x7fd637e452d0>}, 'w2': {'kernel': <function make_shard_and_gather_fns.<locals>.make_shard_fn.<locals>.shard_fn at 0x7fd637e45990>}, 'w3': {'kernel': <function make_shard_and_gather_fns.<locals>.make_shard_fn.<locals>.shard_fn at 0x7fd637e46050>}}, 'ffn_norm': {'kernel': <function make_shard_and_gather_fns.<locals>.make_shard_fn.<locals>.shard_fn at 0x7fd637e46710>}}, '29': {'attention': {'wk': {'kernel': <function make_shard_and_gather_fns.<locals>.make_shard_fn.<locals>.shard_fn at 0x7fd637e46dd0>}, 'wo': {'kernel': <function make_shard_and_gather_fns.<locals>.make_shard_fn.<locals>.shard_fn at 0x7fd637e47490>}, 'wq': {'kernel': <function make_shard_and_gather_fns.<locals>.make_shard_fn.<locals>.shard_fn at 0x7fd637e47b50>}, 'wv': {'kernel': <function make_shard_and_gather_fns.<locals>.make_shard_fn.<locals>.shard_fn at 0x7fd637e4c280>}}, 'attention_norm': {'kernel': <function make_shard_and_gather_fns.<locals>.make_shard_fn.<locals>.shard_fn at 0x7fd637e4c940>}, 'feed_forward': {'w1': {'kernel': <function make_shard_and_gather_fns.<locals>.make_shard_fn.<locals>.shard_fn at 0x7fd637e4d000>}, 'w2': {'kernel': <function make_shard_and_gather_fns.<locals>.make_shard_fn.<locals>.shard_fn at 0x7fd637e4d6c0>}, 'w3': {'kernel': <function make_shard_and_gather_fns.<locals>.make_shard_fn.<locals>.shard_fn at 0x7fd637e4dd80>}}, 'ffn_norm': {'kernel': <function make_shard_and_gather_fns.<locals>.make_shard_fn.<locals>.shard_fn at 0x7fd637e4e440>}}, '3': {'attention': {'wk': {'kernel': <function make_shard_and_gather_fns.<locals>.make_shard_fn.<locals>.shard_fn at 0x7fd637e4eb00>}, 'wo': {'kernel': <function make_shard_and_gather_fns.<locals>.make_shard_fn.<locals>.shard_fn at 0x7fd637e4f1c0>}, 'wq': {'kernel': <function make_shard_and_gather_fns.<locals>.make_shard_fn.<locals>.shard_fn at 0x7fd637e4f880>}, 'wv': {'kernel': <function make_shard_and_gather_fns.<locals>.make_shard_fn.<locals>.shard_fn at 0x7fd637e4ff40>}}, 'attention_norm': {'kernel': <function make_shard_and_gather_fns.<locals>.make_shard_fn.<locals>.shard_fn at 0x7fd637e50670>}, 'feed_forward': {'w1': {'kernel': <function make_shard_and_gather_fns.<locals>.make_shard_fn.<locals>.shard_fn at 0x7fd637e50d30>}, 'w2': {'kernel': <function make_shard_and_gather_fns.<locals>.make_shard_fn.<locals>.shard_fn at 0x7fd637e513f0>}, 'w3': {'kernel': <function make_shard_and_gather_fns.<locals>.make_shard_fn.<locals>.shard_fn at 0x7fd637e51ab0>}}, 'ffn_norm': {'kernel': <function make_shard_and_gather_fns.<locals>.make_shard_fn.<locals>.shard_fn at 0x7fd637e52170>}}, '30': {'attention': {'wk': {'kernel': <function make_shard_and_gather_fns.<locals>.make_shard_fn.<locals>.shard_fn at 0x7fd637e52830>}, 'wo': {'kernel': <function make_shard_and_gather_fns.<locals>.make_shard_fn.<locals>.shard_fn at 0x7fd637e52ef0>}, 'wq': {'kernel': <function make_shard_and_gather_fns.<locals>.make_shard_fn.<locals>.shard_fn at 0x7fd637e535b0>}, 'wv': {'kernel': <function make_shard_and_gather_fns.<locals>.make_shard_fn.<locals>.shard_fn at 0x7fd637e53c70>}}, 'attention_norm': {'kernel': <function make_shard_and_gather_fns.<locals>.make_shard_fn.<locals>.shard_fn at 0x7fd637e543a0>}, 'feed_forward': {'w1': {'kernel': <function make_shard_and_gather_fns.<locals>.make_shard_fn.<locals>.shard_fn at 0x7fd637e54a60>}, 'w2': {'kernel': <function make_shard_and_gather_fns.<locals>.make_shard_fn.<locals>.shard_fn at 0x7fd637e55120>}, 'w3': {'kernel': <function make_shard_and_gather_fns.<locals>.make_shard_fn.<locals>.shard_fn at 0x7fd637e557e0>}}, 'ffn_norm': {'kernel': <function make_shard_and_gather_fns.<locals>.make_shard_fn.<locals>.shard_fn at 0x7fd637e55ea0>}}, '31': {'attention': {'wk': {'kernel': <function make_shard_and_gather_fns.<locals>.make_shard_fn.<locals>.shard_fn at 0x7fd637e56560>}, 'wo': {'kernel': <function make_shard_and_gather_fns.<locals>.make_shard_fn.<locals>.shard_fn at 0x7fd637e56c20>}, 'wq': {'kernel': <function make_shard_and_gather_fns.<locals>.make_shard_fn.<locals>.shard_fn at 0x7fd637e572e0>}, 'wv': {'kernel': <function make_shard_and_gather_fns.<locals>.make_shard_fn.<locals>.shard_fn at 0x7fd637e579a0>}}, 'attention_norm': {'kernel': <function make_shard_and_gather_fns.<locals>.make_shard_fn.<locals>.shard_fn at 0x7fd637e600d0>}, 'feed_forward': {'w1': {'kernel': <function make_shard_and_gather_fns.<locals>.make_shard_fn.<locals>.shard_fn at 0x7fd637e60790>}, 'w2': {'kernel': <function make_shard_and_gather_fns.<locals>.make_shard_fn.<locals>.shard_fn at 0x7fd637e60e50>}, 'w3': {'kernel': <function make_shard_and_gather_fns.<locals>.make_shard_fn.<locals>.shard_fn at 0x7fd637e61510>}}, 'ffn_norm': {'kernel': <function make_shard_and_gather_fns.<locals>.make_shard_fn.<locals>.shard_fn at 0x7fd637e61bd0>}}, '4': {'attention': {'wk': {'kernel': <function make_shard_and_gather_fns.<locals>.make_shard_fn.<locals>.shard_fn at 0x7fd637e62290>}, 'wo': {'kernel': <function make_shard_and_gather_fns.<locals>.make_shard_fn.<locals>.shard_fn at 0x7fd637e62950>}, 'wq': {'kernel': <function make_shard_and_gather_fns.<locals>.make_shard_fn.<locals>.shard_fn at 0x7fd637e63010>}, 'wv': {'kernel': <function make_shard_and_gather_fns.<locals>.make_shard_fn.<locals>.shard_fn at 0x7fd637e636d0>}}, 'attention_norm': {'kernel': <function make_shard_and_gather_fns.<locals>.make_shard_fn.<locals>.shard_fn at 0x7fd637e63d90>}, 'feed_forward': {'w1': {'kernel': <function make_shard_and_gather_fns.<locals>.make_shard_fn.<locals>.shard_fn at 0x7fd637e6c4c0>}, 'w2': {'kernel': <function make_shard_and_gather_fns.<locals>.make_shard_fn.<locals>.shard_fn at 0x7fd637e6cb80>}, 'w3': {'kernel': <function make_shard_and_gather_fns.<locals>.make_shard_fn.<locals>.shard_fn at 0x7fd637e6d240>}}, 'ffn_norm': {'kernel': <function make_shard_and_gather_fns.<locals>.make_shard_fn.<locals>.shard_fn at 0x7fd637e6d900>}}, '5': {'attention': {'wk': {'kernel': <function make_shard_and_gather_fns.<locals>.make_shard_fn.<locals>.shard_fn at 0x7fd637e6dfc0>}, 'wo': {'kernel': <function make_shard_and_gather_fns.<locals>.make_shard_fn.<locals>.shard_fn at 0x7fd637e6e680>}, 'wq': {'kernel': <function make_shard_and_gather_fns.<locals>.make_shard_fn.<locals>.shard_fn at 0x7fd637e6ed40>}, 'wv': {'kernel': <function make_shard_and_gather_fns.<locals>.make_shard_fn.<locals>.shard_fn at 0x7fd637e6f400>}}, 'attention_norm': {'kernel': <function make_shard_and_gather_fns.<locals>.make_shard_fn.<locals>.shard_fn at 0x7fd637e6fac0>}, 'feed_forward': {'w1': {'kernel': <function make_shard_and_gather_fns.<locals>.make_shard_fn.<locals>.shard_fn at 0x7fd637e741f0>}, 'w2': {'kernel': <function make_shard_and_gather_fns.<locals>.make_shard_fn.<locals>.shard_fn at 0x7fd637e748b0>}, 'w3': {'kernel': <function make_shard_and_gather_fns.<locals>.make_shard_fn.<locals>.shard_fn at 0x7fd637e74f70>}}, 'ffn_norm': {'kernel': <function make_shard_and_gather_fns.<locals>.make_shard_fn.<locals>.shard_fn at 0x7fd637e75630>}}, '6': {'attention': {'wk': {'kernel': <function make_shard_and_gather_fns.<locals>.make_shard_fn.<locals>.shard_fn at 0x7fd637e75cf0>}, 'wo': {'kernel': <function make_shard_and_gather_fns.<locals>.make_shard_fn.<locals>.shard_fn at 0x7fd637e763b0>}, 'wq': {'kernel': <function make_shard_and_gather_fns.<locals>.make_shard_fn.<locals>.shard_fn at 0x7fd637e76a70>}, 'wv': {'kernel': <function make_shard_and_gather_fns.<locals>.make_shard_fn.<locals>.shard_fn at 0x7fd637e77130>}}, 'attention_norm': {'kernel': <function make_shard_and_gather_fns.<locals>.make_shard_fn.<locals>.shard_fn at 0x7fd637e777f0>}, 'feed_forward': {'w1': {'kernel': <function make_shard_and_gather_fns.<locals>.make_shard_fn.<locals>.shard_fn at 0x7fd637e77eb0>}, 'w2': {'kernel': <function make_shard_and_gather_fns.<locals>.make_shard_fn.<locals>.shard_fn at 0x7fd637e785e0>}, 'w3': {'kernel': <function make_shard_and_gather_fns.<locals>.make_shard_fn.<locals>.shard_fn at 0x7fd637e78ca0>}}, 'ffn_norm': {'kernel': <function make_shard_and_gather_fns.<locals>.make_shard_fn.<locals>.shard_fn at 0x7fd637e79360>}}, '7': {'attention': {'wk': {'kernel': <function make_shard_and_gather_fns.<locals>.make_shard_fn.<locals>.shard_fn at 0x7fd637e79a20>}, 'wo': {'kernel': <function make_shard_and_gather_fns.<locals>.make_shard_fn.<locals>.shard_fn at 0x7fd637e7a0e0>}, 'wq': {'kernel': <function make_shard_and_gather_fns.<locals>.make_shard_fn.<locals>.shard_fn at 0x7fd637e7a7a0>}, 'wv': {'kernel': <function make_shard_and_gather_fns.<locals>.make_shard_fn.<locals>.shard_fn at 0x7fd637e7ae60>}}, 'attention_norm': {'kernel': <function make_shard_and_gather_fns.<locals>.make_shard_fn.<locals>.shard_fn at 0x7fd637e7b520>}, 'feed_forward': {'w1': {'kernel': <function make_shard_and_gather_fns.<locals>.make_shard_fn.<locals>.shard_fn at 0x7fd637e7bbe0>}, 'w2': {'kernel': <function make_shard_and_gather_fns.<locals>.make_shard_fn.<locals>.shard_fn at 0x7fd637e84310>}, 'w3': {'kernel': <function make_shard_and_gather_fns.<locals>.make_shard_fn.<locals>.shard_fn at 0x7fd637e849d0>}}, 'ffn_norm': {'kernel': <function make_shard_and_gather_fns.<locals>.make_shard_fn.<locals>.shard_fn at 0x7fd637e85090>}}, '8': {'attention': {'wk': {'kernel': <function make_shard_and_gather_fns.<locals>.make_shard_fn.<locals>.shard_fn at 0x7fd637e85750>}, 'wo': {'kernel': <function make_shard_and_gather_fns.<locals>.make_shard_fn.<locals>.shard_fn at 0x7fd637e85e10>}, 'wq': {'kernel': <function make_shard_and_gather_fns.<locals>.make_shard_fn.<locals>.shard_fn at 0x7fd637e864d0>}, 'wv': {'kernel': <function make_shard_and_gather_fns.<locals>.make_shard_fn.<locals>.shard_fn at 0x7fd637e86b90>}}, 'attention_norm': {'kernel': <function make_shard_and_gather_fns.<locals>.make_shard_fn.<locals>.shard_fn at 0x7fd637e87250>}, 'feed_forward': {'w1': {'kernel': <function make_shard_and_gather_fns.<locals>.make_shard_fn.<locals>.shard_fn at 0x7fd637e87910>}, 'w2': {'kernel': <function make_shard_and_gather_fns.<locals>.make_shard_fn.<locals>.shard_fn at 0x7fd637efc040>}, 'w3': {'kernel': <function make_shard_and_gather_fns.<locals>.make_shard_fn.<locals>.shard_fn at 0x7fd637efc700>}}, 'ffn_norm': {'kernel': <function make_shard_and_gather_fns.<locals>.make_shard_fn.<locals>.shard_fn at 0x7fd637efcdc0>}}, '9': {'attention': {'wk': {'kernel': <function make_shard_and_gather_fns.<locals>.make_shard_fn.<locals>.shard_fn at 0x7fd637efd480>}, 'wo': {'kernel': <function make_shard_and_gather_fns.<locals>.make_shard_fn.<locals>.shard_fn at 0x7fd637efdb40>}, 'wq': {'kernel': <function make_shard_and_gather_fns.<locals>.make_shard_fn.<locals>.shard_fn at 0x7fd637efe200>}, 'wv': {'kernel': <function make_shard_and_gather_fns.<locals>.make_shard_fn.<locals>.shard_fn at 0x7fd637efe8c0>}}, 'attention_norm': {'kernel': <function make_shard_and_gather_fns.<locals>.make_shard_fn.<locals>.shard_fn at 0x7fd637efef80>}, 'feed_forward': {'w1': {'kernel': <function make_shard_and_gather_fns.<locals>.make_shard_fn.<locals>.shard_fn at 0x7fd637eff640>}, 'w2': {'kernel': <function make_shard_and_gather_fns.<locals>.make_shard_fn.<locals>.shard_fn at 0x7fd637effd00>}, 'w3': {'kernel': <function make_shard_and_gather_fns.<locals>.make_shard_fn.<locals>.shard_fn at 0x7fd637e88430>}}, 'ffn_norm': {'kernel': <function make_shard_and_gather_fns.<locals>.make_shard_fn.<locals>.shard_fn at 0x7fd637e88af0>}}}, 'ln_f': {'kernel': <function make_shard_and_gather_fns.<locals>.make_shard_fn.<locals>.shard_fn at 0x7fd637e891b0>}, 'wte': {'embedding': <function make_shard_and_gather_fns.<locals>.make_shard_fn.<locals>.shard_fn at 0x7fd637e89870>}}}\n"
     ]
    },
    {
     "name": "stdin",
     "output_type": "stream",
     "text": [
      "ipdb>  c\n"
     ]
    },
    {
     "name": "stdout",
     "output_type": "stream",
     "text": [
      "> \u001b[0;32m/home/roadrunnerx-fork/llama3_jax/trainer_engine/checkpoint_lib.py\u001b[0m(257)\u001b[0;36mload_checkpoint\u001b[0;34m()\u001b[0m\n",
      "\u001b[0;32m    255 \u001b[0;31m\u001b[0;34m\u001b[0m\u001b[0m\n",
      "\u001b[0m\u001b[0;32m    256 \u001b[0;31m        \u001b[0mpdb\u001b[0m\u001b[0;34m.\u001b[0m\u001b[0mset_trace\u001b[0m\u001b[0;34m(\u001b[0m\u001b[0;34m)\u001b[0m\u001b[0;34m\u001b[0m\u001b[0;34m\u001b[0m\u001b[0m\n",
      "\u001b[0m\u001b[0;32m--> 257 \u001b[0;31m        \u001b[0mtrain_state\u001b[0m \u001b[0;34m=\u001b[0m \u001b[0munflatten_dict\u001b[0m\u001b[0;34m(\u001b[0m\u001b[0mflattend_train_state\u001b[0m\u001b[0;34m)\u001b[0m\u001b[0;34m\u001b[0m\u001b[0;34m\u001b[0m\u001b[0m\n",
      "\u001b[0m\u001b[0;32m    258 \u001b[0;31m        \u001b[0;32mif\u001b[0m \u001b[0mtarget\u001b[0m \u001b[0;32mis\u001b[0m \u001b[0;32mNone\u001b[0m\u001b[0;34m:\u001b[0m\u001b[0;34m\u001b[0m\u001b[0;34m\u001b[0m\u001b[0m\n",
      "\u001b[0m\u001b[0;32m    259 \u001b[0;31m            \u001b[0;32mreturn\u001b[0m \u001b[0mtrain_state\u001b[0m\u001b[0;34m\u001b[0m\u001b[0;34m\u001b[0m\u001b[0m\n",
      "\u001b[0m\n"
     ]
    },
    {
     "name": "stdin",
     "output_type": "stream",
     "text": [
      "ipdb>  c\n"
     ]
    }
   ],
   "source": [
    "trainer = trainer_lib.CausalLMTrainer(\n",
    "    model=model,\n",
    "    model_ckpt_path=\"/mnt/persistent-disk/easy/easylm_llama3.1_8b.easylm\",\n",
    "    model_configurator=model_configurator,\n",
    "    optimizer=optimizer,\n",
    "    training_config=training_cfg,\n",
    "    mesh=jax_utils.MESH, \n",
    ")"
   ]
  },
  {
   "cell_type": "code",
   "execution_count": 14,
   "metadata": {},
   "outputs": [
    {
     "name": "stdout",
     "output_type": "stream",
     "text": [
      "Starting epoch 0 of training...\n",
      "Epoch 0, Step 0, Train Loss: 2.5638, Accuracy: 0.4844\n",
      "Eval Step 0, Loss: 2.2536, Accuracy: 0.5312\n",
      "Evaluation complete. Average Loss: 2.2536, Average Accuracy: 0.5312\n",
      "Epoch 0, Step 0, Eval Loss: 2.2536, Accuracy: 0.5312\n",
      "Epoch 0, Step 1, Train Loss: 2.4324, Accuracy: 0.5156\n",
      "Epoch 0, Step 2, Train Loss: 2.0826, Accuracy: 0.5625\n",
      "Epoch 0, Step 3, Train Loss: 2.1698, Accuracy: 0.5781\n",
      "Epoch 0, Step 4, Train Loss: 1.9138, Accuracy: 0.5938\n",
      "Epoch 0, Step 5, Train Loss: 1.9676, Accuracy: 0.6094\n"
     ]
    }
   ],
   "source": [
    "state = trainer.train(train_dataloader, val_dataloader, run_jitted=True)"
   ]
  },
  {
   "cell_type": "code",
   "execution_count": 15,
   "metadata": {},
   "outputs": [
    {
     "name": "stdout",
     "output_type": "stream",
     "text": [
      "Saving checkpoint to /mnt/persistent-disk/export/llama-3.1-8B-Instruct-JAX...\n",
      "Checkpoint saved to /mnt/persistent-disk/export/llama-3.1-8B-Instruct-JAX.\n"
     ]
    }
   ],
   "source": [
    "flax_checkpoint_path = os.path.join(EXPORT_DIR, MODEL_NAME)\n",
    "trainer.save_checkpoint(state, path=flax_checkpoint_path)"
   ]
  },
  {
   "cell_type": "code",
   "execution_count": null,
   "metadata": {},
   "outputs": [],
   "source": [
    "convert_lib.save_hf_compatible_checkpoint(\n",
    "    f'flax_params::{flax_checkpoint_path}', HF_EXPORT_DIR, model_configurator)\n",
    "\n",
    "# Download and save the tokenizer\n",
    "tokenizer_repo = f\"felafax/tokenizer-{MODEL_NAME}\"\n",
    "tokenizer_dir = snapshot_download(repo_id=tokenizer_repo)\n",
    "\n",
    "# Move all files from tokenizer_dir to HF_EXPORT_DIR\n",
    "for item in os.listdir(tokenizer_dir):\n",
    "    s = os.path.join(tokenizer_dir, item)\n",
    "    d = os.path.join(HF_EXPORT_DIR, item)\n",
    "    if os.path.isfile(s):\n",
    "        shutil.copy2(s, d)\n",
    "        print(f\"Copied {item} to {HF_EXPORT_DIR}\")\n",
    "    elif os.path.isdir(s):\n",
    "        shutil.copytree(s, d, dirs_exist_ok=True)\n",
    "        print(f\"Copied directory {item} to {HF_EXPORT_DIR}\")\n",
    "print(f\"All tokenizer files saved to {HF_EXPORT_DIR}\")"
   ]
  },
  {
   "cell_type": "code",
   "execution_count": null,
   "metadata": {},
   "outputs": [],
   "source": [
    "checkpoint_lib.copy_directory(HF_EXPORT_DIR, GCS_DIR)\n",
    "print(f\"Checkpoint copied to {GCS_DIR}\")"
   ]
  },
  {
   "cell_type": "code",
   "execution_count": null,
   "metadata": {},
   "outputs": [],
   "source": [
    "# HUGGINGFACE_TOKEN = input(\"INPUT: Please provide your HUGGINGFACE_TOKEN: \")\n",
    "# HUGGINGFACE_USERNAME = input(\n",
    "#     \"INPUT: Please provide your HUGGINGFACE_USERNAME: \")\n",
    "# HUGGINGFACE_REPO_NAME = input(\n",
    "#     \"INPUT: Please provide your HUGGINGFACE_REPO_NAME: \")\n",
    "# convert_lib.upload_checkpoint_to_hf(\n",
    "#     HF_EXPORT_DIR, f\"{HUGGINGFACE_USERNAME}/{HUGGINGFACE_REPO_NAME}\",\n",
    "#     HUGGINGFACE_TOKEN)"
   ]
  }
 ],
 "metadata": {
  "kernelspec": {
   "display_name": "Python 3 (ipykernel)",
   "language": "python",
   "name": "python3"
  },
  "language_info": {
   "codemirror_mode": {
    "name": "ipython",
    "version": 3
   },
   "file_extension": ".py",
   "mimetype": "text/x-python",
   "name": "python",
   "nbconvert_exporter": "python",
   "pygments_lexer": "ipython3",
   "version": "3.10.14"
  }
 },
 "nbformat": 4,
 "nbformat_minor": 4
}
