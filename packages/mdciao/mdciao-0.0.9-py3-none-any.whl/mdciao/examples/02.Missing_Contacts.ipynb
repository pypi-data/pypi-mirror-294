{
 "cells": [
  {
   "cell_type": "markdown",
   "metadata": {
    "tags": []
   },
   "source": [
    "# Missing Contacts\n",
    "You might find that some contacts that you were **expecting** to be found by ``mdciao`` don't actually show up in ``mdciao``'s results. Several input parameters control the contact reporting of ``mdciao``, and it might not be obvious which one of them (if any) is actually *hiding* your contact. The logic behind these parameters, and their default values, is fairly straightforward, and we illustrate it here.\n",
    "\n",
    "\n",
    "If you want to run this notebook on your own, please download and extract the data from [here](http://proteinformatics.org/mdciao/mdciao_example.zip) first. You can download it:\n",
    "\n",
    "* using the browser \n",
    "* using the terminal with  \n",
    " ```wget http://proteinformatics.org/mdciao/mdciao_example.zip; unzip mdciao_example.zip```\n",
    "* using  mdciao's own method [mdciao.examples.fetch_example_data](http://proteinformatics.uni-leipzig.de/mdciao/api/generated/generated/mdciao.examples.fetch_example_data.html?highlight=fetch)\n",
    "\n",
    "If you want to take a 3D-look at this data, you can do it [here](http://proteinformatics.uni-leipzig.de/mdsrv.html?load=file://base/mdciao/gs-b2ar.ngl)."
   ]
  },
  {
   "cell_type": "markdown",
   "metadata": {},
   "source": [
    "## `ctc_cutoff_Ang`\n",
    "This is the most obvious parameter that controls the contact computation. It appears virtually in all methods (CLI or API) that compute contact frequencies. Whenever it has a default value, it is **4 Angstrom**.\n",
    "\n",
    "<div class=\"alert alert-info\">\n",
    "    \n",
    "<b>Note</b> \n",
    "    \n",
    "Please see the *note of caution* on the use of hard cutoffs in the [main page of the docs](https://proteinformatics.uni-leipzig.de/mdciao/index.html).\n",
    "\n",
    "</div>"
   ]
  },
  {
   "cell_type": "code",
   "execution_count": null,
   "metadata": {},
   "outputs": [],
   "source": [
    "import mdciao, os\n",
    "if not os.path.exists(\"mdciao_example\"):\n",
    "    mdciao.examples.fetch_example_data()"
   ]
  },
  {
   "cell_type": "code",
   "execution_count": null,
   "metadata": {},
   "outputs": [],
   "source": [
    "import mdtraj as md\n",
    "traj = md.load(\"mdciao_example/traj.xtc\",top=\"mdciao_example/top.pdb\")"
   ]
  },
  {
   "cell_type": "markdown",
   "metadata": {},
   "source": [
    "First, we individually call [mdciao.cli.residue_neighborhoods](https://proteinformatics.uni-leipzig.de/mdciao/api/generated/generated/mdciao.cli.residue_neighborhoods.html) with two ``ctc_cutoff_Ang`` values, 3.0, 3.5, and 4.0 Angstrom. This will generate three frequency reports which we will later compare with [mdciao.cli.compare](https://proteinformatics.uni-leipzig.de/mdciao/api/generated/generated/mdciao.cli.compare.html). Please refer to those methods if their function calls aren't entirely clear to you.\n"
   ]
  },
  {
   "cell_type": "markdown",
   "metadata": {},
   "source": [
    "<div class=\"alert alert-info\">\n",
    "    \n",
    "<b>Note</b> \n",
    "    \n",
    "We are hiding the outputs with the use of the [`%%capture` magic](https://ipython.readthedocs.io/en/stable/interactive/magics.html#cellmagic-capture).\n",
    "\n",
    "</div>"
   ]
  },
  {
   "cell_type": "code",
   "execution_count": null,
   "metadata": {},
   "outputs": [],
   "source": [
    "%%capture\n",
    "for ctc_cutoff_Ang in [3, 3.5, 4.0]:\n",
    "    mdciao.cli.residue_neighborhoods(\"L394\",traj, \n",
    "                                     short_AA_names=True,\n",
    "                                     ctc_cutoff_Ang=ctc_cutoff_Ang,\n",
    "                                     figures=False, \n",
    "                                     fragment_names=None,\n",
    "                                     #ctc_control=1.0,\n",
    "                                     no_disk=False)[353]"
   ]
  },
  {
   "cell_type": "code",
   "execution_count": null,
   "metadata": {},
   "outputs": [],
   "source": [
    "mdciao.cli.compare({\n",
    "    \"ctc_cutoff_Ang = 4.0 AA\" : \"neighborhood.LEU394@4.0_Ang.dat\",\n",
    "    \"ctc_cutoff_Ang = 3.5 AA\" : \"neighborhood.LEU394@3.5_Ang.dat\",\n",
    "    \"ctc_cutoff_Ang = 3.0 AA\" : \"neighborhood.LEU394@3.0_Ang.dat\",\n",
    "                   },\n",
    "                   anchor=\"L394\",\n",
    "                  title=\"Cutoff comparison\");"
   ]
  },
  {
   "cell_type": "markdown",
   "metadata": {},
   "source": [
    "We observe that the smaller the cutoff, the fewer contacts get reported. In this case ``L230`` and ``R385`` never approach ``L394`` at distances smaller than 3.0 Angstrom during in the entire simulation, hence they don't get reported.  As for ``K270``, the frequency doesn't change very much, because it's a salt-bridge that's really either formed at very close distance or broken at higher distances, as can be seen in this [time-trace figure](https://proteinformatics.uni-leipzig.de/mdciao/_images/banner.png). Also notice that, the higher the cutoff, the higher the sum over bars, $\\Sigma$, since the height of the bars has increased."
   ]
  },
  {
   "cell_type": "markdown",
   "metadata": {},
   "source": [
    "## `ctc_control`\n",
    "Even when using the same ``ctc_cutoff_Ang``, there's other ways of controlling what gets reported. ``ctc_control`` is one of them. This parameter controls **how many** residues get reported per neighborhood, since usually one is not interested in **all** residues but only the most frequent ones.\n",
    "\n",
    "### Controlling with integers\n",
    "One way to control this is to select only the first *n* frequent ones (*n* is an integer and is **5** by default). Here we do the comparison again, but withoug hiding the output s.t. you can see the contact list grow."
   ]
  },
  {
   "cell_type": "code",
   "execution_count": null,
   "metadata": {},
   "outputs": [],
   "source": [
    "#%%capture\n",
    "ctc_controls = [3,4,5,6]\n",
    "for ctc_control in ctc_controls:\n",
    "    mdciao.cli.residue_neighborhoods(\"L394\",traj, \n",
    "                                     short_AA_names=True,\n",
    "                                     ctc_control=ctc_control,\n",
    "                                     figures=False, \n",
    "                                     fragment_names=None,\n",
    "                                     no_disk=False,\n",
    "                                     output_desc='neighborhood.ctc_control_%u'%ctc_control)\n",
    "mdciao.cli.compare({\"ctc-control = %u\"%key : \"neighborhood.ctc_control_%u.LEU394@%2.1f_Ang.dat\"%(key,ctc_cutoff_Ang)\n",
    "                   for key in ctc_controls},\n",
    "                   anchor=\"L394\",\n",
    "                   title=\"ctc-control comparison\");"
   ]
  },
  {
   "cell_type": "markdown",
   "metadata": {},
   "source": [
    "*n* is simply the number of reported bars: three blue ones, four orange ones, five green ones, and six red ones. $\\Sigma$ is just the sum of the heights of all bars and is thus an estimate of the **average number of neighbors** that are being reported (at this cutoff). A couple of observations:\n",
    "\n",
    "\n",
    "* The relation of $\\Sigma$ with *n* is straightforward: as *n* grows, so does $\\Sigma$.\n",
    "\n",
    "\n",
    "* For a fixed cutoff, there's an upper bond to $\\Sigma$ ($\\Sigma\\leq\\Sigma_t$), because the **total average number of neighbors**, $\\Sigma_t$, of a given residue, over a given dataset, is determined by the used cutoff only. The ``ctc_control`` parameter simply determines how many neighbors get actually reported.\n",
    "\n",
    "\n",
    "* Because neighbors get reported by descending frequency, the neighbors that get left out when chosen *n* = 4 over *n* = of 5 or 6 are very likely not that significant. Please note that this won't hold for very small datasets (like one single pdb file), where the word *frequency* doesn't really have a defined meaning.\n",
    "\n",
    "\n",
    "* In cases where ``mdciao`` is used to look for the neighborhood of just one residue, there's a sensible number of residues to choose (somewhere between 5 and 10), because *usually* that's how many interactions a residue will have (please note, this doesn't necessary hold for elongated ligands, lipids, acid chains etc).\n",
    "\n",
    "``mdciao`` writes out the percentage of $\\Sigma_t$ that the reported contact captures, so that the user can decide whether to increase *n* or not. For each of the iterations above, here are terminal-output reporting just that:\n",
    "\n",
    "* ``ctc_control = 3``\n",
    " ```\n",
    " The following 3 contacts capture 2.67 (~62%) of the total frequency 4.31 (over 7 contacts with nonzero frequency).\n",
    " As orientation value, the first 5 ctcs already capture 90.0% of 4.31.\n",
    " The 5-th contact has a frequency of 0.50.\n",
    "    freq    label     residue idxs   sum\n",
    " 1  0.96  L394 - R389    353 348    0.96\n",
    " 2  0.92  L394 - L388    353 347    1.88\n",
    " 3  0.79  L394 - L230    353 957    2.67\n",
    " ```\n",
    " The intention is to report how much of $\\Sigma_t$ has been captured using 3 contacts (~62%), and how many would be needed to capture most (90%) of it (5 contacts). The actual value $\\Sigma_t$ is reported immediately after (*total frequency 4.31*). You will notice that the value 4.31 doesn't change as we increase *n* in the reports below. The *7 contacts with nonzero frequency* is just telling that only 7 contacts were even considered as potential neighbors, having been within the cutoff + a buffer of 2.5 Angstrom during the simulations.\n",
    " \n",
    " So, as we increase *n*, the listed contacts grows, the reported *percentage* grows but all the rest stays the same\n",
    " \n",
    "* ``ctc_control = 4``\n",
    " ```\n",
    " The following 4 contacts capture 3.38 (~78%) of the total frequency 4.31 (over 7 contacts with nonzero frequency).\n",
    " As orientation value, the first 5 ctcs already capture 90.0% of 4.31.\n",
    " The 5-th contact has a frequency of 0.50.\n",
    "    freq    label     residue idxs   sum\n",
    " 1  0.96  L394 - R389    353 348    0.96\n",
    " 2  0.92  L394 - L388    353 347    1.88\n",
    " 3  0.79  L394 - L230    353 957    2.67\n",
    " 4  0.71  L394 - R385    353 344    3.38\n",
    " ```\n",
    " \n",
    "* ``ctc_control = 5``\n",
    " ```\n",
    " The following 5 contacts capture 3.88 (~90%) of the total frequency 4.31 (over 7 contacts with nonzero frequency).\n",
    " As orientation value, the first 5 ctcs already capture 90.0% of 4.31.\n",
    " The 5-th contact has a frequency of 0.50.\n",
    "    freq    label     residue idxs   sum\n",
    " 1  0.96  L394 - R389    353 348    0.96\n",
    " 2  0.92  L394 - L388    353 347    1.88\n",
    " 3  0.79  L394 - L230    353 957    2.67\n",
    " 4  0.71  L394 - R385    353 344    3.38\n",
    " 5  0.50  L394 - K270    353 972    3.88\n",
    " ```\n",
    " \n",
    "* ``ctc_control = 6``\n",
    " ```\n",
    " The following 6 contacts capture 4.29 (~100%) of the total frequency 4.31 (over 7 contacts with nonzero frequency).\n",
    " As orientation value, the first 5 ctcs already capture 90.0% of 4.31.\n",
    " The 5-th contact has a frequency of 0.50.\n",
    "    freq    label     residue idxs   sum\n",
    " 1  0.96  L394 - R389    353 348    0.96\n",
    " 2  0.92  L394 - L388    353 347    1.88\n",
    " 3  0.79  L394 - L230    353 957    2.67\n",
    " 4  0.71  L394 - R385    353 344    3.38\n",
    " 5  0.50  L394 - K270    353 972    3.88\n",
    " 6  0.41  L394 - I233    353 960    4.29\n",
    " ```"
   ]
  },
  {
   "cell_type": "markdown",
   "metadata": {},
   "source": [
    "### Controlling with fractions\n",
    "Additionally, the **upper bond** itself,  $\\Sigma_t$, can be used as a reference for controlling how many contacts get reported. So, instead of specifying an absolute number (*n* = 3,4,5...), one can specify a relative number, i.e. a fraction of $\\Sigma_t$ to be reported. \n",
    "\n",
    "This way, regardless of the actual number of involved contacts, one can choose to report **most of them**. In the example below, we choose to report 90% of the total number of average neighbors, which, as we know from above, is achieved with 4 contacts. To avoid introducing a new parameter, ``mdciao`` knows that if ``ctc_control`` is an integer (1, 2, 3...), the user means *these many contacts*, whereas if ``ctc_control`` is between 0 and 1 (.50 for 50%, .9 for 90% etc) the user wants that fraction of $\\Sigma_t$:"
   ]
  },
  {
   "cell_type": "code",
   "execution_count": null,
   "metadata": {},
   "outputs": [],
   "source": [
    "mdciao.cli.residue_neighborhoods(\"L394\",traj, \n",
    "                                 short_AA_names=True,\n",
    "                                 ctc_cutoff_Ang=ctc_cutoff_Ang,\n",
    "                                 ctc_control=1.0,\n",
    "                                 figures=False, \n",
    "                                 fragment_names=None,\n",
    "                                 no_disk=False,\n",
    "                                 );"
   ]
  },
  {
   "cell_type": "markdown",
   "metadata": {},
   "source": [
    "Which control-mode to choose (fraction or integers) is up to the user:\n",
    "\n",
    "* For **compactness**, limiting the output with integers can avoid huge outputs, but might leave out some interesting stuff.\n",
    "\n",
    "* For **completeness**, choosing ``ctc_control = 1.0`` will ensure that any-residue under the cutoff (regardless of its frequency) will be reported, but might fill the reports with \"long tails\" of many residues with very low frequencies (see below)."
   ]
  },
  {
   "cell_type": "markdown",
   "metadata": {},
   "source": [
    "## `n_nearest`"
   ]
  },
  {
   "cell_type": "markdown",
   "metadata": {},
   "source": [
    "Another way in which ``mdciao`` is choosing which residues to show is through excluding **nearest neighbors**, i.e. residues that are predictably going to be under the cutoff simply because they are bonded neighbors of the residue in question.\n",
    "\n",
    "In our example, for ``L394`` these would be residues 395 and 393 (first bonded) 396 and 392 (second bonded) and so on (except, in this particular ``L394`` case, since it's a terminal residue, we only get 393, 392 etc).\n",
    "\n",
    "The default value that ``mdciao`` has this parameter is ``n_nearest=4`` by default, which is approximately one $\\alpha$-helix turn away. The intention is to avoid reporting up to the first helix away from the residue.\n",
    "\n",
    "Let's see the effect of varying this parameter:\n"
   ]
  },
  {
   "cell_type": "code",
   "execution_count": null,
   "metadata": {},
   "outputs": [],
   "source": [
    "%%capture\n",
    "n_nearests = [0, 1, 2, 3, 4]\n",
    "for n_nearest in n_nearests:\n",
    "    n = mdciao.cli.residue_neighborhoods(\"L394\",traj, \n",
    "                                     short_AA_names=True,\n",
    "                                     ctc_control=20,\n",
    "                                     n_nearest=n_nearest,\n",
    "                                     figures=False, \n",
    "                                     no_disk=False,\n",
    "                                     output_desc='neighborhood.n_nearest_%u'%n_nearest)"
   ]
  },
  {
   "cell_type": "code",
   "execution_count": null,
   "metadata": {},
   "outputs": [],
   "source": [
    "mdciao.cli.compare({\"n_n = %u\"%key : \"neighborhood.n_nearest_%u.LEU394@frag0@%2.1f_Ang.dat\"%(key,4)\n",
    "                    for key in n_nearests},\n",
    "                   anchor=\"L394\",\n",
    "                   title=\"n_neighbors comparison\");"
   ]
  },
  {
   "cell_type": "markdown",
   "metadata": {},
   "source": [
    "We can see also here that, the lower ``n_neighbors``, i.e. the less neighbors we exclude, the higher the $\\Sigma$ value. With ``n_neighbors=0``, in the report we see ``E392`` and ``L393``, both with full bars. Since ``L393`` is covalently bonded to ``L394``, this is expected (and hence not particularly informative). While ``L392`` is not bonded to ``L394``, there's a strong expectation for it to be near ``L394``, so this is also not very informative. So, as ``n_neighbors`` goes up, these two bars get hidden, and the graph doesn't change anymore. If you're wondering what's with position 391, there's a TYR that points away from ``L394`` throughout the simulation, so it wouldn't appear on the report regardless."
   ]
  },
  {
   "cell_type": "markdown",
   "metadata": {
    "tags": []
   },
   "source": [
    "## Interfaces: `ctc_control` and `min_freq`\n",
    "When computing interfaces between two different groups of residues using [mdciao.cli.interface](https://proteinformatics.uni-leipzig.de/mdciao/api/generated/generated/mdciao.cli.interface.html#mdciao.cli.interface), one can set `ctc_control=1.0` and `min_freq=O` to force `mdciao` to report **all** nonzero frequencies. This means any and all residue pairs that at any given point in time might have been at a distance >= `ctc_cutoff_Ang`, even if was just for one frame.\n",
    "\n",
    "After reporting the most relevant contacts, this approach typically reports also a high number of very low frequency contacts, i.e. a *long tail* of very low frequency contacts, in particular for large interfaces (more on this tail below). \n",
    "\n",
    "First, we take a look at the full list of contacts by using:\n",
    "* `ctc_control=1.0`\n",
    "* `min_freq=0`"
   ]
  },
  {
   "cell_type": "code",
   "execution_count": null,
   "metadata": {},
   "outputs": [],
   "source": [
    "intf = mdciao.cli.interface(\"mdciao_example/traj.xtc\", topology=\"mdciao_example/top.pdb\", \n",
    "                            no_disk=True, interface_selection_1=[0], interface_selection_2=[1], \n",
    "                            ctc_control=1.0, \n",
    "                            min_freq=0,\n",
    "                            figures=False);\n",
    "intf.plot_freqs_as_bars(4, shorten_AAs=True, defrag=\"@\", cumsum=True, sort_by_freq=True);"
   ]
  },
  {
   "cell_type": "markdown",
   "metadata": {},
   "source": [
    "In the graph (double click to enlarge), we note the *long tail* of the bar-plot as we move to the right. *Where exactly* should one stop to pay attention can't be really answered numercally alone. `mdciao` tries to provide hints as to what might be sane values, e.g, the log reports:\n",
    "```\n",
    "    The following 103 contacts capture 57.05 (~100%) of the total frequency 57.11 (over 117 contacts with nonzero frequency at 4.00 Angstrom).\n",
    "    As orientation value, the first 60 ctcs already capture 90.0% of 57.11.\n",
    "    The 60-th contact has a frequency of 0.53.\n",
    " ```\n",
    "which means:\n",
    "1. the reported contacts, which have resulted from using `ctc_control=1.0, min_freq=0.0`, are capturing **100%** of anything there is to report.   \n",
    "   This is exactly what is expected (100% of 100%).\n",
    "2. Then, as orientation, `mdciao` looks for how many contacts one would need to capture 90% of that 100%, and the in this case number is 60.  \n",
    "   Meaning, just 60 (of the 117, i.e. the upper half of the table) contacts already capture 90% of everything there is to report. You could *throw away* the second half of the entries of the contact list and **still** keep 90% of the total frequency there is to report. The *running* value of $\\Sigma$ as you move to the right on the plot is represented with fainted gray line that grows between 0 and 1. You can see that in the middle of the plot it already reaches high values. \n",
    "3. Finally, `mdciao` informs the user of the frequency value of that last contact at 90%. In this case, that value (.53 i.e. 53%) is *somewhat* high.  \n",
    "   While truncating the list at 90% seems a reasonable way to focus on the relevant frequencies, that would mean discarding some contacts that are formed slightly below 50% of the time (see the graph).\n",
    "\n",
    "Hence, as a compromise between reporting *everything* or risking truncating *too early*, `mdciao` sets by default `min_freq=0.10`, i.e. contacts formed less than 10% of the time are simply not included in the returned `ContactGroup`. The *long tail* is contained in the above report, nevertheless:"
   ]
  },
  {
   "cell_type": "code",
   "execution_count": null,
   "metadata": {},
   "outputs": [],
   "source": [
    "intf = mdciao.cli.interface(\"mdciao_example/traj.xtc\", topology=\"mdciao_example/top.pdb\", \n",
    "                            no_disk=True, interface_selection_1=[0], interface_selection_2=[1], \n",
    "                            ctc_control=1.0, \n",
    "                            figures=False);\n",
    "intf.plot_freqs_as_bars(4, shorten_AAs=True, defrag=\"@\", cumsum=True, sort_by_freq=True);"
   ]
  },
  {
   "cell_type": "markdown",
   "metadata": {},
   "source": [
    "The output\n",
    "```\n",
    "The following 80 contacts capture 56.19 (~98%) of the total frequency 57.11 (over 117 contacts with nonzero frequency).\n",
    "As orientation value, the first 60 ctcs already capture 90.0% of 57.11.\n",
    "The 60-th contact has a frequency of 0.53.\n",
    "```\n",
    "let's us know that ignoring frequencies < .1 reduces the full list from 117 to 80 entries while keeping ca 98% of $\\Sigma_t$. In this case, even if we have `ctc_control=1.0` we don't get 100% of the freqs reported (only 98%) because the `min_freq=0.1` (default value) is causing the loss of %2 of contacts all of which have frequencies below 10%."
   ]
  },
  {
   "cell_type": "markdown",
   "metadata": {},
   "source": [
    "## Interfaces: `self_interface`\n",
    "\n",
    "From the docs of [mdciao.cli.interface](https://proteinformatics.uni-leipzig.de/mdciao/api/generated/generated/mdciao.cli.interface.html#mdciao.cli.interface):\n",
    "    \n",
    "    Note\n",
    "    ----\n",
    "    If your definitions of `interface_selection_1` and\n",
    "    `interface_selection_2` lead to some overlap between\n",
    "    the interface members (see below), mdciao's default\n",
    "    is to ignore contact pairs within the same fragment.\n",
    "    E.g., in the context of a GPCR, computing\n",
    "    \"TM3\" vs \"TM*\" (\"TM3\" vs \"all TMs\") won't include\n",
    "    TM3-TM3 contacts by default. To include these\n",
    "    (or equivalent) contacts set `self_interface` = True.\n",
    "\n",
    "    Another example could be computing the interface of\n",
    "    C-terminus of a receptor with the entire receptor,\n",
    "    where it might be useful to  including the contacts of\n",
    "    the C-terminus with itself.\n",
    "\n",
    "    When using `self_interface` = True, it's advisable to\n",
    "    increase `n_nearest`, since otherwise neighboring\n",
    "    residues of the shared set (the TM3-TM3 or the Cterm-Cterm)\n",
    "    will always appear as formed.will always appear as formed.\n",
    "\n",
    "\n",
    "We can compute the contacts of the $\\alpha$5-helix of the G-protein. Whereas most of the helix is straight, the C-terminal bends a bit backwards and interacts with itself:"
   ]
  },
  {
   "cell_type": "code",
   "execution_count": null,
   "metadata": {},
   "outputs": [],
   "source": [
    "intf = mdciao.cli.interface(\"mdciao_example/traj.xtc\", topology=\"mdciao_example/top.pdb\",\n",
    "                            fragments=\"consensus\",accept_guess=True,\n",
    "                            no_disk=True, interface_selection_1=\"G.H5\", interface_selection_2=\"G.H5\", \n",
    "                            ctc_control=1.0, \n",
    "                            GPCR_UniProt=\"adrb2_human\",CGN_UniProt=\"gnas2_human\",\n",
    "                            self_interface=True,\n",
    "                            min_freq=0,\n",
    "                            n_nearest=4,\n",
    "                            figures=False)\n",
    "intf.plot_freqs_as_bars(4, shorten_AAs=True, plot_atomtypes=True);"
   ]
  },
  {
   "cell_type": "markdown",
   "metadata": {},
   "source": [
    "These are the contacts associated with the C-terminus of $\\alpha$5 bending back and interacting with itself:\n",
    "```\n",
    "0  1.00  L388@G.H5.20 - L393@G.H5.25    347 352    1.00\n",
    "1  0.96  R389@G.H5.21 - L394@G.H5.26    348 353    1.96\n",
    "2  0.92  L388@G.H5.20 - L394@G.H5.26    347 353    2.88\n",
    "3  0.71  R385@G.H5.17 - L394@G.H5.26    344 353    3.59\n",
    "```\n",
    "We have also ploted them also as bars, including the atom-types. "
   ]
  },
  {
   "cell_type": "markdown",
   "metadata": {},
   "source": [
    "## Interfaces: `AA_selection`\n",
    "If the `fragments` themselves are still too broad a definition, one can select a sub-set of aminoacids of those fragments via `AA_selection`:\n",
    "\n",
    "From the [docs](https://proteinformatics.uni-leipzig.de/mdciao/api/generated/generated/mdciao.cli.interface.html)\n",
    "```\n",
    "    AA_selection : str or list, default is None\n",
    "        Whatever the fragment definition and fragment selection\n",
    "        has been, one can further refine the list of\n",
    "        potential residue pairs by making a selection at\n",
    "        the level of single aminoacids (AAs).\n",
    "        E.g., if (like above) one has selected the interface\n",
    "        to be \"TM3\" vs \"TM2\",\n",
    "\n",
    "        >>> interface_selection_1=\"TM3\"\n",
    "        >>> interface_selection_2=\"TM2\"\n",
    "\n",
    "        but wants to select only some regions of those helices,\n",
    "        one can pass here an `AA_selection`.\n",
    "```\n",
    "Please read the rest of the docs, since the parameter has more options than the ones we're about to use.\n",
    "\n",
    "Here, we define the interface as contacts of the $\\alpha$5-helix of the G-protein with the TM-bundle, using  \n",
    "```no_disk=True, interface_selection_1=\"G.H5\", interface_selection_2=\"TM*\"```\n",
    "\n",
    "and then use ```AA_selection=\"390-394\"``` to select the C-terminal  *tip* of $\\alpha$5. You can look the $\\alpha$5 definition from the output a couple of cells above   \n",
    "```G.H5 with     26 AAs   THR369@G.H5.01   ( 328) -   LEU394@G.H5.26   (353 ) (G.H5) ```"
   ]
  },
  {
   "cell_type": "code",
   "execution_count": null,
   "metadata": {},
   "outputs": [],
   "source": [
    "intf = mdciao.cli.interface(\"mdciao_example/traj.xtc\", topology=\"mdciao_example/top.pdb\",\n",
    "                            fragments=\"consensus\",accept_guess=True,\n",
    "                            no_disk=True, interface_selection_1=\"G.H5\", interface_selection_2=\"TM*\", \n",
    "                            ctc_control=1.0, \n",
    "                            GPCR_UniProt=\"adrb2_human\",CGN_UniProt=\"gnas2_human\",\n",
    "                            min_freq=0,\n",
    "                            n_nearest=4,\n",
    "                            AA_selection=\"390-394\",\n",
    "                            figures=False)\n",
    "intf.plot_freqs_as_bars(4, shorten_AAs=True, plot_atomtypes=True);"
   ]
  },
  {
   "cell_type": "markdown",
   "metadata": {
    "tags": []
   },
   "source": [
    "## Finally\n",
    "Some of these parameters/criteria appear in other places in ``mdciao``, not only at the moment of computing the distances, but also at the moment of showing them. E.g., the method [mdciao.flare.freqs2flare](https://proteinformatics.uni-leipzig.de/mdciao/api/generated/generated/mdciao.flare.freqs2flare.html) automatically hides neighboring contacts via the ``exclude_neighbors = 1`` parameter.\n",
    "\n",
    "So, if at any moment you miss some contact in the reports (graphical or otherwise), check if some of the parameters above are at play."
   ]
  }
 ],
 "metadata": {
  "kernelspec": {
   "display_name": "Python 3 (ipykernel)",
   "language": "python",
   "name": "python3"
  },
  "language_info": {
   "codemirror_mode": {
    "name": "ipython",
    "version": 3
   },
   "file_extension": ".py",
   "mimetype": "text/x-python",
   "name": "python",
   "nbconvert_exporter": "python",
   "pygments_lexer": "ipython3",
   "version": "3.11.9"
  },
  "toc-autonumbering": true
 },
 "nbformat": 4,
 "nbformat_minor": 4
}
