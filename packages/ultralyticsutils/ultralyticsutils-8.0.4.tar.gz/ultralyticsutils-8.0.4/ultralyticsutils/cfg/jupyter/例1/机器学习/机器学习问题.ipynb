{
 "cells": [
  {
   "cell_type": "markdown",
   "metadata": {},
   "source": [
    "背景说明：\n",
    "    客户流失是电信行业最大的问题之一。客户流失率通常作为公司的一个关键业务指标，因为留住一个现有客户的成本远远低于获得一个新客户的成本。所以对于公司来说，留住长期在网客户比新招募的客户更有价值。电信客户流失预测有助于公司发现潜在的流失客户，并及时采取相应措施，对其进行赢回。"
   ]
  },
  {
   "cell_type": "code",
   "execution_count": 1,
   "metadata": {},
   "outputs": [],
   "source": [
    "import numpy as np\n",
    "import pandas as pd\n",
    "from scipy import stats\n",
    "import matplotlib.pyplot as plt\n",
    "plt.rcParams['font.sans-serif'] = 'Microsoft YaHei'\n",
    "plt.rcParams['axes.unicode_minus'] = False\n",
    "import warnings\n",
    "warnings.filterwarnings(\"ignore\")\n",
    "%matplotlib inline\n",
    "rc = {'font.sans-serif': 'SimHei',\n",
    "      'axes.unicode_minus': False}"
   ]
  },
  {
   "cell_type": "code",
   "execution_count": 3,
   "metadata": {},
   "outputs": [
    {
     "name": "stdout",
     "output_type": "stream",
     "text": [
      "<class 'pandas.core.frame.DataFrame'>\n",
      "RangeIndex: 7032 entries, 0 to 7031\n",
      "Data columns (total 19 columns):\n",
      " #   Column                                   Non-Null Count  Dtype  \n",
      "---  ------                                   --------------  -----  \n",
      " 0   SeniorCitizen                            7032 non-null   int64  \n",
      " 1   Partner                                  7032 non-null   int64  \n",
      " 2   Dependents                               7032 non-null   int64  \n",
      " 3   OnlineSecurity                           7032 non-null   int64  \n",
      " 4   TechSupport                              7032 non-null   int64  \n",
      " 5   PaperlessBilling                         7032 non-null   int64  \n",
      " 6   MonthlyCharges                           7032 non-null   float64\n",
      " 7   TotalCharges                             7032 non-null   float64\n",
      " 8   Churn                                    7032 non-null   int64  \n",
      " 9   InternetService_DSL                      7032 non-null   int64  \n",
      " 10  InternetService_Fiber optic              7032 non-null   int64  \n",
      " 11  InternetService_No                       7032 non-null   int64  \n",
      " 12  Contract_Month-to-month                  7032 non-null   int64  \n",
      " 13  Contract_One year                        7032 non-null   int64  \n",
      " 14  Contract_Two year                        7032 non-null   int64  \n",
      " 15  PaymentMethod_Bank transfer (automatic)  7032 non-null   int64  \n",
      " 16  PaymentMethod_Credit card (automatic)    7032 non-null   int64  \n",
      " 17  PaymentMethod_Electronic check           7032 non-null   int64  \n",
      " 18  tenure_label                             7032 non-null   int64  \n",
      "dtypes: float64(2), int64(17)\n",
      "memory usage: 1.0 MB\n"
     ]
    }
   ],
   "source": [
    "churn1 = pd.read_csv('./data.csv')\n",
    "churn1.info()"
   ]
  },
  {
   "cell_type": "markdown",
   "metadata": {},
   "source": [
    "### 导入网格搜索函数（4分）"
   ]
  },
  {
   "cell_type": "code",
   "execution_count": 4,
   "metadata": {},
   "outputs": [],
   "source": [
    "from sklearn.tree import DecisionTreeClassifier\n",
    "#网格搜索\n",
    "from sklearn.model_selection import __________\n",
    "#交叉验证\n",
    "from sklearn.model_selection import _________\n"
   ]
  },
  {
   "cell_type": "markdown",
   "metadata": {},
   "source": [
    "### 使用网格搜索调优（12分）"
   ]
  },
  {
   "cell_type": "code",
   "execution_count": 5,
   "metadata": {},
   "outputs": [
    {
     "data": {
      "text/plain": [
       "(array([0.73421497, 0.73421497, 0.73421497, 0.73421497, 0.73421497,\n",
       "        0.73421497, 0.73421497, 0.73421497, 0.73421497, 0.762087  ,\n",
       "        0.762087  , 0.762087  , 0.762087  , 0.762087  , 0.762087  ,\n",
       "        0.762087  , 0.762087  , 0.762087  , 0.78611915, 0.78611915,\n",
       "        0.78611915, 0.78611915, 0.78611915, 0.78611915, 0.78611915,\n",
       "        0.78611915, 0.78611915, 0.78640304, 0.78640304, 0.78640304,\n",
       "        0.78640304, 0.78640304, 0.78640304, 0.78640304, 0.78640304,\n",
       "        0.78640304, 0.78825367, 0.78825367, 0.78825367, 0.78825367,\n",
       "        0.78825367, 0.78825367, 0.78853816, 0.78853816, 0.78853816,\n",
       "        0.79024493, 0.79038718, 0.79024493, 0.79109862, 0.7916668 ,\n",
       "        0.79109862, 0.79166761, 0.79166761, 0.79166761, 0.78896491,\n",
       "        0.78910695, 0.78882246, 0.79067107, 0.78996064, 0.79010268,\n",
       "        0.79067188, 0.79067188, 0.79067188, 0.77957778, 0.77986228,\n",
       "        0.77971963, 0.78256377, 0.78085842, 0.7814266 , 0.78199559,\n",
       "        0.78156965, 0.78156965, 0.77175579, 0.77303622, 0.77161394,\n",
       "        0.77289417, 0.77190005, 0.77189945, 0.77289579, 0.77218475,\n",
       "        0.7726117 , 0.73421497, 0.73421497, 0.73421497, 0.73421497,\n",
       "        0.73421497, 0.73421497, 0.73421497, 0.73421497, 0.73421497,\n",
       "        0.762087  , 0.762087  , 0.762087  , 0.762087  , 0.762087  ,\n",
       "        0.762087  , 0.762087  , 0.762087  , 0.762087  , 0.78654589,\n",
       "        0.78654589, 0.78654589, 0.78654589, 0.78654589, 0.78654589,\n",
       "        0.78654589, 0.78654589, 0.78654589, 0.78739776, 0.78739776,\n",
       "        0.78739776, 0.78739776, 0.78739776, 0.78739776, 0.78739776,\n",
       "        0.78739776, 0.78739776, 0.78938963, 0.78938963, 0.78938963,\n",
       "        0.78938963, 0.78938963, 0.78938963, 0.78924718, 0.78924718,\n",
       "        0.78924718, 0.79138231, 0.7916668 , 0.79138231, 0.7922362 ,\n",
       "        0.79223599, 0.79223599, 0.79323132, 0.79308928, 0.79308928,\n",
       "        0.78526789, 0.78612137, 0.78569443, 0.78583708, 0.78626382,\n",
       "        0.78697506, 0.78825488, 0.78768569, 0.78825488, 0.77403336,\n",
       "        0.77502889, 0.77559768, 0.77659341, 0.77773038, 0.77659341,\n",
       "        0.77886958, 0.77801609, 0.77844304, 0.76820606, 0.76792117,\n",
       "        0.76934344, 0.7707649 , 0.7713345 , 0.7713349 , 0.77204513,\n",
       "        0.7713343 , 0.77133389]),\n",
       " {'criterion': 'gini',\n",
       "  'max_depth': 6,\n",
       "  'min_samples_leaf': 4,\n",
       "  'min_samples_split': 2},\n",
       " 0.7932313219319798)"
      ]
     },
     "execution_count": 5,
     "metadata": {},
     "output_type": "execute_result"
    }
   ],
   "source": [
    "col = list(churn1.columns)\n",
    "col.remove('Churn')\n",
    "x = churn1[col]\n",
    "y = churn1['Churn']\n",
    "tree_param_grid = { 'max_depth':range(1,10)\n",
    "                   ,'criterion':np.array(['entropy','gini'])\n",
    "                   ,'min_samples_split': list((2,4,6))\n",
    "                   ,'min_samples_leaf':list((1,2,4))}\n",
    "cross_validation = StratifiedKFold(n_splits=10).______(x,y)\n",
    "grid = _______(_________,param_grid=_________, cv=____)\n",
    "grid.____(x, y)\n",
    "grid.cv_results_['mean_test_score'], grid.best_params_, grid.best_score_"
   ]
  },
  {
   "cell_type": "markdown",
   "metadata": {},
   "source": [
    "## 使用最优参数构建决策树模型"
   ]
  },
  {
   "cell_type": "markdown",
   "metadata": {},
   "source": [
    "### '''训练集和测试集划分'''(1分)"
   ]
  },
  {
   "cell_type": "code",
   "execution_count": 6,
   "metadata": {},
   "outputs": [],
   "source": [
    "from sklearn.model_selection import __________\n",
    "X_train, X_test, y_train, y_test = _________(x, y, random_state=1000)\n"
   ]
  },
  {
   "cell_type": "markdown",
   "metadata": {},
   "source": [
    "### '''决策树的构建'''（4分）"
   ]
  },
  {
   "cell_type": "code",
   "execution_count": 7,
   "metadata": {},
   "outputs": [
    {
     "data": {
      "text/plain": [
       "DecisionTreeClassifier(max_depth=6, min_samples_leaf=4)"
      ]
     },
     "execution_count": 7,
     "metadata": {},
     "output_type": "execute_result"
    }
   ],
   "source": [
    "clf = ________(max_depth = 5,criterion='entropy'\n",
    "                            , min_samples_leaf =4\n",
    "                            , min_samples_split =2)\n",
    "clf._______(X_train, y_train)\n"
   ]
  },
  {
   "cell_type": "markdown",
   "metadata": {},
   "source": [
    "## 模型评估"
   ]
  },
  {
   "cell_type": "markdown",
   "metadata": {},
   "source": [
    "### 计算各阈值下假阳性率、真阳性率（2分）"
   ]
  },
  {
   "cell_type": "code",
   "execution_count": 8,
   "metadata": {},
   "outputs": [
    {
     "data": {
      "text/plain": [
       "(array([0.        , 0.08275862, 1.        ]),\n",
       " array([0.        , 0.46578366, 1.        ]),\n",
       " array([2, 1, 0], dtype=int64))"
      ]
     },
     "execution_count": 8,
     "metadata": {},
     "output_type": "execute_result"
    }
   ],
   "source": [
    "#AUC曲线\n",
    "# 计算各阈值下假阳性率、真阳性率和AUC\n",
    "from sklearn.metrics import roc_curve, auc\n",
    "from sklearn.metrics import mean_absolute_error, accuracy_score, roc_curve, plot_confusion_matrix\n",
    "fpr,tpr,threshold = ______(y_test,clf.predict(X_test))\n",
    "fpr,tpr,threshold \n"
   ]
  },
  {
   "cell_type": "markdown",
   "metadata": {},
   "source": [
    "### 计算AUC（2分）"
   ]
  },
  {
   "cell_type": "code",
   "execution_count": 9,
   "metadata": {},
   "outputs": [
    {
     "data": {
      "text/plain": [
       "0.691512521884753"
      ]
     },
     "execution_count": 9,
     "metadata": {},
     "output_type": "execute_result"
    }
   ],
   "source": [
    "roc_auc = ______(fpr,_____)\n",
    "roc_auc"
   ]
  }
 ],
 "metadata": {
  "kernelspec": {
   "display_name": "Python 3 (ipykernel)",
   "language": "python",
   "name": "python3"
  },
  "language_info": {
   "codemirror_mode": {
    "name": "ipython",
    "version": 3
   },
   "file_extension": ".py",
   "mimetype": "text/x-python",
   "name": "python",
   "nbconvert_exporter": "python",
   "pygments_lexer": "ipython3",
   "version": "3.8.19"
  },
  "toc": {
   "base_numbering": 1,
   "nav_menu": {},
   "number_sections": true,
   "sideBar": true,
   "skip_h1_title": false,
   "title_cell": "Table of Contents",
   "title_sidebar": "Contents",
   "toc_cell": false,
   "toc_position": {},
   "toc_section_display": true,
   "toc_window_display": false
  },
  "vscode": {
   "interpreter": {
    "hash": "1434d038ec625e6692d65b04358cb87e35dba8a90d3a8ae7959a1d8859b1b18a"
   }
  }
 },
 "nbformat": 4,
 "nbformat_minor": 4
}
