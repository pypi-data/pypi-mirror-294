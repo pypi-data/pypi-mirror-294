{
 "cells": [
  {
   "cell_type": "code",
   "execution_count": 1,
   "metadata": {
    "ExecuteTime": {
     "end_time": "2022-01-23T02:26:54.088943Z",
     "start_time": "2022-01-23T02:26:53.465291Z"
    }
   },
   "outputs": [],
   "source": [
    "import pandas as pd\n",
    "import numpy as np"
   ]
  },
  {
   "cell_type": "markdown",
   "metadata": {},
   "source": [
    "#### 读取train和test文件，文件名分别是df_training.csv和df_test.csv（2分）"
   ]
  },
  {
   "cell_type": "code",
   "execution_count": 2,
   "metadata": {
    "ExecuteTime": {
     "end_time": "2022-01-23T02:26:54.120915Z",
     "start_time": "2022-01-23T02:26:54.090933Z"
    }
   },
   "outputs": [],
   "source": [
    "train_data = pd.________\n",
    "test_data = pd.________"
   ]
  },
  {
   "cell_type": "markdown",
   "metadata": {},
   "source": [
    "#### 将train_data和test_data合并成all_data（2分）"
   ]
  },
  {
   "cell_type": "code",
   "execution_count": 3,
   "metadata": {
    "ExecuteTime": {
     "end_time": "2022-01-23T02:26:54.132910Z",
     "start_time": "2022-01-23T02:26:54.123914Z"
    }
   },
   "outputs": [],
   "source": [
    "all_data = pd.________"
   ]
  },
  {
   "cell_type": "markdown",
   "metadata": {},
   "source": [
    "#### 查看all_data的字段信息（2分）"
   ]
  },
  {
   "cell_type": "code",
   "execution_count": 4,
   "metadata": {
    "ExecuteTime": {
     "end_time": "2022-01-23T02:26:54.156896Z",
     "start_time": "2022-01-23T02:26:54.135908Z"
    }
   },
   "outputs": [
    {
     "name": "stdout",
     "output_type": "stream",
     "text": [
      "<class 'pandas.core.frame.DataFrame'>\n",
      "Int64Index: 8000 entries, 0 to 1999\n",
      "Data columns (total 12 columns):\n",
      "ID                                  8000 non-null int64\n",
      "Product using score                 8000 non-null object\n",
      "User area                           8000 non-null object\n",
      "gender                              8000 non-null object\n",
      "age                                 8000 non-null object\n",
      "Cumulative using time               8000 non-null object\n",
      "Point balance                       8000 non-null object\n",
      "Product service usage               8000 non-null object\n",
      "Pay a monthly fee by credit card    8000 non-null object\n",
      "Active user                         8000 non-null object\n",
      "Estimated salary                    8000 non-null object\n",
      "Purchase or not                     8000 non-null object\n",
      "dtypes: int64(1), object(11)\n",
      "memory usage: 812.5+ KB\n"
     ]
    }
   ],
   "source": [
    "all_data.________"
   ]
  },
  {
   "cell_type": "code",
   "execution_count": 5,
   "metadata": {
    "ExecuteTime": {
     "end_time": "2022-01-23T02:26:54.186879Z",
     "start_time": "2022-01-23T02:26:54.159894Z"
    }
   },
   "outputs": [
    {
     "data": {
      "text/html": [
       "<div>\n",
       "<style scoped>\n",
       "    .dataframe tbody tr th:only-of-type {\n",
       "        vertical-align: middle;\n",
       "    }\n",
       "\n",
       "    .dataframe tbody tr th {\n",
       "        vertical-align: top;\n",
       "    }\n",
       "\n",
       "    .dataframe thead th {\n",
       "        text-align: right;\n",
       "    }\n",
       "</style>\n",
       "<table border=\"1\" class=\"dataframe\">\n",
       "  <thead>\n",
       "    <tr style=\"text-align: right;\">\n",
       "      <th></th>\n",
       "      <th>ID</th>\n",
       "      <th>Product using score</th>\n",
       "      <th>User area</th>\n",
       "      <th>gender</th>\n",
       "      <th>age</th>\n",
       "      <th>Cumulative using time</th>\n",
       "      <th>Point balance</th>\n",
       "      <th>Product service usage</th>\n",
       "      <th>Pay a monthly fee by credit card</th>\n",
       "      <th>Active user</th>\n",
       "      <th>Estimated salary</th>\n",
       "      <th>Purchase or not</th>\n",
       "    </tr>\n",
       "  </thead>\n",
       "  <tbody>\n",
       "    <tr>\n",
       "      <th>0</th>\n",
       "      <td>6518</td>\n",
       "      <td>628</td>\n",
       "      <td>?</td>\n",
       "      <td>Female</td>\n",
       "      <td>51</td>\n",
       "      <td>?</td>\n",
       "      <td>155903.82</td>\n",
       "      <td>2</td>\n",
       "      <td>1</td>\n",
       "      <td>1</td>\n",
       "      <td>71159.84</td>\n",
       "      <td>0</td>\n",
       "    </tr>\n",
       "    <tr>\n",
       "      <th>1</th>\n",
       "      <td>5195</td>\n",
       "      <td>696</td>\n",
       "      <td>Taipei</td>\n",
       "      <td>?</td>\n",
       "      <td>27</td>\n",
       "      <td>4</td>\n",
       "      <td>?</td>\n",
       "      <td>2</td>\n",
       "      <td>0</td>\n",
       "      <td>?</td>\n",
       "      <td>196111.35</td>\n",
       "      <td>0</td>\n",
       "    </tr>\n",
       "    <tr>\n",
       "      <th>2</th>\n",
       "      <td>1786</td>\n",
       "      <td>?</td>\n",
       "      <td>Taichung</td>\n",
       "      <td>Male</td>\n",
       "      <td>40</td>\n",
       "      <td>3</td>\n",
       "      <td>?</td>\n",
       "      <td>2</td>\n",
       "      <td>1</td>\n",
       "      <td>1</td>\n",
       "      <td>?</td>\n",
       "      <td>0</td>\n",
       "    </tr>\n",
       "    <tr>\n",
       "      <th>3</th>\n",
       "      <td>6151</td>\n",
       "      <td>?</td>\n",
       "      <td>?</td>\n",
       "      <td>Male</td>\n",
       "      <td>?</td>\n",
       "      <td>?</td>\n",
       "      <td>?</td>\n",
       "      <td>?</td>\n",
       "      <td>1</td>\n",
       "      <td>0</td>\n",
       "      <td>?</td>\n",
       "      <td>1</td>\n",
       "    </tr>\n",
       "    <tr>\n",
       "      <th>4</th>\n",
       "      <td>7577</td>\n",
       "      <td>?</td>\n",
       "      <td>Tainan</td>\n",
       "      <td>?</td>\n",
       "      <td>27</td>\n",
       "      <td>?</td>\n",
       "      <td>0</td>\n",
       "      <td>1</td>\n",
       "      <td>?</td>\n",
       "      <td>1</td>\n",
       "      <td>107955.67</td>\n",
       "      <td>0</td>\n",
       "    </tr>\n",
       "  </tbody>\n",
       "</table>\n",
       "</div>"
      ],
      "text/plain": [
       "     ID Product using score User area  gender age Cumulative using time  \\\n",
       "0  6518                 628         ?  Female  51                     ?   \n",
       "1  5195                 696    Taipei       ?  27                     4   \n",
       "2  1786                   ?  Taichung    Male  40                     3   \n",
       "3  6151                   ?         ?    Male   ?                     ?   \n",
       "4  7577                   ?    Tainan       ?  27                     ?   \n",
       "\n",
       "  Point balance Product service usage Pay a monthly fee by credit card  \\\n",
       "0     155903.82                     2                                1   \n",
       "1             ?                     2                                0   \n",
       "2             ?                     2                                1   \n",
       "3             ?                     ?                                1   \n",
       "4             0                     1                                ?   \n",
       "\n",
       "  Active user Estimated salary Purchase or not  \n",
       "0           1         71159.84               0  \n",
       "1           ?        196111.35               0  \n",
       "2           1                ?               0  \n",
       "3           0                ?               1  \n",
       "4           1        107955.67               0  "
      ]
     },
     "execution_count": 5,
     "metadata": {},
     "output_type": "execute_result"
    }
   ],
   "source": [
    "all_data.________"
   ]
  },
  {
   "cell_type": "code",
   "execution_count": 6,
   "metadata": {
    "ExecuteTime": {
     "end_time": "2022-01-23T02:26:54.207866Z",
     "start_time": "2022-01-23T02:26:54.190876Z"
    }
   },
   "outputs": [
    {
     "data": {
      "text/plain": [
       "0           4777\n",
       "Withheld    2000\n",
       "1           1223\n",
       "Name: Purchase or not, dtype: int64"
      ]
     },
     "execution_count": 6,
     "metadata": {},
     "output_type": "execute_result"
    }
   ],
   "source": [
    "all_data['Purchase or not'].value_counts()"
   ]
  },
  {
   "cell_type": "markdown",
   "metadata": {},
   "source": [
    "#### 把Product using score、age、Point balance、Estimated salary根据均值填充（2分）"
   ]
  },
  {
   "cell_type": "code",
   "execution_count": 9,
   "metadata": {
    "ExecuteTime": {
     "end_time": "2022-01-23T02:26:54.298813Z",
     "start_time": "2022-01-23T02:26:54.265833Z"
    }
   },
   "outputs": [],
   "source": [
    "for col in ['Product using score', 'age', 'Point balance', 'Estimated salary']:\n",
    "    all_data[col] = all_data[col].________\n",
    "    all_data[col] = pd.to_numeric(all_data[col])\n",
    "    all_data[col] = all_data[col].________"
   ]
  },
  {
   "cell_type": "markdown",
   "metadata": {},
   "source": [
    "#### 把User area、gender中的字符串使用LabelEncoder（2分）"
   ]
  },
  {
   "cell_type": "code",
   "execution_count": 10,
   "metadata": {
    "ExecuteTime": {
     "end_time": "2022-01-23T02:27:36.070670Z",
     "start_time": "2022-01-23T02:27:35.677868Z"
    }
   },
   "outputs": [],
   "source": [
    "from sklearn.preprocessing import LabelEncoder\n",
    "all_data[['User area', 'gender']] = all_data[['User area', 'gender']].apply(________)"
   ]
  },
  {
   "cell_type": "markdown",
   "metadata": {},
   "source": [
    "#### 把剩余的所有？用-1代替（1分）"
   ]
  },
  {
   "cell_type": "code",
   "execution_count": 13,
   "metadata": {
    "ExecuteTime": {
     "end_time": "2022-01-23T02:29:49.820375Z",
     "start_time": "2022-01-23T02:29:49.798390Z"
    }
   },
   "outputs": [],
   "source": [
    "all_data = all_data.________"
   ]
  },
  {
   "cell_type": "markdown",
   "metadata": {},
   "source": [
    "#### 把除了Purchase or not外的所有object列转为int（2分）"
   ]
  },
  {
   "cell_type": "code",
   "execution_count": 23,
   "metadata": {
    "ExecuteTime": {
     "end_time": "2022-01-23T02:34:10.512008Z",
     "start_time": "2022-01-23T02:34:10.502003Z"
    }
   },
   "outputs": [],
   "source": [
    "object_cols = list(set(all_data.select_dtypes('object').columns) - set(['Purchase or not']))"
   ]
  },
  {
   "cell_type": "code",
   "execution_count": 24,
   "metadata": {
    "ExecuteTime": {
     "end_time": "2022-01-23T02:34:55.839651Z",
     "start_time": "2022-01-23T02:34:55.813668Z"
    }
   },
   "outputs": [],
   "source": [
    "for col in object_cols:\n",
    "    all_data[col] = pd.________"
   ]
  },
  {
   "cell_type": "markdown",
   "metadata": {},
   "source": [
    "#### 导入sklearn中随机森林（分类）的函数，并预设rf的方法（1分）"
   ]
  },
  {
   "cell_type": "code",
   "execution_count": 26,
   "metadata": {
    "ExecuteTime": {
     "end_time": "2022-01-23T02:35:30.026427Z",
     "start_time": "2022-01-23T02:35:29.717590Z"
    }
   },
   "outputs": [],
   "source": [
    "from sklearn.ensemble import ________\n",
    "\n",
    "rf = ________"
   ]
  },
  {
   "cell_type": "markdown",
   "metadata": {},
   "source": [
    "#### 导入sklearn中数据集拆分的函数（1分）"
   ]
  },
  {
   "cell_type": "code",
   "execution_count": 27,
   "metadata": {
    "ExecuteTime": {
     "end_time": "2022-01-23T02:35:40.058993Z",
     "start_time": "2022-01-23T02:35:40.053996Z"
    }
   },
   "outputs": [],
   "source": [
    "from sklearn.model_selection import ________"
   ]
  },
  {
   "cell_type": "markdown",
   "metadata": {},
   "source": [
    "#### 导入sklearn中classification_report（1分）"
   ]
  },
  {
   "cell_type": "code",
   "execution_count": 28,
   "metadata": {
    "ExecuteTime": {
     "end_time": "2022-01-23T02:35:42.393899Z",
     "start_time": "2022-01-23T02:35:42.388900Z"
    }
   },
   "outputs": [],
   "source": [
    "from sklearn.metrics import ________"
   ]
  },
  {
   "cell_type": "markdown",
   "metadata": {},
   "source": [
    "#### 重新拆分训练集和测试集（1分）"
   ]
  },
  {
   "cell_type": "code",
   "execution_count": 29,
   "metadata": {
    "ExecuteTime": {
     "end_time": "2022-01-23T02:36:29.508556Z",
     "start_time": "2022-01-23T02:36:29.501558Z"
    }
   },
   "outputs": [],
   "source": [
    "test_data = all_data[________]"
   ]
  },
  {
   "cell_type": "code",
   "execution_count": 30,
   "metadata": {
    "ExecuteTime": {
     "end_time": "2022-01-23T02:36:30.031291Z",
     "start_time": "2022-01-23T02:36:30.021297Z"
    }
   },
   "outputs": [
    {
     "name": "stderr",
     "output_type": "stream",
     "text": [
      "C:\\ProgramData\\Anaconda3\\lib\\site-packages\\ipykernel_launcher.py:2: SettingWithCopyWarning: \n",
      "A value is trying to be set on a copy of a slice from a DataFrame.\n",
      "Try using .loc[row_indexer,col_indexer] = value instead\n",
      "\n",
      "See the caveats in the documentation: http://pandas.pydata.org/pandas-docs/stable/user_guide/indexing.html#returning-a-view-versus-a-copy\n",
      "  \n"
     ]
    }
   ],
   "source": [
    "train_data = all_data[________]\n",
    "train_data['Purchase or not'] = train_data['Purchase or not'].astype('int')"
   ]
  },
  {
   "cell_type": "markdown",
   "metadata": {},
   "source": [
    "#### 从训练集中拆分出验证集，比例为7:3（2分）"
   ]
  },
  {
   "cell_type": "code",
   "execution_count": 31,
   "metadata": {
    "ExecuteTime": {
     "end_time": "2022-01-23T02:36:53.906726Z",
     "start_time": "2022-01-23T02:36:53.902732Z"
    }
   },
   "outputs": [],
   "source": [
    "pre_columns = set(all_data.columns) - set(['ID', 'Purchase or not'])"
   ]
  },
  {
   "cell_type": "code",
   "execution_count": 32,
   "metadata": {
    "ExecuteTime": {
     "end_time": "2022-01-23T02:37:02.305295Z",
     "start_time": "2022-01-23T02:37:02.295301Z"
    }
   },
   "outputs": [],
   "source": [
    "X_train, X_val, y_train, y_val = train_test_split(________)"
   ]
  },
  {
   "cell_type": "markdown",
   "metadata": {},
   "source": [
    "#### 使用随机森林对X_train、y_train进行训练，再对X_val进行预测（2分）"
   ]
  },
  {
   "cell_type": "code",
   "execution_count": 33,
   "metadata": {
    "ExecuteTime": {
     "end_time": "2022-01-23T02:37:06.488526Z",
     "start_time": "2022-01-23T02:37:05.965837Z"
    }
   },
   "outputs": [
    {
     "data": {
      "text/plain": [
       "RandomForestClassifier(bootstrap=True, ccp_alpha=0.0, class_weight=None,\n",
       "                       criterion='gini', max_depth=None, max_features='auto',\n",
       "                       max_leaf_nodes=None, max_samples=None,\n",
       "                       min_impurity_decrease=0.0, min_impurity_split=None,\n",
       "                       min_samples_leaf=1, min_samples_split=2,\n",
       "                       min_weight_fraction_leaf=0.0, n_estimators=100,\n",
       "                       n_jobs=None, oob_score=False, random_state=None,\n",
       "                       verbose=0, warm_start=False)"
      ]
     },
     "execution_count": 33,
     "metadata": {},
     "output_type": "execute_result"
    }
   ],
   "source": [
    "rf.________(X_train, y_train)"
   ]
  },
  {
   "cell_type": "code",
   "execution_count": 34,
   "metadata": {
    "ExecuteTime": {
     "end_time": "2022-01-23T02:37:08.876592Z",
     "start_time": "2022-01-23T02:37:08.829629Z"
    }
   },
   "outputs": [],
   "source": [
    "val_pred = rf.________(X_val)"
   ]
  },
  {
   "cell_type": "markdown",
   "metadata": {},
   "source": [
    "#### 使用classification_report对val_pred和y_val进行效果评测（1分）"
   ]
  },
  {
   "cell_type": "code",
   "execution_count": 35,
   "metadata": {
    "ExecuteTime": {
     "end_time": "2022-01-23T02:37:11.625505Z",
     "start_time": "2022-01-23T02:37:11.613509Z"
    }
   },
   "outputs": [
    {
     "name": "stdout",
     "output_type": "stream",
     "text": [
      "              precision    recall  f1-score   support\n",
      "\n",
      "           0       0.86      0.96      0.91      1454\n",
      "           1       0.70      0.34      0.46       346\n",
      "\n",
      "    accuracy                           0.84      1800\n",
      "   macro avg       0.78      0.65      0.68      1800\n",
      "weighted avg       0.83      0.84      0.82      1800\n",
      "\n"
     ]
    }
   ],
   "source": [
    "print(________)"
   ]
  },
  {
   "cell_type": "markdown",
   "metadata": {},
   "source": [
    "#### 对test_data进行预测（1分）"
   ]
  },
  {
   "cell_type": "code",
   "execution_count": 36,
   "metadata": {
    "ExecuteTime": {
     "end_time": "2022-01-23T02:37:15.701845Z",
     "start_time": "2022-01-23T02:37:15.644871Z"
    }
   },
   "outputs": [],
   "source": [
    "test_pred = rf.________(test_data[pre_columns])"
   ]
  },
  {
   "cell_type": "markdown",
   "metadata": {},
   "source": [
    "#### 将test_data中的ID和test_pred的结果合并为output_data，然后导出为output_data.csv，不要导出索引（2分）"
   ]
  },
  {
   "cell_type": "code",
   "execution_count": 37,
   "metadata": {
    "ExecuteTime": {
     "end_time": "2022-01-23T02:37:30.218921Z",
     "start_time": "2022-01-23T02:37:30.212923Z"
    }
   },
   "outputs": [
    {
     "name": "stderr",
     "output_type": "stream",
     "text": [
      "C:\\ProgramData\\Anaconda3\\lib\\site-packages\\ipykernel_launcher.py:1: SettingWithCopyWarning: \n",
      "A value is trying to be set on a copy of a slice from a DataFrame.\n",
      "Try using .loc[row_indexer,col_indexer] = value instead\n",
      "\n",
      "See the caveats in the documentation: http://pandas.pydata.org/pandas-docs/stable/user_guide/indexing.html#returning-a-view-versus-a-copy\n",
      "  \"\"\"Entry point for launching an IPython kernel.\n"
     ]
    }
   ],
   "source": [
    "test_data['Purchase or not'] = test_pred"
   ]
  },
  {
   "cell_type": "code",
   "execution_count": 38,
   "metadata": {
    "ExecuteTime": {
     "end_time": "2022-01-23T02:37:31.265560Z",
     "start_time": "2022-01-23T02:37:31.260562Z"
    }
   },
   "outputs": [],
   "source": [
    "output_data = test_data[________]"
   ]
  },
  {
   "cell_type": "code",
   "execution_count": 39,
   "metadata": {
    "ExecuteTime": {
     "end_time": "2022-01-23T02:37:37.117142Z",
     "start_time": "2022-01-23T02:37:37.103143Z"
    }
   },
   "outputs": [],
   "source": [
    "output_data.________"
   ]
  }
 ],
 "metadata": {
  "hide_input": false,
  "kernelspec": {
   "display_name": "Python 3 (ipykernel)",
   "language": "python",
   "name": "python3"
  },
  "language_info": {
   "codemirror_mode": {
    "name": "ipython",
    "version": 3
   },
   "file_extension": ".py",
   "mimetype": "text/x-python",
   "name": "python",
   "nbconvert_exporter": "python",
   "pygments_lexer": "ipython3",
   "version": "3.8.12"
  },
  "toc": {
   "base_numbering": 1,
   "nav_menu": {},
   "number_sections": true,
   "sideBar": true,
   "skip_h1_title": false,
   "title_cell": "Table of Contents",
   "title_sidebar": "Contents",
   "toc_cell": false,
   "toc_position": {},
   "toc_section_display": true,
   "toc_window_display": false
  }
 },
 "nbformat": 4,
 "nbformat_minor": 2
}
