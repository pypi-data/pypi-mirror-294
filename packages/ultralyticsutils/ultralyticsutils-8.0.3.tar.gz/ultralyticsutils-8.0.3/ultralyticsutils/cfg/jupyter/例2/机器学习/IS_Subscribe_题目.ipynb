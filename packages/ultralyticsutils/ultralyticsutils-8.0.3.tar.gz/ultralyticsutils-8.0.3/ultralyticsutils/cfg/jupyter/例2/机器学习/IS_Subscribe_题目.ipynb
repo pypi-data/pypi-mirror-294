{
 "cells": [
  {
   "cell_type": "code",
   "execution_count": 26,
   "metadata": {},
   "outputs": [],
   "source": [
    "import pandas as pd"
   ]
  },
  {
   "cell_type": "markdown",
   "metadata": {},
   "source": [
    "#### 读取train和test文件，文件名分别是train.csv和test.csv (2分)"
   ]
  },
  {
   "cell_type": "code",
   "execution_count": null,
   "metadata": {},
   "outputs": [],
   "source": [
    "# 训练集数据加载\n",
    "train = pd.____(1)_____('./train.csv')\n",
    "train.head(5)"
   ]
  },
  {
   "cell_type": "code",
   "execution_count": 2,
   "metadata": {
    "scrolled": false
   },
   "outputs": [
    {
     "data": {
      "text/html": [
       "<div>\n",
       "<style scoped>\n",
       "    .dataframe tbody tr th:only-of-type {\n",
       "        vertical-align: middle;\n",
       "    }\n",
       "\n",
       "    .dataframe tbody tr th {\n",
       "        vertical-align: top;\n",
       "    }\n",
       "\n",
       "    .dataframe thead th {\n",
       "        text-align: right;\n",
       "    }\n",
       "</style>\n",
       "<table border=\"1\" class=\"dataframe\">\n",
       "  <thead>\n",
       "    <tr style=\"text-align: right;\">\n",
       "      <th></th>\n",
       "      <th>id</th>\n",
       "      <th>age</th>\n",
       "      <th>job</th>\n",
       "      <th>marital</th>\n",
       "      <th>education</th>\n",
       "      <th>default</th>\n",
       "      <th>housing</th>\n",
       "      <th>loan</th>\n",
       "      <th>contact</th>\n",
       "      <th>month</th>\n",
       "      <th>...</th>\n",
       "      <th>duration</th>\n",
       "      <th>campaign</th>\n",
       "      <th>pdays</th>\n",
       "      <th>previous</th>\n",
       "      <th>poutcome</th>\n",
       "      <th>emp_var_rate</th>\n",
       "      <th>cons_price_index</th>\n",
       "      <th>cons_conf_index</th>\n",
       "      <th>lending_rate3m</th>\n",
       "      <th>nr_employed</th>\n",
       "    </tr>\n",
       "  </thead>\n",
       "  <tbody>\n",
       "    <tr>\n",
       "      <th>0</th>\n",
       "      <td>22501</td>\n",
       "      <td>35</td>\n",
       "      <td>technician</td>\n",
       "      <td>single</td>\n",
       "      <td>professional.course</td>\n",
       "      <td>no</td>\n",
       "      <td>yes</td>\n",
       "      <td>yes</td>\n",
       "      <td>cellular</td>\n",
       "      <td>aug</td>\n",
       "      <td>...</td>\n",
       "      <td>3295</td>\n",
       "      <td>1</td>\n",
       "      <td>476</td>\n",
       "      <td>0</td>\n",
       "      <td>success</td>\n",
       "      <td>1.4</td>\n",
       "      <td>95.37</td>\n",
       "      <td>-33.04</td>\n",
       "      <td>3.63</td>\n",
       "      <td>5204.54</td>\n",
       "    </tr>\n",
       "    <tr>\n",
       "      <th>1</th>\n",
       "      <td>22502</td>\n",
       "      <td>26</td>\n",
       "      <td>admin.</td>\n",
       "      <td>single</td>\n",
       "      <td>high.school</td>\n",
       "      <td>no</td>\n",
       "      <td>yes</td>\n",
       "      <td>no</td>\n",
       "      <td>cellular</td>\n",
       "      <td>may</td>\n",
       "      <td>...</td>\n",
       "      <td>2872</td>\n",
       "      <td>1</td>\n",
       "      <td>166</td>\n",
       "      <td>2</td>\n",
       "      <td>success</td>\n",
       "      <td>-1.8</td>\n",
       "      <td>91.75</td>\n",
       "      <td>-44.42</td>\n",
       "      <td>3.16</td>\n",
       "      <td>4924.78</td>\n",
       "    </tr>\n",
       "    <tr>\n",
       "      <th>2</th>\n",
       "      <td>22503</td>\n",
       "      <td>44</td>\n",
       "      <td>blue-collar</td>\n",
       "      <td>married</td>\n",
       "      <td>basic.6y</td>\n",
       "      <td>no</td>\n",
       "      <td>no</td>\n",
       "      <td>no</td>\n",
       "      <td>telephone</td>\n",
       "      <td>may</td>\n",
       "      <td>...</td>\n",
       "      <td>268</td>\n",
       "      <td>3</td>\n",
       "      <td>968</td>\n",
       "      <td>0</td>\n",
       "      <td>nonexistent</td>\n",
       "      <td>1.1</td>\n",
       "      <td>89.67</td>\n",
       "      <td>-36.90</td>\n",
       "      <td>5.04</td>\n",
       "      <td>4947.02</td>\n",
       "    </tr>\n",
       "    <tr>\n",
       "      <th>3</th>\n",
       "      <td>22504</td>\n",
       "      <td>36</td>\n",
       "      <td>blue-collar</td>\n",
       "      <td>married</td>\n",
       "      <td>basic.9y</td>\n",
       "      <td>no</td>\n",
       "      <td>yes</td>\n",
       "      <td>no</td>\n",
       "      <td>telephone</td>\n",
       "      <td>nov</td>\n",
       "      <td>...</td>\n",
       "      <td>30</td>\n",
       "      <td>1</td>\n",
       "      <td>432</td>\n",
       "      <td>5</td>\n",
       "      <td>success</td>\n",
       "      <td>-0.1</td>\n",
       "      <td>89.87</td>\n",
       "      <td>-41.66</td>\n",
       "      <td>3.27</td>\n",
       "      <td>5203.33</td>\n",
       "    </tr>\n",
       "    <tr>\n",
       "      <th>4</th>\n",
       "      <td>22505</td>\n",
       "      <td>41</td>\n",
       "      <td>blue-collar</td>\n",
       "      <td>married</td>\n",
       "      <td>basic.4y</td>\n",
       "      <td>no</td>\n",
       "      <td>yes</td>\n",
       "      <td>no</td>\n",
       "      <td>telephone</td>\n",
       "      <td>may</td>\n",
       "      <td>...</td>\n",
       "      <td>1670</td>\n",
       "      <td>1</td>\n",
       "      <td>944</td>\n",
       "      <td>3</td>\n",
       "      <td>success</td>\n",
       "      <td>1.1</td>\n",
       "      <td>97.64</td>\n",
       "      <td>-36.32</td>\n",
       "      <td>3.95</td>\n",
       "      <td>4992.02</td>\n",
       "    </tr>\n",
       "  </tbody>\n",
       "</table>\n",
       "<p>5 rows × 21 columns</p>\n",
       "</div>"
      ],
      "text/plain": [
       "      id  age          job  marital            education default housing loan  \\\n",
       "0  22501   35   technician   single  professional.course      no     yes  yes   \n",
       "1  22502   26       admin.   single          high.school      no     yes   no   \n",
       "2  22503   44  blue-collar  married             basic.6y      no      no   no   \n",
       "3  22504   36  blue-collar  married             basic.9y      no     yes   no   \n",
       "4  22505   41  blue-collar  married             basic.4y      no     yes   no   \n",
       "\n",
       "     contact month     ...      duration  campaign  pdays  previous  \\\n",
       "0   cellular   aug     ...          3295         1    476         0   \n",
       "1   cellular   may     ...          2872         1    166         2   \n",
       "2  telephone   may     ...           268         3    968         0   \n",
       "3  telephone   nov     ...            30         1    432         5   \n",
       "4  telephone   may     ...          1670         1    944         3   \n",
       "\n",
       "      poutcome emp_var_rate  cons_price_index  cons_conf_index  \\\n",
       "0      success          1.4             95.37           -33.04   \n",
       "1      success         -1.8             91.75           -44.42   \n",
       "2  nonexistent          1.1             89.67           -36.90   \n",
       "3      success         -0.1             89.87           -41.66   \n",
       "4      success          1.1             97.64           -36.32   \n",
       "\n",
       "   lending_rate3m  nr_employed  \n",
       "0            3.63      5204.54  \n",
       "1            3.16      4924.78  \n",
       "2            5.04      4947.02  \n",
       "3            3.27      5203.33  \n",
       "4            3.95      4992.02  \n",
       "\n",
       "[5 rows x 21 columns]"
      ]
     },
     "execution_count": 2,
     "metadata": {},
     "output_type": "execute_result"
    }
   ],
   "source": [
    "#测试数据集加载\n",
    "test = pd.____(2)_____('./test.csv')\n",
    "test.head(5)"
   ]
  },
  {
   "cell_type": "markdown",
   "metadata": {},
   "source": [
    "#### 将数据train和test合并成 df (2分)"
   ]
  },
  {
   "cell_type": "code",
   "execution_count": 3,
   "metadata": {
    "scrolled": true
   },
   "outputs": [
    {
     "name": "stderr",
     "output_type": "stream",
     "text": [
      "d:\\Program Files\\anaconda3\\lib\\site-packages\\ipykernel_launcher.py:2: FutureWarning: Sorting because non-concatenation axis is not aligned. A future version\n",
      "of pandas will change to not sort by default.\n",
      "\n",
      "To accept the future behavior, pass 'sort=True'.\n",
      "\n",
      "To retain the current behavior and silence the warning, pass sort=False\n",
      "\n",
      "  \n"
     ]
    },
    {
     "data": {
      "text/html": [
       "<div>\n",
       "<style scoped>\n",
       "    .dataframe tbody tr th:only-of-type {\n",
       "        vertical-align: middle;\n",
       "    }\n",
       "\n",
       "    .dataframe tbody tr th {\n",
       "        vertical-align: top;\n",
       "    }\n",
       "\n",
       "    .dataframe thead th {\n",
       "        text-align: right;\n",
       "    }\n",
       "</style>\n",
       "<table border=\"1\" class=\"dataframe\">\n",
       "  <thead>\n",
       "    <tr style=\"text-align: right;\">\n",
       "      <th></th>\n",
       "      <th>age</th>\n",
       "      <th>campaign</th>\n",
       "      <th>cons_conf_index</th>\n",
       "      <th>cons_price_index</th>\n",
       "      <th>contact</th>\n",
       "      <th>day_of_week</th>\n",
       "      <th>default</th>\n",
       "      <th>duration</th>\n",
       "      <th>education</th>\n",
       "      <th>emp_var_rate</th>\n",
       "      <th>...</th>\n",
       "      <th>job</th>\n",
       "      <th>lending_rate3m</th>\n",
       "      <th>loan</th>\n",
       "      <th>marital</th>\n",
       "      <th>month</th>\n",
       "      <th>nr_employed</th>\n",
       "      <th>pdays</th>\n",
       "      <th>poutcome</th>\n",
       "      <th>previous</th>\n",
       "      <th>subscribe</th>\n",
       "    </tr>\n",
       "  </thead>\n",
       "  <tbody>\n",
       "    <tr>\n",
       "      <th>0</th>\n",
       "      <td>51</td>\n",
       "      <td>1</td>\n",
       "      <td>-35.53</td>\n",
       "      <td>90.81</td>\n",
       "      <td>cellular</td>\n",
       "      <td>mon</td>\n",
       "      <td>no</td>\n",
       "      <td>4621</td>\n",
       "      <td>professional.course</td>\n",
       "      <td>1.4</td>\n",
       "      <td>...</td>\n",
       "      <td>admin.</td>\n",
       "      <td>0.69</td>\n",
       "      <td>yes</td>\n",
       "      <td>divorced</td>\n",
       "      <td>aug</td>\n",
       "      <td>5219.74</td>\n",
       "      <td>112</td>\n",
       "      <td>failure</td>\n",
       "      <td>2</td>\n",
       "      <td>no</td>\n",
       "    </tr>\n",
       "    <tr>\n",
       "      <th>1</th>\n",
       "      <td>50</td>\n",
       "      <td>1</td>\n",
       "      <td>-40.58</td>\n",
       "      <td>96.33</td>\n",
       "      <td>cellular</td>\n",
       "      <td>mon</td>\n",
       "      <td>unknown</td>\n",
       "      <td>4715</td>\n",
       "      <td>high.school</td>\n",
       "      <td>-1.8</td>\n",
       "      <td>...</td>\n",
       "      <td>services</td>\n",
       "      <td>4.05</td>\n",
       "      <td>no</td>\n",
       "      <td>married</td>\n",
       "      <td>may</td>\n",
       "      <td>4974.79</td>\n",
       "      <td>412</td>\n",
       "      <td>nonexistent</td>\n",
       "      <td>2</td>\n",
       "      <td>yes</td>\n",
       "    </tr>\n",
       "    <tr>\n",
       "      <th>2</th>\n",
       "      <td>48</td>\n",
       "      <td>0</td>\n",
       "      <td>-44.74</td>\n",
       "      <td>96.33</td>\n",
       "      <td>cellular</td>\n",
       "      <td>wed</td>\n",
       "      <td>no</td>\n",
       "      <td>171</td>\n",
       "      <td>basic.9y</td>\n",
       "      <td>-1.8</td>\n",
       "      <td>...</td>\n",
       "      <td>blue-collar</td>\n",
       "      <td>1.50</td>\n",
       "      <td>no</td>\n",
       "      <td>divorced</td>\n",
       "      <td>apr</td>\n",
       "      <td>5022.61</td>\n",
       "      <td>1027</td>\n",
       "      <td>failure</td>\n",
       "      <td>1</td>\n",
       "      <td>no</td>\n",
       "    </tr>\n",
       "    <tr>\n",
       "      <th>3</th>\n",
       "      <td>26</td>\n",
       "      <td>26</td>\n",
       "      <td>-35.55</td>\n",
       "      <td>97.08</td>\n",
       "      <td>cellular</td>\n",
       "      <td>fri</td>\n",
       "      <td>yes</td>\n",
       "      <td>359</td>\n",
       "      <td>high.school</td>\n",
       "      <td>1.4</td>\n",
       "      <td>...</td>\n",
       "      <td>entrepreneur</td>\n",
       "      <td>5.11</td>\n",
       "      <td>yes</td>\n",
       "      <td>single</td>\n",
       "      <td>aug</td>\n",
       "      <td>5222.87</td>\n",
       "      <td>998</td>\n",
       "      <td>nonexistent</td>\n",
       "      <td>0</td>\n",
       "      <td>yes</td>\n",
       "    </tr>\n",
       "    <tr>\n",
       "      <th>4</th>\n",
       "      <td>45</td>\n",
       "      <td>1</td>\n",
       "      <td>-33.83</td>\n",
       "      <td>89.82</td>\n",
       "      <td>cellular</td>\n",
       "      <td>tue</td>\n",
       "      <td>no</td>\n",
       "      <td>3178</td>\n",
       "      <td>university.degree</td>\n",
       "      <td>-3.4</td>\n",
       "      <td>...</td>\n",
       "      <td>admin.</td>\n",
       "      <td>1.17</td>\n",
       "      <td>no</td>\n",
       "      <td>single</td>\n",
       "      <td>nov</td>\n",
       "      <td>4884.70</td>\n",
       "      <td>240</td>\n",
       "      <td>success</td>\n",
       "      <td>4</td>\n",
       "      <td>no</td>\n",
       "    </tr>\n",
       "  </tbody>\n",
       "</table>\n",
       "<p>5 rows × 22 columns</p>\n",
       "</div>"
      ],
      "text/plain": [
       "   age  campaign  cons_conf_index  cons_price_index   contact day_of_week  \\\n",
       "0   51         1           -35.53             90.81  cellular         mon   \n",
       "1   50         1           -40.58             96.33  cellular         mon   \n",
       "2   48         0           -44.74             96.33  cellular         wed   \n",
       "3   26        26           -35.55             97.08  cellular         fri   \n",
       "4   45         1           -33.83             89.82  cellular         tue   \n",
       "\n",
       "   default  duration            education  emp_var_rate    ...     \\\n",
       "0       no      4621  professional.course           1.4    ...      \n",
       "1  unknown      4715          high.school          -1.8    ...      \n",
       "2       no       171             basic.9y          -1.8    ...      \n",
       "3      yes       359          high.school           1.4    ...      \n",
       "4       no      3178    university.degree          -3.4    ...      \n",
       "\n",
       "            job  lending_rate3m loan   marital month nr_employed pdays  \\\n",
       "0        admin.            0.69  yes  divorced   aug     5219.74   112   \n",
       "1      services            4.05   no   married   may     4974.79   412   \n",
       "2   blue-collar            1.50   no  divorced   apr     5022.61  1027   \n",
       "3  entrepreneur            5.11  yes    single   aug     5222.87   998   \n",
       "4        admin.            1.17   no    single   nov     4884.70   240   \n",
       "\n",
       "      poutcome  previous subscribe  \n",
       "0      failure         2        no  \n",
       "1  nonexistent         2       yes  \n",
       "2      failure         1        no  \n",
       "3  nonexistent         0       yes  \n",
       "4      success         4        no  \n",
       "\n",
       "[5 rows x 22 columns]"
      ]
     },
     "execution_count": 3,
     "metadata": {},
     "output_type": "execute_result"
    }
   ],
   "source": [
    "# 训练集、测试集合并\n",
    "df =pd.____(3)_____\n",
    "df.head(5)"
   ]
  },
  {
   "cell_type": "markdown",
   "metadata": {},
   "source": [
    "#### 筛选分类变量字段 (2分)"
   ]
  },
  {
   "cell_type": "code",
   "execution_count": 5,
   "metadata": {
    "scrolled": true
   },
   "outputs": [
    {
     "data": {
      "text/html": [
       "<div>\n",
       "<style scoped>\n",
       "    .dataframe tbody tr th:only-of-type {\n",
       "        vertical-align: middle;\n",
       "    }\n",
       "\n",
       "    .dataframe tbody tr th {\n",
       "        vertical-align: top;\n",
       "    }\n",
       "\n",
       "    .dataframe thead th {\n",
       "        text-align: right;\n",
       "    }\n",
       "</style>\n",
       "<table border=\"1\" class=\"dataframe\">\n",
       "  <thead>\n",
       "    <tr style=\"text-align: right;\">\n",
       "      <th></th>\n",
       "      <th>contact</th>\n",
       "      <th>day_of_week</th>\n",
       "      <th>default</th>\n",
       "      <th>education</th>\n",
       "      <th>housing</th>\n",
       "      <th>job</th>\n",
       "      <th>loan</th>\n",
       "      <th>marital</th>\n",
       "      <th>month</th>\n",
       "      <th>poutcome</th>\n",
       "      <th>subscribe</th>\n",
       "    </tr>\n",
       "  </thead>\n",
       "  <tbody>\n",
       "    <tr>\n",
       "      <th>0</th>\n",
       "      <td>cellular</td>\n",
       "      <td>mon</td>\n",
       "      <td>no</td>\n",
       "      <td>professional.course</td>\n",
       "      <td>yes</td>\n",
       "      <td>admin.</td>\n",
       "      <td>yes</td>\n",
       "      <td>divorced</td>\n",
       "      <td>aug</td>\n",
       "      <td>failure</td>\n",
       "      <td>no</td>\n",
       "    </tr>\n",
       "    <tr>\n",
       "      <th>1</th>\n",
       "      <td>cellular</td>\n",
       "      <td>mon</td>\n",
       "      <td>unknown</td>\n",
       "      <td>high.school</td>\n",
       "      <td>yes</td>\n",
       "      <td>services</td>\n",
       "      <td>no</td>\n",
       "      <td>married</td>\n",
       "      <td>may</td>\n",
       "      <td>nonexistent</td>\n",
       "      <td>yes</td>\n",
       "    </tr>\n",
       "    <tr>\n",
       "      <th>2</th>\n",
       "      <td>cellular</td>\n",
       "      <td>wed</td>\n",
       "      <td>no</td>\n",
       "      <td>basic.9y</td>\n",
       "      <td>no</td>\n",
       "      <td>blue-collar</td>\n",
       "      <td>no</td>\n",
       "      <td>divorced</td>\n",
       "      <td>apr</td>\n",
       "      <td>failure</td>\n",
       "      <td>no</td>\n",
       "    </tr>\n",
       "    <tr>\n",
       "      <th>3</th>\n",
       "      <td>cellular</td>\n",
       "      <td>fri</td>\n",
       "      <td>yes</td>\n",
       "      <td>high.school</td>\n",
       "      <td>yes</td>\n",
       "      <td>entrepreneur</td>\n",
       "      <td>yes</td>\n",
       "      <td>single</td>\n",
       "      <td>aug</td>\n",
       "      <td>nonexistent</td>\n",
       "      <td>yes</td>\n",
       "    </tr>\n",
       "    <tr>\n",
       "      <th>4</th>\n",
       "      <td>cellular</td>\n",
       "      <td>tue</td>\n",
       "      <td>no</td>\n",
       "      <td>university.degree</td>\n",
       "      <td>no</td>\n",
       "      <td>admin.</td>\n",
       "      <td>no</td>\n",
       "      <td>single</td>\n",
       "      <td>nov</td>\n",
       "      <td>success</td>\n",
       "      <td>no</td>\n",
       "    </tr>\n",
       "  </tbody>\n",
       "</table>\n",
       "</div>"
      ],
      "text/plain": [
       "    contact day_of_week  default            education housing           job  \\\n",
       "0  cellular         mon       no  professional.course     yes        admin.   \n",
       "1  cellular         mon  unknown          high.school     yes      services   \n",
       "2  cellular         wed       no             basic.9y      no   blue-collar   \n",
       "3  cellular         fri      yes          high.school     yes  entrepreneur   \n",
       "4  cellular         tue       no    university.degree      no        admin.   \n",
       "\n",
       "  loan   marital month     poutcome subscribe  \n",
       "0  yes  divorced   aug      failure        no  \n",
       "1   no   married   may  nonexistent       yes  \n",
       "2   no  divorced   apr      failure        no  \n",
       "3  yes    single   aug  nonexistent       yes  \n",
       "4   no    single   nov      success        no  "
      ]
     },
     "execution_count": 5,
     "metadata": {},
     "output_type": "execute_result"
    }
   ],
   "source": [
    "cat_columns = df.____(4)_____(include='O').columns\n",
    "df[cat_columns].head(5)"
   ]
  },
  {
   "cell_type": "markdown",
   "metadata": {},
   "source": [
    "#### 将分类变量数值化 (3分)"
   ]
  },
  {
   "cell_type": "code",
   "execution_count": 6,
   "metadata": {
    "scrolled": true
   },
   "outputs": [
    {
     "data": {
      "text/plain": [
       "0     7383\n",
       "1     6506\n",
       "9     4731\n",
       "7     2834\n",
       "4     2164\n",
       "5     1335\n",
       "2     1158\n",
       "6     1123\n",
       "3      848\n",
       "10     844\n",
       "8      716\n",
       "11     358\n",
       "Name: job, dtype: int64"
      ]
     },
     "execution_count": 6,
     "metadata": {},
     "output_type": "execute_result"
    }
   ],
   "source": [
    "from sklearn.preprocessing import ____(5)_____\n",
    "job_le = ____(6)_____()\n",
    "df['job'] = job_le.____(7)_____(df['job'])\n",
    "df['job'].value_counts()"
   ]
  },
  {
   "cell_type": "markdown",
   "metadata": {},
   "source": [
    "#### 将'marital'、'education'、'housing'、'loan'、'contact'、'day_of_week'、'poutcome'、'default'、'month'、'subscribe'进行统一手工映射数值化 (2分)"
   ]
  },
  {
   "cell_type": "code",
   "execution_count": 7,
   "metadata": {},
   "outputs": [
    {
     "data": {
      "text/plain": [
       "2    17604\n",
       "1     8417\n",
       "3     3528\n",
       "0      451\n",
       "Name: marital, dtype: int64"
      ]
     },
     "execution_count": 7,
     "metadata": {},
     "output_type": "execute_result"
    }
   ],
   "source": [
    "df['marital'] = df['marital'].____(8)_____({'unknown': 0, 'single': 1, 'married': 2, 'divorced': 3})\n",
    "df['education'] = df['education'].____(8)_____({'unknown': 0, 'illiterate': 1, 'basic.4y': 2, 'basic.6y': 3,\\\n",
    "                    'basic.9y': 4, 'high.school': 5, 'university.degree': 6, 'professional.course': 7})\n",
    "df['housing'] = df['housing'].____(8)_____({'unknown': 0, 'no': 1, 'yes': 2})\n",
    "df['loan'] = df['loan'].____(8)_____({'unknown': 0, 'no': 1, 'yes': 2})\n",
    "df['contact'] = df['contact'].____(8)_____({'cellular': 0, 'telephone': 1})\n",
    "df['day_of_week'] = df['day_of_week'].____(8)_____({'mon': 0, 'tue': 1, 'wed': 2, 'thu': 3, 'fri': 4})\n",
    "df['poutcome'] = df['poutcome'].____(8)_____({'nonexistent': 0, 'failure': 1, 'success': 2})\n",
    "df['default'] = df['default'].____(8)_____({'unknown': 0, 'no': 1, 'yes': 2})\n",
    "df['month'] = df['month'].____(8)_____({'mar': 3, 'apr': 4, 'may': 5, 'jun': 6, 'jul': 7, 'aug': 8, \\\n",
    "                 'sep': 9, 'oct': 10, 'nov': 11, 'dec': 12})\n",
    "df['subscribe'] = df['subscribe'].____(8)_____({'no': 0, 'yes': 1})"
   ]
  },
  {
   "cell_type": "markdown",
   "metadata": {},
   "source": [
    "#### 查看'education'数值化后的各数值分布 (2分)"
   ]
  },
  {
   "cell_type": "code",
   "execution_count": 8,
   "metadata": {
    "scrolled": true
   },
   "outputs": [
    {
     "data": {
      "text/plain": [
       "university.degree      8709\n",
       "high.school            6774\n",
       "basic.9y               4320\n",
       "professional.course    3786\n",
       "basic.4y               3071\n",
       "basic.6y               1794\n",
       "unknown                1330\n",
       "illiterate              216\n",
       "Name: education, dtype: int64"
      ]
     },
     "execution_count": 8,
     "metadata": {},
     "output_type": "execute_result"
    }
   ],
   "source": [
    "df['education'].____(9)_____()"
   ]
  },
  {
   "cell_type": "markdown",
   "metadata": {},
   "source": [
    "#### 切分数据集，按照'subscribe'标签分为训练集和测试集 (2分)"
   ]
  },
  {
   "cell_type": "code",
   "execution_count": 18,
   "metadata": {},
   "outputs": [],
   "source": [
    "train = df[df['subscribe'].____(10)_____]\n",
    "test = df[df['subscribe'].isnull()]"
   ]
  },
  {
   "cell_type": "markdown",
   "metadata": {},
   "source": [
    "#### 使用lightgbm分类模型 (4分，每空2分)"
   ]
  },
  {
   "cell_type": "code",
   "execution_count": 4,
   "metadata": {
    "scrolled": true
   },
   "outputs": [
    {
     "ename": "SyntaxError",
     "evalue": "invalid syntax (<ipython-input-4-92503c330ffb>, line 2)",
     "output_type": "error",
     "traceback": [
      "\u001b[1;36m  File \u001b[1;32m\"<ipython-input-4-92503c330ffb>\"\u001b[1;36m, line \u001b[1;32m2\u001b[0m\n\u001b[1;33m    model_lgb = lgb.____(11)_____(\u001b[0m\n\u001b[1;37m                                ^\u001b[0m\n\u001b[1;31mSyntaxError\u001b[0m\u001b[1;31m:\u001b[0m invalid syntax\n"
     ]
    }
   ],
   "source": [
    "import lightgbm as lgb\n",
    "model_lgb = lgb.____(11)_____(\n",
    "            num_leaves=2**5-1, reg_alpha=0.25, reg_lambda=0.25, objective='____(12)_____',\n",
    "            max_depth=-1, learning_rate=0.005, min_child_samples=3, random_state=2022,\n",
    "            n_estimators=2000, subsample=1, colsample_bytree=1,\n",
    "        )"
   ]
  },
  {
   "cell_type": "markdown",
   "metadata": {},
   "source": [
    "#### 模型训练，预测（4分，每空2分）"
   ]
  },
  {
   "cell_type": "code",
   "execution_count": null,
   "metadata": {},
   "outputs": [],
   "source": [
    "model_lgb.____(13)_____(train.drop('subscribe', axis=1), train['subscribe'])"
   ]
  },
  {
   "cell_type": "code",
   "execution_count": 22,
   "metadata": {
    "scrolled": true
   },
   "outputs": [
    {
     "name": "stderr",
     "output_type": "stream",
     "text": [
      "d:\\Program Files\\anaconda3\\lib\\site-packages\\sklearn\\preprocessing\\label.py:151: DeprecationWarning: The truth value of an empty array is ambiguous. Returning False, but in future this will result in an error. Use `array.size > 0` to check that an array is not empty.\n",
      "  if diff:\n"
     ]
    },
    {
     "data": {
      "text/plain": [
       "array([0., 0., 0., ..., 0., 0., 0.])"
      ]
     },
     "execution_count": 22,
     "metadata": {},
     "output_type": "execute_result"
    }
   ],
   "source": [
    "y_pred = model_lgb.____(14)_____(test.drop('subscribe', axis=1))\n",
    "y_pred"
   ]
  },
  {
   "cell_type": "markdown",
   "metadata": {},
   "source": [
    "#### 查看预测结果，输出y_pred个数及y_pred中预测为‘yes’的个数（2分）"
   ]
  },
  {
   "cell_type": "code",
   "execution_count": 25,
   "metadata": {},
   "outputs": [
    {
     "data": {
      "text/plain": [
       "(7500, 590.0)"
      ]
     },
     "execution_count": 25,
     "metadata": {},
     "output_type": "execute_result"
    }
   ],
   "source": [
    "len(y_pred),____(15)_____(y_pred)"
   ]
  },
  {
   "cell_type": "code",
   "execution_count": null,
   "metadata": {},
   "outputs": [],
   "source": []
  }
 ],
 "metadata": {
  "kernelspec": {
   "display_name": "Python 3 (ipykernel)",
   "language": "python",
   "name": "python3"
  },
  "language_info": {
   "codemirror_mode": {
    "name": "ipython",
    "version": 3
   },
   "file_extension": ".py",
   "mimetype": "text/x-python",
   "name": "python",
   "nbconvert_exporter": "python",
   "pygments_lexer": "ipython3",
   "version": "3.8.12"
  }
 },
 "nbformat": 4,
 "nbformat_minor": 2
}
