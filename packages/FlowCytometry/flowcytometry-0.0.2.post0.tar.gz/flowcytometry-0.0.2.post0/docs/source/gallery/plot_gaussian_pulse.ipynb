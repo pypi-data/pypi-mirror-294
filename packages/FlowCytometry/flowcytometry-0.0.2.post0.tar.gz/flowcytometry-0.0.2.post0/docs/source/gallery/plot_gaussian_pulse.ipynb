{
  "cells": [
    {
      "cell_type": "markdown",
      "metadata": {},
      "source": [
        "\n# Plotting a Gaussian Pulse\n\nThis example demonstrates how to create and visualize a Gaussian pulse using the\n`GaussianPulse` class.\n\nThe Gaussian pulse is useful for modeling signals in various scientific applications,\nsuch as simulating the response of a detector to a particle passing through a laser beam.\n"
      ]
    },
    {
      "cell_type": "code",
      "execution_count": null,
      "metadata": {
        "collapsed": false
      },
      "outputs": [],
      "source": [
        "# Import the necessary libraries\nimport numpy as np\nfrom FlowCytometry import GaussianPulse\n\n# Define the time axis in microseconds (\u03bcs)\ntime = np.linspace(-10, 10, 1000)\n\n# Create a GaussianPulse instance\npulse = GaussianPulse(center=0, height=1.0, width=1.0)\n\n# Generate and plot the pulse\npulse.plot()"
      ]
    },
    {
      "cell_type": "markdown",
      "metadata": {},
      "source": [
        "The above plot shows a Gaussian pulse centered at 0 \u03bcs with a peak amplitude\nof 1.0 volts and a standard deviation (width) of 1.0 \u03bcs. The time axis is\ngiven in microseconds.\n\nYou can adjust the parameters (center, height, width) to see how they affect\nthe shape and position of the pulse.\n\n"
      ]
    }
  ],
  "metadata": {
    "kernelspec": {
      "display_name": "Python 3",
      "language": "python",
      "name": "python3"
    },
    "language_info": {
      "codemirror_mode": {
        "name": "ipython",
        "version": 3
      },
      "file_extension": ".py",
      "mimetype": "text/x-python",
      "name": "python",
      "nbconvert_exporter": "python",
      "pygments_lexer": "ipython3",
      "version": "3.11.0"
    }
  },
  "nbformat": 4,
  "nbformat_minor": 0
}