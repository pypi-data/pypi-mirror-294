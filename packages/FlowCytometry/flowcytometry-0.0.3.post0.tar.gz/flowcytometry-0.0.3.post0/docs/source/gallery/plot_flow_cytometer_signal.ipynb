{
  "cells": [
    {
      "cell_type": "markdown",
      "metadata": {},
      "source": [
        "\n# Simulating Flow Cytometer Signals\n\nThis example demonstrates how to simulate signals from a flow cytometer using\nthe `FlowCytometer` class.\n\nFlow cytometers generate signals (e.g., forward scatter and side scatter) when\nparticles pass through a laser beam. These signals can be analyzed to obtain\ninformation about the size, complexity, and other properties of the particles.\n"
      ]
    },
    {
      "cell_type": "code",
      "execution_count": null,
      "metadata": {
        "collapsed": false
      },
      "outputs": [],
      "source": [
        "# Import the necessary libraries\nfrom FlowCytometry import FlowCytometer\n\n# Create a FlowCytometer instance\ncytometer = FlowCytometer(\n    n_events=30,\n    time_points=1000,\n    noise_level=30,\n    baseline_shift=0.01,\n    saturation_level=10_000,\n    n_bins=40,\n)\n\n# Simulate the flow cytometer signals\ncytometer.simulate_pulse()\n\n# Plot the generated signals\ncytometer.plot()"
      ]
    },
    {
      "cell_type": "markdown",
      "metadata": {},
      "source": [
        "The above plot shows simulated raw signals for both Forward Scatter (FSC) and\nSide Scatter (SSC) channels. The signals include realistic features such as\nnoise, baseline shifts, and saturation effects.\n\nThese signals can be used as a basis for developing and testing signal\nprocessing algorithms in flow cytometry.\n\n"
      ]
    }
  ],
  "metadata": {
    "kernelspec": {
      "display_name": "Python 3",
      "language": "python",
      "name": "python3"
    },
    "language_info": {
      "codemirror_mode": {
        "name": "ipython",
        "version": 3
      },
      "file_extension": ".py",
      "mimetype": "text/x-python",
      "name": "python",
      "nbconvert_exporter": "python",
      "pygments_lexer": "ipython3",
      "version": "3.11.0"
    }
  },
  "nbformat": 4,
  "nbformat_minor": 0
}