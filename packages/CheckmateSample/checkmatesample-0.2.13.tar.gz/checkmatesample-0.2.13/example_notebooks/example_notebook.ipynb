{
 "cells": [
  {
   "cell_type": "markdown",
   "metadata": {},
   "source": [
    "## Tutorial Notebook - Checkmate Sample"
   ]
  },
  {
   "cell_type": "markdown",
   "metadata": {},
   "source": [
    "Short notebook to show how to use the two checkerboard functions. These could be used for spatial sampling of earth systems science data. "
   ]
  },
  {
   "cell_type": "markdown",
   "metadata": {},
   "source": [
    "Any problems or questions, feel free to email tmartin at ucar dot edu "
   ]
  },
  {
   "cell_type": "code",
   "execution_count": null,
   "metadata": {},
   "outputs": [],
   "source": [
    "import numpy as np\n",
    "import matplotlib.pyplot as plt\n",
    "import xarray as xr\n",
    "from matplotlib.colors import LinearSegmentedColormap"
   ]
  },
  {
   "cell_type": "code",
   "execution_count": null,
   "metadata": {},
   "outputs": [],
   "source": [
    "!pip install --upgrade pip"
   ]
  },
  {
   "cell_type": "code",
   "execution_count": null,
   "metadata": {},
   "outputs": [],
   "source": [
    "!pip install CheckmateSample --upgrade"
   ]
  },
  {
   "cell_type": "code",
   "execution_count": null,
   "metadata": {},
   "outputs": [],
   "source": [
    "from CheckmateSample.generator import make_checkerboard, make_checkerboard_xr"
   ]
  },
  {
   "cell_type": "code",
   "execution_count": null,
   "metadata": {},
   "outputs": [],
   "source": [
    "def plot_checkerboard(checkerboard: np.ndarray, title: str):\n",
    "    plt.figure(figsize=(10, 10))\n",
    "    \n",
    "    # Create a custom colormap that goes from white to blue\n",
    "    colors = ['white', 'blue']\n",
    "    n_bins = 100  # Number of color gradations\n",
    "    cmap = LinearSegmentedColormap.from_list('custom_blues', colors, N=n_bins)\n",
    "    \n",
    "    # Create a meshgrid for pcolor\n",
    "    ny, nx = checkerboard.shape\n",
    "    x = np.arange(0, nx + 1)\n",
    "    y = np.arange(0, ny + 1)\n",
    "    X, Y = np.meshgrid(x, y)\n",
    "    \n",
    "    # Plot the checkerboard with individual cell borders\n",
    "    plt.pcolor(X, Y, checkerboard, cmap=cmap, edgecolors='black', linewidths=1)\n",
    "    \n",
    "    plt.title(title)\n",
    "    cbar = plt.colorbar(ticks=np.unique(checkerboard))\n",
    "    cbar.set_label('Value')\n",
    "    \n",
    "    # Set aspect ratio to equal for square cells\n",
    "    plt.gca().set_aspect('equal')\n",
    "    \n",
    "    # Remove axes\n",
    "    plt.axis('off')\n",
    "    \n",
    "    plt.tight_layout()\n",
    "    plt.show()"
   ]
  },
  {
   "cell_type": "code",
   "execution_count": null,
   "metadata": {},
   "outputs": [],
   "source": [
    "# Example usage\n",
    "board_size = (32, 32)\n",
    "square_size = (3, 3)"
   ]
  },
  {
   "cell_type": "code",
   "execution_count": null,
   "metadata": {},
   "outputs": [],
   "source": [
    "# Plot original 0-1 pattern\n",
    "checkerboard_01 = make_checkerboard(board_size, square_size)\n",
    "plot_checkerboard(checkerboard_01, \"Checkerboard Pattern (0-1)\")"
   ]
  },
  {
   "cell_type": "code",
   "execution_count": null,
   "metadata": {},
   "outputs": [],
   "source": [
    "checkerboard_01.shape"
   ]
  },
  {
   "cell_type": "code",
   "execution_count": null,
   "metadata": {},
   "outputs": [],
   "source": [
    "# Plot new 0-1-2 pattern\n",
    "checkerboard_012 = make_checkerboard(board_size, square_size, validation=True)\n",
    "plot_checkerboard(checkerboard_012, \"Checkerboard Pattern (0-1-2)\")"
   ]
  },
  {
   "cell_type": "code",
   "execution_count": null,
   "metadata": {},
   "outputs": [],
   "source": [
    "checkerboard_012.shape"
   ]
  },
  {
   "cell_type": "markdown",
   "metadata": {},
   "source": [
    "## Xarray DataArray "
   ]
  },
  {
   "cell_type": "markdown",
   "metadata": {},
   "source": [
    "We will want to do the same thing with xarray datasets"
   ]
  },
  {
   "cell_type": "code",
   "execution_count": null,
   "metadata": {},
   "outputs": [],
   "source": [
    "# Load the example dataset\n",
    "ds = xr.tutorial.load_dataset('air_temperature')\n",
    "\n",
    "# Select a single time slice for simplicity\n",
    "air_temp = ds.air.isel(time=0)\n",
    "\n",
    "# Apply the checkerboard pattern for all three parts of the ternary pattern\n",
    "square_size = (5, 5)  # 5x5 pixel squares\n",
    "checkerboard_temp_0 = make_checkerboard_xr(air_temp, square_size, keep_pattern=0, validation=True)\n",
    "checkerboard_temp_1 = make_checkerboard_xr(air_temp, square_size, keep_pattern=1, validation=True)\n",
    "checkerboard_temp_2 = make_checkerboard_xr(air_temp, square_size, keep_pattern=2, validation=True)\n",
    "\n",
    "# Plotting\n",
    "fig, axs = plt.subplots(2, 2, figsize=(15, 15))\n",
    "\n",
    "# Original data\n",
    "im0 = air_temp.plot(ax=axs[0, 0], cmap='viridis')\n",
    "axs[0, 0].set_title('Original Air Temperature')\n",
    "plt.colorbar(im0, ax=axs[0, 0])\n",
    "\n",
    "# Checkerboard pattern applied (keep_pattern=0)\n",
    "im1 = checkerboard_temp_0.plot(ax=axs[0, 1], cmap='viridis')\n",
    "axs[0, 1].set_title('Ternary Checkerboard (keep_pattern=0)')\n",
    "plt.colorbar(im1, ax=axs[0, 1])\n",
    "\n",
    "# Checkerboard pattern applied (keep_pattern=1)\n",
    "im2 = checkerboard_temp_1.plot(ax=axs[1, 0], cmap='viridis')\n",
    "axs[1, 0].set_title('Ternary Checkerboard (keep_pattern=1)')\n",
    "plt.colorbar(im2, ax=axs[1, 0])\n",
    "\n",
    "# Checkerboard pattern applied (keep_pattern=2)\n",
    "im3 = checkerboard_temp_2.plot(ax=axs[1, 1], cmap='viridis')\n",
    "axs[1, 1].set_title('Ternary Checkerboard (keep_pattern=2)')\n",
    "plt.colorbar(im3, ax=axs[1, 1])\n",
    "\n",
    "plt.tight_layout()\n",
    "plt.show()\n",
    "\n",
    "# You can also add these to your dataset\n",
    "ds['checkerboard_air_0'] = checkerboard_temp_0\n",
    "ds['checkerboard_air_1'] = checkerboard_temp_1\n",
    "ds['checkerboard_air_2'] = checkerboard_temp_2\n",
    "\n",
    "print(\"\\nUpdated Dataset:\")\n",
    "print(ds)\n",
    "\n",
    "# To verify that all data is preserved across the three patterns\n",
    "combined = checkerboard_temp_0.fillna(0) + checkerboard_temp_1.fillna(0) + checkerboard_temp_2.fillna(0)\n",
    "print(\"\\nAre all values from the original data preserved?\")\n",
    "print(np.allclose(combined.values, air_temp.values))"
   ]
  },
  {
   "cell_type": "code",
   "execution_count": null,
   "metadata": {},
   "outputs": [],
   "source": [
    "# Load the example dataset\n",
    "ds = xr.tutorial.load_dataset('air_temperature')\n",
    "\n",
    "# Select a single time slice for simplicity\n",
    "air_temp = ds.air.isel(time=0)\n",
    "\n",
    "# Apply the checkerboard pattern for both parts of the binary pattern\n",
    "square_size = (7, 5)  # 7x5 pixel squares\n",
    "checkerboard_temp_0 = make_checkerboard_xr(air_temp, square_size, keep_pattern=0, validation=False)\n",
    "checkerboard_temp_1 = make_checkerboard_xr(air_temp, square_size, keep_pattern=1, validation=False)\n",
    "\n",
    "# Plotting\n",
    "fig, axs = plt.subplots(1, 3, figsize=(20, 6))\n",
    "\n",
    "# Original data\n",
    "im0 = air_temp.plot(ax=axs[0], cmap='viridis')\n",
    "axs[0].set_title('Original Air Temperature')\n",
    "plt.colorbar(im0, ax=axs[0])\n",
    "\n",
    "# Checkerboard pattern applied (keep_pattern=0)\n",
    "im1 = checkerboard_temp_0.plot(ax=axs[1], cmap='viridis')\n",
    "axs[1].set_title('Binary Checkerboard (keep_pattern=0)')\n",
    "plt.colorbar(im1, ax=axs[1])\n",
    "\n",
    "# Checkerboard pattern applied (keep_pattern=1)\n",
    "im2 = checkerboard_temp_1.plot(ax=axs[2], cmap='viridis')\n",
    "axs[2].set_title('Binary Checkerboard (keep_pattern=1)')\n",
    "plt.colorbar(im2, ax=axs[2])\n",
    "\n",
    "plt.tight_layout()\n",
    "plt.show()\n",
    "\n",
    "# You can also add these to your dataset\n",
    "ds['checkerboard_air_0'] = checkerboard_temp_0\n",
    "ds['checkerboard_air_1'] = checkerboard_temp_1\n",
    "\n",
    "print(\"\\nUpdated Dataset:\")\n",
    "print(ds)\n",
    "\n",
    "# To verify that all data is preserved across the two patterns\n",
    "combined = checkerboard_temp_0.fillna(0) + checkerboard_temp_1.fillna(0)\n",
    "print(\"\\nAre all values from the original data preserved?\")\n",
    "print(np.allclose(combined.values, air_temp.values))\n",
    "\n",
    "# Calculate the percentage of data in each pattern\n",
    "total_data_points = air_temp.size\n",
    "data_points_0 = np.sum(~np.isnan(checkerboard_temp_0.values))\n",
    "data_points_1 = np.sum(~np.isnan(checkerboard_temp_1.values))\n",
    "\n",
    "print(f\"\\nPercentage of data in pattern 0: {data_points_0 / total_data_points * 100:.2f}%\")\n",
    "print(f\"Percentage of data in pattern 1: {data_points_1 / total_data_points * 100:.2f}%\")"
   ]
  }
 ],
 "metadata": {
  "kernelspec": {
   "display_name": "fastr",
   "language": "python",
   "name": "python3"
  },
  "language_info": {
   "codemirror_mode": {
    "name": "ipython",
    "version": 3
   },
   "file_extension": ".py",
   "mimetype": "text/x-python",
   "name": "python",
   "nbconvert_exporter": "python",
   "pygments_lexer": "ipython3",
   "version": "3.11.8"
  },
  "orig_nbformat": 4
 },
 "nbformat": 4,
 "nbformat_minor": 2
}
