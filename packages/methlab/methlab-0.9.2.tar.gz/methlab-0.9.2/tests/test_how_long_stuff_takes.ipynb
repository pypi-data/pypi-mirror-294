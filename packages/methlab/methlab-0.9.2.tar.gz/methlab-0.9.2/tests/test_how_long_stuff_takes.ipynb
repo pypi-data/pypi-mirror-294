{
 "cells": [
  {
   "cell_type": "code",
   "execution_count": 3,
   "metadata": {},
   "outputs": [],
   "source": [
    "import allel\n",
    "import os"
   ]
  },
  {
   "cell_type": "code",
   "execution_count": 5,
   "metadata": {},
   "outputs": [],
   "source": [
    "os.chdir(\"/groups/nordborg/projects/epiclines/001.library/methlab\")"
   ]
  },
  {
   "cell_type": "code",
   "execution_count": 6,
   "metadata": {},
   "outputs": [],
   "source": [
    "testvcf=\"/groups/nordborg/projects/epiclines/002.pedigree/03_processing/04_validate_samples/output/2021-013.vcf.gz\"\n",
    "ref=\"/scratch-cbe/users/thomas.ellis/meth_pedigree/04_validate_samples/06_create_parental_vcf/parents_only.vcf.gz\""
   ]
  },
  {
   "cell_type": "code",
   "execution_count": 7,
   "metadata": {},
   "outputs": [
    {
     "name": "stderr",
     "output_type": "stream",
     "text": [
      "/users/thomas.ellis/.local/lib/python3.10/site-packages/allel/io/vcf_read.py:1732: UserWarning: invalid INFO header: '##INFO=<ID=VDB,Number=1,Type=Float,Description=\"Variant Distance Bias for filtering splice-site artefacts in RNA-seq data (bigger is better)\",Version=\"3\">\\n'\n",
      "  warnings.warn('invalid INFO header: %r' % header)\n"
     ]
    },
    {
     "name": "stdout",
     "output_type": "stream",
     "text": [
      "CPU times: user 9.02 s, sys: 148 ms, total: 9.17 s\n",
      "Wall time: 9.57 s\n"
     ]
    },
    {
     "data": {
      "text/plain": [
       "{'samples': array(['Col0_2021-013_A8', 'Col0_2021-013_F10', 'Col0_2021-013_G4',\n",
       "        'F2.03.001', 'F2.03.003', 'F2.03.004', 'F2.03.005', 'F2.03.006',\n",
       "        'F2.03.007', 'F2.03.008', 'F2.03.010', 'F2.03.011', 'F2.03.012',\n",
       "        'F2.03.013', 'F2.05.001', 'F2.05.002', 'F2.05.003', 'F2.05.004',\n",
       "        'F2.05.005', 'F2.05.006', 'F2.05.007', 'F2.05.008', 'F2.05.009',\n",
       "        'F2.05.010', 'F2.05.012', 'F2.05.013', 'F2.16.001', 'F2.16.002',\n",
       "        'F2.16.003', 'F2.16.004', 'F2.16.005', 'F2.16.006', 'F2.16.007',\n",
       "        'F2.16.008', 'F2.16.009', 'F2.16.010', 'F2.16.011', 'F2.16.012',\n",
       "        'F2.16.013', 'F2.25.001', 'F2.25.002', 'F2.25.003', 'F2.25.004',\n",
       "        'F2.25.005', 'F2.25.006', 'F2.25.007', 'F2.25.008', 'F2.25.009',\n",
       "        'F2.25.010', 'F2.25.011', 'F2.25.012', 'F2.25.013', 'F2.27.001',\n",
       "        'F2.27.002', 'F2.27.003', 'F2.27.004', 'F2.27.005', 'F2.27.006',\n",
       "        'F2.27.007', 'F2.27.008', 'F2.27.009', 'F2.27.010', 'F2.27.011',\n",
       "        'F2.27.012', 'F2.27.013', 'F2.32.001', 'F2.32.002', 'F2.32.003',\n",
       "        'F2.32.004', 'F2.32.005', 'F2.32.006', 'F2.32.007', 'F2.32.008',\n",
       "        'F2.32.009', 'F2.32.010', 'F2.32.011', 'F2.32.012', 'F2.32.013',\n",
       "        'F2.35.001', 'F2.35.002', 'F2.35.003', 'F2.35.004', 'F2.35.005',\n",
       "        'F2.35.006', 'F2.35.007', 'F2.35.008', 'F2.35.009', 'F2.35.010',\n",
       "        'F2.35.011', 'F2.35.012', 'F2.35.013', 'S2.06.001', 'S2.12.001',\n",
       "        'S2.12.002', 'S2.13.001', 'S2.14.001'], dtype=object),\n",
       " 'calldata/GT': array([[[ 0,  1],\n",
       "         [ 0,  1],\n",
       "         [ 0,  0],\n",
       "         ...,\n",
       "         [-1, -1],\n",
       "         [-1, -1],\n",
       "         [-1, -1]],\n",
       " \n",
       "        [[ 0,  1],\n",
       "         [ 0,  1],\n",
       "         [ 1,  1],\n",
       "         ...,\n",
       "         [-1, -1],\n",
       "         [-1, -1],\n",
       "         [-1, -1]],\n",
       " \n",
       "        [[ 0,  1],\n",
       "         [ 0,  1],\n",
       "         [ 0,  1],\n",
       "         ...,\n",
       "         [-1, -1],\n",
       "         [-1, -1],\n",
       "         [-1, -1]],\n",
       " \n",
       "        ...,\n",
       " \n",
       "        [[ 0,  0],\n",
       "         [ 0,  0],\n",
       "         [ 0,  0],\n",
       "         ...,\n",
       "         [-1, -1],\n",
       "         [-1, -1],\n",
       "         [-1, -1]],\n",
       " \n",
       "        [[ 1,  1],\n",
       "         [ 0,  1],\n",
       "         [ 0,  1],\n",
       "         ...,\n",
       "         [-1, -1],\n",
       "         [-1, -1],\n",
       "         [-1, -1]],\n",
       " \n",
       "        [[ 1,  1],\n",
       "         [ 0,  1],\n",
       "         [ 1,  1],\n",
       "         ...,\n",
       "         [-1, -1],\n",
       "         [-1, -1],\n",
       "         [-1, -1]]], dtype=int8),\n",
       " 'variants/ALT': array([['T', '', ''],\n",
       "        ['A', '', ''],\n",
       "        ['G', '', ''],\n",
       "        ...,\n",
       "        ['G', '', ''],\n",
       "        ['G', '', ''],\n",
       "        ['T', '', '']], dtype=object),\n",
       " 'variants/CHROM': array(['Chr1', 'Chr1', 'Chr1', ..., 'Chr5', 'Chr5', 'Chr5'], dtype=object),\n",
       " 'variants/FILTER_PASS': array([False, False, False, ..., False, False, False]),\n",
       " 'variants/ID': array(['.', '.', '.', ..., '.', '.', '.'], dtype=object),\n",
       " 'variants/POS': array([     346,      353,      471, ..., 26974785, 26974816, 26975272],\n",
       "       dtype=int32),\n",
       " 'variants/QUAL': array([ 988.354 ,  641.049 ,  154.046 , ...,   15.1249,  464.694 ,\n",
       "        1106.64  ], dtype=float32),\n",
       " 'variants/REF': array(['C', 'G', 'T', ..., 'A', 'C', 'C'], dtype=object)}"
      ]
     },
     "execution_count": 7,
     "metadata": {},
     "output_type": "execute_result"
    }
   ],
   "source": [
    "%time allel.read_vcf(testvcf)"
   ]
  },
  {
   "cell_type": "code",
   "execution_count": 8,
   "metadata": {},
   "outputs": [
    {
     "name": "stderr",
     "output_type": "stream",
     "text": [
      "/users/thomas.ellis/.local/lib/python3.10/site-packages/allel/io/vcf_read.py:1732: UserWarning: invalid INFO header: '##INFO=<ID=VDB,Number=1,Type=Float,Description=\"Variant Distance Bias for filtering splice-site artefacts in RNA-seq data (bigger is better)\",Version=\"3\">\\n'\n",
      "  warnings.warn('invalid INFO header: %r' % header)\n"
     ]
    },
    {
     "name": "stdout",
     "output_type": "stream",
     "text": [
      "CPU times: user 6.44 s, sys: 48.4 ms, total: 6.49 s\n",
      "Wall time: 6.52 s\n"
     ]
    },
    {
     "data": {
      "text/plain": [
       "{'samples': array(['F2.25.005'], dtype=object),\n",
       " 'calldata/GT': array([[[-1, -1]],\n",
       " \n",
       "        [[-1, -1]],\n",
       " \n",
       "        [[-1, -1]],\n",
       " \n",
       "        ...,\n",
       " \n",
       "        [[-1, -1]],\n",
       " \n",
       "        [[-1, -1]],\n",
       " \n",
       "        [[-1, -1]]], dtype=int8),\n",
       " 'variants/ALT': array([['T', '', ''],\n",
       "        ['A', '', ''],\n",
       "        ['G', '', ''],\n",
       "        ...,\n",
       "        ['G', '', ''],\n",
       "        ['G', '', ''],\n",
       "        ['T', '', '']], dtype=object),\n",
       " 'variants/CHROM': array(['Chr1', 'Chr1', 'Chr1', ..., 'Chr5', 'Chr5', 'Chr5'], dtype=object),\n",
       " 'variants/FILTER_PASS': array([False, False, False, ..., False, False, False]),\n",
       " 'variants/ID': array(['.', '.', '.', ..., '.', '.', '.'], dtype=object),\n",
       " 'variants/POS': array([     346,      353,      471, ..., 26974785, 26974816, 26975272],\n",
       "       dtype=int32),\n",
       " 'variants/QUAL': array([ 988.354 ,  641.049 ,  154.046 , ...,   15.1249,  464.694 ,\n",
       "        1106.64  ], dtype=float32),\n",
       " 'variants/REF': array(['C', 'G', 'T', ..., 'A', 'C', 'C'], dtype=object)}"
      ]
     },
     "execution_count": 8,
     "metadata": {},
     "output_type": "execute_result"
    }
   ],
   "source": [
    "%time allel.read_vcf(testvcf, samples=['F2.25.005'])"
   ]
  },
  {
   "cell_type": "code",
   "execution_count": 11,
   "metadata": {},
   "outputs": [],
   "source": [
    "ref=\"/groups/nordborg/projects/epiclines/002.pedigree/01_data/08_1001genomes/1163g.179kB.prior15.gauss4.ts99.5.BIALLELIC.vcf.gz\"\n",
    "%time allel.read_vcf(ref)"
   ]
  }
 ],
 "metadata": {
  "kernelspec": {
   "display_name": "epiclines",
   "language": "python",
   "name": "python3"
  },
  "language_info": {
   "codemirror_mode": {
    "name": "ipython",
    "version": 3
   },
   "file_extension": ".py",
   "mimetype": "text/x-python",
   "name": "python",
   "nbconvert_exporter": "python",
   "pygments_lexer": "ipython3",
   "version": "3.10.6"
  }
 },
 "nbformat": 4,
 "nbformat_minor": 2
}
