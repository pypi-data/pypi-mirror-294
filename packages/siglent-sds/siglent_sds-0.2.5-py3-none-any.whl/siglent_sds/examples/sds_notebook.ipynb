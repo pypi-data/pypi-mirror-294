{
 "cells": [
  {
   "cell_type": "code",
   "execution_count": null,
   "metadata": {},
   "outputs": [],
   "source": [
    "import logging\n",
    "logging.basicConfig(level=logging.INFO)\n",
    "import time\n",
    "\n",
    "import numpy as np\n",
    "import matplotlib as mpl\n",
    "import matplotlib.pyplot as plt\n",
    "\n",
    "from siglent_sds import SDS824X_HD"
   ]
  },
  {
   "cell_type": "code",
   "execution_count": null,
   "metadata": {},
   "outputs": [],
   "source": [
    "# Connect to the oscilloscope\n",
    "sds = SDS824X_HD(host=\"10.42.0.59\")"
   ]
  },
  {
   "cell_type": "code",
   "execution_count": null,
   "metadata": {},
   "outputs": [],
   "source": [
    "# Configure the experiment, start by giving the device a reset to enter a known state\n",
    "sds.reset()\n",
    "# We'll use C1 for an external TTL trigger, C2 and C3 for the signals of interest\n",
    "sds.channels_enabled(\"C1 C2 C3\")\n",
    "# Configure timebase and memory depth\n",
    "sds.timebase_scale(10e-6)\n",
    "sds.acquire_memdepth(\"100k\")\n",
    "# Configure channels\n",
    "sds.channel_scale(channel=1, scale=2.0, offset=0.0)\n",
    "sds.channel_scale(channel=2, scale=2.0, offset=-5.0)\n",
    "sds.channel_scale(channel=3, scale=2.0, offset=-5.0)\n",
    "# Configure edge triggering\n",
    "sds.trigger_edge(source=1, level=2.0, slope=\"rising\")\n",
    "# Configure sequence mode to take 100 waveforms\n",
    "sds.sequence(100)\n",
    "# The signal we're interested in is about 1.01 ms after the trigger\n",
    "# We use timebase_delay instead of waveform_start due to bug when using sequence mode\n",
    "sds.timebase_delay(1.01e-3)\n",
    "# and the signal lasts for about 0.02 ms\n",
    "sds.waveform_points(t=0.02e-3)"
   ]
  },
  {
   "cell_type": "code",
   "execution_count": null,
   "metadata": {},
   "outputs": [],
   "source": [
    "# Set single shot triggering to start collecting waveforms\n",
    "sds.trigger_mode(\"single\")\n",
    "# Wait for them to acquire...\n",
    "time.sleep(2.0)\n",
    "\n",
    "channels, t, data = sds.get_waveforms(\"C2 C3\")\n",
    "\n",
    "if not data is None:\n",
    "    fig, ax = plt.subplots(constrained_layout=True)\n",
    "    colors = plt.rcParams[\"axes.prop_cycle\"].by_key()[\"color\"]\n",
    "    for ch_i, ch in enumerate(channels):\n",
    "        colors = mpl.colormaps[\"inferno\"](np.linspace(0, 1, data.shape[1]))\n",
    "        for seq_i in range(data.shape[1]):\n",
    "            ax.plot(t, data[ch_i, seq_i], color=colors[seq_i], alpha=1.0, label=f\"{ch}-{seq_i}\")\n",
    "    ax.set_xlabel(\"Time (s)\")\n",
    "    ax.set_ylabel(\"Normalised voltage\")\n",
    "    #ax.legend()\n",
    "    print(f\"Data size {data.shape[0]}×{data.shape[1]}×{data.shape[2]} = {data.size:g} data points from t = {t[0]:g} to {t[-1]:g} s \")\n",
    "    print(f\"Memory use including time axis = {(data.size*data.itemsize + t.size*t.itemsize)/2**20:0.3f} MiB\")\n",
    "    print(f\"Time and data dtypes = {t.dtype}, {data.dtype}\")\n",
    "else:\n",
    "    print(\"No new waveforms.\")\n"
   ]
  },
  {
   "cell_type": "code",
   "execution_count": null,
   "metadata": {},
   "outputs": [],
   "source": [
    "# Make sure the connection is closed once done here. If you let this notebook keep the connection\n",
    "# open then you won't be able to connect using another application.\n",
    "sds.close()"
   ]
  },
  {
   "cell_type": "code",
   "execution_count": null,
   "metadata": {},
   "outputs": [],
   "source": []
  }
 ],
 "metadata": {
  "kernelspec": {
   "display_name": "siglent-sds-3Lxs-5nB-py3.12",
   "language": "python",
   "name": "python3"
  },
  "language_info": {
   "codemirror_mode": {
    "name": "ipython",
    "version": 3
   },
   "file_extension": ".py",
   "mimetype": "text/x-python",
   "name": "python",
   "nbconvert_exporter": "python",
   "pygments_lexer": "ipython3",
   "version": "3.12.4"
  }
 },
 "nbformat": 4,
 "nbformat_minor": 2
}
