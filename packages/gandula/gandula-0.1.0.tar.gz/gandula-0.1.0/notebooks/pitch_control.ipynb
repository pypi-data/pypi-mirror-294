{
 "cells": [
  {
   "cell_type": "markdown",
   "id": "bb6fbdc9-df4e-4b1e-8aed-86351b3c2c22",
   "metadata": {},
   "source": [
    "# Pitch Control"
   ]
  },
  {
   "cell_type": "code",
   "execution_count": null,
   "id": "84bb696e-bc24-46a1-8dad-6abbc158aa5a",
   "metadata": {},
   "outputs": [],
   "source": []
  }
 ],
 "metadata": {
  "kernelspec": {
   "display_name": "Python 3 (ipykernel)",
   "language": "python",
   "name": "python3"
  },
  "language_info": {
   "codemirror_mode": {
    "name": "ipython",
    "version": 3
   },
   "file_extension": ".py",
   "mimetype": "text/x-python",
   "name": "python",
   "nbconvert_exporter": "python",
   "pygments_lexer": "ipython3",
   "version": "3.12.1"
  }
 },
 "nbformat": 4,
 "nbformat_minor": 5
}
