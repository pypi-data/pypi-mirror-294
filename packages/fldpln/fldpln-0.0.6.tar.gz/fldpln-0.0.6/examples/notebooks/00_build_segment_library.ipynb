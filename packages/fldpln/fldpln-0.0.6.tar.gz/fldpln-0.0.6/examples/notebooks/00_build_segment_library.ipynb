{
 "cells": [
  {
   "cell_type": "markdown",
   "metadata": {},
   "source": [
    "# Build Segment-Based Library\n",
    "\n",
    "With hydro-conditioned DEM, we will identify streams, divide them into segments and create a library for each segment."
   ]
  },
  {
   "cell_type": "markdown",
   "metadata": {},
   "source": [
    "## Import python packages"
   ]
  },
  {
   "cell_type": "code",
   "execution_count": 1,
   "metadata": {},
   "outputs": [],
   "source": [
    "import os\n",
    "\n",
    "# import fldpln_py package\n",
    "import fldpln_py\n",
    "import matlab\n",
    "\n",
    "# import the model module from the fldpln package\n",
    "from fldpln.model import *"
   ]
  },
  {
   "cell_type": "markdown",
   "metadata": {},
   "source": [
    "## Create a FLDPLN Model Object\n",
    "\n",
    "Before we can use the FLDPLN model, we must first create a FLDPLN model object which automatically initialize the model Python package. This will activate the MATLAB Runtime and will take a littlle bit of time."
   ]
  },
  {
   "cell_type": "code",
   "execution_count": 2,
   "metadata": {},
   "outputs": [
    {
     "name": "stdout",
     "output_type": "stream",
     "text": [
      "Initialize FLDPLN model python package ...\n"
     ]
    }
   ],
   "source": [
    "fld = FLDPLN()"
   ]
  },
  {
   "cell_type": "markdown",
   "metadata": {},
   "source": [
    "## Generate Segments\n",
    "\n",
    "The first step to create a FLDPLN library is to identify stream networks and create stream segments from a hydro-conditioned digital elevation model (DEM). The stream networks/pixels are first identified using a flow accumulation threshold ('strfac'). The stream networks are first divided into reaches (stream links in ArcGIS' term), which are stream segments between headwater and confluence pixels or between two consecutive confluence pixels. Note that pixels flow out of the DEM are treated as confluence pixels in this process. Those natural reaches/segments are further divided based on flow accumulation jumps greater than or equal to 'segfac'. Then the segments are bisected until all segments are no longer than 'seglen'. Note that the units for flow accumulation are squared miles and the unit for segment length is miles.\n",
    "\n",
    "The default values for the 3 parameters are: 70 sq. miles, 25 sq. miles, and 2 miles for the libraries in KS. Note that Kansas FLDPLN libraries stream networks are more coarse grained than the National Water Model (NWM) reaches. This is because the stream networks are generated just to use available USGS gauges. If the NWM discharge is used for the flood inundation mapping, the stream networks need to be densified."
   ]
  },
  {
   "cell_type": "code",
   "execution_count": 3,
   "metadata": {},
   "outputs": [],
   "source": [
    "# Wildcat example\n",
    "bildir = 'E:/fldpln/sites/wildcat_10m_3dep/bil'\n",
    "segdir = 'E:/fldpln/sites/wildcat_10m_3dep/segs_fldpln'\n",
    "# Verdigris example\n",
    "# bildir = 'E:/fldpln/sites/verdigris_10m/bil'\n",
    "# segdir = 'E:/fldpln/sites/verdigris_10m/segs'\n",
    "\n",
    "# Input flow direction and accumulation BIL files\n",
    "fdrf = os.path.join(bildir,'fdr.bil')\n",
    "facf = os.path.join(bildir,'fac.bil')\n",
    "\n",
    "# segment parameters\n",
    "strfac = 50; # flow accumulation threshold (in sq. miles) for identifying stream networks. 50 for Wildcat to include the upstream gauge. 70 for Verdigris and most KS watersheds\n",
    "segfac = 25; # flow accumulation threshld (in sq. miles) for segment stream networks. 25 is the default in KS\n",
    "seglen = 2; # segment length in miles. usually is the SQRT of sgefac. 2 for Wildcat and 5 for Verdigris and others in KS\n",
    "\n",
    "# generate segments\n",
    "fld.GenerateSegments(fdrf, facf, strfac, segfac, seglen, segdir)"
   ]
  },
  {
   "cell_type": "markdown",
   "metadata": {},
   "source": [
    "The FSP and segment information can be also saved as two CSV files for generating segment shapefile for selecting a subset of segments for build library."
   ]
  },
  {
   "cell_type": "code",
   "execution_count": 4,
   "metadata": {},
   "outputs": [],
   "source": [
    "# write FSP and segment info CSV files for creating segment shapefile\n",
    "seg_list = []; # for all the segments\n",
    "# seg_list = [1;2;3]; # column vector for selected segments\n",
    "fld.WriteSegmentFspCsvFiles(bildir, segdir, seg_list, segdir)"
   ]
  },
  {
   "cell_type": "markdown",
   "metadata": {},
   "source": [
    "## Select Segments and Create Spatial Mask\n",
    "\n",
    "We don't need to generated FLDPLN library for every segment identified. And typically we want to exclude large waterbodies such as reservoirs/lakes and the segments that within them from the modeling."
   ]
  },
  {
   "cell_type": "markdown",
   "metadata": {},
   "source": [
    "### Generate Segment Shapefile \n",
    "\n",
    "Here we create a segment shapefile using the ArcGIS Pro's Stream to Features tool with input str_segid.bil and fdr.bil as the input rasters. The segment shapefiles can then be used to select a subset of segments for running the FLDPLN model.\n",
    "\n",
    "Note that the Raster to Polyline tool doesn't work properly in some cases. In the figure below, the left stream polyline is generated by the Raster to Polyline tool, and the right stream polyline is generated by the Stream to Feature tool. The left polyline is erroneous. Also note that the Stream to Features tool connects upstream segments at the downstream confluence pixel.\n",
    "\n",
    "![](./stream2feature.PNG)"
   ]
  },
  {
   "cell_type": "markdown",
   "metadata": {},
   "source": [
    "Using the shapefiles generated in GIS, we can take a close look on the segments. We may delete some segments in large waterbodies (e.g., lakes) and just select a subset of segment to build their library. \n",
    "\n",
    "Currently, the selected segments can be exported as a shapefile in GIS. The shapefile is used as one of the inputs to build segment library. "
   ]
  },
  {
   "cell_type": "markdown",
   "metadata": {},
   "source": [
    "### Create Spatial Mask\n",
    "\n",
    "For large waterbodies such as reservoirs and lakes, we want to mask them out so that they can be handled differently. Here we can use GIS software to generate a mask raster in BIL format that masks out all the reserviors and lakes within the DEM. When such a mask raster is provided, those cells are excluded from the FPPs and any FSPs within the mask is also remove from the modeling. \n",
    "\n",
    "The mask BIL file is used as one of the inputs to build segment library.\n",
    "\n",
    "**Note that this has NOT been implemented yet!**"
   ]
  },
  {
   "cell_type": "markdown",
   "metadata": {},
   "source": [
    "## Create Segment Library"
   ]
  },
  {
   "cell_type": "markdown",
   "metadata": {},
   "source": [
    "With the segments identified, we can create the library all of them or a subset of selected segments by. In addition, we can also use a raster mask.\n",
    "\n",
    "**Note that this is the most time consuming step in building FLDPLN libraries, especially the max stage modelded is high.**"
   ]
  },
  {
   "cell_type": "markdown",
   "metadata": {},
   "source": [
    "### Create a library for selected segments\n",
    "\n",
    "With the segment shapefiles, we can select the subset of segments for the Wildcat Creek (sgement IDs from 1 to 16) to create a library. The selected segments are provided as a shapefile. The segment ID field/column in the shapefile need to be specified.  All the selected segments by default have the same max. flood stage as specified by model parameter mxht. We can also specify a second column in the shapefile to define different max. flood stages for individual segment."
   ]
  },
  {
   "cell_type": "code",
   "execution_count": null,
   "metadata": {},
   "outputs": [],
   "source": [
    "# set input and output folders\n",
    "# Wildcat example\n",
    "bildir = 'E:/fldpln/sites/wildcat_10m_3dep/bil' \n",
    "segdir = 'E:/fldpln/sites/wildcat_10m_3dep/segs_fldpln'\n",
    "libdir = 'E:/fldpln/sites/wildcat_10m_3dep/rawlib_fldpln' # raw sgement-based library\n",
    "\n",
    "# Applying spatial mask if provided. The masked filled DEM removes waterbodies to prevent flooding them.\n",
    "# In the future, only a mask raster BIL is need which will be applied to filled DEM instead of a masked filled DEM that's currently used!\n",
    "filmskfile = '' # no spatial mask for Wildcat\n",
    "# filmskfile = 'E:/fldpln/sites/verdigris_10m/bil/fil_masked.bil'\n",
    "\n",
    "# Select a subset of segments or remove segments within waterbodies before creating a FLDPLN library\n",
    "# The subset of segments is defined using a shapefile.\n",
    "# segshpfile = {'file': ''} # all the segments will be used and they use the fldmx\n",
    "segshpfile = {'file':'E:/fldpln/sites/wildcat_10m_3dep/segment_shapefiles/wildcat_segments.shp'} # wildcat creek segments\n",
    "# segshpfile = {'file':'E:/fldpln/sites/verdigris_10m/segs_5mi/dam_break_segments.shp'} # verdigris\n",
    "\n",
    "# Additional attributes if a sgement shapefile is provided\n",
    "segshpfile['segid_field'] = 'grid_code'\n",
    "segshpfile['seg_fldmx_field'] = '' # set to '' when all the segments use the fldmx. Otherwise specify a field in the shapefile\n",
    "\n",
    "# Set FLDPLN model parameters\n",
    "fldmn = 0.01 # typically set to 1 centermeter or 0.0328084 foot DEM's vertical unit\n",
    "fldmx = 15 # max. stage modeled. wildcat_10m_3dep and verdigris DEM vertical unit is in meters\n",
    "dh = 1 # vertical step size in DEM's vertical unit\n",
    "mxht = 0 # max(dem+flood height) to cease flooding. enter 0 for no cap height\n",
    "\n",
    "# FLDPLN model efficiency parameters\n",
    "# model type: choose one from {'hd', 'ram0', 'ram'}. \n",
    "mtype = 'ram' # choose either 'ram' (machine has RAM >= 64G) or 'hd' (uses least RAM)\n",
    "# parallelization setting: 'none', 'parfor', 'parfeval'; recommend either 'parfeval'\n",
    "para = {'type': 'parfeval'}\n",
    "# Can also set the number of cores. Will use max. cores if the attribute is NOT set\n",
    "para['numcores'] = 6 # my office computer has 8 core. Comment out to use all the cores available\n",
    "para['worker_type'] = 'Processes' # 'Threads' is not supported by compiled Python package!\n",
    "\n",
    "# Create segment library\n",
    "fld.CreateSegmentLibrary(bildir, segdir, filmskfile, segshpfile, fldmn, fldmx, dh, mxht, libdir, mtype, para)"
   ]
  },
  {
   "cell_type": "markdown",
   "metadata": {},
   "source": [
    "### Work with Existing Library\n",
    "\n",
    "If segment libraries already exist and if the specified fldmx is lower than the existing library’s max. stage, the model simply generates the new library with existing information and DOES NOT re-run the model. \n",
    "\n",
    "If the specified fldmx is higher than the existing library’s max. stage, the model continues from the existing library without starting from the scratch.\n",
    "\n",
    "Note that the model creates the new segment libraries  UNDER THE SAME FOLDER where the existing libraries reside."
   ]
  },
  {
   "cell_type": "code",
   "execution_count": null,
   "metadata": {},
   "outputs": [],
   "source": [
    "# need example code"
   ]
  },
  {
   "cell_type": "markdown",
   "metadata": {},
   "source": [
    "## Format Segment Library for Tiling"
   ]
  },
  {
   "cell_type": "code",
   "execution_count": null,
   "metadata": {},
   "outputs": [],
   "source": [
    "# BIL file directory\n",
    "bildir = 'E:/fldpln/sites/wildcat_10m_3dep/bil' # Wildcat\n",
    "# bildir = 'E:/fldpln/sites/verdigris_10m/bil'\n",
    "# segment file directory\n",
    "segdir = 'E:/fldpln/sites/wildcat_10m_3dep/segs_fldpln'\n",
    "# segdir = 'E:/fldpln/sites/verdigris_10m/segs'\n",
    "\n",
    "# raw segment library dir\n",
    "libdir = 'E:/fldpln/sites/wildcat_10m_3dep/rawlib_fldpln'\n",
    "# libdir = 'E:/fldpln/sites/verdigris_10m/seglib_fldsensing'\n",
    "\n",
    "# Outputs:\n",
    "# Output library folder\n",
    "dirout = 'E:/fldpln/sites/wildcat_10m_3dep/seglib_fldpln' # reformatted library for tiling and mapping\n",
    "# dirout = 'E:/fldpln/sites/verdigris_10m/lib_fldsensing'\n",
    "\n",
    "# Format raw segment library\n",
    "fld.FormatSegmentLibrary(bildir, segdir, libdir, dirout)"
   ]
  },
  {
   "cell_type": "markdown",
   "metadata": {},
   "source": [
    "## Assign Stream Order to Segments\n",
    "\n",
    "Stream orders are used while interpolating the depth of flow (DOF) at FSPs where low order streams are handled before high order streams. The general rules for assigning stream order are:\n",
    "* A stream (or reach) consists of several connected segments, which may meet with other streams at confluences\n",
    "* Main streams have low orders than tributary streams\n",
    "* Order must be unique to each stream in a library. No two streams can have the same order even if the streams are in different sub-watersheds in the library\n",
    "\n",
    "The above requirements are necessary to make sure the interpolation on DOF can be carried out correctly."
   ]
  },
  {
   "cell_type": "code",
   "execution_count": null,
   "metadata": {},
   "outputs": [],
   "source": [
    "# code to automatically generate stream orders for segments"
   ]
  },
  {
   "cell_type": "markdown",
   "metadata": {},
   "source": [
    "## Terminate the FLDPLN Model\n",
    "\n",
    "This is done by delete the FLDPLN model object."
   ]
  },
  {
   "cell_type": "code",
   "execution_count": 5,
   "metadata": {},
   "outputs": [],
   "source": [
    "del fld"
   ]
  },
  {
   "cell_type": "markdown",
   "metadata": {},
   "source": [
    "## Issues and Questions\n",
    "\n",
    "* Messages printed out (disp() or fprintf()) to the stdout in the FLDPLN Python package CANNOT be printed in this notebook. Running python scripts (such as wildcat_segments.py, wildcat_library.py and wildcat_format_library.py) works just fine.\n"
   ]
  }
 ],
 "metadata": {
  "kernelspec": {
   "display_name": "fldpln",
   "language": "python",
   "name": "python3"
  },
  "language_info": {
   "codemirror_mode": {
    "name": "ipython",
    "version": 3
   },
   "file_extension": ".py",
   "mimetype": "text/x-python",
   "name": "python",
   "nbconvert_exporter": "python",
   "pygments_lexer": "ipython3",
   "version": "3.11.9"
  }
 },
 "nbformat": 4,
 "nbformat_minor": 2
}
