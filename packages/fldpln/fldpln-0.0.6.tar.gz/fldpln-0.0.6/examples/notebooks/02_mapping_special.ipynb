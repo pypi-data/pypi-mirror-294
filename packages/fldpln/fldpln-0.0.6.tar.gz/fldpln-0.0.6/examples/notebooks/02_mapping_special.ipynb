{
 "cells": [
  {
   "attachments": {},
   "cell_type": "markdown",
   "metadata": {},
   "source": [
    "# Special Flood Inundation Mapping\n",
    "\n",
    "This notebook demonstrates how to create special FIM maps without using gauge stage. Those maps include:\n",
    "* Flood depth map using a constant DOF at all the stream pixels/cells\n",
    "* 'MinDtf' map -- the minimum depth to flood (DTF) needed to inundate a FPP\n",
    "* 'NumOfFsps' map -- the number of FSPs that may inundate a FPP\n",
    "* 'Depression' map -- he depression depth filled"
   ]
  },
  {
   "cell_type": "markdown",
   "metadata": {},
   "source": [
    "## Import Modules and Packages"
   ]
  },
  {
   "cell_type": "code",
   "execution_count": 1,
   "metadata": {},
   "outputs": [],
   "source": [
    "import time\n",
    "\n",
    "# Importing DASK libraries for using DASK\n",
    "from dask.distributed import Client, LocalCluster\n",
    "from dask import visualize\n",
    "\n",
    "# import the mapping module in the fldpln package\n",
    "from fldpln.mapping import *"
   ]
  },
  {
   "cell_type": "markdown",
   "metadata": {},
   "source": [
    "## Setup Tiled Libraries and Output Map Folders\n",
    "\n",
    "Here we setup the folder under which tiled libraries (organized as folders) are located. We also setup the output folder (i.e., outputFolder) under which a map folder and a 'scratch' folder are created. The map folder, which is specified later, contains all inundation depth maps. The scratch folder stores temporary files."
   ]
  },
  {
   "cell_type": "code",
   "execution_count": 3,
   "metadata": {},
   "outputs": [],
   "source": [
    "# tiled library folder that may have more than one tiled libraries\n",
    "libFolder =  'E:/fldpln/sites/wildcat_10m_3dep/tiled_snz_library' # wildcat\n",
    "# libFolder =  'E:/fldpln/sites/verdigris_10m/tiled_snz_library' # verdigris\n",
    "\n",
    "# Set output folder\n",
    "outputFolder = 'E:/fldpln/sites/wildcat_10m_3dep/maps'\n",
    "# outputFolder = 'E:/fldpln/sites/verdigris_10m/maps'"
   ]
  },
  {
   "cell_type": "markdown",
   "metadata": {},
   "source": [
    "## Setup Mapping Parameters\n",
    "\n",
    "There are several parameters need to be set before generating the maps. Those include:\n",
    "* The FLDPLN libraries to map (i,e,, variable libs2Map)\n",
    "* Which special map to create (i.e., specialDof)\n",
    "* Name of the map folder (i.e., outMapFolderName) which is under the output folder (i.e., outputFolder) and stores all inundation depth maps\n",
    "* Whether to mosaic tiles as single COG TIFF file and whether to use a Dask local cluster to speed up the mapping"
   ]
  },
  {
   "cell_type": "code",
   "execution_count": 8,
   "metadata": {},
   "outputs": [],
   "source": [
    "# select the libraries under tiled library folder to generate maps\n",
    "libs2Map = ['seglib_py']\n",
    "\n",
    "# set the special map wanted\n",
    "# 'MinDtf','NumOfFsps','Depression', or a real number (for example 20.5, in foot for KS libraries) representing constant DOF at all the FSPs\n",
    "specialDof = 'MinDtf' # Wildcat 3DEP DEM has a vertical unit of meters\n",
    "\n",
    "# set up output map-folder under the outputFolder\n",
    "outMapFolderName = 'num_of_fsp_0828'\n",
    "\n",
    "# Create folders for storing temp and output map files\n",
    "outMapFolder,scratchFolder = CreateFolders(outputFolder,'scratch',outMapFolderName)\n",
    "\n",
    "# whether mosaic tiles as a single COG\n",
    "mosaicTiles = True #True #False\n",
    "\n",
    "# Using LocalCluster by default\n",
    "useLocalCluster = False\n",
    "numOfWorkers = round(0.8*os.cpu_count())"
   ]
  },
  {
   "cell_type": "markdown",
   "metadata": {},
   "source": [
    "## Generate Special Map"
   ]
  },
  {
   "cell_type": "code",
   "execution_count": 9,
   "metadata": {},
   "outputs": [
    {
     "name": "stdout",
     "output_type": "stream",
     "text": [
      "Tiled FLDPLN library folder: E:/fldpln/sites/wildcat_10m_3dep/tiled_snz_library\n",
      "Map folder: E:/fldpln/sites/wildcat_10m_3dep/maps\\num_of_fsp_0828\n",
      "Libraries to map: ['seglib_py']\n",
      "Map seglib_py ...\n",
      "Tiles need to be mapped: [1, 2, 3, 4, 5, 6, 7, 8, 9, 10, 11, 12, 13, 14, 15, 16, 17, 18]\n",
      "Actual mapped tiles: ['E:/fldpln/sites/wildcat_10m_3dep/maps\\\\num_of_fsp_0828\\\\seglib_py_tile_1.tif', 'E:/fldpln/sites/wildcat_10m_3dep/maps\\\\num_of_fsp_0828\\\\seglib_py_tile_2.tif', 'E:/fldpln/sites/wildcat_10m_3dep/maps\\\\num_of_fsp_0828\\\\seglib_py_tile_3.tif', 'E:/fldpln/sites/wildcat_10m_3dep/maps\\\\num_of_fsp_0828\\\\seglib_py_tile_4.tif', 'E:/fldpln/sites/wildcat_10m_3dep/maps\\\\num_of_fsp_0828\\\\seglib_py_tile_5.tif', 'E:/fldpln/sites/wildcat_10m_3dep/maps\\\\num_of_fsp_0828\\\\seglib_py_tile_6.tif', 'E:/fldpln/sites/wildcat_10m_3dep/maps\\\\num_of_fsp_0828\\\\seglib_py_tile_7.tif', 'E:/fldpln/sites/wildcat_10m_3dep/maps\\\\num_of_fsp_0828\\\\seglib_py_tile_8.tif', 'E:/fldpln/sites/wildcat_10m_3dep/maps\\\\num_of_fsp_0828\\\\seglib_py_tile_9.tif', 'E:/fldpln/sites/wildcat_10m_3dep/maps\\\\num_of_fsp_0828\\\\seglib_py_tile_10.tif', 'E:/fldpln/sites/wildcat_10m_3dep/maps\\\\num_of_fsp_0828\\\\seglib_py_tile_11.tif', 'E:/fldpln/sites/wildcat_10m_3dep/maps\\\\num_of_fsp_0828\\\\seglib_py_tile_12.tif', 'E:/fldpln/sites/wildcat_10m_3dep/maps\\\\num_of_fsp_0828\\\\seglib_py_tile_13.tif', 'E:/fldpln/sites/wildcat_10m_3dep/maps\\\\num_of_fsp_0828\\\\seglib_py_tile_14.tif', 'E:/fldpln/sites/wildcat_10m_3dep/maps\\\\num_of_fsp_0828\\\\seglib_py_tile_15.tif', 'E:/fldpln/sites/wildcat_10m_3dep/maps\\\\num_of_fsp_0828\\\\seglib_py_tile_16.tif', 'E:/fldpln/sites/wildcat_10m_3dep/maps\\\\num_of_fsp_0828\\\\seglib_py_tile_17.tif', 'E:/fldpln/sites/wildcat_10m_3dep/maps\\\\num_of_fsp_0828\\\\seglib_py_tile_18.tif']\n",
      "Mosaic tile maps ...\n",
      "Individual library mapping time: {'seglib_py': 0.033}\n",
      "Total processing time (minutes): 0.033\n"
     ]
    }
   ],
   "source": [
    "\n",
    "# show mapping info\n",
    "print(f'Tiled FLDPLN library folder: {libFolder}')\n",
    "print(f'Map folder: {outMapFolder}')\n",
    "# libs to map\n",
    "print(f'Libraries to map: {libs2Map}')\n",
    "\n",
    "# check running time\n",
    "startTimeAllLibs = time.time()\n",
    "\n",
    "# create a local cluster to speed up the mapping. Must be run inside \"if __name__ == '__main__'\"!!!\n",
    "if useLocalCluster:\n",
    "    # cluster = LocalCluster(n_workers=4,processes=False)\n",
    "    try:\n",
    "        print('Start a LocalCluster ...')\n",
    "        # NOTE: set worker space (i.e., local_dir) to a folder that the LocalCluster can access. When run the script through a scheduled task, \n",
    "        # the system uses C:\\Windows\\system32 by default, which a typical user doesn't have the access!\n",
    "        cluster = LocalCluster(n_workers=numOfWorkers,memory_limit='32GB',local_dir=\"D:/projects_new/fldpln/tools\") # for KARS production server (192G RAM & 8 cores)\n",
    "        # cluster = LocalCluster(n_workers=numOfWorkers,processes=False) # for KARS production server (192G RAM & 8 cores)\n",
    "        # print('Watch workers at: ',cluster.dashboard_link)\n",
    "        print(f'Number of workers: {numOfWorkers}')\n",
    "        client = Client(cluster)\n",
    "        # print scheduler info\n",
    "        # print(client.scheduler_info())\n",
    "    except:\n",
    "        print('Cannot create a LocalCLuster!')\n",
    "        useLocalCluster = False\n",
    "\n",
    "# dict to store lib processing time\n",
    "libTime={}\n",
    "\n",
    "# map each library\n",
    "for libName in libs2Map:\n",
    "    # check running time\n",
    "    startTime = time.time()\n",
    "    \n",
    "    # mapping flood depth\n",
    "    if useLocalCluster:\n",
    "        print(f'Map [{libName}] using LocalCLuster ...')\n",
    "        # generate a DAG\n",
    "        dag,dagRoot=MapFloodDepthWithTilesAsDag(libFolder,libName,'snappy',outMapFolder,fspDof=specialDof,aoiExtent=None)\n",
    "        if dag is None:\n",
    "            tileTifs = None\n",
    "        else:\n",
    "            # visualize DAG\n",
    "            # visualize(dag)\n",
    "            # Compute DAG\n",
    "            tileTifs = client.get(dag, dagRoot)\n",
    "            if not tileTifs: # list is empty\n",
    "                tileTifs =  None\n",
    "    else:\n",
    "        print(f'Map {libName} ...')\n",
    "        tileTifs = MapFloodDepthWithTiles(libFolder,libName,'snappy',outMapFolder,fspDof=specialDof,aoiExtent=None)\n",
    "    print(f'Actual mapped tiles: {tileTifs}')\n",
    "\n",
    "    # Mosaic all the tiles from a library into one tif file\n",
    "    if mosaicTiles and not(tileTifs is None):\n",
    "        print('Mosaic tile maps ...')\n",
    "        mosaicTifName = libName+'_'+outMapFolderName+'.tif'\n",
    "        # Simplest implementation, may crash with very large raster\n",
    "        MosaicGtifs(outMapFolder,tileTifs,mosaicTifName,keepTifs=False)\n",
    "    \n",
    "    # check time\n",
    "    endTime = time.time()\n",
    "    usedTime = round((endTime-startTime)/60,3)\n",
    "    libTime[libName] = usedTime\n",
    "    # print(f'{libName} processing time (minutes):', usedTime)\n",
    "\n",
    "# Show processing time\n",
    "# Individual lib processing time\n",
    "print('Individual library mapping time:', libTime)\n",
    "# total time\n",
    "endTimeAllLibs = time.time()\n",
    "print('Total processing time (minutes):', round((endTimeAllLibs-startTimeAllLibs)/60,3))\n",
    "\n",
    "#\n",
    "# Shutdown local clusters\n",
    "#\n",
    "if useLocalCluster:\n",
    "    print('Shutdown LocalCluster ...')\n",
    "    cluster.close()\n",
    "    client.shutdown()\n",
    "    client.close()\n",
    "    useLocalCluster = False"
   ]
  }
 ],
 "metadata": {
  "kernelspec": {
   "display_name": "fldpln",
   "language": "python",
   "name": "python3"
  },
  "language_info": {
   "codemirror_mode": {
    "name": "ipython",
    "version": 3
   },
   "file_extension": ".py",
   "mimetype": "text/x-python",
   "name": "python",
   "nbconvert_exporter": "python",
   "pygments_lexer": "ipython3",
   "version": "3.11.9"
  },
  "vscode": {
   "interpreter": {
    "hash": "acfdeded818a4df3f46e9c2992917120b0a663a2d6c4f04d9d79d65bad4d3fed"
   }
  }
 },
 "nbformat": 4,
 "nbformat_minor": 4
}
