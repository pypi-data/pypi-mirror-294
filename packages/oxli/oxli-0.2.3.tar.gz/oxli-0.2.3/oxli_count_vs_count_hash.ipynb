{
 "cells": [
  {
   "cell_type": "code",
   "execution_count": 1,
   "id": "513e14a3-87c7-4104-aaa6-6497693aa9e3",
   "metadata": {},
   "outputs": [],
   "source": [
    "import screed # FASTA/FASTQ parsing\n",
    "import oxli   # this package!"
   ]
  },
  {
   "cell_type": "code",
   "execution_count": 2,
   "id": "a06499e0-0559-466f-a63e-f7d3c479dbda",
   "metadata": {},
   "outputs": [],
   "source": [
    "counts = oxli.KmerCountTable(ksize=31)"
   ]
  },
  {
   "cell_type": "code",
   "execution_count": 3,
   "id": "1f928ebe-9146-4f10-a62a-bee3c672caa3",
   "metadata": {},
   "outputs": [
    {
     "name": "stdout",
     "output_type": "stream",
     "text": [
      "Hash of TAAACCCTAACCCTAACCCTAACCCTAACCC is 9638780103723131186.\n"
     ]
    }
   ],
   "source": [
    "kmer = 'TAAACCCTAACCCTAACCCTAACCCTAACCC'\n",
    "hashkey = counts.hash_kmer(kmer)\n",
    "\n",
    "print(f\"Hash of {kmer} is {hashkey}.\")"
   ]
  },
  {
   "cell_type": "code",
   "execution_count": 4,
   "id": "dcce243d-4659-49f8-ba86-e4e35acde892",
   "metadata": {
    "scrolled": true
   },
   "outputs": [
    {
     "data": {
      "text/plain": [
       "0"
      ]
     },
     "execution_count": 4,
     "metadata": {},
     "output_type": "execute_result"
    }
   ],
   "source": [
    "# Zero instances of kmer in KmerCountTable\n",
    "counts.get(kmer)"
   ]
  },
  {
   "cell_type": "code",
   "execution_count": 5,
   "id": "f78facc1-0827-43da-8926-c256c2e6ed62",
   "metadata": {},
   "outputs": [
    {
     "data": {
      "text/plain": [
       "2"
      ]
     },
     "execution_count": 5,
     "metadata": {},
     "output_type": "execute_result"
    }
   ],
   "source": [
    "# Call count on kmer twice\n",
    "counts.count(kmer)\n",
    "counts.count(kmer)\n",
    "# Returns 2"
   ]
  },
  {
   "cell_type": "code",
   "execution_count": 6,
   "id": "beea2d34-a318-4ece-89ca-7ce38fa979b8",
   "metadata": {},
   "outputs": [
    {
     "data": {
      "text/plain": [
       "0"
      ]
     },
     "execution_count": 6,
     "metadata": {},
     "output_type": "execute_result"
    }
   ],
   "source": [
    "# 'Get' still returns zero for this kmer\n",
    "# Was count supposed to increment the count for this kmer?\n",
    "counts.get(kmer)"
   ]
  },
  {
   "cell_type": "code",
   "execution_count": 7,
   "id": "da29d49b-c9c7-4a82-a72c-243f4d860fea",
   "metadata": {},
   "outputs": [
    {
     "data": {
      "text/plain": [
       "1"
      ]
     },
     "execution_count": 7,
     "metadata": {},
     "output_type": "execute_result"
    }
   ],
   "source": [
    "# Call count_hash on hash of kmer\n",
    "# Increments to 1\n",
    "counts.count_hash(9638780103723131186)"
   ]
  },
  {
   "cell_type": "code",
   "execution_count": 8,
   "id": "3629cb6d-1d49-45b9-8ad5-a94d7cc3bf4b",
   "metadata": {},
   "outputs": [
    {
     "data": {
      "text/plain": [
       "1"
      ]
     },
     "execution_count": 8,
     "metadata": {},
     "output_type": "execute_result"
    }
   ],
   "source": [
    "# 'Get' now returns 1 for this kmer\n",
    "counts.get(kmer)"
   ]
  },
  {
   "cell_type": "code",
   "execution_count": null,
   "id": "608a15ef-c36b-4dc5-b785-0474011ce8f1",
   "metadata": {},
   "outputs": [],
   "source": []
  }
 ],
 "metadata": {
  "kernelspec": {
   "display_name": "Python 3 (ipykernel)",
   "language": "python",
   "name": "python3"
  },
  "language_info": {
   "codemirror_mode": {
    "name": "ipython",
    "version": 3
   },
   "file_extension": ".py",
   "mimetype": "text/x-python",
   "name": "python",
   "nbconvert_exporter": "python",
   "pygments_lexer": "ipython3",
   "version": "3.11.6"
  }
 },
 "nbformat": 4,
 "nbformat_minor": 5
}
