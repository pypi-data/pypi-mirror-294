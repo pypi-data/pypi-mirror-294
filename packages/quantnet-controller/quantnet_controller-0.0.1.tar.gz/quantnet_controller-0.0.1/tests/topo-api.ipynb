{
 "cells": [
  {
   "cell_type": "code",
   "execution_count": null,
   "id": "9c8eff3c-5d80-49d2-abc9-57ef76613e17",
   "metadata": {},
   "outputs": [],
   "source": [
    "Example to show the topolgy using Quant-Net-API."
   ]
  },
  {
   "cell_type": "code",
   "execution_count": 1,
   "id": "0ce9dd6b-4b19-4fd3-b7a6-d91088af2fbf",
   "metadata": {},
   "outputs": [
    {
     "name": "stdout",
     "output_type": "stream",
     "text": [
      "{'directed': True, 'multigraph': True, 'graph': {}, 'nodes': [{'size': 20, 'title': 'LBNL-Q', 'group': 1, 'label': 'LBNL-Q', 'shape': 'circle', 'data': None, 'id': 'LBNL-Q'}, {'size': 20, 'title': 'UCB-Q', 'group': 1, 'label': 'UCB-Q', 'shape': 'circle', 'data': None, 'id': 'UCB-Q'}, {'size': 20, 'title': 'LBNL-BSM', 'group': 1, 'label': 'LBNL-BSM', 'shape': 'circle', 'data': None, 'id': 'LBNL-BSM'}, {'size': 20, 'title': 'LBNL-M', 'group': 1, 'label': 'LBNL-M', 'shape': 'circle', 'data': None, 'id': 'LBNL-M'}, {'size': 20, 'title': 'UCB-M', 'group': 1, 'label': 'UCB-M', 'shape': 'circle', 'data': None, 'id': 'UCB-M'}, {'size': 20, 'title': 'LBNL-SWITCH', 'group': 1, 'label': 'LBNL-SWITCH', 'shape': 'circle', 'data': None, 'id': 'LBNL-SWITCH'}, {'size': 20, 'title': 'UCB-SWITCH', 'group': 1, 'label': 'UCB-SWITCH', 'shape': 'circle', 'data': None, 'id': 'UCB-SWITCH'}], 'links': [{'weight': 2, 'title': 'quantum', 'dashes': False, 'arrows': 'bottom', 'color': None, 'source': 'LBNL-Q', 'target': 'LBNL-SWITCH', 'key': 0}, {'weight': 2, 'title': 'classic_photon_gen', 'dashes': False, 'arrows': 'bottom', 'color': None, 'source': 'LBNL-Q', 'target': 'LBNL-SWITCH', 'key': 1}, {'weight': 2, 'title': 'quantum', 'dashes': False, 'arrows': 'bottom', 'color': None, 'source': 'UCB-Q', 'target': 'UCB-SWITCH', 'key': 0}, {'weight': 2, 'title': 'classic_photon_gen', 'dashes': False, 'arrows': 'bottom', 'color': None, 'source': 'UCB-Q', 'target': 'UCB-SWITCH', 'key': 1}, {'weight': 2, 'title': 'classic_bsm_result', 'dashes': False, 'arrows': 'bottom', 'color': None, 'source': 'LBNL-BSM', 'target': 'LBNL-SWITCH', 'key': 0}, {'weight': 2, 'title': 'classic_photon_gen', 'dashes': False, 'arrows': 'bottom', 'color': None, 'source': 'LBNL-SWITCH', 'target': 'LBNL-BSM', 'key': 0}, {'weight': 2, 'title': 'classic_clk', 'dashes': False, 'arrows': 'bottom', 'color': None, 'source': 'LBNL-SWITCH', 'target': 'LBNL-BSM', 'key': 1}, {'weight': 2, 'title': 'quantum', 'dashes': False, 'arrows': 'bottom', 'color': None, 'source': 'LBNL-SWITCH', 'target': 'LBNL-BSM', 'key': 2}, {'weight': 2, 'title': 'quantum', 'dashes': False, 'arrows': 'bottom', 'color': None, 'source': 'LBNL-SWITCH', 'target': 'LBNL-BSM', 'key': 3}, {'weight': 2, 'title': 'classic_bsm_result', 'dashes': False, 'arrows': 'bottom', 'color': None, 'source': 'LBNL-SWITCH', 'target': 'LBNL-Q', 'key': 0}, {'weight': 2, 'title': 'classic_clk', 'dashes': False, 'arrows': 'bottom', 'color': None, 'source': 'LBNL-SWITCH', 'target': 'LBNL-Q', 'key': 1}, {'weight': 2, 'title': 'quantum', 'dashes': False, 'arrows': 'bottom', 'color': None, 'source': 'LBNL-SWITCH', 'target': 'LBNL-M', 'key': 0}, {'weight': 2, 'title': 'quantum', 'dashes': False, 'arrows': 'bottom', 'color': None, 'source': 'LBNL-SWITCH', 'target': 'UCB-SWITCH', 'key': 0}, {'weight': 2, 'title': 'classic_bsm_result', 'dashes': False, 'arrows': 'bottom', 'color': None, 'source': 'UCB-SWITCH', 'target': 'UCB-Q', 'key': 0}, {'weight': 2, 'title': 'classic_clk', 'dashes': False, 'arrows': 'bottom', 'color': None, 'source': 'UCB-SWITCH', 'target': 'UCB-Q', 'key': 1}, {'weight': 2, 'title': 'quantum', 'dashes': False, 'arrows': 'bottom', 'color': None, 'source': 'UCB-SWITCH', 'target': 'UCB-M', 'key': 0}, {'weight': 2, 'title': 'quantum', 'dashes': False, 'arrows': 'bottom', 'color': None, 'source': 'UCB-SWITCH', 'target': 'LBNL-SWITCH', 'key': 0}]}\n"
     ]
    }
   ],
   "source": [
    "import json\n",
    "import asyncio                                                                                                                                                               \n",
    "from pyvis import network as net\n",
    "import networkx as nx\n",
    "from networkx import node_link_graph\n",
    "\n",
    "import requests\n",
    "                                                                                                                                                                                \n",
    "ret = None                                                                                                                                                                           \n",
    "def handle_getinfo(request):                                                                                                                                                    \n",
    "    print (f'getInfo callback: {request.serialize()}')                                                                                                                          \n",
    "                                                                                                                                                                                \n",
    "ret = None  \n",
    "async def main():\n",
    "    response = requests.get(\"http://localhost:8000/topology\")\n",
    "    global ret\n",
    "    ret = response.json()['value'][0]\n",
    "    print(ret)\n",
    "        \n",
    "if __name__ == \"__main__\":\n",
    "    loop = asyncio.get_event_loop()\n",
    "    loop.create_task(main())"
   ]
  },
  {
   "cell_type": "code",
   "execution_count": 2,
   "id": "8a61bc69-a2bd-4ad4-a42e-0cba979e92b6",
   "metadata": {
    "editable": true,
    "slideshow": {
     "slide_type": ""
    },
    "tags": []
   },
   "outputs": [
    {
     "name": "stdout",
     "output_type": "stream",
     "text": [
      "example.html\n"
     ]
    },
    {
     "data": {
      "text/html": [
       "\n",
       "        <iframe\n",
       "            width=\"100%\"\n",
       "            height=\"600px\"\n",
       "            src=\"example.html\"\n",
       "            frameborder=\"0\"\n",
       "            allowfullscreen\n",
       "            \n",
       "        ></iframe>\n",
       "        "
      ],
      "text/plain": [
       "<IPython.lib.display.IFrame at 0x112957760>"
      ]
     },
     "execution_count": 2,
     "metadata": {},
     "output_type": "execute_result"
    }
   ],
   "source": [
    "nxg = node_link_graph(ret)\n",
    "g = net.Network(notebook=True, directed=True, cdn_resources='in_line')\n",
    "g.from_nx(nxg)\n",
    "for node in g.nodes:\n",
    "    node['physics']=False\n",
    "g.show_buttons(filter_=[])\n",
    "g.set_edge_smooth('dynamic')\n",
    "#g.toggle_physics(False)\n",
    "g.show(\"example.html\")"
   ]
  },
  {
   "cell_type": "code",
   "execution_count": null,
   "id": "3915a2e4-36f1-4074-964c-cfebf7070215",
   "metadata": {},
   "outputs": [],
   "source": []
  }
 ],
 "metadata": {
  "kernelspec": {
   "display_name": "Python 3 (ipykernel)",
   "language": "python",
   "name": "python3"
  },
  "language_info": {
   "codemirror_mode": {
    "name": "ipython",
    "version": 3
   },
   "file_extension": ".py",
   "mimetype": "text/x-python",
   "name": "python",
   "nbconvert_exporter": "python",
   "pygments_lexer": "ipython3",
   "version": "3.10.8"
  }
 },
 "nbformat": 4,
 "nbformat_minor": 5
}
