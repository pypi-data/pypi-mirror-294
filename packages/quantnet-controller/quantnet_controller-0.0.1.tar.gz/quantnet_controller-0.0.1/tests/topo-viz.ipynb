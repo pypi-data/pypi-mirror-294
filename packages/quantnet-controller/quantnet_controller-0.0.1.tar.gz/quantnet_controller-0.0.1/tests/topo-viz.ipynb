{
 "cells": [
  {
   "cell_type": "code",
   "execution_count": 1,
   "id": "f16e8da1-607e-420e-8596-e2b6fd021546",
   "metadata": {
    "tags": []
   },
   "outputs": [
    {
     "name": "stdout",
     "output_type": "stream",
     "text": [
      "{'directed': True, 'multigraph': True, 'graph': {}, 'nodes': [{'size': 20, 'title': 'LBNL-Q', 'group': 1, 'label': 'LBNL-Q', 'shape': 'circle', 'id': 1}, {'size': 20, 'title': 'LBNL-BSM', 'group': 1, 'label': 'LBNL-BSM', 'shape': 'circle', 'id': 2}, {'size': 20, 'title': 'UCB-Q', 'group': 2, 'label': 'UCB-Q', 'shape': 'circle', 'id': 3}], 'links': [{'weight': 2, 'title': 'stabilization', 'dashes': True, 'arrows': None, 'color': None, 'hoverWidth': 0.1, 'source': 1, 'target': 3, 'key': 0}, {'weight': 2, 'title': 'quantum', 'dashes': False, 'arrows': 'bottom', 'color': 'blue', 'hoverWidth': 0.1, 'source': 1, 'target': 2, 'key': 0}, {'weight': 2, 'title': 'clk', 'dashes': True, 'arrows': 'bottom', 'color': 'purple', 'hoverWidth': 0.1, 'source': 2, 'target': 1, 'key': 0}, {'weight': 2, 'title': 'gen', 'dashes': True, 'arrows': 'bottom', 'color': 'green', 'hoverWidth': 0.1, 'source': 2, 'target': 1, 'key': 1}, {'weight': 2, 'title': 'result', 'dashes': True, 'arrows': 'bottom', 'color': 'brown', 'hoverWidth': 0.1, 'source': 2, 'target': 1, 'key': 2}, {'weight': 2, 'title': 'clk', 'dashes': True, 'arrows': 'bottom', 'color': 'purple', 'hoverWidth': 0.1, 'source': 2, 'target': 3, 'key': 0}, {'weight': 2, 'title': 'gen', 'dashes': True, 'arrows': 'bottom', 'color': 'green', 'hoverWidth': 0.1, 'source': 2, 'target': 3, 'key': 1}, {'weight': 2, 'title': 'result', 'dashes': True, 'arrows': 'bottom', 'color': 'brown', 'hoverWidth': 0.1, 'source': 2, 'target': 3, 'key': 2}, {'weight': 2, 'title': 'quantum', 'dashes': False, 'arrows': 'bottom', 'color': 'blue', 'hoverWidth': 0.1, 'source': 3, 'target': 2, 'key': 0}]}\n",
      "example.html\n"
     ]
    },
    {
     "data": {
      "text/html": [
       "\n",
       "        <iframe\n",
       "            width=\"100%\"\n",
       "            height=\"600px\"\n",
       "            src=\"example.html\"\n",
       "            frameborder=\"0\"\n",
       "            allowfullscreen\n",
       "            \n",
       "        ></iframe>\n",
       "        "
      ],
      "text/plain": [
       "<IPython.lib.display.IFrame at 0x10f5ec0d0>"
      ]
     },
     "execution_count": 1,
     "metadata": {},
     "output_type": "execute_result"
    }
   ],
   "source": [
    "from pyvis import network as net\n",
    "import networkx as nx\n",
    "from networkx import node_link_data\n",
    "\n",
    "g = net.Network(notebook=True, directed=True, cdn_resources='in_line')\n",
    "nxg = nx.MultiDiGraph()\n",
    "color_map = {'quantum': 'blue',\n",
    "             'clk': 'purple',\n",
    "             'gen': 'green',\n",
    "             'result': 'brown',\n",
    "             'stabilzation': 'teal'}\n",
    "\n",
    "def add_node(net, id, label, group=1, title=None, shape=None):\n",
    "    net.add_node(id, size=20, title=label, group=group, label=label, shape='circle')\n",
    "    \n",
    "def add_edge(net, src, dst, title=None, dashes=False, arrows='bottom'):\n",
    "    net.add_edge(src, dst, weight=2, title=title, dashes=dashes, arrows=arrows, color=color_map.get(title), hoverWidth=0.1)\n",
    "    \n",
    "add_node(nxg, 1, \"LBNL-Q\", group=1)\n",
    "add_node(nxg, 2, \"LBNL-BSM\", group=1)\n",
    "add_node(nxg, 3, \"UCB-Q\", group=2)\n",
    "\n",
    "add_edge(nxg, 1, 3, title='stabilization', arrows=None, dashes=True)\n",
    "\n",
    "add_edge(nxg, 1, 2, title='quantum')\n",
    "add_edge(nxg, 2, 1, title='clk', dashes=True)\n",
    "add_edge(nxg, 2, 1, title='gen', dashes=True)\n",
    "add_edge(nxg, 2, 1, title='result', dashes=True)\n",
    "\n",
    "add_edge(nxg, 3, 2, title='quantum')\n",
    "add_edge(nxg, 2, 3, title='clk', dashes=True)\n",
    "add_edge(nxg, 2, 3, title='gen', dashes=True)\n",
    "add_edge(nxg, 2, 3, title='result', dashes=True)\n",
    "\n",
    "print (node_link_data(nxg))\n",
    "\n",
    "g.from_nx(nxg)\n",
    "for node in g.nodes:\n",
    "    node['physics']=False\n",
    "g.show_buttons(filter_=[])\n",
    "g.set_edge_smooth('dynamic')\n",
    "#g.toggle_physics(False)\n",
    "g.show(\"example.html\")"
   ]
  },
  {
   "cell_type": "code",
   "execution_count": 7,
   "id": "706106b9-ee44-4421-825d-8b5a75f710a1",
   "metadata": {
    "tags": []
   },
   "outputs": [
    {
     "name": "stdout",
     "output_type": "stream",
     "text": [
      "{'directed': True, 'multigraph': True, 'graph': {}, 'nodes': [{'size': 20, 'title': 'LBNL-Q', 'group': 1, 'label': 'LBNL-Q', 'shape': 'circle', 'data': None, 'id': 'LBNL-Q'}, {'size': 20, 'title': 'UCB-Q', 'group': 1, 'label': 'UCB-Q', 'shape': 'circle', 'data': None, 'id': 'UCB-Q'}, {'size': 20, 'title': 'LBNL-BSM', 'group': 1, 'label': 'LBNL-BSM', 'shape': 'circle', 'data': None, 'id': 'LBNL-BSM'}, {'size': 20, 'title': 'LBNL-M', 'group': 1, 'label': 'LBNL-M', 'shape': 'circle', 'data': None, 'id': 'LBNL-M'}, {'size': 20, 'title': 'UCB-M', 'group': 1, 'label': 'UCB-M', 'shape': 'circle', 'data': None, 'id': 'UCB-M'}, {'size': 20, 'title': 'LBNL-SWITCH', 'group': 1, 'label': 'LBNL-SWITCH', 'shape': 'circle', 'data': None, 'id': 'LBNL-SWITCH'}, {'size': 20, 'title': 'UCB-SWITCH', 'group': 1, 'label': 'UCB-SWITCH', 'shape': 'circle', 'data': None, 'id': 'UCB-SWITCH'}], 'links': [{'weight': 2, 'title': 'quantum', 'dashes': False, 'arrows': 'bottom', 'color': None, 'source': 'LBNL-Q', 'target': 'LBNL-SWITCH', 'key': 0}, {'weight': 2, 'title': 'classic_photon_gen', 'dashes': False, 'arrows': 'bottom', 'color': None, 'source': 'LBNL-Q', 'target': 'LBNL-SWITCH', 'key': 1}, {'weight': 2, 'title': 'quantum', 'dashes': False, 'arrows': 'bottom', 'color': None, 'source': 'UCB-Q', 'target': 'UCB-SWITCH', 'key': 0}, {'weight': 2, 'title': 'classic_photon_gen', 'dashes': False, 'arrows': 'bottom', 'color': None, 'source': 'UCB-Q', 'target': 'UCB-SWITCH', 'key': 1}, {'weight': 2, 'title': 'classic_bsm_result', 'dashes': False, 'arrows': 'bottom', 'color': None, 'source': 'LBNL-BSM', 'target': 'LBNL-SWITCH', 'key': 0}, {'weight': 2, 'title': 'classic_photon_gen', 'dashes': False, 'arrows': 'bottom', 'color': None, 'source': 'LBNL-SWITCH', 'target': 'LBNL-BSM', 'key': 0}, {'weight': 2, 'title': 'classic_clk', 'dashes': False, 'arrows': 'bottom', 'color': None, 'source': 'LBNL-SWITCH', 'target': 'LBNL-BSM', 'key': 1}, {'weight': 2, 'title': 'quantum', 'dashes': False, 'arrows': 'bottom', 'color': None, 'source': 'LBNL-SWITCH', 'target': 'LBNL-BSM', 'key': 2}, {'weight': 2, 'title': 'quantum', 'dashes': False, 'arrows': 'bottom', 'color': None, 'source': 'LBNL-SWITCH', 'target': 'LBNL-BSM', 'key': 3}, {'weight': 2, 'title': 'classic_bsm_result', 'dashes': False, 'arrows': 'bottom', 'color': None, 'source': 'LBNL-SWITCH', 'target': 'LBNL-Q', 'key': 0}, {'weight': 2, 'title': 'classic_clk', 'dashes': False, 'arrows': 'bottom', 'color': None, 'source': 'LBNL-SWITCH', 'target': 'LBNL-Q', 'key': 1}, {'weight': 2, 'title': 'quantum', 'dashes': False, 'arrows': 'bottom', 'color': None, 'source': 'LBNL-SWITCH', 'target': 'LBNL-M', 'key': 0}, {'weight': 2, 'title': 'quantum', 'dashes': False, 'arrows': 'bottom', 'color': None, 'source': 'LBNL-SWITCH', 'target': 'UCB-SWITCH', 'key': 0}, {'weight': 2, 'title': 'classic_bsm_result', 'dashes': False, 'arrows': 'bottom', 'color': None, 'source': 'UCB-SWITCH', 'target': 'UCB-Q', 'key': 0}, {'weight': 2, 'title': 'classic_clk', 'dashes': False, 'arrows': 'bottom', 'color': None, 'source': 'UCB-SWITCH', 'target': 'UCB-Q', 'key': 1}, {'weight': 2, 'title': 'quantum', 'dashes': False, 'arrows': 'bottom', 'color': None, 'source': 'UCB-SWITCH', 'target': 'UCB-M', 'key': 0}, {'weight': 2, 'title': 'quantum', 'dashes': False, 'arrows': 'bottom', 'color': None, 'source': 'UCB-SWITCH', 'target': 'LBNL-SWITCH', 'key': 0}]}\n"
     ]
    }
   ],
   "source": [
    "import json\n",
    "import asyncio                                                                                                                                                               \n",
    "from pyvis import network as net\n",
    "import networkx as nx\n",
    "from networkx import node_link_graph\n",
    "from quantnet_mq.rpcclient import RPCClient                                                                                                                                     \n",
    "                                                                                                                                                                                \n",
    "ret = None                                                                                                                                                                           \n",
    "def handle_getinfo(request):                                                                                                                                                    \n",
    "    print (f'getInfo callback: {request.serialize()}')                                                                                                                          \n",
    "                                                                                                                                                                                \n",
    "async def main():                                                                                                                                                               \n",
    "    client = RPCClient(\"topo-test\", host=\"127.0.0.1\")                                                                                                                              \n",
    "    client.set_handler('getinfo', handle_getinfo, 'quantnet_mq.schema.models.getInfo')                                                                                          \n",
    "    await client.start()                                                                                                                                                        \n",
    "                                                                                                                                                                                \n",
    "    msg = {                                                                                                                                                                     \n",
    "        \"type\": \"topology\",                                                                                                                                                     \n",
    "        \"parameters\": {}                                                                                                                                                        \n",
    "    }\n",
    "    global ret\n",
    "    ret = await client.call(\"getinfo\", msg)                                                                                                                                           \n",
    "    ret = json.loads(ret)\n",
    "    print (ret)\n",
    "        \n",
    "if __name__ == \"__main__\":\n",
    "    loop = asyncio.get_event_loop()\n",
    "    loop.create_task(main())"
   ]
  },
  {
   "cell_type": "code",
   "execution_count": 8,
   "id": "24486d19-68e4-4f9a-9624-84c1cc605859",
   "metadata": {
    "tags": []
   },
   "outputs": [
    {
     "name": "stdout",
     "output_type": "stream",
     "text": [
      "example.html\n"
     ]
    },
    {
     "data": {
      "text/html": [
       "\n",
       "        <iframe\n",
       "            width=\"100%\"\n",
       "            height=\"600px\"\n",
       "            src=\"example.html\"\n",
       "            frameborder=\"0\"\n",
       "            allowfullscreen\n",
       "            \n",
       "        ></iframe>\n",
       "        "
      ],
      "text/plain": [
       "<IPython.lib.display.IFrame at 0x10fb7a3b0>"
      ]
     },
     "execution_count": 8,
     "metadata": {},
     "output_type": "execute_result"
    },
    {
     "name": "stderr",
     "output_type": "stream",
     "text": [
      "[TRYING WRITE TO CLOSED SOCKET]\n",
      "[CAN'T RECONNECT] 1\n",
      "[CAN'T RECONNECT] 1\n",
      "[TRYING WRITE TO CLOSED SOCKET]\n",
      "[TRYING WRITE TO CLOSED SOCKET]\n",
      "[CAN'T RECONNECT] 1\n",
      "[TRYING WRITE TO CLOSED SOCKET]\n"
     ]
    }
   ],
   "source": [
    "nxg = node_link_graph(ret)\n",
    "g = net.Network(notebook=True, directed=True, cdn_resources='in_line')\n",
    "g.from_nx(nxg)\n",
    "for node in g.nodes:\n",
    "    node['physics']=False\n",
    "g.show_buttons(filter_=[])\n",
    "g.set_edge_smooth('dynamic')\n",
    "#g.toggle_physics(False)\n",
    "g.show(\"example.html\")"
   ]
  },
  {
   "cell_type": "code",
   "execution_count": null,
   "id": "ed711c60-8c41-4cab-9e59-5362191f2661",
   "metadata": {},
   "outputs": [],
   "source": []
  }
 ],
 "metadata": {
  "kernelspec": {
   "display_name": "Python 3 (ipykernel)",
   "language": "python",
   "name": "python3"
  },
  "language_info": {
   "codemirror_mode": {
    "name": "ipython",
    "version": 3
   },
   "file_extension": ".py",
   "mimetype": "text/x-python",
   "name": "python",
   "nbconvert_exporter": "python",
   "pygments_lexer": "ipython3",
   "version": "3.10.8"
  }
 },
 "nbformat": 4,
 "nbformat_minor": 5
}
