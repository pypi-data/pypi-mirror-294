{
 "cells": [
  {
   "cell_type": "markdown",
   "metadata": {},
   "source": [
    "GlassPy: predicting\n",
    "===================\n",
    "\n"
   ]
  },
  {
   "cell_type": "markdown",
   "metadata": {},
   "source": [
    "## Introduction\n",
    "\n"
   ]
  },
  {
   "cell_type": "markdown",
   "metadata": {},
   "source": [
    "GlassPy contains two prediction models: `GlassNet` and `ViscNet`. GlassNet is a multitask deep neural network capable of predicting 85 different glass properties and the temperature dependence of viscosity. ViscNet is a physics-informed deep neural network capable of predicting the temperature dependence of viscosity. Both models were trained with data from the SciGlass database.\n",
    "\n"
   ]
  },
  {
   "cell_type": "markdown",
   "metadata": {},
   "source": [
    "## GlassNet basic usage\n",
    "\n"
   ]
  },
  {
   "cell_type": "markdown",
   "metadata": {},
   "source": [
    "Below is a minimal example of how to load and use the GlassNet model.\n",
    "\n"
   ]
  },
  {
   "cell_type": "code",
   "execution_count": 1,
   "metadata": {},
   "outputs": [
    {
     "data": {
      "text/html": [
       "<div>\n",
       "<style scoped>\n",
       "    .dataframe tbody tr th:only-of-type {\n",
       "        vertical-align: middle;\n",
       "    }\n",
       "\n",
       "    .dataframe tbody tr th {\n",
       "        vertical-align: top;\n",
       "    }\n",
       "\n",
       "    .dataframe thead th {\n",
       "        text-align: right;\n",
       "    }\n",
       "</style>\n",
       "<table border=\"1\" class=\"dataframe\">\n",
       "  <thead>\n",
       "    <tr style=\"text-align: right;\">\n",
       "      <th></th>\n",
       "      <th>T0</th>\n",
       "      <th>T1</th>\n",
       "      <th>T2</th>\n",
       "      <th>T3</th>\n",
       "      <th>T4</th>\n",
       "      <th>T5</th>\n",
       "      <th>T6</th>\n",
       "      <th>T7</th>\n",
       "      <th>T8</th>\n",
       "      <th>T9</th>\n",
       "      <th>...</th>\n",
       "      <th>Cp1673K</th>\n",
       "      <th>TMaxGrowthVelocity</th>\n",
       "      <th>MaxGrowthVelocity</th>\n",
       "      <th>CrystallizationPeak</th>\n",
       "      <th>CrystallizationOnset</th>\n",
       "      <th>SurfaceTensionAboveTg</th>\n",
       "      <th>SurfaceTension1173K</th>\n",
       "      <th>SurfaceTension1473K</th>\n",
       "      <th>SurfaceTension1573K</th>\n",
       "      <th>SurfaceTension1673K</th>\n",
       "    </tr>\n",
       "  </thead>\n",
       "  <tbody>\n",
       "    <tr>\n",
       "      <th>0</th>\n",
       "      <td>1656.661908</td>\n",
       "      <td>1275.017006</td>\n",
       "      <td>1178.333404</td>\n",
       "      <td>1064.154863</td>\n",
       "      <td>956.535513</td>\n",
       "      <td>893.408138</td>\n",
       "      <td>857.634124</td>\n",
       "      <td>820.458542</td>\n",
       "      <td>779.195534</td>\n",
       "      <td>755.95825</td>\n",
       "      <td>...</td>\n",
       "      <td>1697.079401</td>\n",
       "      <td>1021.145519</td>\n",
       "      <td>-6.457833</td>\n",
       "      <td>880.670801</td>\n",
       "      <td>787.958282</td>\n",
       "      <td>0.322871</td>\n",
       "      <td>0.299307</td>\n",
       "      <td>0.32676</td>\n",
       "      <td>0.314809</td>\n",
       "      <td>0.313336</td>\n",
       "    </tr>\n",
       "  </tbody>\n",
       "</table>\n",
       "<p>1 rows × 85 columns</p>\n",
       "</div>"
      ],
      "text/plain": [
       "            T0           T1           T2           T3          T4          T5   \n",
       "0  1656.661908  1275.017006  1178.333404  1064.154863  956.535513  893.408138  \\\n",
       "\n",
       "           T6          T7          T8         T9  ...      Cp1673K   \n",
       "0  857.634124  820.458542  779.195534  755.95825  ...  1697.079401  \\\n",
       "\n",
       "   TMaxGrowthVelocity  MaxGrowthVelocity  CrystallizationPeak   \n",
       "0         1021.145519          -6.457833           880.670801  \\\n",
       "\n",
       "   CrystallizationOnset  SurfaceTensionAboveTg  SurfaceTension1173K   \n",
       "0            787.958282               0.322871             0.299307  \\\n",
       "\n",
       "   SurfaceTension1473K  SurfaceTension1573K  SurfaceTension1673K  \n",
       "0              0.32676             0.314809             0.313336  \n",
       "\n",
       "[1 rows x 85 columns]"
      ]
     },
     "execution_count": 1,
     "metadata": {},
     "output_type": "execute_result"
    }
   ],
   "source": [
    "from glasspy.predict import GlassNet\n",
    "\n",
    "model = GlassNet()\n",
    "composition = \"Li2O(SiO2)2\"\n",
    "predictions = model.predict(composition)\n",
    "predictions"
   ]
  },
  {
   "cell_type": "markdown",
   "metadata": {},
   "source": [
    "A composition can also be defined using a dictionary.\n",
    "\n"
   ]
  },
  {
   "cell_type": "code",
   "execution_count": 2,
   "metadata": {},
   "outputs": [
    {
     "data": {
      "text/html": [
       "<div>\n",
       "<style scoped>\n",
       "    .dataframe tbody tr th:only-of-type {\n",
       "        vertical-align: middle;\n",
       "    }\n",
       "\n",
       "    .dataframe tbody tr th {\n",
       "        vertical-align: top;\n",
       "    }\n",
       "\n",
       "    .dataframe thead th {\n",
       "        text-align: right;\n",
       "    }\n",
       "</style>\n",
       "<table border=\"1\" class=\"dataframe\">\n",
       "  <thead>\n",
       "    <tr style=\"text-align: right;\">\n",
       "      <th></th>\n",
       "      <th>T0</th>\n",
       "      <th>T1</th>\n",
       "      <th>T2</th>\n",
       "      <th>T3</th>\n",
       "      <th>T4</th>\n",
       "      <th>T5</th>\n",
       "      <th>T6</th>\n",
       "      <th>T7</th>\n",
       "      <th>T8</th>\n",
       "      <th>T9</th>\n",
       "      <th>...</th>\n",
       "      <th>Cp1673K</th>\n",
       "      <th>TMaxGrowthVelocity</th>\n",
       "      <th>MaxGrowthVelocity</th>\n",
       "      <th>CrystallizationPeak</th>\n",
       "      <th>CrystallizationOnset</th>\n",
       "      <th>SurfaceTensionAboveTg</th>\n",
       "      <th>SurfaceTension1173K</th>\n",
       "      <th>SurfaceTension1473K</th>\n",
       "      <th>SurfaceTension1573K</th>\n",
       "      <th>SurfaceTension1673K</th>\n",
       "    </tr>\n",
       "  </thead>\n",
       "  <tbody>\n",
       "    <tr>\n",
       "      <th>0</th>\n",
       "      <td>1656.661908</td>\n",
       "      <td>1275.017006</td>\n",
       "      <td>1178.333404</td>\n",
       "      <td>1064.154863</td>\n",
       "      <td>956.535513</td>\n",
       "      <td>893.408138</td>\n",
       "      <td>857.634124</td>\n",
       "      <td>820.458542</td>\n",
       "      <td>779.195534</td>\n",
       "      <td>755.95825</td>\n",
       "      <td>...</td>\n",
       "      <td>1697.079401</td>\n",
       "      <td>1021.145519</td>\n",
       "      <td>-6.457833</td>\n",
       "      <td>880.670801</td>\n",
       "      <td>787.958282</td>\n",
       "      <td>0.322871</td>\n",
       "      <td>0.299307</td>\n",
       "      <td>0.32676</td>\n",
       "      <td>0.314809</td>\n",
       "      <td>0.313336</td>\n",
       "    </tr>\n",
       "  </tbody>\n",
       "</table>\n",
       "<p>1 rows × 85 columns</p>\n",
       "</div>"
      ],
      "text/plain": [
       "            T0           T1           T2           T3          T4          T5   \n",
       "0  1656.661908  1275.017006  1178.333404  1064.154863  956.535513  893.408138  \\\n",
       "\n",
       "           T6          T7          T8         T9  ...      Cp1673K   \n",
       "0  857.634124  820.458542  779.195534  755.95825  ...  1697.079401  \\\n",
       "\n",
       "   TMaxGrowthVelocity  MaxGrowthVelocity  CrystallizationPeak   \n",
       "0         1021.145519          -6.457833           880.670801  \\\n",
       "\n",
       "   CrystallizationOnset  SurfaceTensionAboveTg  SurfaceTension1173K   \n",
       "0            787.958282               0.322871             0.299307  \\\n",
       "\n",
       "   SurfaceTension1473K  SurfaceTension1573K  SurfaceTension1673K  \n",
       "0              0.32676             0.314809             0.313336  \n",
       "\n",
       "[1 rows x 85 columns]"
      ]
     },
     "execution_count": 2,
     "metadata": {},
     "output_type": "execute_result"
    }
   ],
   "source": [
    "composition = {\n",
    "    \"SiO2\": 2,\n",
    "    \"Li2O\": 1,\n",
    "}\n",
    "predictions = model.predict(composition)\n",
    "predictions"
   ]
  },
  {
   "cell_type": "markdown",
   "metadata": {},
   "source": [
    "GlassNet also accepts `pandas` DataFrames as input. Note that each row represents a material and that only columns related to compositions can exist in the DataFrame.\n",
    "\n"
   ]
  },
  {
   "cell_type": "code",
   "execution_count": 3,
   "metadata": {},
   "outputs": [
    {
     "data": {
      "text/html": [
       "<div>\n",
       "<style scoped>\n",
       "    .dataframe tbody tr th:only-of-type {\n",
       "        vertical-align: middle;\n",
       "    }\n",
       "\n",
       "    .dataframe tbody tr th {\n",
       "        vertical-align: top;\n",
       "    }\n",
       "\n",
       "    .dataframe thead th {\n",
       "        text-align: right;\n",
       "    }\n",
       "</style>\n",
       "<table border=\"1\" class=\"dataframe\">\n",
       "  <thead>\n",
       "    <tr style=\"text-align: right;\">\n",
       "      <th></th>\n",
       "      <th>Li2O</th>\n",
       "      <th>Na2O</th>\n",
       "      <th>SiO2</th>\n",
       "    </tr>\n",
       "  </thead>\n",
       "  <tbody>\n",
       "    <tr>\n",
       "      <th>0</th>\n",
       "      <td>1</td>\n",
       "      <td>0</td>\n",
       "      <td>2</td>\n",
       "    </tr>\n",
       "    <tr>\n",
       "      <th>1</th>\n",
       "      <td>0</td>\n",
       "      <td>1</td>\n",
       "      <td>2</td>\n",
       "    </tr>\n",
       "    <tr>\n",
       "      <th>2</th>\n",
       "      <td>1</td>\n",
       "      <td>1</td>\n",
       "      <td>2</td>\n",
       "    </tr>\n",
       "  </tbody>\n",
       "</table>\n",
       "</div>"
      ],
      "text/plain": [
       "   Li2O  Na2O  SiO2\n",
       "0     1     0     2\n",
       "1     0     1     2\n",
       "2     1     1     2"
      ]
     },
     "execution_count": 3,
     "metadata": {},
     "output_type": "execute_result"
    }
   ],
   "source": [
    "import pandas as pd\n",
    "\n",
    "data = [\n",
    "    [1, 0, 2],\n",
    "    [0, 1, 2],\n",
    "    [1, 1, 2],\n",
    "]\n",
    "\n",
    "df = pd.DataFrame(data, columns=[\"Li2O\", \"Na2O\", \"SiO2\"])\n",
    "df"
   ]
  },
  {
   "cell_type": "code",
   "execution_count": 4,
   "metadata": {},
   "outputs": [
    {
     "data": {
      "text/html": [
       "<div>\n",
       "<style scoped>\n",
       "    .dataframe tbody tr th:only-of-type {\n",
       "        vertical-align: middle;\n",
       "    }\n",
       "\n",
       "    .dataframe tbody tr th {\n",
       "        vertical-align: top;\n",
       "    }\n",
       "\n",
       "    .dataframe thead th {\n",
       "        text-align: right;\n",
       "    }\n",
       "</style>\n",
       "<table border=\"1\" class=\"dataframe\">\n",
       "  <thead>\n",
       "    <tr style=\"text-align: right;\">\n",
       "      <th></th>\n",
       "      <th>T0</th>\n",
       "      <th>T1</th>\n",
       "      <th>T2</th>\n",
       "      <th>T3</th>\n",
       "      <th>T4</th>\n",
       "      <th>T5</th>\n",
       "      <th>T6</th>\n",
       "      <th>T7</th>\n",
       "      <th>T8</th>\n",
       "      <th>T9</th>\n",
       "      <th>...</th>\n",
       "      <th>Cp1673K</th>\n",
       "      <th>TMaxGrowthVelocity</th>\n",
       "      <th>MaxGrowthVelocity</th>\n",
       "      <th>CrystallizationPeak</th>\n",
       "      <th>CrystallizationOnset</th>\n",
       "      <th>SurfaceTensionAboveTg</th>\n",
       "      <th>SurfaceTension1173K</th>\n",
       "      <th>SurfaceTension1473K</th>\n",
       "      <th>SurfaceTension1573K</th>\n",
       "      <th>SurfaceTension1673K</th>\n",
       "    </tr>\n",
       "  </thead>\n",
       "  <tbody>\n",
       "    <tr>\n",
       "      <th>0</th>\n",
       "      <td>1656.661908</td>\n",
       "      <td>1275.016943</td>\n",
       "      <td>1178.333278</td>\n",
       "      <td>1064.154863</td>\n",
       "      <td>956.535513</td>\n",
       "      <td>893.408138</td>\n",
       "      <td>857.634124</td>\n",
       "      <td>820.458542</td>\n",
       "      <td>779.195534</td>\n",
       "      <td>755.958209</td>\n",
       "      <td>...</td>\n",
       "      <td>1697.079401</td>\n",
       "      <td>1021.145409</td>\n",
       "      <td>-6.457834</td>\n",
       "      <td>880.670883</td>\n",
       "      <td>787.958192</td>\n",
       "      <td>0.322871</td>\n",
       "      <td>0.299307</td>\n",
       "      <td>0.326760</td>\n",
       "      <td>0.314809</td>\n",
       "      <td>0.313336</td>\n",
       "    </tr>\n",
       "    <tr>\n",
       "      <th>1</th>\n",
       "      <td>1766.655967</td>\n",
       "      <td>1513.411310</td>\n",
       "      <td>1279.021806</td>\n",
       "      <td>1123.006920</td>\n",
       "      <td>1035.724017</td>\n",
       "      <td>954.737548</td>\n",
       "      <td>912.160878</td>\n",
       "      <td>849.827548</td>\n",
       "      <td>809.466760</td>\n",
       "      <td>781.277537</td>\n",
       "      <td>...</td>\n",
       "      <td>1484.994346</td>\n",
       "      <td>1064.050456</td>\n",
       "      <td>-6.311865</td>\n",
       "      <td>967.346880</td>\n",
       "      <td>861.877353</td>\n",
       "      <td>0.278585</td>\n",
       "      <td>0.307567</td>\n",
       "      <td>0.290559</td>\n",
       "      <td>0.286678</td>\n",
       "      <td>0.266966</td>\n",
       "    </tr>\n",
       "    <tr>\n",
       "      <th>2</th>\n",
       "      <td>1556.850784</td>\n",
       "      <td>1233.614128</td>\n",
       "      <td>1101.165289</td>\n",
       "      <td>979.065643</td>\n",
       "      <td>921.910502</td>\n",
       "      <td>852.842278</td>\n",
       "      <td>785.283328</td>\n",
       "      <td>760.537597</td>\n",
       "      <td>724.843873</td>\n",
       "      <td>694.542253</td>\n",
       "      <td>...</td>\n",
       "      <td>1746.768714</td>\n",
       "      <td>1077.191691</td>\n",
       "      <td>-5.137043</td>\n",
       "      <td>828.439517</td>\n",
       "      <td>764.867252</td>\n",
       "      <td>0.299150</td>\n",
       "      <td>0.303260</td>\n",
       "      <td>0.320007</td>\n",
       "      <td>0.318062</td>\n",
       "      <td>0.296329</td>\n",
       "    </tr>\n",
       "  </tbody>\n",
       "</table>\n",
       "<p>3 rows × 85 columns</p>\n",
       "</div>"
      ],
      "text/plain": [
       "            T0           T1           T2           T3           T4   \n",
       "0  1656.661908  1275.016943  1178.333278  1064.154863   956.535513  \\\n",
       "1  1766.655967  1513.411310  1279.021806  1123.006920  1035.724017   \n",
       "2  1556.850784  1233.614128  1101.165289   979.065643   921.910502   \n",
       "\n",
       "           T5          T6          T7          T8          T9  ...   \n",
       "0  893.408138  857.634124  820.458542  779.195534  755.958209  ...  \\\n",
       "1  954.737548  912.160878  849.827548  809.466760  781.277537  ...   \n",
       "2  852.842278  785.283328  760.537597  724.843873  694.542253  ...   \n",
       "\n",
       "       Cp1673K  TMaxGrowthVelocity  MaxGrowthVelocity  CrystallizationPeak   \n",
       "0  1697.079401         1021.145409          -6.457834           880.670883  \\\n",
       "1  1484.994346         1064.050456          -6.311865           967.346880   \n",
       "2  1746.768714         1077.191691          -5.137043           828.439517   \n",
       "\n",
       "   CrystallizationOnset  SurfaceTensionAboveTg  SurfaceTension1173K   \n",
       "0            787.958192               0.322871             0.299307  \\\n",
       "1            861.877353               0.278585             0.307567   \n",
       "2            764.867252               0.299150             0.303260   \n",
       "\n",
       "   SurfaceTension1473K  SurfaceTension1573K  SurfaceTension1673K  \n",
       "0             0.326760             0.314809             0.313336  \n",
       "1             0.290559             0.286678             0.266966  \n",
       "2             0.320007             0.318062             0.296329  \n",
       "\n",
       "[3 rows x 85 columns]"
      ]
     },
     "execution_count": 4,
     "metadata": {},
     "output_type": "execute_result"
    }
   ],
   "source": [
    "predictions = model.predict(df)\n",
    "predictions"
   ]
  },
  {
   "cell_type": "markdown",
   "metadata": {},
   "source": [
    "GlassNet can also predict viscosity and the MYEGA viscosity equation parameters.\n",
    "\n"
   ]
  },
  {
   "cell_type": "code",
   "execution_count": 5,
   "metadata": {},
   "outputs": [
    {
     "data": {
      "text/plain": [
       "array([3.42916597, 4.37478355, 2.76390286])"
      ]
     },
     "execution_count": 5,
     "metadata": {},
     "output_type": "execute_result"
    }
   ],
   "source": [
    "predictions = model.predict_log10_viscosity(\n",
    "    T=1000,\n",
    "    composition=df,\n",
    ")\n",
    "predictions"
   ]
  },
  {
   "cell_type": "code",
   "execution_count": 6,
   "metadata": {},
   "outputs": [
    {
     "data": {
      "text/html": [
       "<div>\n",
       "<style scoped>\n",
       "    .dataframe tbody tr th:only-of-type {\n",
       "        vertical-align: middle;\n",
       "    }\n",
       "\n",
       "    .dataframe tbody tr th {\n",
       "        vertical-align: top;\n",
       "    }\n",
       "\n",
       "    .dataframe thead th {\n",
       "        text-align: right;\n",
       "    }\n",
       "</style>\n",
       "<table border=\"1\" class=\"dataframe\">\n",
       "  <thead>\n",
       "    <tr style=\"text-align: right;\">\n",
       "      <th></th>\n",
       "      <th>log10_eta_infinity (Pa.s)</th>\n",
       "      <th>Tg_MYEGA (K)</th>\n",
       "      <th>fragility</th>\n",
       "    </tr>\n",
       "  </thead>\n",
       "  <tbody>\n",
       "    <tr>\n",
       "      <th>0</th>\n",
       "      <td>-1.237548</td>\n",
       "      <td>697.874082</td>\n",
       "      <td>43.157955</td>\n",
       "    </tr>\n",
       "    <tr>\n",
       "      <th>1</th>\n",
       "      <td>-1.741297</td>\n",
       "      <td>710.712897</td>\n",
       "      <td>35.971436</td>\n",
       "    </tr>\n",
       "    <tr>\n",
       "      <th>2</th>\n",
       "      <td>-1.619815</td>\n",
       "      <td>637.988120</td>\n",
       "      <td>39.360906</td>\n",
       "    </tr>\n",
       "  </tbody>\n",
       "</table>\n",
       "</div>"
      ],
      "text/plain": [
       "   log10_eta_infinity (Pa.s)  Tg_MYEGA (K)  fragility\n",
       "0                  -1.237548    697.874082  43.157955\n",
       "1                  -1.741297    710.712897  35.971436\n",
       "2                  -1.619815    637.988120  39.360906"
      ]
     },
     "execution_count": 6,
     "metadata": {},
     "output_type": "execute_result"
    }
   ],
   "source": [
    "viscosity_parameters = model.viscosity_parameters(df)\n",
    "viscosity_parameters"
   ]
  },
  {
   "cell_type": "markdown",
   "metadata": {},
   "source": [
    "## ViscNet basic usage\n",
    "\n"
   ]
  },
  {
   "cell_type": "markdown",
   "metadata": {},
   "source": [
    "The usage of ViscNet is similar to GlassNet. In fact, GlassNet performs better than ViscNet, so it is recommended to use GlassNet for viscosity prediction. Nevertheless, below is a minimal example of loading and using ViscNet.\n",
    "\n"
   ]
  },
  {
   "cell_type": "code",
   "execution_count": 7,
   "metadata": {},
   "outputs": [
    {
     "data": {
      "text/plain": [
       "array([5.1991167, 5.511484 , 5.9079647], dtype=float32)"
      ]
     },
     "execution_count": 7,
     "metadata": {},
     "output_type": "execute_result"
    }
   ],
   "source": [
    "from glasspy.predict import ViscNet\n",
    "\n",
    "model = ViscNet()\n",
    "log10_viscosity = model.predict(T=1000, composition=df)\n",
    "log10_viscosity"
   ]
  },
  {
   "cell_type": "code",
   "execution_count": 8,
   "metadata": {},
   "outputs": [
    {
     "name": "stdout",
     "output_type": "stream",
     "text": [
      "[35.54799  27.815027 32.5404  ]\n"
     ]
    }
   ],
   "source": [
    "fragility = model.predict_fragility(df)\n",
    "print(fragility)"
   ]
  },
  {
   "cell_type": "code",
   "execution_count": 9,
   "metadata": {},
   "outputs": [
    {
     "name": "stdout",
     "output_type": "stream",
     "text": [
      "[751.4873  762.72046 784.432  ]\n"
     ]
    }
   ],
   "source": [
    "Tg = model.predict_Tg(df)\n",
    "print(Tg)"
   ]
  }
 ],
 "metadata": {
  "kernelspec": {
   "display_name": "Python 3 (ipykernel)",
   "language": "python",
   "name": "python3"
  },
  "language_info": {
   "codemirror_mode": {
    "name": "ipython",
    "version": 3
   },
   "file_extension": ".py",
   "mimetype": "text/x-python",
   "name": "python",
   "nbconvert_exporter": "python",
   "pygments_lexer": "ipython3",
   "version": "3.10.6"
  },
  "org": null
 },
 "nbformat": 4,
 "nbformat_minor": 4
}
