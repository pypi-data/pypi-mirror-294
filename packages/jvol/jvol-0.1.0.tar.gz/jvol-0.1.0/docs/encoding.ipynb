{
 "cells": [
  {
   "cell_type": "markdown",
   "metadata": {},
   "source": [
    "# Encoding algorithm\n",
    "\n",
    "JVol files are encoded using a simplified version of the JPEG algorithm, adapted for 3D images."
   ]
  },
  {
   "cell_type": "code",
   "execution_count": null,
   "metadata": {
    "tags": [
     "hide_code"
    ]
   },
   "outputs": [],
   "source": [
    "import base64\n",
    "from IPython.display import display\n",
    "from IPython.display import Image as IPythonImage\n",
    "\n",
    "\n",
    "def mermaid(graph):\n",
    "    graphbytes = graph.encode(\"utf8\")\n",
    "    base64_bytes = base64.b64encode(graphbytes)\n",
    "    base64_string = base64_bytes.decode(\"ascii\")\n",
    "    display(IPythonImage(url=\"https://mermaid.ink/img/\" + base64_string))"
   ]
  },
  {
   "cell_type": "code",
   "execution_count": null,
   "metadata": {
    "tags": [
     "hide_code"
    ]
   },
   "outputs": [],
   "source": [
    "mermaid(\"\"\"\n",
    "graph LR;\n",
    "  A[/3D array/] ;\n",
    "  A --> Z{Size multiple of B?};\n",
    "  Z -- No --> B[Pad];\n",
    "  B --> C[Split into blocks];\n",
    "  Z -- Yes --> C;\n",
    "  C --> Y[Cast and rescale];\n",
    "  Y --> D[3D DCT];\n",
    "  D --> E[Quantization];\n",
    "  E --> F[Entropy coding];\n",
    "  F --> G[/JVol file/];\n",
    "\"\"\")"
   ]
  },
  {
   "cell_type": "markdown",
   "metadata": {},
   "source": [
    "## Color\n",
    "\n",
    "For now, only single-channel images are supported.\n",
    "Therefore, no color space conversion or chroma subsampling is performed."
   ]
  },
  {
   "cell_type": "markdown",
   "metadata": {},
   "source": [
    "## Block splitting\n",
    "\n",
    "The array/volume of size $I \\times J \\times K$ is split into subvolumes/blocks of size $B \\times B \\times B$.\n",
    "If the array is not a multiple of $B$ along a dimension, it is padded using [NumPy's `reflect` mode](https://numpy.org/doc/stable/reference/generated/numpy.pad.html).\n",
    "\n",
    "Here's an exaggerated illustration of reflection padding (in 2D, for visualization purposes):"
   ]
  },
  {
   "cell_type": "code",
   "execution_count": null,
   "metadata": {
    "tags": [
     "hide_code"
    ]
   },
   "outputs": [],
   "source": [
    "%%capture\n",
    "%pip install -q matplotlib\n",
    "!curl -s -LO https://www.math.hkust.edu.hk/~masyleung/Teaching/CAS/MATLAB/image/images/cameraman.jpg"
   ]
  },
  {
   "cell_type": "code",
   "execution_count": null,
   "metadata": {
    "tags": [
     "hide_code"
    ]
   },
   "outputs": [],
   "source": [
    "import matplotlib.pyplot as plt\n",
    "import numpy as np\n",
    "from PIL import Image\n",
    "\n",
    "image = Image.open(\"cameraman.jpg\").convert(\"L\")\n",
    "\n",
    "padded = np.pad(image, ((0, 50), (0, 50)), \"reflect\")\n",
    "\n",
    "fig, axes = plt.subplots(1, 2, figsize=(10, 5))\n",
    "axes[0].imshow(image, cmap=\"gray\")\n",
    "axes[0].set_title(\"Original\")\n",
    "axes[1].imshow(padded, cmap=\"gray\")\n",
    "axes[1].set_title(\"Padded\");"
   ]
  },
  {
   "cell_type": "markdown",
   "metadata": {},
   "source": [
    "## Discrete cosine transform\n",
    "\n",
    "TODO"
   ]
  },
  {
   "cell_type": "markdown",
   "metadata": {},
   "source": [
    "## Quantization\n",
    "\n",
    "TODO"
   ]
  },
  {
   "cell_type": "markdown",
   "metadata": {},
   "source": [
    "## Entropy coding\n",
    "\n",
    "TODO"
   ]
  }
 ],
 "metadata": {
  "kernelspec": {
   "display_name": ".venv",
   "language": "python",
   "name": "python3"
  },
  "language_info": {
   "codemirror_mode": {
    "name": "ipython",
    "version": 3
   },
   "file_extension": ".py",
   "mimetype": "text/x-python",
   "name": "python",
   "nbconvert_exporter": "python",
   "pygments_lexer": "ipython3",
   "version": "3.11.5"
  }
 },
 "nbformat": 4,
 "nbformat_minor": 2
}
