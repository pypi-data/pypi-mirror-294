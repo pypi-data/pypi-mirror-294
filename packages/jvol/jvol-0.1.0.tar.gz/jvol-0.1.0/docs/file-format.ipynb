{
 "cells": [
  {
   "cell_type": "markdown",
   "metadata": {},
   "source": [
    "# File format\n",
    "\n",
    "Under the hood, JVol files are `.npz` files.\n",
    "From [NumPy's documentation](https://numpy.org/doc/stable/reference/generated/numpy.savez_compressed.html):\n",
    "\n",
    "> The `.npz` file format is a zipped archive of files named after the variables they contain. The archive is compressed with `zipfile.ZIP_DEFLATED` and each file in the archive contains one variable in `.npy` format. For a description of the `.npy` format, see [`numpy.lib.format`](https://numpy.org/doc/stable/reference/generated/numpy.lib.format.html#module-numpy.lib.format)."
   ]
  },
  {
   "cell_type": "markdown",
   "metadata": {},
   "source": [
    "TODO: inspect contents dynamically"
   ]
  }
 ],
 "metadata": {
  "language_info": {
   "name": "python"
  }
 },
 "nbformat": 4,
 "nbformat_minor": 2
}
