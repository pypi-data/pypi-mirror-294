{
 "cells": [
  {
   "cell_type": "markdown",
   "metadata": {},
   "source": [
    "# Getting started"
   ]
  },
  {
   "cell_type": "markdown",
   "metadata": {},
   "source": [
    "## Installation"
   ]
  },
  {
   "cell_type": "markdown",
   "metadata": {},
   "source": [
    "JVol can be installed using [Pip Installs Packages (PIP)](https://pip.pypa.io/):\n",
    "\n",
    "```shell\n",
    "pip install git+https://github.com/fepegar/jvol.git\n",
    "```\n",
    "\n",
    "Let's install it in this notebook."
   ]
  },
  {
   "cell_type": "code",
   "execution_count": null,
   "metadata": {},
   "outputs": [],
   "source": [
    "%%capture\n",
    "%pip install git+https://github.com/fepegar/jvol.git"
   ]
  },
  {
   "cell_type": "markdown",
   "metadata": {},
   "source": [
    "## Usage"
   ]
  },
  {
   "cell_type": "markdown",
   "metadata": {},
   "source": [
    "Let's first download some NIfTI data from the [Colin 27 Average Brain 2008](https://nist.mni.mcgill.ca/colin-27-average-brain-2008/) MNI template."
   ]
  },
  {
   "cell_type": "code",
   "execution_count": null,
   "metadata": {},
   "outputs": [],
   "source": [
    "%%bash\n",
    "curl -O -s https://packages.bic.mni.mcgill.ca/mni-models/colin27/mni_colin27_2008_nifti.zip\n",
    "unzip -q -o mni_colin27_2008_nifti.zip\n",
    "ls -lh *.nii"
   ]
  },
  {
   "cell_type": "markdown",
   "metadata": {},
   "source": [
    "We'll use the `jvol` command to encode an existing image.\n",
    "Use `jvol --help` to get a full list of features of the CLI tool."
   ]
  },
  {
   "cell_type": "code",
   "execution_count": null,
   "metadata": {},
   "outputs": [],
   "source": [
    "%%bash\n",
    "jvol --help"
   ]
  },
  {
   "cell_type": "markdown",
   "metadata": {},
   "source": [
    "Let's encode an image with the default settings."
   ]
  },
  {
   "cell_type": "code",
   "execution_count": null,
   "metadata": {},
   "outputs": [],
   "source": [
    "%%bash\n",
    "jvol colin27_t1_tal_hires.nii colin27_t1_tal_hires.jvol"
   ]
  },
  {
   "cell_type": "markdown",
   "metadata": {},
   "source": [
    "Let's use Python to check how we've done.\n",
    "We'll also install [TorchIO](https://torchio.readthedocs.io/) to read some of the image metadata."
   ]
  },
  {
   "cell_type": "code",
   "execution_count": null,
   "metadata": {},
   "outputs": [],
   "source": [
    "%%capture\n",
    "%pip install \"torchio[plot]\""
   ]
  },
  {
   "cell_type": "code",
   "execution_count": null,
   "metadata": {},
   "outputs": [],
   "source": [
    "from pathlib import Path\n",
    "import numpy as np\n",
    "import torchio as tio\n",
    "from humanize import naturalsize\n",
    "\n",
    "\n",
    "def compare_sizes(original_path: Path, compressed_path: Path) -> None:\n",
    "    def get_num_pixels(path):\n",
    "        return np.prod(tio.ScalarImage(path).shape)\n",
    "\n",
    "    num_pixels = get_num_pixels(original_path)\n",
    "    original_size = original_path.stat().st_size\n",
    "    original_bits_per_pixel = 8 * original_size / num_pixels\n",
    "    compressed_size = compressed_path.stat().st_size\n",
    "    compr_bits_per_pixel = 8 * compressed_size / num_pixels\n",
    "\n",
    "    compression_ratio = original_size / compressed_size\n",
    "    nat_orig = naturalsize(original_size)\n",
    "    nat_comp = naturalsize(compressed_size)\n",
    "    print(f\"Original file size: {nat_orig} ({original_bits_per_pixel:.2f} bits/pixel)\")\n",
    "    print(f\"Compressed file size: {nat_comp} ({compr_bits_per_pixel:.2f} bits/pixel)\")\n",
    "    print(f\"Compression ratio: {compression_ratio:.1f}×\")\n",
    "\n",
    "\n",
    "nii_path = Path(\"colin27_t1_tal_hires.nii\")\n",
    "jvol_path = Path(\"colin27_t1_tal_hires.jvol\")\n",
    "\n",
    "compare_sizes(nii_path, jvol_path)"
   ]
  },
  {
   "cell_type": "markdown",
   "metadata": {},
   "source": [
    "Not bad! Let's compare with lossless compression."
   ]
  },
  {
   "cell_type": "code",
   "execution_count": null,
   "metadata": {},
   "outputs": [],
   "source": [
    "%%bash\n",
    "gzip -k -f colin27_t1_tal_hires.nii"
   ]
  },
  {
   "cell_type": "code",
   "execution_count": null,
   "metadata": {},
   "outputs": [],
   "source": [
    "nii_gz_path = Path(\"colin27_t1_tal_hires.nii.gz\")\n",
    "\n",
    "compare_sizes(nii_path, nii_gz_path)"
   ]
  },
  {
   "cell_type": "markdown",
   "metadata": {},
   "source": [
    "It seems that we're doing much better!\n",
    "\n",
    "You might be wondering about the visual quality of the compressed image, compared to the original.\n",
    "Let's use [TorchIO](https://torchio.readthedocs.io/) to visualize both images."
   ]
  },
  {
   "cell_type": "markdown",
   "metadata": {},
   "source": [
    "We'll need to convert the compressed image to a format that TorchIO can read.\n",
    "We can use `jvol` to decode the image back to NIfTI."
   ]
  },
  {
   "cell_type": "code",
   "execution_count": null,
   "metadata": {},
   "outputs": [],
   "source": [
    "%%bash\n",
    "jvol colin27_t1_tal_hires.jvol colin27_t1_tal_hires_from_jvol.nii"
   ]
  },
  {
   "cell_type": "code",
   "execution_count": null,
   "metadata": {},
   "outputs": [],
   "source": [
    "def compare_images(original_path: Path, compressed_path: Path) -> None:\n",
    "    original = tio.ScalarImage(original_path)\n",
    "    compressed = tio.ScalarImage(compressed_path)\n",
    "    both = tio.Subject({\"Original\": original, \"Compressed\": compressed})\n",
    "    both.plot(figsize=(10, 6))\n",
    "\n",
    "\n",
    "from_jvol_path = Path(\"colin27_t1_tal_hires_from_jvol.nii\")\n",
    "compare_images(nii_path, from_jvol_path)"
   ]
  },
  {
   "cell_type": "markdown",
   "metadata": {},
   "source": [
    "They look quite similar, so it seems that this amount of compression might be acceptable for certain applications.\n",
    "Can we push the compression ratio even further?\n",
    "Let's use a smaller quality setting."
   ]
  },
  {
   "cell_type": "code",
   "execution_count": null,
   "metadata": {},
   "outputs": [],
   "source": [
    "%%bash\n",
    "jvol colin27_t1_tal_hires.nii colin27_t1_tal_hires_low_quality.jvol --quality 5"
   ]
  },
  {
   "cell_type": "markdown",
   "metadata": {},
   "source": [
    "Again, let's convert back so TorchIO can read it."
   ]
  },
  {
   "cell_type": "code",
   "execution_count": null,
   "metadata": {},
   "outputs": [],
   "source": [
    "%%bash\n",
    "jvol colin27_t1_tal_hires_low_quality.jvol colin27_t1_tal_hires_low_quality.nii"
   ]
  },
  {
   "cell_type": "code",
   "execution_count": null,
   "metadata": {},
   "outputs": [],
   "source": [
    "from_jvol_tiny_path = Path(\"colin27_t1_tal_hires_low_quality.nii\")\n",
    "compare_images(nii_path, from_jvol_tiny_path)"
   ]
  },
  {
   "cell_type": "markdown",
   "metadata": {},
   "source": [
    "The artifacts are slightly noticeable this time, but the image is visually still very similar.\n",
    "Let's see how much we've compressed the original image."
   ]
  },
  {
   "cell_type": "code",
   "execution_count": null,
   "metadata": {},
   "outputs": [],
   "source": [
    "jvol_tiny_path = Path(\"colin27_t1_tal_hires_low_quality.jvol\")\n",
    "compare_sizes(nii_path, jvol_tiny_path)"
   ]
  }
 ],
 "metadata": {
  "kernelspec": {
   "display_name": ".venv",
   "language": "python",
   "name": "python3"
  },
  "language_info": {
   "codemirror_mode": {
    "name": "ipython",
    "version": 3
   },
   "file_extension": ".py",
   "mimetype": "text/x-python",
   "name": "python",
   "nbconvert_exporter": "python",
   "pygments_lexer": "ipython3",
   "version": "3.11.9"
  }
 },
 "nbformat": 4,
 "nbformat_minor": 2
}
