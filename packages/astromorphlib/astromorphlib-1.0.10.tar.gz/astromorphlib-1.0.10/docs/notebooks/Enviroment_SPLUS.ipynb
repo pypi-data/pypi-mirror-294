{
 "cells": [
  {
   "cell_type": "code",
   "execution_count": null,
   "id": "6582f14d-7ddb-45c3-80fc-59f3417c748c",
   "metadata": {},
   "outputs": [],
   "source": [
    "# if psf_survey == 'splus':\n",
    "    #     nuser_list = []\n",
    "    #     for i in user_list:\n",
    "    #         nuser_list.append(gal + i)\n",
    "    #     print(\"\"\"\\nSL.simbad_plot('{}', tab_gal, conn, size_image_phy=100,\n",
    "    #                           table=output,  user_order={},\n",
    "    #                           user_text={}, xtpos=60, ytpos=10,\n",
    "    #                           deltay=10, savefig='yes', itsconsider='yes',\n",
    "    #                           Nmembers={})\"\"\".format(gal, user_order, nuser_list,\n",
    "    #                           len(user_order)))"
   ]
  },
  {
   "cell_type": "code",
   "execution_count": null,
   "id": "70963644-f2cb-4498-88e3-3f8e1eef0ae7",
   "metadata": {},
   "outputs": [],
   "source": [
    "    ####################################\n",
    "    # Pritting Enviromente information #\n",
    "    ####################################\n",
    "\n",
    "    if env_info=='yes':\n",
    "        outsimbad = simbad_cat (gal, tab_gal, size_image_phy=radsimbad,\n",
    "                                region=region, limtvel=limtvel, server=server)\n",
    "        simbad_plot(gal, tab_gal, conn, size_image_phy=radsimbad,\n",
    "                    table=outsimbad, add_object=False, xtpos=xtpos, ytpos=ytpos,\n",
    "                    deltay=deltay, miny = miny, print_arp='no',\n",
    "                    print_scale='no', simbadima=simbadima, band=band)"
   ]
  },
  {
   "cell_type": "code",
   "execution_count": null,
   "id": "801a7bd5-38ee-44a8-8d68-a5515666bf54",
   "metadata": {},
   "outputs": [],
   "source": [
    "    radsimbad = field_size_phy\n",
    "    if  size_image_phy > radsimbad:\n",
    "        radsimbad = size_image_phy"
   ]
  },
  {
   "cell_type": "code",
   "execution_count": null,
   "id": "ec176b45-bbe3-41b7-b5f3-701de083c9b7",
   "metadata": {},
   "outputs": [],
   "source": [
    "\n",
    "\n",
    " env_info='no', region='circle', server=None, limtvel=500,\n",
    "                 xtpos=10, ytpos=20, deltay=10, miny = 20, simbadima='no',\n",
    "                 field_size_phy=99,\n",
    "\n",
    "\n",
    "\n",
    "\n",
    "\n",
    "env_info='no', region='circle', server=None, limtvel=500,\n",
    "                xtpos=10, ytpos=20, deltay=10, miny=20, simbadima='no',\n",
    "                field_size_phy=99, sizet=20,\n",
    "\n",
    "\n",
    "\n",
    "- env_info: Include environment information ('yes' or 'no', default: 'no').\n",
    "    - region: Region shape for query region ('circle' or 'box',\n",
    "              default: 'circle').\n",
    "    - server: Server name for query execution (default: None).\n",
    "    - limtvel: Maximum delta velocity limit (km/s) of the radial velocity for\n",
    "               the companion  galaxies (default: 500).\n",
    "    - xtpos: X-coordinate position in pix for label object offset (default: 10).\n",
    "    - ytpos: Y-coordinate position in pix for label object offset (default: 20).\n",
    "    - deltay: Delta Y-position for labels of object with close X-coordinates\n",
    "              (default: 10).\n",
    "    - miny: Minimum separation in Y-coordinates for activate the deltay\n",
    "            (default: 20).\n",
    "    - simbadima: Include Simbad image ('yes' or 'no', default: 'no').\n",
    "    - field_size_phy: Physical size of the field in kpc units (default: 99)."
   ]
  },
  {
   "cell_type": "code",
   "execution_count": null,
   "id": "2237afa9-a5b4-4e92-b4d3-6e788b980986",
   "metadata": {},
   "outputs": [],
   "source": [
    "if simbadima=='no':\n",
    "            path = 'images_100k/' + tab_gal[\"GAL\"][idg] + '_100_kpc_radius.png'\n",
    "        else:\n",
    "            path = 'images/{}_simbad_{}kpc.png'.format(gal, radsimbad)\n",
    "        if not os.path.exists(path):\n",
    "            print ('\\nThe image of 100 kpc is not available')"
   ]
  },
  {
   "cell_type": "code",
   "execution_count": null,
   "id": "45a13a28-48ff-427d-ac3f-d0b671ca9707",
   "metadata": {},
   "outputs": [],
   "source": [
    "else:\n",
    "            ima100=plt.imread(path)\n",
    "            fig=plt.figure(figsize=(17,8))\n",
    "            plt.subplot(121)\n",
    "            plt.imshow(ima50,extent=np.array([-1,1,-1,1])*size_image_kpc)\n",
    "            plt.grid()\n",
    "            plt.xlabel('x (kpc)')\n",
    "            plt.minorticks_on()\n",
    "            plt.subplot(122)\n",
    "            if simbadima=='no':\n",
    "                size_image=((100/arc_kpc)/sc_imag)*2\n",
    "                size_image_kpc = int(size_image)*0.5*sc_imag*arc_kpc\n",
    "            else:\n",
    "                size_image= 300\n",
    "                pix_scima = ((radsimbad*2)/arc_kpc)/size_image\n",
    "                size_image_kpc = int(size_image)*0.5*pix_scima*arc_kpc\n",
    "            plt.imshow(ima100, extent=np.array([-1,1,-1,1])*size_image_kpc)\n",
    "            plt.grid()\n",
    "            plt.xlabel('x (kpc)')\n",
    "            plt.minorticks_on()\n",
    "            plt.show()"
   ]
  }
 ],
 "metadata": {
  "kernelspec": {
   "display_name": "Python 3 (ipykernel)",
   "language": "python",
   "name": "python3"
  },
  "language_info": {
   "codemirror_mode": {
    "name": "ipython",
    "version": 3
   },
   "file_extension": ".py",
   "mimetype": "text/x-python",
   "name": "python",
   "nbconvert_exporter": "python",
   "pygments_lexer": "ipython3",
   "version": "3.12.4"
  }
 },
 "nbformat": 4,
 "nbformat_minor": 5
}
