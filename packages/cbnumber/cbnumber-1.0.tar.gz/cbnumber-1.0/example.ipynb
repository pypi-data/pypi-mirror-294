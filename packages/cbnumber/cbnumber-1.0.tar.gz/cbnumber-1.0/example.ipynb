{
 "cells": [
  {
   "cell_type": "code",
   "execution_count": 37,
   "metadata": {},
   "outputs": [
    {
     "data": {
      "text/plain": [
       "[bn]: 11011110"
      ]
     },
     "execution_count": 37,
     "metadata": {},
     "output_type": "execute_result"
    }
   ],
   "source": [
    "from cbnumber import NumberBase, Bases\n",
    "\n",
    "n = NumberBase(222, \"01\")\n",
    "n"
   ]
  },
  {
   "cell_type": "code",
   "execution_count": 38,
   "metadata": {},
   "outputs": [
    {
     "name": "stdout",
     "output_type": "stream",
     "text": [
      "[bn]: 11011110\n",
      "bn+1: 11011111\n",
      "hex: DE\n",
      "decimal: 222\n",
      "object: [<built-in function print>, '2', <built-in function print>, <class 'type'>]\n",
      "base 4: 3132\n",
      "\n",
      "iter through the digits of the number:\n",
      "1, 1, 0, 1, 1, 1, 1, 0, "
     ]
    }
   ],
   "source": [
    "print(repr(n))\n",
    "print(\"bn+1:\", n+1)\n",
    "print(\"hex:\", n.to_base(Bases.HEXADECIMAL))\n",
    "print(\"decimal:\", n.to_base(Bases.DECIMAL))\n",
    "print(\"object:\", list(n.to_base([1, \"2\", type, print])))\n",
    "print(\"base 4:\", n.to_base(list(range(4))))\n",
    "print()\n",
    "print(\"iter through the digits of the number:\")\n",
    "\n",
    "for x in n:\n",
    "    print(x, end=\", \")"
   ]
  },
  {
   "cell_type": "code",
   "execution_count": 39,
   "metadata": {},
   "outputs": [
    {
     "name": "stdout",
     "output_type": "stream",
     "text": [
      "From pickle data:\n",
      "[bn]: 11011110\n"
     ]
    }
   ],
   "source": [
    "import pickle\n",
    "d = pickle.dumps(n)\n",
    "print(\"From pickle data:\")\n",
    "print(repr(pickle.loads(d)))"
   ]
  }
 ],
 "metadata": {
  "kernelspec": {
   "display_name": "Python 3",
   "language": "python",
   "name": "python3"
  },
  "language_info": {
   "codemirror_mode": {
    "name": "ipython",
    "version": 3
   },
   "file_extension": ".py",
   "mimetype": "text/x-python",
   "name": "python",
   "nbconvert_exporter": "python",
   "pygments_lexer": "ipython3",
   "version": "3.12.0"
  }
 },
 "nbformat": 4,
 "nbformat_minor": 2
}
