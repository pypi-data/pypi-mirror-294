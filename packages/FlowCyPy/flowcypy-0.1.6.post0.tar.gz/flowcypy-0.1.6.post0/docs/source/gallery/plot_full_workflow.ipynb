{
  "cells": [
    {
      "cell_type": "markdown",
      "metadata": {},
      "source": [
        "\n# Simulating and Analyzing Flow Cytometer Signals\n\nThis script demonstrates how to simulate flow cytometer signals using the `FlowCytometer` class\nand analyze the results using the `PulseAnalyzer` class from the `FlowCyPy` library.\n\nFlow cytometers measure forward scatter (FSC) and side scatter (SSC) signals when particles pass through a laser beam,\nproviding information about particle size, complexity, and other characteristics.\n\n## Steps in this Workflow:\n1. Define a particle size distribution using `ScattererDistribution`.\n2. Simulate flow cytometer signals using `FlowCytometer`.\n3. Analyze the forward scatter signal with `PulseAnalyzer` to extract features like peak height, width, and area.\n4. Visualize the generated signals and display the extracted pulse features.\n"
      ]
    },
    {
      "cell_type": "code",
      "execution_count": null,
      "metadata": {
        "collapsed": false
      },
      "outputs": [],
      "source": [
        "# Step 1: Import necessary modules from FlowCyPy\nfrom FlowCyPy import FlowCytometer, ScattererDistribution, PulseAnalyzer, Detector, Source\n\n# Step 2: Define the particle size distribution\n# ---------------------------------------------\n# Using a lognormal size distribution with a mean of 10 \u00b5m and a standard deviation of 0.8 \u00b5m.\nscatterer_distribution = ScattererDistribution(\n    particle_density=10e6,         # 10 million particles per cubic meter\n    mean_size=10e-6,               # Mean particle size: 10 \u00b5m\n    std_size=8e-7,                 # Standard deviation: 0.8 \u00b5m\n    distribution_type='lognormal'  # Lognormal distribution\n)\n\nsource = Source(\n    wavelength=1550e-9,    # Wavelenght of the laser source: 1550 nm\n    optical_power=200e-3,  # Optical power of the laser source: 200 milliwatt\n)\n\ndetector = Detector(\n    name='first detector',\n    acquisition_frequency=1e4,  # Sampling frequency: 10,000 Hz\n    noise_level=0.00,           # Signal noise level: 0.5 volts\n    baseline_shift=0.00,        # Signal noise level: 0.5 volts\n    saturation_level=1e3,       # Signal saturation at 1000 volts\n    n_bins=1024                 # Discretization bins: 1024\n)\n\n# Step 3: Simulate Flow Cytometer Signals\n# ---------------------------------------\n# Create a FlowCytometer instance to simulate FSC/SSC signals with defined parameters.\ncytometer = FlowCytometer(\n    source=source,\n    flow_speed=80e-6,                # Flow speed: 80 \u00b5m/s\n    flow_area=1,                     # Flow area: 1 m\u00b2\n    total_time=0.5,                  # Simulation time: 0.5 seconds\n    scatterer_distribution=scatterer_distribution,  # Using the defined particle size distribution\n    detectors=[detector]             # Detectors to add to the system\n)\n\n# Generate simulated pulses for the FSC and SSC channels\ncytometer.simulate_pulse()\n\n# Display the properties of the simulated cytometer\ncytometer.print_properties()\n\n# Visualize the generated signals\ncytometer.plot()\n\n# Step 4: Analyze the Simulated FSC Signal\n# ----------------------------------------\n# Create a PulseAnalyzer to extract features like peak height, width, and area from the FSC signal.\nanalyzer = PulseAnalyzer(\n    detector=detector,        # Time detector to analyze the signal from\n    height_threshold=None     # Threshold for detecting peaks\n)\n\n# # Run the analysis to detect and measure pulse features\nanalyzer.run()\n\nanalyzer.plot()\n\n# # Display the extracted peak features such as height, width, and area\nanalyzer.display_features()\n\n\"\"\"\nSummary:\n--------\nThis script simulates flow cytometer signals, processes them to detect peaks in the forward scatter channel,\nand extracts important features. The process is visualized through signal plots, and key properties are displayed.\n\"\"\""
      ]
    }
  ],
  "metadata": {
    "kernelspec": {
      "display_name": "Python 3",
      "language": "python",
      "name": "python3"
    },
    "language_info": {
      "codemirror_mode": {
        "name": "ipython",
        "version": 3
      },
      "file_extension": ".py",
      "mimetype": "text/x-python",
      "name": "python",
      "nbconvert_exporter": "python",
      "pygments_lexer": "ipython3",
      "version": "3.11.0"
    }
  },
  "nbformat": 4,
  "nbformat_minor": 0
}