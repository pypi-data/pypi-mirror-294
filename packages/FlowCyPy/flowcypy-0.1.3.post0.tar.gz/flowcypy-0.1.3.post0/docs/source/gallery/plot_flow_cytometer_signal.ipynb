{
  "cells": [
    {
      "cell_type": "markdown",
      "metadata": {},
      "source": [
        "\n# Simulating Flow Cytometer Signals\n\nThis example demonstrates how to simulate signals from a flow cytometer using\nthe `FlowCytometer` class.\n\nFlow cytometers generate signals (e.g., forward scatter and side scatter) when\nparticles pass through a laser beam. These signals can be analyzed to obtain\ninformation about the size, complexity, and other properties of the particles.\n"
      ]
    },
    {
      "cell_type": "code",
      "execution_count": null,
      "metadata": {
        "collapsed": false
      },
      "outputs": [],
      "source": [
        "# Import the necessary libraries\nfrom FlowCyPy import FlowCytometer\n\n# Create a FlowCytometer instance\ncytometer = FlowCytometer(\n    particle_density=1e6,\n    flow_speed=80e-6,\n    flow_area=1,\n    total_time=8,\n    acquisition_frequency=1e3,\n    noise_level=300,\n    baseline_shift=0.01,\n    saturation_level=100_000,\n    n_bins=100,\n)\n\n# Simulate the flow cytometer signals\ncytometer.simulate_pulse()\ncytometer.print_properties()\n\n# Plot the generated signals\ncytometer.plot()"
      ]
    },
    {
      "cell_type": "markdown",
      "metadata": {},
      "source": [
        "The above plot shows simulated raw signals for both Forward Scatter (FSC) and\nSide Scatter (SSC) channels. The signals include realistic features such as\nnoise, baseline shifts, and saturation effects.\n\nThese signals can be used as a basis for developing and testing signal\nprocessing algorithms in flow cytometry.\n\n"
      ]
    }
  ],
  "metadata": {
    "kernelspec": {
      "display_name": "Python 3",
      "language": "python",
      "name": "python3"
    },
    "language_info": {
      "codemirror_mode": {
        "name": "ipython",
        "version": 3
      },
      "file_extension": ".py",
      "mimetype": "text/x-python",
      "name": "python",
      "nbconvert_exporter": "python",
      "pygments_lexer": "ipython3",
      "version": "3.11.0"
    }
  },
  "nbformat": 4,
  "nbformat_minor": 0
}