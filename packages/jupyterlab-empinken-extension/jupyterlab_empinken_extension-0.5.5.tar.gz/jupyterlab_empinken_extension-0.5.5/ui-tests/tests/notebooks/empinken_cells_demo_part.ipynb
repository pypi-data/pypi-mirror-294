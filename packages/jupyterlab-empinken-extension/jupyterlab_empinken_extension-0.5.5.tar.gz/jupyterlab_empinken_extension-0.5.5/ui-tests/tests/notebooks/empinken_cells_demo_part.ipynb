{
 "cells": [
  {
   "cell_type": "markdown",
   "id": "049302c9-2584-4bbd-8b0e-690f0e925ec4",
   "metadata": {
    "tags": []
   },
   "source": [
    "# Empinken Display Test\n",
    "\n",
    "This cell has a normal background."
   ]
  },
  {
   "cell_type": "markdown",
   "id": "588fe880-b545-49c0-a7fe-0d8d4a7baef4",
   "metadata": {
    "tags": [
     "style-activity"
    ]
   },
   "source": [
    "### Example Activity\n",
    "\n",
    "These cells are tagged as `style-activity` cells."
   ]
  },
  {
   "cell_type": "code",
   "execution_count": 2,
   "id": "97b2d077-dc4c-4b95-9016-32d6592f6eb9",
   "metadata": {
    "tags": [
     "style-activity"
    ]
   },
   "outputs": [],
   "source": [
    "# These cells are tagged as `style-activity` cells."
   ]
  },
  {
   "cell_type": "markdown",
   "id": "c349ebfe-8509-426a-81dd-f7d54a5254c3",
   "metadata": {
    "tags": [
     "style-activity"
    ]
   },
   "source": [
    "These cells are tagged as `style-activity` cells."
   ]
  },
  {
   "cell_type": "markdown",
   "id": "ac6f6f67-47f3-4f2b-8483-2bb771e5c1c7",
   "metadata": {
    "tags": [
     "style-solution"
    ]
   },
   "source": [
    "### Example Solution\n",
    "\n",
    "These cells are tagged as `style-solution` cells."
   ]
  },
  {
   "cell_type": "code",
   "execution_count": 3,
   "id": "0b2b7902-4d25-4e83-b8bc-25e0ec78d7e5",
   "metadata": {
    "tags": [
     "style-solution"
    ]
   },
   "outputs": [],
   "source": [
    "# These cells are tagged as `style-solution` cells."
   ]
  },
  {
   "cell_type": "markdown",
   "id": "5a62b5e6-78dc-425b-8bb6-bcf2a21b3df6",
   "metadata": {
    "tags": [
     "style-solution"
    ]
   },
   "source": [
    "These cells are tagged as `style-solution` cells."
   ]
  },
  {
   "cell_type": "markdown",
   "id": "a54f964d-2d96-4ee9-b1de-187ffdbbf103",
   "metadata": {
    "tags": [
     "style-student",
     "style-learner"
    ]
   },
   "source": [
    "### Example Learner\n",
    "\n",
    "These cells are tagged as `style-student` cells."
   ]
  },
  {
   "cell_type": "code",
   "execution_count": 4,
   "id": "3f53d801-7c47-4304-9d1f-97e76cd33bc9",
   "metadata": {
    "tags": [
     "style-student",
     "style-learner"
    ]
   },
   "outputs": [],
   "source": [
    "# These cells are tagged as `style-student` cells."
   ]
  },
  {
   "cell_type": "markdown",
   "id": "c92d6695-7990-4b35-b518-26a5ce841cb4",
   "metadata": {
    "tags": [
     "style-student",
     "style-learner"
    ]
   },
   "source": [
    "These cells are tagged as `style-student` cells."
   ]
  },
  {
   "cell_type": "markdown",
   "id": "905c07ff-6437-4cfc-8918-80f4c151dc56",
   "metadata": {
    "tags": [
     "style-commentate",
     "style-tutor"
    ]
   },
   "source": [
    "### Example Tutor\n",
    "\n",
    "These cells are tagged as `style-commentate` cells."
   ]
  },
  {
   "cell_type": "code",
   "execution_count": 5,
   "id": "7d234698-3509-49fe-a094-100cbcaa5a7e",
   "metadata": {
    "tags": [
     "style-commentate",
     "style-tutor"
    ]
   },
   "outputs": [],
   "source": [
    "# These cells are tagged as `style-commentate` cells."
   ]
  },
  {
   "cell_type": "markdown",
   "id": "acd10aaf-9530-40f6-9f84-0b9fae472cee",
   "metadata": {
    "tags": [
     "style-commentate",
     "style-tutor"
    ]
   },
   "source": [
    "These cells are tagged as `style-commentate` cells."
   ]
  },
  {
   "cell_type": "markdown",
   "id": "8521444b-60ce-4162-9a8d-bbf3af3f52d7",
   "metadata": {},
   "source": [
    "This cell is not tagged."
   ]
  }
 ],
 "metadata": {
  "kernelspec": {
   "display_name": "Python 3 (ipykernel)",
   "language": "python",
   "name": "python3"
  },
  "language_info": {
   "codemirror_mode": {
    "name": "ipython",
    "version": 3
   },
   "file_extension": ".py",
   "mimetype": "text/x-python",
   "name": "python",
   "nbconvert_exporter": "python",
   "pygments_lexer": "ipython3",
   "version": "3.11.0"
  }
 },
 "nbformat": 4,
 "nbformat_minor": 5
}
