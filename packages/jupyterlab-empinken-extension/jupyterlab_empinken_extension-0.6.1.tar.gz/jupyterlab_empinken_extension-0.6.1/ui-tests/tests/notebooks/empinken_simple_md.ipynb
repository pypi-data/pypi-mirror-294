{
 "cells": [
  {
   "cell_type": "markdown",
   "metadata": {},
   "source": [
    "No tagstyle"
   ]
  },
  {
   "cell_type": "markdown",
   "metadata": {
    "tags": [
     "style-activity"
    ]
   },
   "source": [
    "Activity cell - style-activity"
   ]
  },
  {
   "cell_type": "markdown",
   "metadata": {
    "tags": [
     "style-solution"
    ]
   },
   "source": [
    "Solution tag - style-solution"
   ]
  },
  {
   "cell_type": "markdown",
   "metadata": {
    "tags": [
     "style-student"
    ]
   },
   "source": [
    "Learner tag - style-student"
   ]
  },
  {
   "cell_type": "markdown",
   "metadata": {
    "tags": [
     "style-commentate"
    ]
   },
   "source": [
    "Tutor tag - style-commentate"
   ]
  },
  {
   "cell_type": "markdown",
   "metadata": {},
   "source": [
    "No tagstyle\n"
   ]
  }
 ],
 "metadata": {
  "language_info": {
   "name": "python"
  }
 },
 "nbformat": 4,
 "nbformat_minor": 2
}
