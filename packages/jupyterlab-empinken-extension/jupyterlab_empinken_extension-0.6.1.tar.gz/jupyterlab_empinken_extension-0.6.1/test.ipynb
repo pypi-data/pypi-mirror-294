{
 "cells": [
  {
   "cell_type": "code",
   "execution_count": null,
   "id": "598e964e-8956-403e-85fb-d7d1c7cc2fa5",
   "metadata": {
    "editable": true,
    "slideshow": {
     "slide_type": ""
    },
    "tags": [
     "solution"
    ]
   },
   "outputs": [],
   "source": [
    "#tagged"
   ]
  },
  {
   "cell_type": "markdown",
   "id": "25d5106c-10bc-4d50-be97-6acdfe085353",
   "metadata": {
    "editable": true,
    "slideshow": {
     "slide_type": ""
    },
    "tags": [
     "test",
     "exercise",
     "solution"
    ]
   },
   "source": [
    "# tagged\n",
    "fdsfdfdf"
   ]
  },
  {
   "cell_type": "markdown",
   "id": "c61bcff7-1f08-4e55-bbc1-f9dbe5118513",
   "metadata": {
    "editable": true,
    "slideshow": {
     "slide_type": ""
    },
    "tags": [
     "test",
     "solution"
    ]
   },
   "source": [
    "sdsdsd"
   ]
  },
  {
   "cell_type": "code",
   "execution_count": null,
   "id": "89c4d74e-216c-4fe0-80dd-136da71c3814",
   "metadata": {
    "editable": true,
    "slideshow": {
     "slide_type": ""
    },
    "tags": [
     "test",
     "learner"
    ]
   },
   "outputs": [],
   "source": []
  }
 ],
 "metadata": {
  "kernelspec": {
   "display_name": "Python 3 (ipykernel)",
   "language": "python",
   "name": "python3"
  },
  "language_info": {
   "codemirror_mode": {
    "name": "ipython",
    "version": 3
   },
   "file_extension": ".py",
   "mimetype": "text/x-python",
   "name": "python",
   "nbconvert_exporter": "python",
   "pygments_lexer": "ipython3",
   "version": "3.11.0"
  }
 },
 "nbformat": 4,
 "nbformat_minor": 5
}
