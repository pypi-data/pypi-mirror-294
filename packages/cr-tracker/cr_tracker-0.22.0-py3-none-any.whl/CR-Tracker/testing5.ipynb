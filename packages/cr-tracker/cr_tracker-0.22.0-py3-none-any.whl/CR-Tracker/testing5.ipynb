{
 "cells": [
  {
   "cell_type": "code",
   "execution_count": 1,
   "id": "initial_id",
   "metadata": {
    "collapsed": true,
    "ExecuteTime": {
     "end_time": "2024-08-30T18:48:51.604564100Z",
     "start_time": "2024-08-30T18:48:51.149565Z"
    }
   },
   "outputs": [],
   "source": [
    "from main_ws import *\n",
    "import keyring"
   ]
  },
  {
   "cell_type": "code",
   "execution_count": 2,
   "outputs": [],
   "source": [
    "email = keyring.get_password(\"wealthsimple\", \"username\")\n",
    "password = keyring.get_password(\"wealthsimple\", \"password\")"
   ],
   "metadata": {
    "collapsed": false,
    "ExecuteTime": {
     "end_time": "2024-08-30T18:48:51.931567500Z",
     "start_time": "2024-08-30T18:48:51.822565100Z"
    }
   },
   "id": "8cc32abf4caffa14"
  },
  {
   "cell_type": "code",
   "execution_count": 3,
   "outputs": [
    {
     "name": "stderr",
     "output_type": "stream",
     "text": [
      "\u001B[32m2024-08-30 14:48:52.477\u001B[0m | \u001B[34m\u001B[1mDEBUG   \u001B[0m | \u001B[36mwsimple.api.requestor\u001B[0m:\u001B[36mrequestor\u001B[0m:\u001B[36m28\u001B[0m - \u001B[34m\u001B[1mLOGIN called\u001B[0m\n",
      "\u001B[32m2024-08-30 14:48:52.917\u001B[0m | \u001B[34m\u001B[1mDEBUG   \u001B[0m | \u001B[36mwsimple.api.requestor\u001B[0m:\u001B[36mrequestor\u001B[0m:\u001B[36m30\u001B[0m - \u001B[34m\u001B[1mLOGIN: 401\u001B[0m\n",
      "\u001B[32m2024-08-30 14:48:52.918\u001B[0m | \u001B[34m\u001B[1mDEBUG   \u001B[0m | \u001B[36mwsimple.api.api\u001B[0m:\u001B[36m__init__\u001B[0m:\u001B[36m141\u001B[0m - \u001B[34m\u001B[1mPre-login: 401/ b'{\"error\":\"Not authorized\"}'\u001B[0m\n",
      "\u001B[32m2024-08-30 14:49:00.218\u001B[0m | \u001B[34m\u001B[1mDEBUG   \u001B[0m | \u001B[36mwsimple.api.requestor\u001B[0m:\u001B[36mrequestor\u001B[0m:\u001B[36m28\u001B[0m - \u001B[34m\u001B[1mLOGIN called\u001B[0m\n",
      "\u001B[32m2024-08-30 14:49:00.687\u001B[0m | \u001B[34m\u001B[1mDEBUG   \u001B[0m | \u001B[36mwsimple.api.requestor\u001B[0m:\u001B[36mrequestor\u001B[0m:\u001B[36m30\u001B[0m - \u001B[34m\u001B[1mLOGIN: 200\u001B[0m\n",
      "\u001B[32m2024-08-30 14:49:00.688\u001B[0m | \u001B[1mINFO    \u001B[0m | \u001B[36mwsimple.api.api\u001B[0m:\u001B[36mwrap_manage_tokens\u001B[0m:\u001B[36m238\u001B[0m - \u001B[1mTokens: TokensBox(access_token='1CH0Wfv2yG8j2Wm2RpO2TIWvpH75OoK5ngZDVpX9vcU', refresh_token='AYClOq2t6ZAxdjYpRPYEkvBV67OiKf9ATcGY3iIEpu4', access_expires=datetime.datetime(2024, 8, 30, 16, 49)) () {'limit': 99, 'type': ['deposit', 'withdrawal']}\u001B[0m\n",
      "\u001B[32m2024-08-30 14:49:00.689\u001B[0m | \u001B[34m\u001B[1mDEBUG   \u001B[0m | \u001B[36mwsimple.api.api\u001B[0m:\u001B[36mwrap_manage_tokens\u001B[0m:\u001B[36m241\u001B[0m - \u001B[34m\u001B[1mReset in -> 1:59:59.310182\u001B[0m\n",
      "\u001B[32m2024-08-30 14:49:00.707\u001B[0m | \u001B[34m\u001B[1mDEBUG   \u001B[0m | \u001B[36mwsimple.api.requestor\u001B[0m:\u001B[36mrequestor\u001B[0m:\u001B[36m28\u001B[0m - \u001B[34m\u001B[1mGET_ACTIVITES called\u001B[0m\n",
      "\u001B[32m2024-08-30 14:49:01.050\u001B[0m | \u001B[34m\u001B[1mDEBUG   \u001B[0m | \u001B[36mwsimple.api.requestor\u001B[0m:\u001B[36mrequestor\u001B[0m:\u001B[36m30\u001B[0m - \u001B[34m\u001B[1mGET_ACTIVITES: 200\u001B[0m\n"
     ]
    }
   ],
   "source": [
    "df_ws=Wsimple_data(email, password)"
   ],
   "metadata": {
    "collapsed": false,
    "ExecuteTime": {
     "end_time": "2024-08-30T18:49:01.087816400Z",
     "start_time": "2024-08-30T18:48:52.460563700Z"
    }
   },
   "id": "3e9d726da07453ca"
  },
  {
   "cell_type": "code",
   "execution_count": 4,
   "outputs": [
    {
     "data": {
      "text/plain": "   Year      type  netAmount\n0  2023  Deposits    1636.00\n1  2024  Deposits   20086.15",
      "text/html": "<div>\n<style scoped>\n    .dataframe tbody tr th:only-of-type {\n        vertical-align: middle;\n    }\n\n    .dataframe tbody tr th {\n        vertical-align: top;\n    }\n\n    .dataframe thead th {\n        text-align: right;\n    }\n</style>\n<table border=\"1\" class=\"dataframe\">\n  <thead>\n    <tr style=\"text-align: right;\">\n      <th></th>\n      <th>Year</th>\n      <th>type</th>\n      <th>netAmount</th>\n    </tr>\n  </thead>\n  <tbody>\n    <tr>\n      <th>0</th>\n      <td>2023</td>\n      <td>Deposits</td>\n      <td>1636.00</td>\n    </tr>\n    <tr>\n      <th>1</th>\n      <td>2024</td>\n      <td>Deposits</td>\n      <td>20086.15</td>\n    </tr>\n  </tbody>\n</table>\n</div>"
     },
     "execution_count": 4,
     "metadata": {},
     "output_type": "execute_result"
    }
   ],
   "source": [
    "df_ws"
   ],
   "metadata": {
    "collapsed": false,
    "ExecuteTime": {
     "end_time": "2024-08-30T18:49:03.759818Z",
     "start_time": "2024-08-30T18:49:03.736817800Z"
    }
   },
   "id": "35af7752aeeee4bc"
  },
  {
   "cell_type": "code",
   "execution_count": 5,
   "outputs": [
    {
     "name": "stdout",
     "output_type": "stream",
     "text": [
      "start_year is 2024\n",
      "Today's date: 2024-08-30\n",
      "Your current contribution room is: $72560.67000000001\n",
      "Next Year's Contribution room on Jan 1 2025 is:  $79560.67000000001\n"
     ]
    }
   ],
   "source": [
    "a, b, df_cr = contribution_room_ws(df_ws, given_year=2024, given_contr_room=92646.82)"
   ],
   "metadata": {
    "collapsed": false,
    "ExecuteTime": {
     "end_time": "2024-08-30T18:49:10.575819600Z",
     "start_time": "2024-08-30T18:49:10.549819Z"
    }
   },
   "id": "e225e51e8a1732c"
  },
  {
   "cell_type": "markdown",
   "source": [],
   "metadata": {
    "collapsed": false
   },
   "id": "84d98548431de8b3"
  },
  {
   "cell_type": "code",
   "execution_count": 6,
   "outputs": [
    {
     "data": {
      "text/plain": "   New_Year_Dollar_Limit  Contr_Room_Jan1  Year  Deposits  Withdrawals  \\\n0                   7000         92646.82  2024  20086.15          0.0   \n1                   7000         79560.67  2025      0.00          0.0   \n\n   Current_Contr_Room  \n0            72560.67  \n1            79560.67  ",
      "text/html": "<div>\n<style scoped>\n    .dataframe tbody tr th:only-of-type {\n        vertical-align: middle;\n    }\n\n    .dataframe tbody tr th {\n        vertical-align: top;\n    }\n\n    .dataframe thead th {\n        text-align: right;\n    }\n</style>\n<table border=\"1\" class=\"dataframe\">\n  <thead>\n    <tr style=\"text-align: right;\">\n      <th></th>\n      <th>New_Year_Dollar_Limit</th>\n      <th>Contr_Room_Jan1</th>\n      <th>Year</th>\n      <th>Deposits</th>\n      <th>Withdrawals</th>\n      <th>Current_Contr_Room</th>\n    </tr>\n  </thead>\n  <tbody>\n    <tr>\n      <th>0</th>\n      <td>7000</td>\n      <td>92646.82</td>\n      <td>2024</td>\n      <td>20086.15</td>\n      <td>0.0</td>\n      <td>72560.67</td>\n    </tr>\n    <tr>\n      <th>1</th>\n      <td>7000</td>\n      <td>79560.67</td>\n      <td>2025</td>\n      <td>0.00</td>\n      <td>0.0</td>\n      <td>79560.67</td>\n    </tr>\n  </tbody>\n</table>\n</div>"
     },
     "execution_count": 6,
     "metadata": {},
     "output_type": "execute_result"
    }
   ],
   "source": [
    "df_cr"
   ],
   "metadata": {
    "collapsed": false,
    "ExecuteTime": {
     "end_time": "2024-08-30T18:49:14.030816600Z",
     "start_time": "2024-08-30T18:49:14.012817100Z"
    }
   },
   "id": "cab38e5aee623a9d"
  },
  {
   "cell_type": "code",
   "execution_count": null,
   "outputs": [],
   "source": [],
   "metadata": {
    "collapsed": false
   },
   "id": "8a9e8052cad5c233"
  }
 ],
 "metadata": {
  "kernelspec": {
   "display_name": "Python 3",
   "language": "python",
   "name": "python3"
  },
  "language_info": {
   "codemirror_mode": {
    "name": "ipython",
    "version": 2
   },
   "file_extension": ".py",
   "mimetype": "text/x-python",
   "name": "python",
   "nbconvert_exporter": "python",
   "pygments_lexer": "ipython2",
   "version": "2.7.6"
  }
 },
 "nbformat": 4,
 "nbformat_minor": 5
}
