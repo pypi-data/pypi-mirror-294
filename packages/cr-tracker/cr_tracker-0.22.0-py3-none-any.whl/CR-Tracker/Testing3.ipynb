{
 "cells": [
  {
   "cell_type": "code",
   "execution_count": 8,
   "id": "initial_id",
   "metadata": {
    "collapsed": true,
    "ExecuteTime": {
     "end_time": "2024-08-30T16:50:05.433822300Z",
     "start_time": "2024-08-30T16:50:05.411825800Z"
    }
   },
   "outputs": [],
   "source": [
    "from main_ws import *"
   ]
  },
  {
   "cell_type": "code",
   "execution_count": 2,
   "outputs": [],
   "source": [
    "import keyring"
   ],
   "metadata": {
    "collapsed": false,
    "ExecuteTime": {
     "end_time": "2024-08-30T16:31:55.481195800Z",
     "start_time": "2024-08-30T16:31:55.449193500Z"
    }
   },
   "id": "a9439e6118199486"
  },
  {
   "cell_type": "code",
   "execution_count": 3,
   "outputs": [],
   "source": [
    "email = keyring.get_password(\"wealthsimple\", \"username\")\n",
    "password = keyring.get_password(\"wealthsimple\", \"password\")"
   ],
   "metadata": {
    "collapsed": false,
    "ExecuteTime": {
     "end_time": "2024-08-30T16:31:56.700193300Z",
     "start_time": "2024-08-30T16:31:56.549192900Z"
    }
   },
   "id": "8c3241aae44476e8"
  },
  {
   "cell_type": "code",
   "execution_count": 4,
   "outputs": [
    {
     "name": "stderr",
     "output_type": "stream",
     "text": [
      "\u001B[32m2024-08-30 12:31:57.625\u001B[0m | \u001B[34m\u001B[1mDEBUG   \u001B[0m | \u001B[36mwsimple.api.requestor\u001B[0m:\u001B[36mrequestor\u001B[0m:\u001B[36m28\u001B[0m - \u001B[34m\u001B[1mLOGIN called\u001B[0m\n",
      "\u001B[32m2024-08-30 12:31:58.109\u001B[0m | \u001B[34m\u001B[1mDEBUG   \u001B[0m | \u001B[36mwsimple.api.requestor\u001B[0m:\u001B[36mrequestor\u001B[0m:\u001B[36m30\u001B[0m - \u001B[34m\u001B[1mLOGIN: 401\u001B[0m\n",
      "\u001B[32m2024-08-30 12:31:58.113\u001B[0m | \u001B[34m\u001B[1mDEBUG   \u001B[0m | \u001B[36mwsimple.api.api\u001B[0m:\u001B[36m__init__\u001B[0m:\u001B[36m141\u001B[0m - \u001B[34m\u001B[1mPre-login: 401/ b'{\"error\":\"Not authorized\"}'\u001B[0m\n",
      "\u001B[32m2024-08-30 12:32:21.923\u001B[0m | \u001B[34m\u001B[1mDEBUG   \u001B[0m | \u001B[36mwsimple.api.requestor\u001B[0m:\u001B[36mrequestor\u001B[0m:\u001B[36m28\u001B[0m - \u001B[34m\u001B[1mLOGIN called\u001B[0m\n",
      "\u001B[32m2024-08-30 12:32:22.438\u001B[0m | \u001B[34m\u001B[1mDEBUG   \u001B[0m | \u001B[36mwsimple.api.requestor\u001B[0m:\u001B[36mrequestor\u001B[0m:\u001B[36m30\u001B[0m - \u001B[34m\u001B[1mLOGIN: 200\u001B[0m\n",
      "\u001B[32m2024-08-30 12:32:22.439\u001B[0m | \u001B[1mINFO    \u001B[0m | \u001B[36mwsimple.api.api\u001B[0m:\u001B[36mwrap_manage_tokens\u001B[0m:\u001B[36m238\u001B[0m - \u001B[1mTokens: TokensBox(access_token='0CTOii317K4TS6wHnTc7d1ozwUNacV-vCTGA8SGI8nU', refresh_token='1qPbxq_HXopIMog3iP6RELtZzvL-i3clWP5Arpf6x6o', access_expires=datetime.datetime(2024, 8, 30, 14, 32, 22)) () {'limit': 99, 'type': ['deposit', 'withdrawal']}\u001B[0m\n",
      "\u001B[32m2024-08-30 12:32:22.440\u001B[0m | \u001B[34m\u001B[1mDEBUG   \u001B[0m | \u001B[36mwsimple.api.api\u001B[0m:\u001B[36mwrap_manage_tokens\u001B[0m:\u001B[36m241\u001B[0m - \u001B[34m\u001B[1mReset in -> 1:59:59.559884\u001B[0m\n",
      "\u001B[32m2024-08-30 12:32:22.461\u001B[0m | \u001B[34m\u001B[1mDEBUG   \u001B[0m | \u001B[36mwsimple.api.requestor\u001B[0m:\u001B[36mrequestor\u001B[0m:\u001B[36m28\u001B[0m - \u001B[34m\u001B[1mGET_ACTIVITES called\u001B[0m\n",
      "\u001B[32m2024-08-30 12:32:23.078\u001B[0m | \u001B[34m\u001B[1mDEBUG   \u001B[0m | \u001B[36mwsimple.api.requestor\u001B[0m:\u001B[36mrequestor\u001B[0m:\u001B[36m30\u001B[0m - \u001B[34m\u001B[1mGET_ACTIVITES: 200\u001B[0m\n"
     ]
    }
   ],
   "source": [
    "df_ws=Wsimple_data(email, password)"
   ],
   "metadata": {
    "collapsed": false,
    "ExecuteTime": {
     "end_time": "2024-08-30T16:32:23.130114100Z",
     "start_time": "2024-08-30T16:31:57.594196Z"
    }
   },
   "id": "73905832a3825086"
  },
  {
   "cell_type": "code",
   "execution_count": 9,
   "outputs": [
    {
     "data": {
      "text/plain": "   Year      type  netAmount\n0  2023  Deposits    1636.00\n1  2024  Deposits   20086.15",
      "text/html": "<div>\n<style scoped>\n    .dataframe tbody tr th:only-of-type {\n        vertical-align: middle;\n    }\n\n    .dataframe tbody tr th {\n        vertical-align: top;\n    }\n\n    .dataframe thead th {\n        text-align: right;\n    }\n</style>\n<table border=\"1\" class=\"dataframe\">\n  <thead>\n    <tr style=\"text-align: right;\">\n      <th></th>\n      <th>Year</th>\n      <th>type</th>\n      <th>netAmount</th>\n    </tr>\n  </thead>\n  <tbody>\n    <tr>\n      <th>0</th>\n      <td>2023</td>\n      <td>Deposits</td>\n      <td>1636.00</td>\n    </tr>\n    <tr>\n      <th>1</th>\n      <td>2024</td>\n      <td>Deposits</td>\n      <td>20086.15</td>\n    </tr>\n  </tbody>\n</table>\n</div>"
     },
     "execution_count": 9,
     "metadata": {},
     "output_type": "execute_result"
    }
   ],
   "source": [
    "df_ws"
   ],
   "metadata": {
    "collapsed": false,
    "ExecuteTime": {
     "end_time": "2024-08-30T16:50:18.957875700Z",
     "start_time": "2024-08-30T16:50:18.942875600Z"
    }
   },
   "id": "e7cfc9034676c790"
  },
  {
   "cell_type": "markdown",
   "source": [
    "## This Works now Yayy"
   ],
   "metadata": {
    "collapsed": false
   },
   "id": "b16e82d86b26f4a1"
  },
  {
   "cell_type": "code",
   "execution_count": 10,
   "outputs": [
    {
     "name": "stdout",
     "output_type": "stream",
     "text": [
      "start_year is 2024\n",
      "Questrade time is: {'code': 1017, 'message': 'Access token is invalid'}\n",
      "Successfully Connected to Questrade\n"
     ]
    },
    {
     "ename": "KeyError",
     "evalue": "'accounts'",
     "output_type": "error",
     "traceback": [
      "\u001B[1;31m---------------------------------------------------------------------------\u001B[0m",
      "\u001B[1;31mKeyError\u001B[0m                                  Traceback (most recent call last)",
      "\u001B[1;32m<ipython-input-10-5b3735e3c631>\u001B[0m in \u001B[0;36m<module>\u001B[1;34m\u001B[0m\n\u001B[1;32m----> 1\u001B[1;33m \u001B[0ma\u001B[0m\u001B[1;33m,\u001B[0m\u001B[0mb\u001B[0m\u001B[1;33m,\u001B[0m\u001B[0mdf_cr\u001B[0m\u001B[1;33m=\u001B[0m\u001B[0mcontribution_room\u001B[0m\u001B[1;33m(\u001B[0m\u001B[0mgiven_year\u001B[0m\u001B[1;33m=\u001B[0m\u001B[1;36m2024\u001B[0m\u001B[1;33m,\u001B[0m\u001B[0mgiven_contr_room\u001B[0m\u001B[1;33m=\u001B[0m\u001B[1;36m92646.82\u001B[0m\u001B[1;33m,\u001B[0m\u001B[0mdf_ws\u001B[0m\u001B[1;33m=\u001B[0m\u001B[0mdf_ws\u001B[0m\u001B[1;33m,\u001B[0m\u001B[0mtoken\u001B[0m\u001B[1;33m=\u001B[0m\u001B[1;34m'dfdsf'\u001B[0m\u001B[1;33m)\u001B[0m\u001B[1;33m\u001B[0m\u001B[1;33m\u001B[0m\u001B[0m\n\u001B[0m\u001B[0;32m      2\u001B[0m \u001B[1;33m\u001B[0m\u001B[0m\n",
      "\u001B[1;32m~\\PycharmProjects\\CR-Tracker\\build\\lib\\CR-Tracker\\main_ws.py\u001B[0m in \u001B[0;36mcontribution_room\u001B[1;34m(given_year, given_contr_room, open_year, birth_year, token, df_ws)\u001B[0m\n\u001B[0;32m    171\u001B[0m     \u001B[1;32mif\u001B[0m \u001B[0mstart_year\u001B[0m \u001B[1;33m==\u001B[0m \u001B[1;36m2009\u001B[0m\u001B[1;33m:\u001B[0m\u001B[1;33m\u001B[0m\u001B[1;33m\u001B[0m\u001B[0m\n\u001B[0;32m    172\u001B[0m         \u001B[0mprint\u001B[0m\u001B[1;33m(\u001B[0m\u001B[1;34m'WARNING: A valid year was not input as open_year or given_year. THIS WILL TAKE A VERY LONG TIME.'\u001B[0m\u001B[1;33m)\u001B[0m\u001B[1;33m\u001B[0m\u001B[1;33m\u001B[0m\u001B[0m\n\u001B[1;32m--> 173\u001B[1;33m     \u001B[1;32mtry\u001B[0m\u001B[1;33m:\u001B[0m\u001B[1;33m\u001B[0m\u001B[1;33m\u001B[0m\u001B[0m\n\u001B[0m\u001B[0;32m    174\u001B[0m         \u001B[0mdf\u001B[0m \u001B[1;33m=\u001B[0m \u001B[0mcreate_df\u001B[0m\u001B[1;33m(\u001B[0m\u001B[0mstart\u001B[0m\u001B[1;33m=\u001B[0m\u001B[1;33m(\u001B[0m\u001B[0mstr\u001B[0m\u001B[1;33m(\u001B[0m\u001B[0mstart_year\u001B[0m\u001B[1;33m)\u001B[0m \u001B[1;33m+\u001B[0m \u001B[1;34m'-01-01'\u001B[0m\u001B[1;33m)\u001B[0m\u001B[1;33m,\u001B[0m \u001B[0mtoken\u001B[0m\u001B[1;33m=\u001B[0m\u001B[0mtoken\u001B[0m\u001B[1;33m)\u001B[0m\u001B[1;33m\u001B[0m\u001B[1;33m\u001B[0m\u001B[0m\n\u001B[0;32m    175\u001B[0m     \u001B[1;32mexcept\u001B[0m\u001B[1;33m:\u001B[0m\u001B[1;33m\u001B[0m\u001B[1;33m\u001B[0m\u001B[0m\n",
      "\u001B[1;32m~\\PycharmProjects\\CR-Tracker\\build\\lib\\CR-Tracker\\main_ws.py\u001B[0m in \u001B[0;36mcreate_df\u001B[1;34m(start, end, account_type, token)\u001B[0m\n\u001B[0;32m     52\u001B[0m     \u001B[0mq\u001B[0m \u001B[1;33m=\u001B[0m \u001B[0mconnect_questrade\u001B[0m\u001B[1;33m(\u001B[0m\u001B[0mtoken\u001B[0m\u001B[1;33m)\u001B[0m\u001B[1;33m\u001B[0m\u001B[1;33m\u001B[0m\u001B[0m\n\u001B[0;32m     53\u001B[0m     \u001B[1;31m# Return the account list and Questrade Object which will be reused to grab the activity\u001B[0m\u001B[1;33m\u001B[0m\u001B[1;33m\u001B[0m\u001B[1;33m\u001B[0m\u001B[0m\n\u001B[1;32m---> 54\u001B[1;33m     \u001B[0maccount_list\u001B[0m\u001B[1;33m=\u001B[0m \u001B[0mget_account_numbers_list\u001B[0m\u001B[1;33m(\u001B[0m\u001B[0mq\u001B[0m\u001B[1;33m,\u001B[0m \u001B[0maccount_type\u001B[0m\u001B[1;33m)\u001B[0m\u001B[1;33m\u001B[0m\u001B[1;33m\u001B[0m\u001B[0m\n\u001B[0m\u001B[0;32m     55\u001B[0m     \u001B[0mprint\u001B[0m\u001B[1;33m(\u001B[0m\u001B[0maccount_type\u001B[0m\u001B[1;33m,\u001B[0m \u001B[1;34m'account list:'\u001B[0m\u001B[1;33m,\u001B[0m \u001B[0maccount_list\u001B[0m\u001B[1;33m)\u001B[0m\u001B[1;33m\u001B[0m\u001B[1;33m\u001B[0m\u001B[0m\n\u001B[0;32m     56\u001B[0m     \u001B[0mdate_range\u001B[0m \u001B[1;33m=\u001B[0m \u001B[0mcreate_date_list\u001B[0m\u001B[1;33m(\u001B[0m\u001B[0mstart\u001B[0m\u001B[1;33m,\u001B[0m \u001B[0mend\u001B[0m\u001B[1;33m)\u001B[0m\u001B[1;33m\u001B[0m\u001B[1;33m\u001B[0m\u001B[0m\n",
      "\u001B[1;32m~\\PycharmProjects\\CR-Tracker\\build\\lib\\CR-Tracker\\main_ws.py\u001B[0m in \u001B[0;36mget_account_numbers_list\u001B[1;34m(q, account_type)\u001B[0m\n\u001B[0;32m     33\u001B[0m \u001B[1;33m\u001B[0m\u001B[0m\n\u001B[0;32m     34\u001B[0m \u001B[1;32mdef\u001B[0m \u001B[0mget_account_numbers_list\u001B[0m\u001B[1;33m(\u001B[0m\u001B[0mq\u001B[0m\u001B[1;33m,\u001B[0m\u001B[0maccount_type\u001B[0m\u001B[1;33m=\u001B[0m\u001B[1;34m'TFSA'\u001B[0m\u001B[1;33m)\u001B[0m\u001B[1;33m:\u001B[0m\u001B[1;33m\u001B[0m\u001B[1;33m\u001B[0m\u001B[0m\n\u001B[1;32m---> 35\u001B[1;33m     \u001B[0mdf_Accounts\u001B[0m\u001B[1;33m=\u001B[0m\u001B[0mpd\u001B[0m\u001B[1;33m.\u001B[0m\u001B[0mDataFrame\u001B[0m\u001B[1;33m(\u001B[0m\u001B[0mq\u001B[0m\u001B[1;33m.\u001B[0m\u001B[0maccounts\u001B[0m\u001B[1;33m[\u001B[0m\u001B[1;34m'accounts'\u001B[0m\u001B[1;33m]\u001B[0m\u001B[1;33m)\u001B[0m\u001B[1;33m\u001B[0m\u001B[1;33m\u001B[0m\u001B[0m\n\u001B[0m\u001B[0;32m     36\u001B[0m     \u001B[1;32mreturn\u001B[0m \u001B[0mdf_Accounts\u001B[0m\u001B[1;33m[\u001B[0m\u001B[0mdf_Accounts\u001B[0m\u001B[1;33m.\u001B[0m\u001B[0mtype\u001B[0m \u001B[1;33m==\u001B[0m \u001B[0maccount_type\u001B[0m\u001B[1;33m]\u001B[0m\u001B[1;33m.\u001B[0m\u001B[0mnumber\u001B[0m\u001B[1;33m.\u001B[0m\u001B[0mtolist\u001B[0m\u001B[1;33m(\u001B[0m\u001B[1;33m)\u001B[0m\u001B[1;33m\u001B[0m\u001B[1;33m\u001B[0m\u001B[0m\n\u001B[0;32m     37\u001B[0m \u001B[1;33m\u001B[0m\u001B[0m\n",
      "\u001B[1;31mKeyError\u001B[0m: 'accounts'"
     ]
    }
   ],
   "source": [
    "a,b,df_cr=contribution_room(given_year=2024,given_contr_room=92646.82,df_ws=df_ws,token='dfdsf')\n"
   ],
   "metadata": {
    "collapsed": false,
    "ExecuteTime": {
     "end_time": "2024-08-30T16:50:54.724875400Z",
     "start_time": "2024-08-30T16:50:54.128875400Z"
    }
   },
   "id": "1b86dc42807225a7"
  },
  {
   "cell_type": "raw",
   "source": [
    "Successfully Connected to Questrade\n",
    "TFSA account list: ['51732834', '51964746', '52056387']\n",
    "DatetimeIndex(['2024-01-31', '2024-02-29', '2024-03-31', '2024-04-30',\n",
    "               '2024-05-31', '2024-06-30', '2024-07-31', '2024-08-31'],\n",
    "              dtype='datetime64[ns]', freq='M')\n",
    "grabbing activity from 2024-01-31 00:00:00 to 2024-08-31 00:00:00 for TFSA: 51732834. Completed 0 % \n",
    "Processing 2024 for account 51732834\n",
    "grabbing activity from 2024-01-31 00:00:00 to 2024-08-31 00:00:00 for TFSA: 51964746. Completed 33 % \n",
    "Processing 2024 for account 51964746\n",
    "grabbing activity from 2024-01-31 00:00:00 to 2024-08-31 00:00:00 for TFSA: 52056387. Completed 66 % \n",
    "Processing 2024 for account 52056387\n",
    "Grabbing Activity Completed-100%\n",
    "Today's date: 2024-08-30\n",
    "Your current contribution room is: $67358.67000000001\n",
    "Next Year's Contribution room on Jan 1 2025 is:  $74358.67000000001"
   ],
   "metadata": {
    "collapsed": false
   },
   "id": "5c8e3a5d286d7df6"
  },
  {
   "cell_type": "code",
   "execution_count": 7,
   "outputs": [
    {
     "data": {
      "text/plain": "   New_Year_Dollar_Limit  Contr_Room_Jan1  Year  Deposits  Withdrawals  \\\n0                   7000         92646.82  2024  25288.15          0.0   \n1                   7000         74358.67  2025      0.00          0.0   \n\n   Current_Contr_Room  \n0            67358.67  \n1            74358.67  ",
      "text/html": "<div>\n<style scoped>\n    .dataframe tbody tr th:only-of-type {\n        vertical-align: middle;\n    }\n\n    .dataframe tbody tr th {\n        vertical-align: top;\n    }\n\n    .dataframe thead th {\n        text-align: right;\n    }\n</style>\n<table border=\"1\" class=\"dataframe\">\n  <thead>\n    <tr style=\"text-align: right;\">\n      <th></th>\n      <th>New_Year_Dollar_Limit</th>\n      <th>Contr_Room_Jan1</th>\n      <th>Year</th>\n      <th>Deposits</th>\n      <th>Withdrawals</th>\n      <th>Current_Contr_Room</th>\n    </tr>\n  </thead>\n  <tbody>\n    <tr>\n      <th>0</th>\n      <td>7000</td>\n      <td>92646.82</td>\n      <td>2024</td>\n      <td>25288.15</td>\n      <td>0.0</td>\n      <td>67358.67</td>\n    </tr>\n    <tr>\n      <th>1</th>\n      <td>7000</td>\n      <td>74358.67</td>\n      <td>2025</td>\n      <td>0.00</td>\n      <td>0.0</td>\n      <td>74358.67</td>\n    </tr>\n  </tbody>\n</table>\n</div>"
     },
     "execution_count": 7,
     "metadata": {},
     "output_type": "execute_result"
    }
   ],
   "source": [
    "df_cr\n"
   ],
   "metadata": {
    "collapsed": false,
    "ExecuteTime": {
     "end_time": "2024-08-30T16:33:05.601350900Z",
     "start_time": "2024-08-30T16:33:05.570354200Z"
    }
   },
   "id": "b6f462690e62df75"
  },
  {
   "cell_type": "code",
   "execution_count": 8,
   "outputs": [],
   "source": [
    "def contribution_room2(given_year=None, given_contr_room=None, open_year=2009, birth_year=1990, token=None,df_ws=None):\n",
    "    contr_start_year1 = contr_start_year(birth_year)\n",
    "\n",
    "    if given_year is None or given_contr_room is None:\n",
    "        given_year = None\n",
    "        given_contr_room = None\n",
    "\n",
    "    if given_year != None:\n",
    "        start_year = given_year\n",
    "        start_contr_room = given_contr_room\n",
    "    # If they inputted a valid open_year use the open year\n",
    "    elif open_year >= 2009:\n",
    "        start_year = open_year\n",
    "        start_contr_room = max_contr_room_Limit(birth_year, start_year)\n",
    "    # If the user did not input anything assume they are were born before 1990\n",
    "    ## and start year is 2009\n",
    "    else:\n",
    "        start_year = contr_start_year1\n",
    "        start_contr_room = max_contr_room_Limit(birth_year, start_year)\n",
    "\n",
    "    print(f'start_year is {start_year}')\n",
    "    #Raise error if start year is before 2009 or After the current year\n",
    "    if (start_year < 2009) or (start_year > date.today().year):\n",
    "        raise Exception('given year or open year is not Valid!')\n",
    "\n",
    "    ### Get the data with create_df\n",
    "    if start_year == 2009:\n",
    "        print('WARNING: A valid year was not input as open_year or given_year. THIS WILL TAKE A VERY LONG TIME.')\n",
    "    df = create_df(start=(str(start_year) + '-01-01'), token=token)\n",
    "\n",
    "    df1 = df.groupby(['Year', 'type'])['netAmount'].sum().reset_index()\n",
    "    return df1"
   ],
   "metadata": {
    "collapsed": false,
    "ExecuteTime": {
     "end_time": "2024-08-30T04:36:03.348634400Z",
     "start_time": "2024-08-30T04:36:03.330635Z"
    }
   },
   "id": "7ce921bc03c462d3"
  },
  {
   "cell_type": "code",
   "execution_count": 9,
   "outputs": [
    {
     "name": "stdout",
     "output_type": "stream",
     "text": [
      "start_year is 2024\n",
      "Questrade time is: {'time': '2024-08-30T00:36:06.998000-04:00'}\n",
      "Successfully Connected to Questrade\n",
      "TFSA account list: ['51732834', '51964746', '52056387']\n",
      "DatetimeIndex(['2024-01-31', '2024-02-29', '2024-03-31', '2024-04-30',\n",
      "               '2024-05-31', '2024-06-30', '2024-07-31', '2024-08-31'],\n",
      "              dtype='datetime64[ns]', freq='M')\n",
      "grabbing activity from 2024-01-31 00:00:00 to 2024-08-31 00:00:00 for TFSA: 51732834. Completed 0 % \n",
      "Processing 2024 for account 51732834\n",
      "grabbing activity from 2024-01-31 00:00:00 to 2024-08-31 00:00:00 for TFSA: 51964746. Completed 33 % \n",
      "Processing 2024 for account 51964746\n",
      "grabbing activity from 2024-01-31 00:00:00 to 2024-08-31 00:00:00 for TFSA: 52056387. Completed 66 % \n",
      "Processing 2024 for account 52056387\n",
      "Grabbing Activity Completed-100%\n"
     ]
    }
   ],
   "source": [
    "df1=contribution_room2(given_year=2024,given_contr_room=92646.82,df_ws=df_ws)\n"
   ],
   "metadata": {
    "collapsed": false,
    "ExecuteTime": {
     "end_time": "2024-08-30T04:36:10.437750600Z",
     "start_time": "2024-08-30T04:36:05.014693Z"
    }
   },
   "id": "1f51d9b12b2d2bc"
  },
  {
   "cell_type": "code",
   "execution_count": 10,
   "outputs": [
    {
     "data": {
      "text/plain": "   Year      type  netAmount\n0  2024  Deposits     5202.0",
      "text/html": "<div>\n<style scoped>\n    .dataframe tbody tr th:only-of-type {\n        vertical-align: middle;\n    }\n\n    .dataframe tbody tr th {\n        vertical-align: top;\n    }\n\n    .dataframe thead th {\n        text-align: right;\n    }\n</style>\n<table border=\"1\" class=\"dataframe\">\n  <thead>\n    <tr style=\"text-align: right;\">\n      <th></th>\n      <th>Year</th>\n      <th>type</th>\n      <th>netAmount</th>\n    </tr>\n  </thead>\n  <tbody>\n    <tr>\n      <th>0</th>\n      <td>2024</td>\n      <td>Deposits</td>\n      <td>5202.0</td>\n    </tr>\n  </tbody>\n</table>\n</div>"
     },
     "execution_count": 10,
     "metadata": {},
     "output_type": "execute_result"
    }
   ],
   "source": [
    "df1"
   ],
   "metadata": {
    "collapsed": false,
    "ExecuteTime": {
     "end_time": "2024-08-30T04:36:14.808954700Z",
     "start_time": "2024-08-30T04:36:14.784955200Z"
    }
   },
   "id": "c8fe20d76f98abe1"
  },
  {
   "cell_type": "code",
   "execution_count": 11,
   "outputs": [],
   "source": [
    "if not df_ws.empty:\n",
    "    df1 = pd.concat([df1, df_ws], axis=0, ignore_index=True)"
   ],
   "metadata": {
    "collapsed": false,
    "ExecuteTime": {
     "end_time": "2024-08-30T04:36:50.662926100Z",
     "start_time": "2024-08-30T04:36:50.637923500Z"
    }
   },
   "id": "e211c8e658013e07"
  },
  {
   "cell_type": "code",
   "execution_count": 12,
   "outputs": [
    {
     "data": {
      "text/plain": "   Year      type  netAmount\n0  2024  Deposits    5202.00\n1  2023  Deposits    1636.00\n2  2024  Deposits   20086.15",
      "text/html": "<div>\n<style scoped>\n    .dataframe tbody tr th:only-of-type {\n        vertical-align: middle;\n    }\n\n    .dataframe tbody tr th {\n        vertical-align: top;\n    }\n\n    .dataframe thead th {\n        text-align: right;\n    }\n</style>\n<table border=\"1\" class=\"dataframe\">\n  <thead>\n    <tr style=\"text-align: right;\">\n      <th></th>\n      <th>Year</th>\n      <th>type</th>\n      <th>netAmount</th>\n    </tr>\n  </thead>\n  <tbody>\n    <tr>\n      <th>0</th>\n      <td>2024</td>\n      <td>Deposits</td>\n      <td>5202.00</td>\n    </tr>\n    <tr>\n      <th>1</th>\n      <td>2023</td>\n      <td>Deposits</td>\n      <td>1636.00</td>\n    </tr>\n    <tr>\n      <th>2</th>\n      <td>2024</td>\n      <td>Deposits</td>\n      <td>20086.15</td>\n    </tr>\n  </tbody>\n</table>\n</div>"
     },
     "execution_count": 12,
     "metadata": {},
     "output_type": "execute_result"
    }
   ],
   "source": [
    "df1"
   ],
   "metadata": {
    "collapsed": false,
    "ExecuteTime": {
     "end_time": "2024-08-30T04:36:52.919922100Z",
     "start_time": "2024-08-30T04:36:52.888923200Z"
    }
   },
   "id": "76ee795fc4fec18a"
  },
  {
   "cell_type": "code",
   "execution_count": 13,
   "outputs": [],
   "source": [
    "df2 = df1.pivot_table(index='Year', columns='type', values='netAmount').reset_index()"
   ],
   "metadata": {
    "collapsed": false,
    "ExecuteTime": {
     "end_time": "2024-08-30T04:37:26.476434500Z",
     "start_time": "2024-08-30T04:37:26.461432300Z"
    }
   },
   "id": "e58aa183104fe587"
  },
  {
   "cell_type": "code",
   "execution_count": 14,
   "outputs": [
    {
     "data": {
      "text/plain": "type  Year   Deposits\n0     2023   1636.000\n1     2024  12644.075",
      "text/html": "<div>\n<style scoped>\n    .dataframe tbody tr th:only-of-type {\n        vertical-align: middle;\n    }\n\n    .dataframe tbody tr th {\n        vertical-align: top;\n    }\n\n    .dataframe thead th {\n        text-align: right;\n    }\n</style>\n<table border=\"1\" class=\"dataframe\">\n  <thead>\n    <tr style=\"text-align: right;\">\n      <th>type</th>\n      <th>Year</th>\n      <th>Deposits</th>\n    </tr>\n  </thead>\n  <tbody>\n    <tr>\n      <th>0</th>\n      <td>2023</td>\n      <td>1636.000</td>\n    </tr>\n    <tr>\n      <th>1</th>\n      <td>2024</td>\n      <td>12644.075</td>\n    </tr>\n  </tbody>\n</table>\n</div>"
     },
     "execution_count": 14,
     "metadata": {},
     "output_type": "execute_result"
    }
   ],
   "source": [
    "df2"
   ],
   "metadata": {
    "collapsed": false,
    "ExecuteTime": {
     "end_time": "2024-08-30T04:37:28.493432200Z",
     "start_time": "2024-08-30T04:37:28.462433400Z"
    }
   },
   "id": "4eebf0b836a91c8a"
  },
  {
   "cell_type": "code",
   "execution_count": 27,
   "outputs": [],
   "source": [
    "from main_ws_only import *"
   ],
   "metadata": {
    "collapsed": false,
    "ExecuteTime": {
     "end_time": "2024-08-30T05:04:09.595678200Z",
     "start_time": "2024-08-30T05:04:09.577677800Z"
    }
   },
   "id": "1b497fee973cd2f9"
  },
  {
   "cell_type": "code",
   "execution_count": 28,
   "outputs": [
    {
     "name": "stderr",
     "output_type": "stream",
     "text": [
      "\u001B[32m2024-08-30 01:04:10.054\u001B[0m | \u001B[34m\u001B[1mDEBUG   \u001B[0m | \u001B[36mwsimple.api.requestor\u001B[0m:\u001B[36mrequestor\u001B[0m:\u001B[36m28\u001B[0m - \u001B[34m\u001B[1mLOGIN called\u001B[0m\n",
      "\u001B[32m2024-08-30 01:04:10.054\u001B[0m | \u001B[34m\u001B[1mDEBUG   \u001B[0m | \u001B[36mwsimple.api.requestor\u001B[0m:\u001B[36mrequestor\u001B[0m:\u001B[36m28\u001B[0m - \u001B[34m\u001B[1mLOGIN called\u001B[0m\n",
      "\u001B[32m2024-08-30 01:04:10.054\u001B[0m | \u001B[34m\u001B[1mDEBUG   \u001B[0m | \u001B[36mwsimple.api.requestor\u001B[0m:\u001B[36mrequestor\u001B[0m:\u001B[36m28\u001B[0m - \u001B[34m\u001B[1mLOGIN called\u001B[0m\n",
      "\u001B[32m2024-08-30 01:04:10.054\u001B[0m | \u001B[34m\u001B[1mDEBUG   \u001B[0m | \u001B[36mwsimple.api.requestor\u001B[0m:\u001B[36mrequestor\u001B[0m:\u001B[36m28\u001B[0m - \u001B[34m\u001B[1mLOGIN called\u001B[0m\n"
     ]
    },
    {
     "name": "stdout",
     "output_type": "stream",
     "text": [
      "start_year is 2024\n"
     ]
    },
    {
     "name": "stderr",
     "output_type": "stream",
     "text": [
      "\u001B[32m2024-08-30 01:04:10.471\u001B[0m | \u001B[34m\u001B[1mDEBUG   \u001B[0m | \u001B[36mwsimple.api.requestor\u001B[0m:\u001B[36mrequestor\u001B[0m:\u001B[36m30\u001B[0m - \u001B[34m\u001B[1mLOGIN: 401\u001B[0m\n",
      "\u001B[32m2024-08-30 01:04:10.471\u001B[0m | \u001B[34m\u001B[1mDEBUG   \u001B[0m | \u001B[36mwsimple.api.requestor\u001B[0m:\u001B[36mrequestor\u001B[0m:\u001B[36m30\u001B[0m - \u001B[34m\u001B[1mLOGIN: 401\u001B[0m\n",
      "\u001B[32m2024-08-30 01:04:10.471\u001B[0m | \u001B[34m\u001B[1mDEBUG   \u001B[0m | \u001B[36mwsimple.api.requestor\u001B[0m:\u001B[36mrequestor\u001B[0m:\u001B[36m30\u001B[0m - \u001B[34m\u001B[1mLOGIN: 401\u001B[0m\n",
      "\u001B[32m2024-08-30 01:04:10.471\u001B[0m | \u001B[34m\u001B[1mDEBUG   \u001B[0m | \u001B[36mwsimple.api.requestor\u001B[0m:\u001B[36mrequestor\u001B[0m:\u001B[36m30\u001B[0m - \u001B[34m\u001B[1mLOGIN: 401\u001B[0m\n",
      "\u001B[32m2024-08-30 01:04:10.473\u001B[0m | \u001B[34m\u001B[1mDEBUG   \u001B[0m | \u001B[36mwsimple.api.api\u001B[0m:\u001B[36m__init__\u001B[0m:\u001B[36m141\u001B[0m - \u001B[34m\u001B[1mPre-login: 401/ b'{\"error\":\"Not authorized\"}'\u001B[0m\n",
      "\u001B[32m2024-08-30 01:04:10.473\u001B[0m | \u001B[34m\u001B[1mDEBUG   \u001B[0m | \u001B[36mwsimple.api.api\u001B[0m:\u001B[36m__init__\u001B[0m:\u001B[36m141\u001B[0m - \u001B[34m\u001B[1mPre-login: 401/ b'{\"error\":\"Not authorized\"}'\u001B[0m\n",
      "\u001B[32m2024-08-30 01:04:10.473\u001B[0m | \u001B[34m\u001B[1mDEBUG   \u001B[0m | \u001B[36mwsimple.api.api\u001B[0m:\u001B[36m__init__\u001B[0m:\u001B[36m141\u001B[0m - \u001B[34m\u001B[1mPre-login: 401/ b'{\"error\":\"Not authorized\"}'\u001B[0m\n",
      "\u001B[32m2024-08-30 01:04:10.473\u001B[0m | \u001B[34m\u001B[1mDEBUG   \u001B[0m | \u001B[36mwsimple.api.api\u001B[0m:\u001B[36m__init__\u001B[0m:\u001B[36m141\u001B[0m - \u001B[34m\u001B[1mPre-login: 401/ b'{\"error\":\"Not authorized\"}'\u001B[0m\n",
      "\u001B[32m2024-08-30 01:04:18.016\u001B[0m | \u001B[34m\u001B[1mDEBUG   \u001B[0m | \u001B[36mwsimple.api.requestor\u001B[0m:\u001B[36mrequestor\u001B[0m:\u001B[36m28\u001B[0m - \u001B[34m\u001B[1mLOGIN called\u001B[0m\n",
      "\u001B[32m2024-08-30 01:04:18.016\u001B[0m | \u001B[34m\u001B[1mDEBUG   \u001B[0m | \u001B[36mwsimple.api.requestor\u001B[0m:\u001B[36mrequestor\u001B[0m:\u001B[36m28\u001B[0m - \u001B[34m\u001B[1mLOGIN called\u001B[0m\n",
      "\u001B[32m2024-08-30 01:04:18.016\u001B[0m | \u001B[34m\u001B[1mDEBUG   \u001B[0m | \u001B[36mwsimple.api.requestor\u001B[0m:\u001B[36mrequestor\u001B[0m:\u001B[36m28\u001B[0m - \u001B[34m\u001B[1mLOGIN called\u001B[0m\n",
      "\u001B[32m2024-08-30 01:04:18.016\u001B[0m | \u001B[34m\u001B[1mDEBUG   \u001B[0m | \u001B[36mwsimple.api.requestor\u001B[0m:\u001B[36mrequestor\u001B[0m:\u001B[36m28\u001B[0m - \u001B[34m\u001B[1mLOGIN called\u001B[0m\n",
      "\u001B[32m2024-08-30 01:04:18.495\u001B[0m | \u001B[34m\u001B[1mDEBUG   \u001B[0m | \u001B[36mwsimple.api.requestor\u001B[0m:\u001B[36mrequestor\u001B[0m:\u001B[36m30\u001B[0m - \u001B[34m\u001B[1mLOGIN: 200\u001B[0m\n",
      "\u001B[32m2024-08-30 01:04:18.495\u001B[0m | \u001B[34m\u001B[1mDEBUG   \u001B[0m | \u001B[36mwsimple.api.requestor\u001B[0m:\u001B[36mrequestor\u001B[0m:\u001B[36m30\u001B[0m - \u001B[34m\u001B[1mLOGIN: 200\u001B[0m\n",
      "\u001B[32m2024-08-30 01:04:18.495\u001B[0m | \u001B[34m\u001B[1mDEBUG   \u001B[0m | \u001B[36mwsimple.api.requestor\u001B[0m:\u001B[36mrequestor\u001B[0m:\u001B[36m30\u001B[0m - \u001B[34m\u001B[1mLOGIN: 200\u001B[0m\n",
      "\u001B[32m2024-08-30 01:04:18.495\u001B[0m | \u001B[34m\u001B[1mDEBUG   \u001B[0m | \u001B[36mwsimple.api.requestor\u001B[0m:\u001B[36mrequestor\u001B[0m:\u001B[36m30\u001B[0m - \u001B[34m\u001B[1mLOGIN: 200\u001B[0m\n",
      "\u001B[32m2024-08-30 01:04:18.498\u001B[0m | \u001B[1mINFO    \u001B[0m | \u001B[36mwsimple.api.api\u001B[0m:\u001B[36mwrap_manage_tokens\u001B[0m:\u001B[36m238\u001B[0m - \u001B[1mTokens: TokensBox(access_token='yIywLYYKCY_ZyvfQMmqoHIHGSw8YlagXeCw1RnK83dQ', refresh_token='CGO6nWi3Y1Oc-CM-l77aCVkQ4VLiCB6j2D-3Ki4wpg4', access_expires=datetime.datetime(2024, 8, 30, 3, 4, 20)) () {'limit': 99, 'type': ['deposit', 'withdrawal']}\u001B[0m\n",
      "\u001B[32m2024-08-30 01:04:18.498\u001B[0m | \u001B[1mINFO    \u001B[0m | \u001B[36mwsimple.api.api\u001B[0m:\u001B[36mwrap_manage_tokens\u001B[0m:\u001B[36m238\u001B[0m - \u001B[1mTokens: TokensBox(access_token='yIywLYYKCY_ZyvfQMmqoHIHGSw8YlagXeCw1RnK83dQ', refresh_token='CGO6nWi3Y1Oc-CM-l77aCVkQ4VLiCB6j2D-3Ki4wpg4', access_expires=datetime.datetime(2024, 8, 30, 3, 4, 20)) () {'limit': 99, 'type': ['deposit', 'withdrawal']}\u001B[0m\n",
      "\u001B[32m2024-08-30 01:04:18.498\u001B[0m | \u001B[1mINFO    \u001B[0m | \u001B[36mwsimple.api.api\u001B[0m:\u001B[36mwrap_manage_tokens\u001B[0m:\u001B[36m238\u001B[0m - \u001B[1mTokens: TokensBox(access_token='yIywLYYKCY_ZyvfQMmqoHIHGSw8YlagXeCw1RnK83dQ', refresh_token='CGO6nWi3Y1Oc-CM-l77aCVkQ4VLiCB6j2D-3Ki4wpg4', access_expires=datetime.datetime(2024, 8, 30, 3, 4, 20)) () {'limit': 99, 'type': ['deposit', 'withdrawal']}\u001B[0m\n",
      "\u001B[32m2024-08-30 01:04:18.498\u001B[0m | \u001B[1mINFO    \u001B[0m | \u001B[36mwsimple.api.api\u001B[0m:\u001B[36mwrap_manage_tokens\u001B[0m:\u001B[36m238\u001B[0m - \u001B[1mTokens: TokensBox(access_token='yIywLYYKCY_ZyvfQMmqoHIHGSw8YlagXeCw1RnK83dQ', refresh_token='CGO6nWi3Y1Oc-CM-l77aCVkQ4VLiCB6j2D-3Ki4wpg4', access_expires=datetime.datetime(2024, 8, 30, 3, 4, 20)) () {'limit': 99, 'type': ['deposit', 'withdrawal']}\u001B[0m\n",
      "\u001B[32m2024-08-30 01:04:18.501\u001B[0m | \u001B[34m\u001B[1mDEBUG   \u001B[0m | \u001B[36mwsimple.api.api\u001B[0m:\u001B[36mwrap_manage_tokens\u001B[0m:\u001B[36m241\u001B[0m - \u001B[34m\u001B[1mReset in -> 2:00:01.498798\u001B[0m\n",
      "\u001B[32m2024-08-30 01:04:18.501\u001B[0m | \u001B[34m\u001B[1mDEBUG   \u001B[0m | \u001B[36mwsimple.api.api\u001B[0m:\u001B[36mwrap_manage_tokens\u001B[0m:\u001B[36m241\u001B[0m - \u001B[34m\u001B[1mReset in -> 2:00:01.498798\u001B[0m\n",
      "\u001B[32m2024-08-30 01:04:18.501\u001B[0m | \u001B[34m\u001B[1mDEBUG   \u001B[0m | \u001B[36mwsimple.api.api\u001B[0m:\u001B[36mwrap_manage_tokens\u001B[0m:\u001B[36m241\u001B[0m - \u001B[34m\u001B[1mReset in -> 2:00:01.498798\u001B[0m\n",
      "\u001B[32m2024-08-30 01:04:18.501\u001B[0m | \u001B[34m\u001B[1mDEBUG   \u001B[0m | \u001B[36mwsimple.api.api\u001B[0m:\u001B[36mwrap_manage_tokens\u001B[0m:\u001B[36m241\u001B[0m - \u001B[34m\u001B[1mReset in -> 2:00:01.498798\u001B[0m\n",
      "\u001B[32m2024-08-30 01:04:18.529\u001B[0m | \u001B[34m\u001B[1mDEBUG   \u001B[0m | \u001B[36mwsimple.api.requestor\u001B[0m:\u001B[36mrequestor\u001B[0m:\u001B[36m28\u001B[0m - \u001B[34m\u001B[1mGET_ACTIVITES called\u001B[0m\n",
      "\u001B[32m2024-08-30 01:04:18.529\u001B[0m | \u001B[34m\u001B[1mDEBUG   \u001B[0m | \u001B[36mwsimple.api.requestor\u001B[0m:\u001B[36mrequestor\u001B[0m:\u001B[36m28\u001B[0m - \u001B[34m\u001B[1mGET_ACTIVITES called\u001B[0m\n",
      "\u001B[32m2024-08-30 01:04:18.529\u001B[0m | \u001B[34m\u001B[1mDEBUG   \u001B[0m | \u001B[36mwsimple.api.requestor\u001B[0m:\u001B[36mrequestor\u001B[0m:\u001B[36m28\u001B[0m - \u001B[34m\u001B[1mGET_ACTIVITES called\u001B[0m\n",
      "\u001B[32m2024-08-30 01:04:18.529\u001B[0m | \u001B[34m\u001B[1mDEBUG   \u001B[0m | \u001B[36mwsimple.api.requestor\u001B[0m:\u001B[36mrequestor\u001B[0m:\u001B[36m28\u001B[0m - \u001B[34m\u001B[1mGET_ACTIVITES called\u001B[0m\n",
      "\u001B[32m2024-08-30 01:04:19.186\u001B[0m | \u001B[34m\u001B[1mDEBUG   \u001B[0m | \u001B[36mwsimple.api.requestor\u001B[0m:\u001B[36mrequestor\u001B[0m:\u001B[36m30\u001B[0m - \u001B[34m\u001B[1mGET_ACTIVITES: 200\u001B[0m\n",
      "\u001B[32m2024-08-30 01:04:19.186\u001B[0m | \u001B[34m\u001B[1mDEBUG   \u001B[0m | \u001B[36mwsimple.api.requestor\u001B[0m:\u001B[36mrequestor\u001B[0m:\u001B[36m30\u001B[0m - \u001B[34m\u001B[1mGET_ACTIVITES: 200\u001B[0m\n",
      "\u001B[32m2024-08-30 01:04:19.186\u001B[0m | \u001B[34m\u001B[1mDEBUG   \u001B[0m | \u001B[36mwsimple.api.requestor\u001B[0m:\u001B[36mrequestor\u001B[0m:\u001B[36m30\u001B[0m - \u001B[34m\u001B[1mGET_ACTIVITES: 200\u001B[0m\n",
      "\u001B[32m2024-08-30 01:04:19.186\u001B[0m | \u001B[34m\u001B[1mDEBUG   \u001B[0m | \u001B[36mwsimple.api.requestor\u001B[0m:\u001B[36mrequestor\u001B[0m:\u001B[36m30\u001B[0m - \u001B[34m\u001B[1mGET_ACTIVITES: 200\u001B[0m\n"
     ]
    },
    {
     "name": "stdout",
     "output_type": "stream",
     "text": [
      "Today's date: 2024-08-30\n",
      "Your current contribution room is: $-14722.150000000001\n",
      "Next Year's Contribution room on Jan 1 2025 is:  $-7722.1500000000015\n"
     ]
    }
   ],
   "source": [
    "a,b,df_cr=contribution_room(email,password,given_year=2024,given_contr_room=92646.82)\n"
   ],
   "metadata": {
    "collapsed": false,
    "ExecuteTime": {
     "end_time": "2024-08-30T05:04:19.227203700Z",
     "start_time": "2024-08-30T05:04:10.039679100Z"
    }
   },
   "id": "3cd5cbfa30d53b4b"
  },
  {
   "cell_type": "code",
   "execution_count": 29,
   "outputs": [
    {
     "data": {
      "text/plain": "   New_Year_Dollar_Limit  Contr_Room_Jan1  Year  Deposits  Withdrawals  \\\n0                   6500             0.00  2023   1636.00          0.0   \n1                   7000          5364.00  2024  20086.15          0.0   \n2                   7000         -7722.15  2025      0.00          0.0   \n\n   Current_Contr_Room  \n0            -1636.00  \n1           -14722.15  \n2            -7722.15  ",
      "text/html": "<div>\n<style scoped>\n    .dataframe tbody tr th:only-of-type {\n        vertical-align: middle;\n    }\n\n    .dataframe tbody tr th {\n        vertical-align: top;\n    }\n\n    .dataframe thead th {\n        text-align: right;\n    }\n</style>\n<table border=\"1\" class=\"dataframe\">\n  <thead>\n    <tr style=\"text-align: right;\">\n      <th></th>\n      <th>New_Year_Dollar_Limit</th>\n      <th>Contr_Room_Jan1</th>\n      <th>Year</th>\n      <th>Deposits</th>\n      <th>Withdrawals</th>\n      <th>Current_Contr_Room</th>\n    </tr>\n  </thead>\n  <tbody>\n    <tr>\n      <th>0</th>\n      <td>6500</td>\n      <td>0.00</td>\n      <td>2023</td>\n      <td>1636.00</td>\n      <td>0.0</td>\n      <td>-1636.00</td>\n    </tr>\n    <tr>\n      <th>1</th>\n      <td>7000</td>\n      <td>5364.00</td>\n      <td>2024</td>\n      <td>20086.15</td>\n      <td>0.0</td>\n      <td>-14722.15</td>\n    </tr>\n    <tr>\n      <th>2</th>\n      <td>7000</td>\n      <td>-7722.15</td>\n      <td>2025</td>\n      <td>0.00</td>\n      <td>0.0</td>\n      <td>-7722.15</td>\n    </tr>\n  </tbody>\n</table>\n</div>"
     },
     "execution_count": 29,
     "metadata": {},
     "output_type": "execute_result"
    }
   ],
   "source": [
    "df_cr"
   ],
   "metadata": {
    "collapsed": false,
    "ExecuteTime": {
     "end_time": "2024-08-30T05:04:22.643203100Z",
     "start_time": "2024-08-30T05:04:22.622199500Z"
    }
   },
   "id": "76cfc8837cbe65be"
  },
  {
   "cell_type": "code",
   "execution_count": 23,
   "outputs": [
    {
     "data": {
      "text/plain": "   New_Year_Dollar_Limit  Contr_Room_Jan1  Year  Deposits  Withdrawals  \\\n1                   7000          5364.00  2024  20086.15          0.0   \n2                   7000         -7722.15  2025      0.00          0.0   \n\n   Current_Contr_Room  \n1           -14722.15  \n2            -7722.15  ",
      "text/html": "<div>\n<style scoped>\n    .dataframe tbody tr th:only-of-type {\n        vertical-align: middle;\n    }\n\n    .dataframe tbody tr th {\n        vertical-align: top;\n    }\n\n    .dataframe thead th {\n        text-align: right;\n    }\n</style>\n<table border=\"1\" class=\"dataframe\">\n  <thead>\n    <tr style=\"text-align: right;\">\n      <th></th>\n      <th>New_Year_Dollar_Limit</th>\n      <th>Contr_Room_Jan1</th>\n      <th>Year</th>\n      <th>Deposits</th>\n      <th>Withdrawals</th>\n      <th>Current_Contr_Room</th>\n    </tr>\n  </thead>\n  <tbody>\n    <tr>\n      <th>1</th>\n      <td>7000</td>\n      <td>5364.00</td>\n      <td>2024</td>\n      <td>20086.15</td>\n      <td>0.0</td>\n      <td>-14722.15</td>\n    </tr>\n    <tr>\n      <th>2</th>\n      <td>7000</td>\n      <td>-7722.15</td>\n      <td>2025</td>\n      <td>0.00</td>\n      <td>0.0</td>\n      <td>-7722.15</td>\n    </tr>\n  </tbody>\n</table>\n</div>"
     },
     "execution_count": 23,
     "metadata": {},
     "output_type": "execute_result"
    }
   ],
   "source": [
    "df_cr[df_cr.Year>= 2024]"
   ],
   "metadata": {
    "collapsed": false
   },
   "id": "b6a7a2b9ab93bf9b"
  },
  {
   "cell_type": "code",
   "execution_count": 30,
   "outputs": [
    {
     "data": {
      "text/plain": "-14722.150000000001"
     },
     "execution_count": 30,
     "metadata": {},
     "output_type": "execute_result"
    }
   ],
   "source": [
    "a"
   ],
   "metadata": {
    "collapsed": false,
    "ExecuteTime": {
     "end_time": "2024-08-30T05:14:36.904859100Z",
     "start_time": "2024-08-30T05:14:36.815860600Z"
    }
   },
   "id": "1b31c5d6779914cd"
  },
  {
   "cell_type": "code",
   "execution_count": 31,
   "outputs": [
    {
     "data": {
      "text/plain": "-7722.1500000000015"
     },
     "execution_count": 31,
     "metadata": {},
     "output_type": "execute_result"
    }
   ],
   "source": [
    "b"
   ],
   "metadata": {
    "collapsed": false,
    "ExecuteTime": {
     "end_time": "2024-08-30T05:14:38.360857900Z",
     "start_time": "2024-08-30T05:14:38.320858800Z"
    }
   },
   "id": "993f0e606d486980"
  },
  {
   "cell_type": "code",
   "execution_count": null,
   "outputs": [],
   "source": [],
   "metadata": {
    "collapsed": false
   },
   "id": "8ab7a37311e0aa06"
  }
 ],
 "metadata": {
  "kernelspec": {
   "display_name": "Python 3",
   "language": "python",
   "name": "python3"
  },
  "language_info": {
   "codemirror_mode": {
    "name": "ipython",
    "version": 2
   },
   "file_extension": ".py",
   "mimetype": "text/x-python",
   "name": "python",
   "nbconvert_exporter": "python",
   "pygments_lexer": "ipython2",
   "version": "2.7.6"
  }
 },
 "nbformat": 4,
 "nbformat_minor": 5
}
