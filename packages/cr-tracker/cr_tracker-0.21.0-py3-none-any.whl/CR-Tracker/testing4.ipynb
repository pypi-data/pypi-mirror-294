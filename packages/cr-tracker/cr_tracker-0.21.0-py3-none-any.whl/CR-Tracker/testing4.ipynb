{
 "cells": [
  {
   "cell_type": "code",
   "execution_count": 1,
   "id": "initial_id",
   "metadata": {
    "collapsed": true,
    "ExecuteTime": {
     "end_time": "2024-08-30T05:15:37.495322400Z",
     "start_time": "2024-08-30T05:15:36.935321100Z"
    }
   },
   "outputs": [],
   "source": [
    "from main_ws_only import *"
   ]
  },
  {
   "cell_type": "code",
   "execution_count": 2,
   "outputs": [],
   "source": [
    "import keyring"
   ],
   "metadata": {
    "collapsed": false,
    "ExecuteTime": {
     "end_time": "2024-08-30T05:15:37.527319900Z",
     "start_time": "2024-08-30T05:15:37.496320500Z"
    }
   },
   "id": "76f54a920a5bfd18"
  },
  {
   "cell_type": "code",
   "execution_count": 3,
   "outputs": [],
   "source": [
    "email = keyring.get_password(\"wealthsimple\", \"username\")\n",
    "password = keyring.get_password(\"wealthsimple\", \"password\")"
   ],
   "metadata": {
    "collapsed": false,
    "ExecuteTime": {
     "end_time": "2024-08-30T05:15:37.636322300Z",
     "start_time": "2024-08-30T05:15:37.528321200Z"
    }
   },
   "id": "d127c87cce9140e5"
  },
  {
   "cell_type": "code",
   "execution_count": 3,
   "outputs": [],
   "source": [],
   "metadata": {
    "collapsed": false,
    "ExecuteTime": {
     "end_time": "2024-08-30T05:15:38.796319100Z",
     "start_time": "2024-08-30T05:15:38.774321900Z"
    }
   },
   "id": "9d19554767fc0934"
  },
  {
   "cell_type": "code",
   "execution_count": 4,
   "outputs": [
    {
     "name": "stderr",
     "output_type": "stream",
     "text": [
      "\u001B[32m2024-08-30 01:15:41.233\u001B[0m | \u001B[34m\u001B[1mDEBUG   \u001B[0m | \u001B[36mwsimple.api.requestor\u001B[0m:\u001B[36mrequestor\u001B[0m:\u001B[36m28\u001B[0m - \u001B[34m\u001B[1mLOGIN called\u001B[0m\n"
     ]
    },
    {
     "name": "stdout",
     "output_type": "stream",
     "text": [
      "start_year is 2024\n"
     ]
    },
    {
     "name": "stderr",
     "output_type": "stream",
     "text": [
      "\u001B[32m2024-08-30 01:15:41.670\u001B[0m | \u001B[34m\u001B[1mDEBUG   \u001B[0m | \u001B[36mwsimple.api.requestor\u001B[0m:\u001B[36mrequestor\u001B[0m:\u001B[36m30\u001B[0m - \u001B[34m\u001B[1mLOGIN: 401\u001B[0m\n",
      "\u001B[32m2024-08-30 01:15:41.671\u001B[0m | \u001B[34m\u001B[1mDEBUG   \u001B[0m | \u001B[36mwsimple.api.api\u001B[0m:\u001B[36m__init__\u001B[0m:\u001B[36m141\u001B[0m - \u001B[34m\u001B[1mPre-login: 401/ b'{\"error\":\"Not authorized\"}'\u001B[0m\n",
      "\u001B[32m2024-08-30 01:15:52.182\u001B[0m | \u001B[34m\u001B[1mDEBUG   \u001B[0m | \u001B[36mwsimple.api.requestor\u001B[0m:\u001B[36mrequestor\u001B[0m:\u001B[36m28\u001B[0m - \u001B[34m\u001B[1mLOGIN called\u001B[0m\n",
      "\u001B[32m2024-08-30 01:15:52.668\u001B[0m | \u001B[34m\u001B[1mDEBUG   \u001B[0m | \u001B[36mwsimple.api.requestor\u001B[0m:\u001B[36mrequestor\u001B[0m:\u001B[36m30\u001B[0m - \u001B[34m\u001B[1mLOGIN: 200\u001B[0m\n",
      "\u001B[32m2024-08-30 01:15:52.709\u001B[0m | \u001B[1mINFO    \u001B[0m | \u001B[36mwsimple.api.api\u001B[0m:\u001B[36mwrap_manage_tokens\u001B[0m:\u001B[36m238\u001B[0m - \u001B[1mTokens: TokensBox(access_token='oYs88LavhBPnC-uqUKeRNYiCyBdpuIm5uyLZTnsngEA', refresh_token='aOMwB5tRUcnB0Bbf5duvY8OIiadQFsO6aloVDDKV0xQ', access_expires=datetime.datetime(2024, 8, 30, 3, 15, 54)) () {'limit': 99, 'type': ['deposit', 'withdrawal']}\u001B[0m\n",
      "\u001B[32m2024-08-30 01:15:52.714\u001B[0m | \u001B[34m\u001B[1mDEBUG   \u001B[0m | \u001B[36mwsimple.api.api\u001B[0m:\u001B[36mwrap_manage_tokens\u001B[0m:\u001B[36m241\u001B[0m - \u001B[34m\u001B[1mReset in -> 2:00:01.285270\u001B[0m\n",
      "\u001B[32m2024-08-30 01:15:52.735\u001B[0m | \u001B[34m\u001B[1mDEBUG   \u001B[0m | \u001B[36mwsimple.api.requestor\u001B[0m:\u001B[36mrequestor\u001B[0m:\u001B[36m28\u001B[0m - \u001B[34m\u001B[1mGET_ACTIVITES called\u001B[0m\n",
      "\u001B[32m2024-08-30 01:15:53.118\u001B[0m | \u001B[34m\u001B[1mDEBUG   \u001B[0m | \u001B[36mwsimple.api.requestor\u001B[0m:\u001B[36mrequestor\u001B[0m:\u001B[36m30\u001B[0m - \u001B[34m\u001B[1mGET_ACTIVITES: 200\u001B[0m\n"
     ]
    },
    {
     "name": "stdout",
     "output_type": "stream",
     "text": [
      "Today's date: 2024-08-30\n",
      "Your current contribution room is: $72560.67000000001\n",
      "Next Year's Contribution room on Jan 1 2025 is:  $79560.67000000001\n"
     ]
    }
   ],
   "source": [
    "a,b,df_cr=contribution_room(email,password,given_year=2024,given_contr_room=92646.82)"
   ],
   "metadata": {
    "collapsed": false,
    "ExecuteTime": {
     "end_time": "2024-08-30T05:15:53.177728900Z",
     "start_time": "2024-08-30T05:15:41.216322400Z"
    }
   },
   "id": "57ad132aca99ee47"
  },
  {
   "cell_type": "code",
   "execution_count": 5,
   "outputs": [
    {
     "data": {
      "text/plain": "   New_Year_Dollar_Limit  Contr_Room_Jan1  Year  Deposits  Withdrawals  \\\n0                   7000         92646.82  2024  20086.15          0.0   \n1                   7000         79560.67  2025      0.00          0.0   \n\n   Current_Contr_Room  \n0            72560.67  \n1            79560.67  ",
      "text/html": "<div>\n<style scoped>\n    .dataframe tbody tr th:only-of-type {\n        vertical-align: middle;\n    }\n\n    .dataframe tbody tr th {\n        vertical-align: top;\n    }\n\n    .dataframe thead th {\n        text-align: right;\n    }\n</style>\n<table border=\"1\" class=\"dataframe\">\n  <thead>\n    <tr style=\"text-align: right;\">\n      <th></th>\n      <th>New_Year_Dollar_Limit</th>\n      <th>Contr_Room_Jan1</th>\n      <th>Year</th>\n      <th>Deposits</th>\n      <th>Withdrawals</th>\n      <th>Current_Contr_Room</th>\n    </tr>\n  </thead>\n  <tbody>\n    <tr>\n      <th>0</th>\n      <td>7000</td>\n      <td>92646.82</td>\n      <td>2024</td>\n      <td>20086.15</td>\n      <td>0.0</td>\n      <td>72560.67</td>\n    </tr>\n    <tr>\n      <th>1</th>\n      <td>7000</td>\n      <td>79560.67</td>\n      <td>2025</td>\n      <td>0.00</td>\n      <td>0.0</td>\n      <td>79560.67</td>\n    </tr>\n  </tbody>\n</table>\n</div>"
     },
     "execution_count": 5,
     "metadata": {},
     "output_type": "execute_result"
    }
   ],
   "source": [
    "df_cr"
   ],
   "metadata": {
    "collapsed": false,
    "ExecuteTime": {
     "end_time": "2024-08-30T05:15:59.176731700Z",
     "start_time": "2024-08-30T05:15:59.147731200Z"
    }
   },
   "id": "5cd336b908148a8"
  },
  {
   "cell_type": "code",
   "execution_count": null,
   "outputs": [],
   "source": [],
   "metadata": {
    "collapsed": false
   },
   "id": "a7cb1f3779b01777"
  },
  {
   "cell_type": "code",
   "execution_count": null,
   "outputs": [],
   "source": [],
   "metadata": {
    "collapsed": false
   },
   "id": "51e8fcb175062e02"
  }
 ],
 "metadata": {
  "kernelspec": {
   "display_name": "Python 3",
   "language": "python",
   "name": "python3"
  },
  "language_info": {
   "codemirror_mode": {
    "name": "ipython",
    "version": 2
   },
   "file_extension": ".py",
   "mimetype": "text/x-python",
   "name": "python",
   "nbconvert_exporter": "python",
   "pygments_lexer": "ipython2",
   "version": "2.7.6"
  }
 },
 "nbformat": 4,
 "nbformat_minor": 5
}
